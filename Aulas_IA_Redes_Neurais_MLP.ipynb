{
  "nbformat": 4,
  "nbformat_minor": 0,
  "metadata": {
    "colab": {
      "provenance": [],
      "collapsed_sections": [
        "wpTg1smkGLfm",
        "ESgdgz46GOM9",
        "f8Vx9RgzGZaE",
        "85mwJGxAGDnN",
        "DmLG4MjAe8z1",
        "qy4z2bYsMjbl",
        "uhLlWoykD_VC",
        "3cnUakuhERsT",
        "AX7OSmzAH9Ri",
        "DL0DbUS3MMvn",
        "6AvKLLY1MMv6",
        "JmOPrTXbMMv9",
        "iIt4NHAGMMwA",
        "wn-15qaNMMwa"
      ],
      "include_colab_link": true
    },
    "kernelspec": {
      "name": "python3",
      "display_name": "Python 3"
    },
    "language_info": {
      "name": "python"
    }
  },
  "cells": [
    {
      "cell_type": "markdown",
      "metadata": {
        "id": "view-in-github",
        "colab_type": "text"
      },
      "source": [
        "<a href=\"https://colab.research.google.com/github/paulorc-silva/Conteudos-Sobre-Dados--Impacta/blob/master/Aulas_IA_Redes_Neurais_MLP.ipynb\" target=\"_parent\"><img src=\"https://colab.research.google.com/assets/colab-badge.svg\" alt=\"Open In Colab\"/></a>"
      ]
    },
    {
      "cell_type": "markdown",
      "source": [
        "[Link do dataset](https://www.kaggle.com/datasets/shivamb/machine-predictive-maintenance-classification)"
      ],
      "metadata": {
        "id": "1Ew3zPr_6kG6"
      }
    },
    {
      "cell_type": "markdown",
      "source": [
        "# Rede Neural MLP para Classificação"
      ],
      "metadata": {
        "id": "wpTg1smkGLfm"
      }
    },
    {
      "cell_type": "markdown",
      "source": [
        "## Importando as bibliotecas"
      ],
      "metadata": {
        "id": "ESgdgz46GOM9"
      }
    },
    {
      "cell_type": "code",
      "source": [
        "!pip install shap"
      ],
      "metadata": {
        "colab": {
          "base_uri": "https://localhost:8080/"
        },
        "id": "2TXq_SGYvvNr",
        "outputId": "bbebd5f0-a445-4ebe-af06-988b8570f6ba"
      },
      "execution_count": null,
      "outputs": [
        {
          "output_type": "stream",
          "name": "stdout",
          "text": [
            "Looking in indexes: https://pypi.org/simple, https://us-python.pkg.dev/colab-wheels/public/simple/\n",
            "Requirement already satisfied: shap in /usr/local/lib/python3.7/dist-packages (0.41.0)\n",
            "Requirement already satisfied: slicer==0.0.7 in /usr/local/lib/python3.7/dist-packages (from shap) (0.0.7)\n",
            "Requirement already satisfied: tqdm>4.25.0 in /usr/local/lib/python3.7/dist-packages (from shap) (4.64.1)\n",
            "Requirement already satisfied: scipy in /usr/local/lib/python3.7/dist-packages (from shap) (1.7.3)\n",
            "Requirement already satisfied: pandas in /usr/local/lib/python3.7/dist-packages (from shap) (1.3.5)\n",
            "Requirement already satisfied: scikit-learn in /usr/local/lib/python3.7/dist-packages (from shap) (1.0.2)\n",
            "Requirement already satisfied: numba in /usr/local/lib/python3.7/dist-packages (from shap) (0.56.4)\n",
            "Requirement already satisfied: cloudpickle in /usr/local/lib/python3.7/dist-packages (from shap) (1.5.0)\n",
            "Requirement already satisfied: packaging>20.9 in /usr/local/lib/python3.7/dist-packages (from shap) (21.3)\n",
            "Requirement already satisfied: numpy in /usr/local/lib/python3.7/dist-packages (from shap) (1.21.6)\n",
            "Requirement already satisfied: pyparsing!=3.0.5,>=2.0.2 in /usr/local/lib/python3.7/dist-packages (from packaging>20.9->shap) (3.0.9)\n",
            "Requirement already satisfied: setuptools in /usr/local/lib/python3.7/dist-packages (from numba->shap) (57.4.0)\n",
            "Requirement already satisfied: importlib-metadata in /usr/local/lib/python3.7/dist-packages (from numba->shap) (4.13.0)\n",
            "Requirement already satisfied: llvmlite<0.40,>=0.39.0dev0 in /usr/local/lib/python3.7/dist-packages (from numba->shap) (0.39.1)\n",
            "Requirement already satisfied: zipp>=0.5 in /usr/local/lib/python3.7/dist-packages (from importlib-metadata->numba->shap) (3.10.0)\n",
            "Requirement already satisfied: typing-extensions>=3.6.4 in /usr/local/lib/python3.7/dist-packages (from importlib-metadata->numba->shap) (4.1.1)\n",
            "Requirement already satisfied: pytz>=2017.3 in /usr/local/lib/python3.7/dist-packages (from pandas->shap) (2022.6)\n",
            "Requirement already satisfied: python-dateutil>=2.7.3 in /usr/local/lib/python3.7/dist-packages (from pandas->shap) (2.8.2)\n",
            "Requirement already satisfied: six>=1.5 in /usr/local/lib/python3.7/dist-packages (from python-dateutil>=2.7.3->pandas->shap) (1.15.0)\n",
            "Requirement already satisfied: threadpoolctl>=2.0.0 in /usr/local/lib/python3.7/dist-packages (from scikit-learn->shap) (3.1.0)\n",
            "Requirement already satisfied: joblib>=0.11 in /usr/local/lib/python3.7/dist-packages (from scikit-learn->shap) (1.2.0)\n"
          ]
        }
      ]
    },
    {
      "cell_type": "code",
      "execution_count": null,
      "metadata": {
        "id": "MxwTyIBoPxVu"
      },
      "outputs": [],
      "source": [
        "import matplotlib.pyplot as plt\n",
        "import numpy as np\n",
        "import pandas as pd\n",
        "import shap\n",
        "import sklearn.metrics as metrics\n",
        "from sklearn.datasets import make_classification\n",
        "from sklearn.metrics import ConfusionMatrixDisplay\n",
        "from sklearn.model_selection import train_test_split\n",
        "from sklearn.neural_network import MLPClassifier\n",
        "from sklearn.preprocessing import LabelEncoder"
      ]
    },
    {
      "cell_type": "markdown",
      "source": [
        "## Utilizando a base de dados"
      ],
      "metadata": {
        "id": "f8Vx9RgzGZaE"
      }
    },
    {
      "cell_type": "code",
      "source": [
        "dados = pd.read_csv('/content/predictive_maintenance.csv')"
      ],
      "metadata": {
        "id": "NNDgy4DhQHoR"
      },
      "execution_count": null,
      "outputs": []
    },
    {
      "cell_type": "code",
      "source": [
        "dados.head()"
      ],
      "metadata": {
        "colab": {
          "base_uri": "https://localhost:8080/",
          "height": 267
        },
        "id": "-6gtU-3RQN14",
        "outputId": "0a0f14e4-1466-4db4-a02b-a08855c1a822"
      },
      "execution_count": null,
      "outputs": [
        {
          "output_type": "execute_result",
          "data": {
            "text/plain": [
              "   UDI ID Produto Tipo  Temperatura Ar [K]  Temperatura Processo [K]  \\\n",
              "0    1     M14860    M               298.1                     308.6   \n",
              "1    2     L47181    L               298.2                     308.7   \n",
              "2    3     L47182    L               298.1                     308.5   \n",
              "3    4     L47183    L               298.2                     308.6   \n",
              "4    5     L47184    L               298.2                     308.7   \n",
              "\n",
              "   Velocidade Rotacao [rpm]  Torque [Nm]  Desgaste Ferramenta [min]  Alvo  \\\n",
              "0                      1551         42.8                          0     0   \n",
              "1                      1408         46.3                          3     0   \n",
              "2                      1498         49.4                          5     0   \n",
              "3                      1433         39.5                          7     0   \n",
              "4                      1408         40.0                          9     0   \n",
              "\n",
              "  Tipo da Falha  \n",
              "0    No Failure  \n",
              "1    No Failure  \n",
              "2    No Failure  \n",
              "3    No Failure  \n",
              "4    No Failure  "
            ],
            "text/html": [
              "\n",
              "  <div id=\"df-9dc3d59b-df76-490c-8ff4-997fecbbd270\">\n",
              "    <div class=\"colab-df-container\">\n",
              "      <div>\n",
              "<style scoped>\n",
              "    .dataframe tbody tr th:only-of-type {\n",
              "        vertical-align: middle;\n",
              "    }\n",
              "\n",
              "    .dataframe tbody tr th {\n",
              "        vertical-align: top;\n",
              "    }\n",
              "\n",
              "    .dataframe thead th {\n",
              "        text-align: right;\n",
              "    }\n",
              "</style>\n",
              "<table border=\"1\" class=\"dataframe\">\n",
              "  <thead>\n",
              "    <tr style=\"text-align: right;\">\n",
              "      <th></th>\n",
              "      <th>UDI</th>\n",
              "      <th>ID Produto</th>\n",
              "      <th>Tipo</th>\n",
              "      <th>Temperatura Ar [K]</th>\n",
              "      <th>Temperatura Processo [K]</th>\n",
              "      <th>Velocidade Rotacao [rpm]</th>\n",
              "      <th>Torque [Nm]</th>\n",
              "      <th>Desgaste Ferramenta [min]</th>\n",
              "      <th>Alvo</th>\n",
              "      <th>Tipo da Falha</th>\n",
              "    </tr>\n",
              "  </thead>\n",
              "  <tbody>\n",
              "    <tr>\n",
              "      <th>0</th>\n",
              "      <td>1</td>\n",
              "      <td>M14860</td>\n",
              "      <td>M</td>\n",
              "      <td>298.1</td>\n",
              "      <td>308.6</td>\n",
              "      <td>1551</td>\n",
              "      <td>42.8</td>\n",
              "      <td>0</td>\n",
              "      <td>0</td>\n",
              "      <td>No Failure</td>\n",
              "    </tr>\n",
              "    <tr>\n",
              "      <th>1</th>\n",
              "      <td>2</td>\n",
              "      <td>L47181</td>\n",
              "      <td>L</td>\n",
              "      <td>298.2</td>\n",
              "      <td>308.7</td>\n",
              "      <td>1408</td>\n",
              "      <td>46.3</td>\n",
              "      <td>3</td>\n",
              "      <td>0</td>\n",
              "      <td>No Failure</td>\n",
              "    </tr>\n",
              "    <tr>\n",
              "      <th>2</th>\n",
              "      <td>3</td>\n",
              "      <td>L47182</td>\n",
              "      <td>L</td>\n",
              "      <td>298.1</td>\n",
              "      <td>308.5</td>\n",
              "      <td>1498</td>\n",
              "      <td>49.4</td>\n",
              "      <td>5</td>\n",
              "      <td>0</td>\n",
              "      <td>No Failure</td>\n",
              "    </tr>\n",
              "    <tr>\n",
              "      <th>3</th>\n",
              "      <td>4</td>\n",
              "      <td>L47183</td>\n",
              "      <td>L</td>\n",
              "      <td>298.2</td>\n",
              "      <td>308.6</td>\n",
              "      <td>1433</td>\n",
              "      <td>39.5</td>\n",
              "      <td>7</td>\n",
              "      <td>0</td>\n",
              "      <td>No Failure</td>\n",
              "    </tr>\n",
              "    <tr>\n",
              "      <th>4</th>\n",
              "      <td>5</td>\n",
              "      <td>L47184</td>\n",
              "      <td>L</td>\n",
              "      <td>298.2</td>\n",
              "      <td>308.7</td>\n",
              "      <td>1408</td>\n",
              "      <td>40.0</td>\n",
              "      <td>9</td>\n",
              "      <td>0</td>\n",
              "      <td>No Failure</td>\n",
              "    </tr>\n",
              "  </tbody>\n",
              "</table>\n",
              "</div>\n",
              "      <button class=\"colab-df-convert\" onclick=\"convertToInteractive('df-9dc3d59b-df76-490c-8ff4-997fecbbd270')\"\n",
              "              title=\"Convert this dataframe to an interactive table.\"\n",
              "              style=\"display:none;\">\n",
              "        \n",
              "  <svg xmlns=\"http://www.w3.org/2000/svg\" height=\"24px\"viewBox=\"0 0 24 24\"\n",
              "       width=\"24px\">\n",
              "    <path d=\"M0 0h24v24H0V0z\" fill=\"none\"/>\n",
              "    <path d=\"M18.56 5.44l.94 2.06.94-2.06 2.06-.94-2.06-.94-.94-2.06-.94 2.06-2.06.94zm-11 1L8.5 8.5l.94-2.06 2.06-.94-2.06-.94L8.5 2.5l-.94 2.06-2.06.94zm10 10l.94 2.06.94-2.06 2.06-.94-2.06-.94-.94-2.06-.94 2.06-2.06.94z\"/><path d=\"M17.41 7.96l-1.37-1.37c-.4-.4-.92-.59-1.43-.59-.52 0-1.04.2-1.43.59L10.3 9.45l-7.72 7.72c-.78.78-.78 2.05 0 2.83L4 21.41c.39.39.9.59 1.41.59.51 0 1.02-.2 1.41-.59l7.78-7.78 2.81-2.81c.8-.78.8-2.07 0-2.86zM5.41 20L4 18.59l7.72-7.72 1.47 1.35L5.41 20z\"/>\n",
              "  </svg>\n",
              "      </button>\n",
              "      \n",
              "  <style>\n",
              "    .colab-df-container {\n",
              "      display:flex;\n",
              "      flex-wrap:wrap;\n",
              "      gap: 12px;\n",
              "    }\n",
              "\n",
              "    .colab-df-convert {\n",
              "      background-color: #E8F0FE;\n",
              "      border: none;\n",
              "      border-radius: 50%;\n",
              "      cursor: pointer;\n",
              "      display: none;\n",
              "      fill: #1967D2;\n",
              "      height: 32px;\n",
              "      padding: 0 0 0 0;\n",
              "      width: 32px;\n",
              "    }\n",
              "\n",
              "    .colab-df-convert:hover {\n",
              "      background-color: #E2EBFA;\n",
              "      box-shadow: 0px 1px 2px rgba(60, 64, 67, 0.3), 0px 1px 3px 1px rgba(60, 64, 67, 0.15);\n",
              "      fill: #174EA6;\n",
              "    }\n",
              "\n",
              "    [theme=dark] .colab-df-convert {\n",
              "      background-color: #3B4455;\n",
              "      fill: #D2E3FC;\n",
              "    }\n",
              "\n",
              "    [theme=dark] .colab-df-convert:hover {\n",
              "      background-color: #434B5C;\n",
              "      box-shadow: 0px 1px 3px 1px rgba(0, 0, 0, 0.15);\n",
              "      filter: drop-shadow(0px 1px 2px rgba(0, 0, 0, 0.3));\n",
              "      fill: #FFFFFF;\n",
              "    }\n",
              "  </style>\n",
              "\n",
              "      <script>\n",
              "        const buttonEl =\n",
              "          document.querySelector('#df-9dc3d59b-df76-490c-8ff4-997fecbbd270 button.colab-df-convert');\n",
              "        buttonEl.style.display =\n",
              "          google.colab.kernel.accessAllowed ? 'block' : 'none';\n",
              "\n",
              "        async function convertToInteractive(key) {\n",
              "          const element = document.querySelector('#df-9dc3d59b-df76-490c-8ff4-997fecbbd270');\n",
              "          const dataTable =\n",
              "            await google.colab.kernel.invokeFunction('convertToInteractive',\n",
              "                                                     [key], {});\n",
              "          if (!dataTable) return;\n",
              "\n",
              "          const docLinkHtml = 'Like what you see? Visit the ' +\n",
              "            '<a target=\"_blank\" href=https://colab.research.google.com/notebooks/data_table.ipynb>data table notebook</a>'\n",
              "            + ' to learn more about interactive tables.';\n",
              "          element.innerHTML = '';\n",
              "          dataTable['output_type'] = 'display_data';\n",
              "          await google.colab.output.renderOutput(dataTable, element);\n",
              "          const docLink = document.createElement('div');\n",
              "          docLink.innerHTML = docLinkHtml;\n",
              "          element.appendChild(docLink);\n",
              "        }\n",
              "      </script>\n",
              "    </div>\n",
              "  </div>\n",
              "  "
            ]
          },
          "metadata": {},
          "execution_count": 4
        }
      ]
    },
    {
      "cell_type": "markdown",
      "source": [
        "## Análise Exploratória dos dados"
      ],
      "metadata": {
        "id": "85mwJGxAGDnN"
      }
    },
    {
      "cell_type": "code",
      "source": [
        "dados.info()"
      ],
      "metadata": {
        "colab": {
          "base_uri": "https://localhost:8080/"
        },
        "id": "NIzXFJkHQncJ",
        "outputId": "4239d1cc-5611-4445-85bb-2e0581290471"
      },
      "execution_count": null,
      "outputs": [
        {
          "output_type": "stream",
          "name": "stdout",
          "text": [
            "<class 'pandas.core.frame.DataFrame'>\n",
            "RangeIndex: 10000 entries, 0 to 9999\n",
            "Data columns (total 10 columns):\n",
            " #   Column                     Non-Null Count  Dtype  \n",
            "---  ------                     --------------  -----  \n",
            " 0   UDI                        10000 non-null  int64  \n",
            " 1   ID Produto                 10000 non-null  object \n",
            " 2   Tipo                       10000 non-null  object \n",
            " 3   Temperatura Ar [K]         10000 non-null  float64\n",
            " 4   Temperatura Processo [K]   10000 non-null  float64\n",
            " 5   Velocidade Rotacao [rpm]   10000 non-null  int64  \n",
            " 6   Torque [Nm]                10000 non-null  float64\n",
            " 7   Desgaste Ferramenta [min]  10000 non-null  int64  \n",
            " 8   Alvo                       10000 non-null  int64  \n",
            " 9   Tipo da Falha              10000 non-null  object \n",
            "dtypes: float64(3), int64(4), object(3)\n",
            "memory usage: 781.4+ KB\n"
          ]
        }
      ]
    },
    {
      "cell_type": "code",
      "source": [
        "dados['Tipo'].value_counts()"
      ],
      "metadata": {
        "colab": {
          "base_uri": "https://localhost:8080/"
        },
        "id": "Bl91HAcdGg-s",
        "outputId": "6708c950-cfbb-4145-f44b-d4ba4c4c0a67"
      },
      "execution_count": null,
      "outputs": [
        {
          "output_type": "execute_result",
          "data": {
            "text/plain": [
              "L    6000\n",
              "M    2997\n",
              "H    1003\n",
              "Name: Tipo, dtype: int64"
            ]
          },
          "metadata": {},
          "execution_count": 6
        }
      ]
    },
    {
      "cell_type": "code",
      "source": [
        "x = dados['UDI']\n",
        "\n",
        "y1 = dados['ID Produto']\n",
        "y2 = dados['Tipo']\n",
        "y3 = dados['Temperatura Ar [K]']\n",
        "y4 = dados['Temperatura Processo [K]']\n",
        "y5 = dados['Velocidade Rotacao [rpm]']\n",
        "y6 = dados['Torque [Nm]']\n",
        "y7 = dados['Desgaste Ferramenta [min]']\n",
        "y8 = dados['Alvo']\n",
        "y9 = dados['Tipo da Falha']"
      ],
      "metadata": {
        "id": "8eaoGAKFQtTZ"
      },
      "execution_count": null,
      "outputs": []
    },
    {
      "cell_type": "code",
      "source": [
        "plt.bar(x, y2)\n",
        "plt.show()"
      ],
      "metadata": {
        "colab": {
          "base_uri": "https://localhost:8080/",
          "height": 265
        },
        "id": "vKmbpurWTx2S",
        "outputId": "10200e82-3681-48d5-8f71-aa97b6e4cc5e"
      },
      "execution_count": null,
      "outputs": [
        {
          "output_type": "display_data",
          "data": {
            "text/plain": [
              "<Figure size 432x288 with 1 Axes>"
            ],
            "image/png": "[encoded data removed]"
          },
          "metadata": {
            "needs_background": "light"
          }
        }
      ]
    },
    {
      "cell_type": "code",
      "source": [
        "plt.plot(x, y3)\n",
        "plt.xlabel('Amostras')\n",
        "plt.ylabel('Temperatura do Ar [K]')\n",
        "plt.title('Curva da Temperatura do Ar [K]')\n",
        "plt.show()"
      ],
      "metadata": {
        "colab": {
          "base_uri": "https://localhost:8080/",
          "height": 295
        },
        "id": "lmYX_-25T_LF",
        "outputId": "c8be0804-04de-47a5-d290-c1f34c5f2e44"
      },
      "execution_count": null,
      "outputs": [
        {
          "output_type": "display_data",
          "data": {
            "text/plain": [
              "<Figure size 432x288 with 1 Axes>"
            ],
            "image/png": "[encoded data removed]"
          },
          "metadata": {
            "needs_background": "light"
          }
        }
      ]
    },
    {
      "cell_type": "code",
      "source": [
        "plt.plot(x, y4, color=\"black\")\n",
        "plt.xlabel('Amostras')\n",
        "plt.ylabel('Temperatura Processo [K]')\n",
        "plt.title('Curva da Temperatura Processo [K]')\n",
        "plt.show()"
      ],
      "metadata": {
        "colab": {
          "base_uri": "https://localhost:8080/",
          "height": 295
        },
        "id": "fJCu_OBGWb68",
        "outputId": "e7596e5f-b3e8-4652-bc1e-6ca17c273cbc"
      },
      "execution_count": null,
      "outputs": [
        {
          "output_type": "display_data",
          "data": {
            "text/plain": [
              "<Figure size 432x288 with 1 Axes>"
            ],
            "image/png": "[encoded data removed]"
          },
          "metadata": {
            "needs_background": "light"
          }
        }
      ]
    },
    {
      "cell_type": "code",
      "source": [
        "plt.plot(x, y4, x, y3)\n",
        "plt.xlabel('Amostras')\n",
        "plt.ylabel('Temperatura [K]')\n",
        "plt.title('Curva da Temperatura Processo e Ar [K]')\n",
        "plt.legend(('Processo', 'Ar'))\n",
        "plt.show()"
      ],
      "metadata": {
        "colab": {
          "base_uri": "https://localhost:8080/",
          "height": 295
        },
        "id": "M161HP0WXJ5E",
        "outputId": "35109df2-0a0b-435f-ca94-3f9c8907f4d4"
      },
      "execution_count": null,
      "outputs": [
        {
          "output_type": "display_data",
          "data": {
            "text/plain": [
              "<Figure size 432x288 with 1 Axes>"
            ],
            "image/png": "[encoded data removed]"
          },
          "metadata": {
            "needs_background": "light"
          }
        }
      ]
    },
    {
      "cell_type": "code",
      "source": [
        "plt.plot(x, y5, x, y6)\n",
        "plt.xlabel('Amostras')\n",
        "plt.ylabel('Velocidade e Torque')\n",
        "plt.title('Curva da Velocidade e Torque')\n",
        "plt.legend(('Velocidade', 'Torque'))\n",
        "plt.show()"
      ],
      "metadata": {
        "colab": {
          "base_uri": "https://localhost:8080/",
          "height": 295
        },
        "id": "Fz-Ub-sPYBez",
        "outputId": "e3ad0fa0-c6cd-4e1f-ea3d-b14531763cd2"
      },
      "execution_count": null,
      "outputs": [
        {
          "output_type": "display_data",
          "data": {
            "text/plain": [
              "<Figure size 432x288 with 1 Axes>"
            ],
            "image/png": "[encoded data removed]"
          },
          "metadata": {
            "needs_background": "light"
          }
        }
      ]
    },
    {
      "cell_type": "code",
      "source": [
        "plt.plot(x, y6)\n",
        "plt.xlabel('Amostras')\n",
        "plt.ylabel('Torque')\n",
        "plt.title('Curva de Torque')\n",
        "plt.show()"
      ],
      "metadata": {
        "colab": {
          "base_uri": "https://localhost:8080/",
          "height": 295
        },
        "id": "KrlLkcJuYxGj",
        "outputId": "20d5d022-f8bf-457e-9a57-5c5a4ed9e6c3"
      },
      "execution_count": null,
      "outputs": [
        {
          "output_type": "display_data",
          "data": {
            "text/plain": [
              "<Figure size 432x288 with 1 Axes>"
            ],
            "image/png": "[encoded data removed]"
          },
          "metadata": {
            "needs_background": "light"
          }
        }
      ]
    },
    {
      "cell_type": "code",
      "source": [
        "plt.scatter(y3, y4)\n",
        "plt.xlabel('Temperatura do Ar [K]')\n",
        "plt.ylabel('Temperatura Processo [K]')\n",
        "plt.show()"
      ],
      "metadata": {
        "colab": {
          "base_uri": "https://localhost:8080/",
          "height": 279
        },
        "id": "tN7J67EqZeaS",
        "outputId": "08e8e21f-737e-48ac-d1a7-fbb45d7ad011"
      },
      "execution_count": null,
      "outputs": [
        {
          "output_type": "display_data",
          "data": {
            "text/plain": [
              "<Figure size 432x288 with 1 Axes>"
            ],
            "image/png": "[encoded data removed]"
          },
          "metadata": {
            "needs_background": "light"
          }
        }
      ]
    },
    {
      "cell_type": "code",
      "source": [
        "plt.scatter(y5, y6, color=\"red\")\n",
        "plt.xlabel('Velocidade de Rotação')\n",
        "plt.ylabel('Torque')\n",
        "plt.show()"
      ],
      "metadata": {
        "colab": {
          "base_uri": "https://localhost:8080/",
          "height": 283
        },
        "id": "Ih8AkWm0aOAp",
        "outputId": "5d152c0b-087f-4b96-9451-2bf3c2111720"
      },
      "execution_count": null,
      "outputs": [
        {
          "output_type": "display_data",
          "data": {
            "text/plain": [
              "<Figure size 432x288 with 1 Axes>"
            ],
            "image/png": "[encoded data removed]"
          },
          "metadata": {
            "needs_background": "light"
          }
        }
      ]
    },
    {
      "cell_type": "code",
      "source": [
        "plt.scatter(y3, y5, color=\"green\")\n",
        "plt.xlabel('Temperatura do Ar')\n",
        "plt.ylabel('Velocidade de Rotação')\n",
        "plt.show()"
      ],
      "metadata": {
        "colab": {
          "base_uri": "https://localhost:8080/",
          "height": 279
        },
        "id": "6do2fJ-FaP7G",
        "outputId": "d2f17fb9-f54e-44ad-adfb-f6375eb58ec6"
      },
      "execution_count": null,
      "outputs": [
        {
          "output_type": "display_data",
          "data": {
            "text/plain": [
              "<Figure size 432x288 with 1 Axes>"
            ],
            "image/png": "[encoded data removed]"
          },
          "metadata": {
            "needs_background": "light"
          }
        }
      ]
    },
    {
      "cell_type": "code",
      "source": [
        "plt.scatter(y3, y8, color=\"green\")\n",
        "plt.xlabel('Temperatura do Ar')\n",
        "plt.ylabel('Alvo')\n",
        "plt.show()"
      ],
      "metadata": {
        "colab": {
          "base_uri": "https://localhost:8080/",
          "height": 279
        },
        "id": "eZTTXKIbc-9m",
        "outputId": "7b453524-a3bd-41d7-b508-a4a113d153fb"
      },
      "execution_count": null,
      "outputs": [
        {
          "output_type": "display_data",
          "data": {
            "text/plain": [
              "<Figure size 432x288 with 1 Axes>"
            ],
            "image/png": "[encoded data removed]"
          },
          "metadata": {
            "needs_background": "light"
          }
        }
      ]
    },
    {
      "cell_type": "code",
      "source": [
        "plt.scatter(y3, y9, color=\"green\")\n",
        "plt.xlabel('Temperatura do Ar')\n",
        "plt.ylabel('Tipo de Falha')\n",
        "plt.show()"
      ],
      "metadata": {
        "colab": {
          "base_uri": "https://localhost:8080/",
          "height": 279
        },
        "id": "dO6Y93PHdZ0M",
        "outputId": "1b4645df-e102-48fe-a4cb-8c3809878f8e"
      },
      "execution_count": null,
      "outputs": [
        {
          "output_type": "display_data",
          "data": {
            "text/plain": [
              "<Figure size 432x288 with 1 Axes>"
            ],
            "image/png": "[encoded data removed]"
          },
          "metadata": {
            "needs_background": "light"
          }
        }
      ]
    },
    {
      "cell_type": "code",
      "source": [
        "plt.scatter(y5, y9, color=\"green\")\n",
        "plt.xlabel('Velocidade de Rotação')\n",
        "plt.ylabel('Tipo de Falha')\n",
        "plt.show()"
      ],
      "metadata": {
        "colab": {
          "base_uri": "https://localhost:8080/",
          "height": 279
        },
        "id": "nY5SfRBBducF",
        "outputId": "3753d683-af8b-42e0-ddca-4a2d964d8982"
      },
      "execution_count": null,
      "outputs": [
        {
          "output_type": "display_data",
          "data": {
            "text/plain": [
              "<Figure size 432x288 with 1 Axes>"
            ],
            "image/png": "[encoded data removed]"
          },
          "metadata": {
            "needs_background": "light"
          }
        }
      ]
    },
    {
      "cell_type": "code",
      "source": [
        "dados['Tipo'].value_counts()"
      ],
      "metadata": {
        "colab": {
          "base_uri": "https://localhost:8080/"
        },
        "id": "xNMabjLaN7Rd",
        "outputId": "0c96c85c-9009-49db-f360-e4e81adf14a3"
      },
      "execution_count": null,
      "outputs": [
        {
          "output_type": "execute_result",
          "data": {
            "text/plain": [
              "L    6000\n",
              "M    2997\n",
              "H    1003\n",
              "Name: Tipo, dtype: int64"
            ]
          },
          "metadata": {},
          "execution_count": 21
        }
      ]
    },
    {
      "cell_type": "code",
      "source": [
        "enc = LabelEncoder()\n",
        "enc.fit(dados['Tipo'])\n",
        "dados['Tipo'] = enc.transform(dados['Tipo'])"
      ],
      "metadata": {
        "id": "Kb0ns6InNA8u"
      },
      "execution_count": null,
      "outputs": []
    },
    {
      "cell_type": "code",
      "source": [
        "dados.head()"
      ],
      "metadata": {
        "colab": {
          "base_uri": "https://localhost:8080/",
          "height": 206
        },
        "id": "SyIQsHOkNwRV",
        "outputId": "a8683be4-dbe6-4c8d-fe03-1500df30a3bf"
      },
      "execution_count": null,
      "outputs": [
        {
          "output_type": "execute_result",
          "data": {
            "text/plain": [
              "   UDI ID Produto  Tipo  Temperatura Ar [K]  Temperatura Processo [K]  \\\n",
              "0    1     M14860     2               298.1                     308.6   \n",
              "1    2     L47181     1               298.2                     308.7   \n",
              "2    3     L47182     1               298.1                     308.5   \n",
              "3    4     L47183     1               298.2                     308.6   \n",
              "4    5     L47184     1               298.2                     308.7   \n",
              "\n",
              "   Velocidade Rotacao [rpm]  Torque [Nm]  Desgaste Ferramenta [min]  Alvo  \\\n",
              "0                      1551         42.8                          0     0   \n",
              "1                      1408         46.3                          3     0   \n",
              "2                      1498         49.4                          5     0   \n",
              "3                      1433         39.5                          7     0   \n",
              "4                      1408         40.0                          9     0   \n",
              "\n",
              "  Tipo da Falha  \n",
              "0    No Failure  \n",
              "1    No Failure  \n",
              "2    No Failure  \n",
              "3    No Failure  \n",
              "4    No Failure  "
            ],
            "text/html": [
              "\n",
              "  <div id=\"df-ca4cee8d-b33b-47bb-80aa-3237687f6686\">\n",
              "    <div class=\"colab-df-container\">\n",
              "      <div>\n",
              "<style scoped>\n",
              "    .dataframe tbody tr th:only-of-type {\n",
              "        vertical-align: middle;\n",
              "    }\n",
              "\n",
              "    .dataframe tbody tr th {\n",
              "        vertical-align: top;\n",
              "    }\n",
              "\n",
              "    .dataframe thead th {\n",
              "        text-align: right;\n",
              "    }\n",
              "</style>\n",
              "<table border=\"1\" class=\"dataframe\">\n",
              "  <thead>\n",
              "    <tr style=\"text-align: right;\">\n",
              "      <th></th>\n",
              "      <th>UDI</th>\n",
              "      <th>ID Produto</th>\n",
              "      <th>Tipo</th>\n",
              "      <th>Temperatura Ar [K]</th>\n",
              "      <th>Temperatura Processo [K]</th>\n",
              "      <th>Velocidade Rotacao [rpm]</th>\n",
              "      <th>Torque [Nm]</th>\n",
              "      <th>Desgaste Ferramenta [min]</th>\n",
              "      <th>Alvo</th>\n",
              "      <th>Tipo da Falha</th>\n",
              "    </tr>\n",
              "  </thead>\n",
              "  <tbody>\n",
              "    <tr>\n",
              "      <th>0</th>\n",
              "      <td>1</td>\n",
              "      <td>M14860</td>\n",
              "      <td>2</td>\n",
              "      <td>298.1</td>\n",
              "      <td>308.6</td>\n",
              "      <td>1551</td>\n",
              "      <td>42.8</td>\n",
              "      <td>0</td>\n",
              "      <td>0</td>\n",
              "      <td>No Failure</td>\n",
              "    </tr>\n",
              "    <tr>\n",
              "      <th>1</th>\n",
              "      <td>2</td>\n",
              "      <td>L47181</td>\n",
              "      <td>1</td>\n",
              "      <td>298.2</td>\n",
              "      <td>308.7</td>\n",
              "      <td>1408</td>\n",
              "      <td>46.3</td>\n",
              "      <td>3</td>\n",
              "      <td>0</td>\n",
              "      <td>No Failure</td>\n",
              "    </tr>\n",
              "    <tr>\n",
              "      <th>2</th>\n",
              "      <td>3</td>\n",
              "      <td>L47182</td>\n",
              "      <td>1</td>\n",
              "      <td>298.1</td>\n",
              "      <td>308.5</td>\n",
              "      <td>1498</td>\n",
              "      <td>49.4</td>\n",
              "      <td>5</td>\n",
              "      <td>0</td>\n",
              "      <td>No Failure</td>\n",
              "    </tr>\n",
              "    <tr>\n",
              "      <th>3</th>\n",
              "      <td>4</td>\n",
              "      <td>L47183</td>\n",
              "      <td>1</td>\n",
              "      <td>298.2</td>\n",
              "      <td>308.6</td>\n",
              "      <td>1433</td>\n",
              "      <td>39.5</td>\n",
              "      <td>7</td>\n",
              "      <td>0</td>\n",
              "      <td>No Failure</td>\n",
              "    </tr>\n",
              "    <tr>\n",
              "      <th>4</th>\n",
              "      <td>5</td>\n",
              "      <td>L47184</td>\n",
              "      <td>1</td>\n",
              "      <td>298.2</td>\n",
              "      <td>308.7</td>\n",
              "      <td>1408</td>\n",
              "      <td>40.0</td>\n",
              "      <td>9</td>\n",
              "      <td>0</td>\n",
              "      <td>No Failure</td>\n",
              "    </tr>\n",
              "  </tbody>\n",
              "</table>\n",
              "</div>\n",
              "      <button class=\"colab-df-convert\" onclick=\"convertToInteractive('df-ca4cee8d-b33b-47bb-80aa-3237687f6686')\"\n",
              "              title=\"Convert this dataframe to an interactive table.\"\n",
              "              style=\"display:none;\">\n",
              "        \n",
              "  <svg xmlns=\"http://www.w3.org/2000/svg\" height=\"24px\"viewBox=\"0 0 24 24\"\n",
              "       width=\"24px\">\n",
              "    <path d=\"M0 0h24v24H0V0z\" fill=\"none\"/>\n",
              "    <path d=\"M18.56 5.44l.94 2.06.94-2.06 2.06-.94-2.06-.94-.94-2.06-.94 2.06-2.06.94zm-11 1L8.5 8.5l.94-2.06 2.06-.94-2.06-.94L8.5 2.5l-.94 2.06-2.06.94zm10 10l.94 2.06.94-2.06 2.06-.94-2.06-.94-.94-2.06-.94 2.06-2.06.94z\"/><path d=\"M17.41 7.96l-1.37-1.37c-.4-.4-.92-.59-1.43-.59-.52 0-1.04.2-1.43.59L10.3 9.45l-7.72 7.72c-.78.78-.78 2.05 0 2.83L4 21.41c.39.39.9.59 1.41.59.51 0 1.02-.2 1.41-.59l7.78-7.78 2.81-2.81c.8-.78.8-2.07 0-2.86zM5.41 20L4 18.59l7.72-7.72 1.47 1.35L5.41 20z\"/>\n",
              "  </svg>\n",
              "      </button>\n",
              "      \n",
              "  <style>\n",
              "    .colab-df-container {\n",
              "      display:flex;\n",
              "      flex-wrap:wrap;\n",
              "      gap: 12px;\n",
              "    }\n",
              "\n",
              "    .colab-df-convert {\n",
              "      background-color: #E8F0FE;\n",
              "      border: none;\n",
              "      border-radius: 50%;\n",
              "      cursor: pointer;\n",
              "      display: none;\n",
              "      fill: #1967D2;\n",
              "      height: 32px;\n",
              "      padding: 0 0 0 0;\n",
              "      width: 32px;\n",
              "    }\n",
              "\n",
              "    .colab-df-convert:hover {\n",
              "      background-color: #E2EBFA;\n",
              "      box-shadow: 0px 1px 2px rgba(60, 64, 67, 0.3), 0px 1px 3px 1px rgba(60, 64, 67, 0.15);\n",
              "      fill: #174EA6;\n",
              "    }\n",
              "\n",
              "    [theme=dark] .colab-df-convert {\n",
              "      background-color: #3B4455;\n",
              "      fill: #D2E3FC;\n",
              "    }\n",
              "\n",
              "    [theme=dark] .colab-df-convert:hover {\n",
              "      background-color: #434B5C;\n",
              "      box-shadow: 0px 1px 3px 1px rgba(0, 0, 0, 0.15);\n",
              "      filter: drop-shadow(0px 1px 2px rgba(0, 0, 0, 0.3));\n",
              "      fill: #FFFFFF;\n",
              "    }\n",
              "  </style>\n",
              "\n",
              "      <script>\n",
              "        const buttonEl =\n",
              "          document.querySelector('#df-ca4cee8d-b33b-47bb-80aa-3237687f6686 button.colab-df-convert');\n",
              "        buttonEl.style.display =\n",
              "          google.colab.kernel.accessAllowed ? 'block' : 'none';\n",
              "\n",
              "        async function convertToInteractive(key) {\n",
              "          const element = document.querySelector('#df-ca4cee8d-b33b-47bb-80aa-3237687f6686');\n",
              "          const dataTable =\n",
              "            await google.colab.kernel.invokeFunction('convertToInteractive',\n",
              "                                                     [key], {});\n",
              "          if (!dataTable) return;\n",
              "\n",
              "          const docLinkHtml = 'Like what you see? Visit the ' +\n",
              "            '<a target=\"_blank\" href=https://colab.research.google.com/notebooks/data_table.ipynb>data table notebook</a>'\n",
              "            + ' to learn more about interactive tables.';\n",
              "          element.innerHTML = '';\n",
              "          dataTable['output_type'] = 'display_data';\n",
              "          await google.colab.output.renderOutput(dataTable, element);\n",
              "          const docLink = document.createElement('div');\n",
              "          docLink.innerHTML = docLinkHtml;\n",
              "          element.appendChild(docLink);\n",
              "        }\n",
              "      </script>\n",
              "    </div>\n",
              "  </div>\n",
              "  "
            ]
          },
          "metadata": {},
          "execution_count": 23
        }
      ]
    },
    {
      "cell_type": "code",
      "source": [
        "dados['Tipo'].value_counts()"
      ],
      "metadata": {
        "colab": {
          "base_uri": "https://localhost:8080/"
        },
        "id": "bxzK-ubZN27a",
        "outputId": "5515d22e-e334-4784-fb9e-04bf2e36b4f5"
      },
      "execution_count": null,
      "outputs": [
        {
          "output_type": "execute_result",
          "data": {
            "text/plain": [
              "1    6000\n",
              "2    2997\n",
              "0    1003\n",
              "Name: Tipo, dtype: int64"
            ]
          },
          "metadata": {},
          "execution_count": 24
        }
      ]
    },
    {
      "cell_type": "markdown",
      "source": [
        "## Primeira modelagem usando rede neural MLP"
      ],
      "metadata": {
        "id": "DmLG4MjAe8z1"
      }
    },
    {
      "cell_type": "code",
      "source": [
        "y = dados['Alvo']\n",
        "\n",
        "x = dados[['Tipo',\n",
        "        'Temperatura Ar [K]',\n",
        "        'Temperatura Processo [K]',\n",
        "        'Velocidade Rotacao [rpm]',\n",
        "        'Torque [Nm]',\n",
        "        'Desgaste Ferramenta [min]']]"
      ],
      "metadata": {
        "id": "YpCua2q3fAfI"
      },
      "execution_count": null,
      "outputs": []
    },
    {
      "cell_type": "code",
      "source": [
        "x_train, x_test, y_train, y_test = train_test_split(x, y, test_size=0.30)"
      ],
      "metadata": {
        "id": "lfhdlWp7fzaC"
      },
      "execution_count": null,
      "outputs": []
    },
    {
      "cell_type": "code",
      "source": [
        "mlp = MLPClassifier(hidden_layer_sizes=(100, 50, 10, 10, 10), max_iter=100, activation='relu', solver='adam', random_state=1, verbose=True)"
      ],
      "metadata": {
        "id": "VwntdPgugH6Z"
      },
      "execution_count": null,
      "outputs": []
    },
    {
      "cell_type": "code",
      "source": [
        "mlp.fit(x_train, y_train)"
      ],
      "metadata": {
        "colab": {
          "base_uri": "https://localhost:8080/"
        },
        "id": "9o_ATwBLkbBg",
        "outputId": "208fe46a-1556-4b7d-e985-0874fbafcb45"
      },
      "execution_count": null,
      "outputs": [
        {
          "output_type": "stream",
          "name": "stdout",
          "text": [
            "Iteration 1, loss = 3.46047519\n",
            "Iteration 2, loss = 0.22840870\n",
            "Iteration 3, loss = 0.16367490\n",
            "Iteration 4, loss = 0.13870512\n",
            "Iteration 5, loss = 0.13328073\n",
            "Iteration 6, loss = 0.12139587\n",
            "Iteration 7, loss = 0.12113890\n",
            "Iteration 8, loss = 0.11941523\n",
            "Iteration 9, loss = 0.11801014\n",
            "Iteration 10, loss = 0.11549419\n",
            "Iteration 11, loss = 0.12502065\n",
            "Iteration 12, loss = 0.14267191\n",
            "Iteration 13, loss = 0.10890691\n",
            "Iteration 14, loss = 0.12169916\n",
            "Iteration 15, loss = 0.11110154\n",
            "Iteration 16, loss = 0.10388082\n",
            "Iteration 17, loss = 0.10660867\n",
            "Iteration 18, loss = 0.10632362\n",
            "Iteration 19, loss = 0.11772552\n",
            "Iteration 20, loss = 0.10830132\n",
            "Iteration 21, loss = 0.10283905\n",
            "Iteration 22, loss = 0.11321114\n",
            "Iteration 23, loss = 0.11233972\n",
            "Iteration 24, loss = 0.10643800\n",
            "Iteration 25, loss = 0.10229989\n",
            "Iteration 26, loss = 0.10167418\n",
            "Iteration 27, loss = 0.12123767\n",
            "Iteration 28, loss = 0.14121612\n",
            "Iteration 29, loss = 0.10589002\n",
            "Iteration 30, loss = 0.11824101\n",
            "Iteration 31, loss = 0.10207420\n",
            "Iteration 32, loss = 0.09951628\n",
            "Iteration 33, loss = 0.10198537\n",
            "Iteration 34, loss = 0.09694753\n",
            "Iteration 35, loss = 0.10431237\n",
            "Iteration 36, loss = 0.10699009\n",
            "Iteration 37, loss = 0.09987941\n",
            "Iteration 38, loss = 0.10080541\n",
            "Iteration 39, loss = 0.11036834\n",
            "Iteration 40, loss = 0.09855875\n",
            "Iteration 41, loss = 0.09458077\n",
            "Iteration 42, loss = 0.12337551\n",
            "Iteration 43, loss = 0.14618353\n",
            "Iteration 44, loss = 0.10258884\n",
            "Iteration 45, loss = 0.09787472\n",
            "Iteration 46, loss = 0.10637804\n",
            "Iteration 47, loss = 0.09283815\n",
            "Iteration 48, loss = 0.09736462\n",
            "Iteration 49, loss = 0.09789552\n",
            "Iteration 50, loss = 0.11040945\n",
            "Iteration 51, loss = 0.11215455\n",
            "Iteration 52, loss = 0.10284008\n",
            "Iteration 53, loss = 0.11041234\n",
            "Iteration 54, loss = 0.09943283\n",
            "Iteration 55, loss = 0.09853703\n",
            "Iteration 56, loss = 0.09962992\n",
            "Iteration 57, loss = 0.11292060\n",
            "Iteration 58, loss = 0.10345448\n",
            "Training loss did not improve more than tol=0.000100 for 10 consecutive epochs. Stopping.\n"
          ]
        },
        {
          "output_type": "execute_result",
          "data": {
            "text/plain": [
              "MLPClassifier(hidden_layer_sizes=(100, 50, 10, 10, 10), max_iter=100,\n",
              "              random_state=1, verbose=True)"
            ]
          },
          "metadata": {},
          "execution_count": 63
        }
      ]
    },
    {
      "cell_type": "code",
      "source": [
        "y_pred_test = mlp.predict(x_test)\n",
        "y_pred_train = mlp.predict(x_train)"
      ],
      "metadata": {
        "id": "wPMn_B7Ykb7g"
      },
      "execution_count": null,
      "outputs": []
    },
    {
      "cell_type": "code",
      "source": [
        "y_test.value_counts()"
      ],
      "metadata": {
        "colab": {
          "base_uri": "https://localhost:8080/"
        },
        "id": "pEbDfBJomoVz",
        "outputId": "f00a093f-fdd2-453d-e4ac-dfcb7604a475"
      },
      "execution_count": null,
      "outputs": [
        {
          "output_type": "execute_result",
          "data": {
            "text/plain": [
              "0    2896\n",
              "1     104\n",
              "Name: Alvo, dtype: int64"
            ]
          },
          "metadata": {},
          "execution_count": 65
        }
      ]
    },
    {
      "cell_type": "code",
      "source": [
        "metrics.accuracy_score(y_test, y_pred_test)"
      ],
      "metadata": {
        "colab": {
          "base_uri": "https://localhost:8080/"
        },
        "id": "-Ut_FMYKpJnO",
        "outputId": "50f68b91-ef00-40b0-bc17-3e48e23a9859"
      },
      "execution_count": null,
      "outputs": [
        {
          "output_type": "execute_result",
          "data": {
            "text/plain": [
              "0.9606666666666667"
            ]
          },
          "metadata": {},
          "execution_count": 66
        }
      ]
    },
    {
      "cell_type": "code",
      "source": [
        "pd.Series(y_pred_test).value_counts()"
      ],
      "metadata": {
        "id": "32cnSAmCl-oe",
        "colab": {
          "base_uri": "https://localhost:8080/"
        },
        "outputId": "e95a417a-0e6c-4bcc-ccab-924f519041cc"
      },
      "execution_count": null,
      "outputs": [
        {
          "output_type": "execute_result",
          "data": {
            "text/plain": [
              "0    2900\n",
              "1     100\n",
              "dtype: int64"
            ]
          },
          "metadata": {},
          "execution_count": 67
        }
      ]
    },
    {
      "cell_type": "code",
      "source": [
        "pd.Series(y_pred_train).value_counts()"
      ],
      "metadata": {
        "id": "f9wnFhWZkcEi",
        "colab": {
          "base_uri": "https://localhost:8080/"
        },
        "outputId": "e21cc4d0-7662-4101-bf10-3a192bd569fb"
      },
      "execution_count": null,
      "outputs": [
        {
          "output_type": "execute_result",
          "data": {
            "text/plain": [
              "0    6781\n",
              "1     219\n",
              "dtype: int64"
            ]
          },
          "metadata": {},
          "execution_count": 68
        }
      ]
    },
    {
      "cell_type": "code",
      "source": [
        "train_score = metrics.accuracy_score(y_pred_train, y_train)\n",
        "print(\"Score nos dados de treinamento: \", train_score)\n",
        "test_score = metrics.accuracy_score(y_pred_test, y_test)\n",
        "print(\"Score nos dados de teste: \", test_score)"
      ],
      "metadata": {
        "colab": {
          "base_uri": "https://localhost:8080/"
        },
        "id": "ncgjUqa3prHS",
        "outputId": "5ded28bf-a452-4d5a-a6f5-69a68e9b4b25"
      },
      "execution_count": null,
      "outputs": [
        {
          "output_type": "stream",
          "name": "stdout",
          "text": [
            "Score nos dados de treinamento:  0.9648571428571429\n",
            "Score nos dados de teste:  0.9606666666666667\n"
          ]
        }
      ]
    },
    {
      "cell_type": "code",
      "source": [
        "x_mlp = list(range(3000))"
      ],
      "metadata": {
        "id": "N0cH-7qroCeR"
      },
      "execution_count": null,
      "outputs": []
    },
    {
      "cell_type": "code",
      "source": [
        "plt.scatter(x_mlp, y_test)\n",
        "plt.xlabel('Amostras')\n",
        "plt.ylabel('Alvo Real')\n",
        "plt.show()"
      ],
      "metadata": {
        "colab": {
          "base_uri": "https://localhost:8080/",
          "height": 279
        },
        "id": "XN0UAmgEoMKs",
        "outputId": "e14a1371-85f1-489e-bd67-c2f90fd3d4c3"
      },
      "execution_count": null,
      "outputs": [
        {
          "output_type": "display_data",
          "data": {
            "text/plain": [
              "<Figure size 432x288 with 1 Axes>"
            ],
            "image/png": "[encoded data removed]"
          },
          "metadata": {
            "needs_background": "light"
          }
        }
      ]
    },
    {
      "cell_type": "code",
      "source": [
        "plt.scatter(x_mlp, y_pred_test)\n",
        "plt.xlabel('Amostras')\n",
        "plt.ylabel('Alvo Previsto')\n",
        "plt.show()"
      ],
      "metadata": {
        "colab": {
          "base_uri": "https://localhost:8080/",
          "height": 279
        },
        "id": "UPltUNimo2os",
        "outputId": "9ff7d669-5adf-462d-893e-3a3a6fea8bad"
      },
      "execution_count": null,
      "outputs": [
        {
          "output_type": "display_data",
          "data": {
            "text/plain": [
              "<Figure size 432x288 with 1 Axes>"
            ],
            "image/png": "[encoded data removed]"
          },
          "metadata": {
            "needs_background": "light"
          }
        }
      ]
    },
    {
      "cell_type": "markdown",
      "source": [
        "## Dividindo o data set para treino, validação e teste"
      ],
      "metadata": {
        "id": "qy4z2bYsMjbl"
      }
    },
    {
      "cell_type": "code",
      "source": [
        "df_principal = dados.sample(frac=0.85, random_state=786)\n",
        "df_test = dados.drop(df_principal.index)"
      ],
      "metadata": {
        "id": "L8WWPcAGMoqb"
      },
      "execution_count": null,
      "outputs": []
    },
    {
      "cell_type": "markdown",
      "source": [
        "## Avaliação do modelo no DataFrame Principal"
      ],
      "metadata": {
        "id": "uhLlWoykD_VC"
      }
    },
    {
      "cell_type": "code",
      "source": [
        "df_principal.info()"
      ],
      "metadata": {
        "colab": {
          "base_uri": "https://localhost:8080/"
        },
        "id": "z6Yi5WVJ3NCw",
        "outputId": "27d44e8e-4856-424f-e61d-a680c4635890"
      },
      "execution_count": null,
      "outputs": [
        {
          "output_type": "stream",
          "name": "stdout",
          "text": [
            "<class 'pandas.core.frame.DataFrame'>\n",
            "Int64Index: 8500 entries, 9730 to 509\n",
            "Data columns (total 10 columns):\n",
            " #   Column                     Non-Null Count  Dtype  \n",
            "---  ------                     --------------  -----  \n",
            " 0   UDI                        8500 non-null   int64  \n",
            " 1   ID Produto                 8500 non-null   object \n",
            " 2   Tipo                       8500 non-null   int64  \n",
            " 3   Temperatura Ar [K]         8500 non-null   float64\n",
            " 4   Temperatura Processo [K]   8500 non-null   float64\n",
            " 5   Velocidade Rotacao [rpm]   8500 non-null   int64  \n",
            " 6   Torque [Nm]                8500 non-null   float64\n",
            " 7   Desgaste Ferramenta [min]  8500 non-null   int64  \n",
            " 8   Alvo                       8500 non-null   int64  \n",
            " 9   Tipo da Falha              8500 non-null   object \n",
            "dtypes: float64(3), int64(5), object(2)\n",
            "memory usage: 730.5+ KB\n"
          ]
        }
      ]
    },
    {
      "cell_type": "code",
      "source": [
        "y_principal = df_principal['Alvo']\n",
        "\n",
        "x_principal = df_principal[['Temperatura Ar [K]',\n",
        "    'Temperatura Processo [K]',\n",
        "    'Velocidade Rotacao [rpm]',\n",
        "    'Torque [Nm]',\n",
        "    'Desgaste Ferramenta [min]']]"
      ],
      "metadata": {
        "id": "Md306QUw04wC"
      },
      "execution_count": null,
      "outputs": []
    },
    {
      "cell_type": "code",
      "source": [
        "# 15% de validação\n",
        "x_train, x_validation, y_train, y_validation = train_test_split(x_principal, y_principal, test_size = 0.15)"
      ],
      "metadata": {
        "id": "Xop1CfkT04wD"
      },
      "execution_count": null,
      "outputs": []
    },
    {
      "cell_type": "code",
      "source": [
        "mlp = MLPClassifier(hidden_layer_sizes=(50), max_iter = 100, activation = 'relu', solver = 'adam', verbose=True)"
      ],
      "metadata": {
        "id": "sY4LetYY04wD"
      },
      "execution_count": null,
      "outputs": []
    },
    {
      "cell_type": "code",
      "source": [
        "mlp.fit(x_train, y_train)\n",
        "y_predict_train = mlp.predict(x_train)"
      ],
      "metadata": {
        "colab": {
          "base_uri": "https://localhost:8080/"
        },
        "outputId": "4d77d780-26a5-4a5c-a3c6-eadcd180b5b8",
        "id": "I-HMkiPL04wD"
      },
      "execution_count": null,
      "outputs": [
        {
          "output_type": "stream",
          "name": "stdout",
          "text": [
            "Iteration 1, loss = 0.87072440\n",
            "Iteration 2, loss = 0.29331726\n",
            "Iteration 3, loss = 0.21159967\n",
            "Iteration 4, loss = 0.15056429\n",
            "Iteration 5, loss = 0.16919580\n",
            "Iteration 6, loss = 0.13625453\n",
            "Iteration 7, loss = 0.12521741\n",
            "Iteration 8, loss = 0.51087587\n",
            "Iteration 9, loss = 0.11715599\n",
            "Iteration 10, loss = 0.11418672\n",
            "Iteration 11, loss = 0.13994925\n",
            "Iteration 12, loss = 0.11429467\n",
            "Iteration 13, loss = 0.15154673\n",
            "Iteration 14, loss = 0.15011421\n",
            "Iteration 15, loss = 0.11310764\n",
            "Iteration 16, loss = 0.10915691\n",
            "Iteration 17, loss = 0.11822283\n",
            "Iteration 18, loss = 0.10480071\n",
            "Iteration 19, loss = 0.11298301\n",
            "Iteration 20, loss = 0.19625938\n",
            "Iteration 21, loss = 0.16261487\n",
            "Iteration 22, loss = 0.23247055\n",
            "Iteration 23, loss = 0.26939769\n",
            "Iteration 24, loss = 0.27893834\n",
            "Iteration 25, loss = 0.45800350\n",
            "Iteration 26, loss = 0.14374024\n",
            "Iteration 27, loss = 0.11064066\n",
            "Iteration 28, loss = 0.11048977\n",
            "Iteration 29, loss = 0.10943634\n",
            "Training loss did not improve more than tol=0.000100 for 10 consecutive epochs. Stopping.\n"
          ]
        }
      ]
    },
    {
      "cell_type": "code",
      "source": [
        "mlp.fit(x_validation, y_validation)\n",
        "y_predict_validation = mlp.predict(x_validation)"
      ],
      "metadata": {
        "colab": {
          "base_uri": "https://localhost:8080/"
        },
        "id": "4PnfzH_p04wE",
        "outputId": "02d4e992-34db-4073-9b8a-afafba3b7e51"
      },
      "execution_count": null,
      "outputs": [
        {
          "output_type": "stream",
          "name": "stdout",
          "text": [
            "Iteration 1, loss = 1.24386231\n",
            "Iteration 2, loss = 1.24219135\n",
            "Iteration 3, loss = 1.04397256\n",
            "Iteration 4, loss = 0.86627652\n",
            "Iteration 5, loss = 0.61046549\n",
            "Iteration 6, loss = 0.57805778\n",
            "Iteration 7, loss = 0.48935094\n",
            "Iteration 8, loss = 0.43385328\n",
            "Iteration 9, loss = 0.34681245\n",
            "Iteration 10, loss = 0.34155689\n",
            "Iteration 11, loss = 0.31605792\n",
            "Iteration 12, loss = 0.29830665\n",
            "Iteration 13, loss = 0.37479690\n",
            "Iteration 14, loss = 0.27645317\n",
            "Iteration 15, loss = 0.27902835\n",
            "Iteration 16, loss = 0.28107804\n",
            "Iteration 17, loss = 0.31924568\n",
            "Iteration 18, loss = 0.26631921\n",
            "Iteration 19, loss = 0.30903485\n",
            "Iteration 20, loss = 0.28709212\n",
            "Iteration 21, loss = 0.25826590\n",
            "Iteration 22, loss = 0.25656070\n",
            "Iteration 23, loss = 0.23605760\n",
            "Iteration 24, loss = 0.22565763\n",
            "Iteration 25, loss = 0.22842907\n",
            "Iteration 26, loss = 0.21917998\n",
            "Iteration 27, loss = 0.21808685\n",
            "Iteration 28, loss = 0.24783350\n",
            "Iteration 29, loss = 0.28493559\n",
            "Iteration 30, loss = 0.23044859\n",
            "Iteration 31, loss = 0.21301897\n",
            "Iteration 32, loss = 0.20564917\n",
            "Iteration 33, loss = 0.20962517\n",
            "Iteration 34, loss = 0.22410270\n",
            "Iteration 35, loss = 0.23982409\n",
            "Iteration 36, loss = 0.24885926\n",
            "Iteration 37, loss = 0.21433658\n",
            "Iteration 38, loss = 0.21906560\n",
            "Iteration 39, loss = 0.27893815\n",
            "Iteration 40, loss = 0.20649642\n",
            "Iteration 41, loss = 0.18031385\n",
            "Iteration 42, loss = 0.17972971\n",
            "Iteration 43, loss = 0.39939108\n",
            "Iteration 44, loss = 0.34947893\n",
            "Iteration 45, loss = 0.28874067\n",
            "Iteration 46, loss = 0.42241473\n",
            "Iteration 47, loss = 0.25669579\n",
            "Iteration 48, loss = 0.24967220\n",
            "Iteration 49, loss = 0.24606487\n",
            "Iteration 50, loss = 0.19610528\n",
            "Iteration 51, loss = 0.22085126\n",
            "Iteration 52, loss = 0.15757060\n",
            "Iteration 53, loss = 0.16136062\n",
            "Iteration 54, loss = 0.16117453\n",
            "Iteration 55, loss = 0.16431689\n",
            "Iteration 56, loss = 0.15631919\n",
            "Iteration 57, loss = 0.15979159\n",
            "Iteration 58, loss = 0.16877418\n",
            "Iteration 59, loss = 0.15407365\n",
            "Iteration 60, loss = 0.16365994\n",
            "Iteration 61, loss = 0.18155430\n",
            "Iteration 62, loss = 0.19610555\n",
            "Iteration 63, loss = 0.18281913\n",
            "Iteration 64, loss = 0.14293852\n",
            "Iteration 65, loss = 0.15876068\n",
            "Iteration 66, loss = 0.16304567\n",
            "Iteration 67, loss = 0.19216877\n",
            "Iteration 68, loss = 0.30272005\n",
            "Iteration 69, loss = 0.50563464\n",
            "Iteration 70, loss = 0.41658930\n",
            "Iteration 71, loss = 0.36245902\n",
            "Iteration 72, loss = 0.23013745\n",
            "Iteration 73, loss = 0.20053467\n",
            "Iteration 74, loss = 0.18334303\n",
            "Iteration 75, loss = 0.16641695\n",
            "Training loss did not improve more than tol=0.000100 for 10 consecutive epochs. Stopping.\n"
          ]
        }
      ]
    },
    {
      "cell_type": "code",
      "source": [
        "print(\"Train accuracy: \", metrics.accuracy_score(y_train, y_predict_train))\n",
        "print(\"Train precision: \", metrics.average_precision_score(y_train, y_predict_train))\n",
        "print(\"Train recall: \", metrics.recall_score(y_train, y_predict_train))\n",
        "print(\"Train F1 score: \", metrics.f1_score(y_train, y_predict_train))\n",
        "print(\"Train curva ROC: \", metrics.roc_auc_score(y_train, y_predict_train))"
      ],
      "metadata": {
        "colab": {
          "base_uri": "https://localhost:8080/"
        },
        "id": "7GxUg7eT9pAc",
        "outputId": "f8575b3e-0f6a-47b6-aefe-a2eab6458664"
      },
      "execution_count": null,
      "outputs": [
        {
          "output_type": "stream",
          "name": "stdout",
          "text": [
            "Train accuracy:  0.9680276816608997\n",
            "Train precision:  0.12695563600934442\n",
            "Train recall:  0.12648221343873517\n",
            "Train F1 score:  0.21694915254237288\n",
            "Train curva ROC:  0.5625239523877553\n"
          ]
        }
      ]
    },
    {
      "cell_type": "code",
      "source": [
        "metrics.ConfusionMatrixDisplay.from_predictions(y_train, y_predict_train)"
      ],
      "metadata": {
        "colab": {
          "base_uri": "https://localhost:8080/",
          "height": 296
        },
        "id": "t7T0rJPxy_qs",
        "outputId": "a487c028-e462-477c-d1a4-c18e44c9f549"
      },
      "execution_count": null,
      "outputs": [
        {
          "output_type": "execute_result",
          "data": {
            "text/plain": [
              "<sklearn.metrics._plot.confusion_matrix.ConfusionMatrixDisplay at 0x7f3aa0f3d0d0>"
            ]
          },
          "metadata": {},
          "execution_count": 81
        },
        {
          "output_type": "display_data",
          "data": {
            "text/plain": [
              "<Figure size 432x288 with 2 Axes>"
            ],
            "image/png": "[encoded data removed]"
          },
          "metadata": {
            "needs_background": "light"
          }
        }
      ]
    },
    {
      "cell_type": "markdown",
      "source": [
        "## Avaliação do modelo no DataFrame Teste"
      ],
      "metadata": {
        "id": "3cnUakuhERsT"
      }
    },
    {
      "cell_type": "code",
      "source": [
        "df_test.info()"
      ],
      "metadata": {
        "colab": {
          "base_uri": "https://localhost:8080/"
        },
        "outputId": "2f429b4c-c2cc-426d-80e5-61bebd66fb32",
        "id": "-hLhpb5hERsT"
      },
      "execution_count": null,
      "outputs": [
        {
          "output_type": "stream",
          "name": "stdout",
          "text": [
            "<class 'pandas.core.frame.DataFrame'>\n",
            "Int64Index: 1500 entries, 1 to 9999\n",
            "Data columns (total 10 columns):\n",
            " #   Column                     Non-Null Count  Dtype  \n",
            "---  ------                     --------------  -----  \n",
            " 0   UDI                        1500 non-null   int64  \n",
            " 1   ID Produto                 1500 non-null   object \n",
            " 2   Tipo                       1500 non-null   int64  \n",
            " 3   Temperatura Ar [K]         1500 non-null   float64\n",
            " 4   Temperatura Processo [K]   1500 non-null   float64\n",
            " 5   Velocidade Rotacao [rpm]   1500 non-null   int64  \n",
            " 6   Torque [Nm]                1500 non-null   float64\n",
            " 7   Desgaste Ferramenta [min]  1500 non-null   int64  \n",
            " 8   Alvo                       1500 non-null   int64  \n",
            " 9   Tipo da Falha              1500 non-null   object \n",
            "dtypes: float64(3), int64(5), object(2)\n",
            "memory usage: 128.9+ KB\n"
          ]
        }
      ]
    },
    {
      "cell_type": "code",
      "source": [
        "y_test = df_test['Alvo']\n",
        "\n",
        "x_test = df_test[['Temperatura Ar [K]',\n",
        "    'Temperatura Processo [K]',\n",
        "    'Velocidade Rotacao [rpm]',\n",
        "    'Torque [Nm]',\n",
        "    'Desgaste Ferramenta [min]']]"
      ],
      "metadata": {
        "id": "Wd-teDcyERsU"
      },
      "execution_count": null,
      "outputs": []
    },
    {
      "cell_type": "code",
      "source": [
        "y_predict_test = mlp.predict(x_test)"
      ],
      "metadata": {
        "id": "cXsh-2a2ERsV"
      },
      "execution_count": null,
      "outputs": []
    },
    {
      "cell_type": "code",
      "source": [
        "print(\"Test accuracy: \", metrics.accuracy_score(y_test, y_predict_test))\n",
        "print(\"Test precision: \", metrics.average_precision_score(y_test, y_predict_test))\n",
        "print(\"Test recall: \", metrics.recall_score(y_test, y_predict_test))\n",
        "print(\"Test F1 score: \", metrics.f1_score(y_test, y_predict_test))\n",
        "print(\"Test curva ROC: \", metrics.roc_auc_score(y_test, y_predict_test))"
      ],
      "metadata": {
        "colab": {
          "base_uri": "https://localhost:8080/"
        },
        "outputId": "a7e9c3c0-1b17-4dc2-a710-ca17859650ca",
        "id": "MFF1rBPlERsV"
      },
      "execution_count": null,
      "outputs": [
        {
          "output_type": "stream",
          "name": "stdout",
          "text": [
            "Test accuracy:  0.9726666666666667\n",
            "Test precision:  0.05114285714285714\n",
            "Test recall:  0.023809523809523808\n",
            "Test F1 score:  0.046511627906976744\n",
            "Test curva ROC:  0.5119047619047619\n"
          ]
        }
      ]
    },
    {
      "cell_type": "code",
      "source": [
        "metrics.ConfusionMatrixDisplay.from_predictions(y_validation, y_predict_validation)"
      ],
      "metadata": {
        "colab": {
          "base_uri": "https://localhost:8080/",
          "height": 296
        },
        "id": "8AdjFaUwzEGy",
        "outputId": "29681aab-627f-4154-9755-f5d4c288e9ac"
      },
      "execution_count": null,
      "outputs": [
        {
          "output_type": "execute_result",
          "data": {
            "text/plain": [
              "<sklearn.metrics._plot.confusion_matrix.ConfusionMatrixDisplay at 0x7f3a9fcd51d0>"
            ]
          },
          "metadata": {},
          "execution_count": 87
        },
        {
          "output_type": "display_data",
          "data": {
            "text/plain": [
              "<Figure size 432x288 with 2 Axes>"
            ],
            "image/png": "[encoded data removed]"
          },
          "metadata": {
            "needs_background": "light"
          }
        }
      ]
    },
    {
      "cell_type": "markdown",
      "source": [
        "## Interpretabilidade do modelo"
      ],
      "metadata": {
        "id": "AX7OSmzAH9Ri"
      }
    },
    {
      "cell_type": "code",
      "source": [
        "explainer = shap.KernelExplainer(mlp.predict, x_train)\n",
        "shap_values = explainer.shap_values(x_validation)"
      ],
      "metadata": {
        "id": "jt0w0lIywZ8S"
      },
      "execution_count": null,
      "outputs": []
    },
    {
      "cell_type": "code",
      "source": [
        "shap.summary_plot(shap_values, x_validation, plot_type='violin')"
      ],
      "metadata": {
        "id": "UzBbccHN4bxI",
        "colab": {
          "base_uri": "https://localhost:8080/",
          "height": 261
        },
        "outputId": "ac0920e0-543f-4b68-f468-5e2b43ea18e7"
      },
      "execution_count": null,
      "outputs": [
        {
          "output_type": "display_data",
          "data": {
            "text/plain": [
              "<Figure size 576x252 with 2 Axes>"
            ],
            "image/png": "[encoded data removed]"
          },
          "metadata": {
            "needs_background": "light"
          }
        }
      ]
    },
    {
      "cell_type": "code",
      "source": [
        "shap.summary_plot(shap_values, x_validation)"
      ],
      "metadata": {
        "colab": {
          "base_uri": "https://localhost:8080/",
          "height": 261
        },
        "id": "LXs0CmuP7yz4",
        "outputId": "1308f029-af46-41e7-ac25-16d2b44dcb99"
      },
      "execution_count": null,
      "outputs": [
        {
          "output_type": "display_data",
          "data": {
            "text/plain": [
              "<Figure size 576x252 with 2 Axes>"
            ],
            "image/png": "[encoded data removed]"
          },
          "metadata": {
            "needs_background": "light"
          }
        }
      ]
    },
    {
      "cell_type": "markdown",
      "source": [
        "# Rede Neural MLP para Regressão"
      ],
      "metadata": {
        "id": "DL0DbUS3MMvn"
      }
    },
    {
      "cell_type": "markdown",
      "source": [
        "## Importando as bibliotecas"
      ],
      "metadata": {
        "id": "6AvKLLY1MMv6"
      }
    },
    {
      "cell_type": "code",
      "execution_count": null,
      "metadata": {
        "id": "qZOQcwJ3MMv9"
      },
      "outputs": [],
      "source": [
        "import matplotlib.pyplot as plt\n",
        "import numpy as np\n",
        "import pandas as pd\n",
        "import sklearn.metrics as metrics\n",
        "from sklearn.model_selection import train_test_split\n",
        "from sklearn.neural_network import MLPRegressor"
      ]
    },
    {
      "cell_type": "markdown",
      "source": [
        "## Utilizando a base de dados"
      ],
      "metadata": {
        "id": "JmOPrTXbMMv9"
      }
    },
    {
      "cell_type": "code",
      "source": [
        "dados = pd.read_csv('/content/predictive_maintenance.csv')"
      ],
      "metadata": {
        "id": "AsnsHWnjMMv_",
        "colab": {
          "base_uri": "https://localhost:8080/",
          "height": 364
        },
        "outputId": "37f237b8-c239-427c-d795-d5e9bde0bd81"
      },
      "execution_count": null,
      "outputs": [
        {
          "output_type": "error",
          "ename": "FileNotFoundError",
          "evalue": "ignored",
          "traceback": [
            "\u001b[0;31m---------------------------------------------------------------------------\u001b[0m",
            "\u001b[0;31mFileNotFoundError\u001b[0m                         Traceback (most recent call last)",
            "\u001b[0;32m<ipython-input-4-212a3921ef7b>\u001b[0m in \u001b[0;36m<module>\u001b[0;34m\u001b[0m\n\u001b[0;32m----> 1\u001b[0;31m \u001b[0mdados\u001b[0m \u001b[0;34m=\u001b[0m \u001b[0mpd\u001b[0m\u001b[0;34m.\u001b[0m\u001b[0mread_csv\u001b[0m\u001b[0;34m(\u001b[0m\u001b[0;34m'/content/predictive_maintenance.csv'\u001b[0m\u001b[0;34m)\u001b[0m\u001b[0;34m\u001b[0m\u001b[0;34m\u001b[0m\u001b[0m\n\u001b[0m",
            "\u001b[0;32m/usr/local/lib/python3.7/dist-packages/pandas/util/_decorators.py\u001b[0m in \u001b[0;36mwrapper\u001b[0;34m(*args, **kwargs)\u001b[0m\n\u001b[1;32m    309\u001b[0m                     \u001b[0mstacklevel\u001b[0m\u001b[0;34m=\u001b[0m\u001b[0mstacklevel\u001b[0m\u001b[0;34m,\u001b[0m\u001b[0;34m\u001b[0m\u001b[0;34m\u001b[0m\u001b[0m\n\u001b[1;32m    310\u001b[0m                 )\n\u001b[0;32m--> 311\u001b[0;31m             \u001b[0;32mreturn\u001b[0m \u001b[0mfunc\u001b[0m\u001b[0;34m(\u001b[0m\u001b[0;34m*\u001b[0m\u001b[0margs\u001b[0m\u001b[0;34m,\u001b[0m \u001b[0;34m**\u001b[0m\u001b[0mkwargs\u001b[0m\u001b[0;34m)\u001b[0m\u001b[0;34m\u001b[0m\u001b[0;34m\u001b[0m\u001b[0m\n\u001b[0m\u001b[1;32m    312\u001b[0m \u001b[0;34m\u001b[0m\u001b[0m\n\u001b[1;32m    313\u001b[0m         \u001b[0;32mreturn\u001b[0m \u001b[0mwrapper\u001b[0m\u001b[0;34m\u001b[0m\u001b[0;34m\u001b[0m\u001b[0m\n",
            "\u001b[0;32m/usr/local/lib/python3.7/dist-packages/pandas/io/parsers/readers.py\u001b[0m in \u001b[0;36mread_csv\u001b[0;34m(filepath_or_buffer, sep, delimiter, header, names, index_col, usecols, squeeze, prefix, mangle_dupe_cols, dtype, engine, converters, true_values, false_values, skipinitialspace, skiprows, skipfooter, nrows, na_values, keep_default_na, na_filter, verbose, skip_blank_lines, parse_dates, infer_datetime_format, keep_date_col, date_parser, dayfirst, cache_dates, iterator, chunksize, compression, thousands, decimal, lineterminator, quotechar, quoting, doublequote, escapechar, comment, encoding, encoding_errors, dialect, error_bad_lines, warn_bad_lines, on_bad_lines, delim_whitespace, low_memory, memory_map, float_precision, storage_options)\u001b[0m\n\u001b[1;32m    584\u001b[0m     \u001b[0mkwds\u001b[0m\u001b[0;34m.\u001b[0m\u001b[0mupdate\u001b[0m\u001b[0;34m(\u001b[0m\u001b[0mkwds_defaults\u001b[0m\u001b[0;34m)\u001b[0m\u001b[0;34m\u001b[0m\u001b[0;34m\u001b[0m\u001b[0m\n\u001b[1;32m    585\u001b[0m \u001b[0;34m\u001b[0m\u001b[0m\n\u001b[0;32m--> 586\u001b[0;31m     \u001b[0;32mreturn\u001b[0m \u001b[0m_read\u001b[0m\u001b[0;34m(\u001b[0m\u001b[0mfilepath_or_buffer\u001b[0m\u001b[0;34m,\u001b[0m \u001b[0mkwds\u001b[0m\u001b[0;34m)\u001b[0m\u001b[0;34m\u001b[0m\u001b[0;34m\u001b[0m\u001b[0m\n\u001b[0m\u001b[1;32m    587\u001b[0m \u001b[0;34m\u001b[0m\u001b[0m\n\u001b[1;32m    588\u001b[0m \u001b[0;34m\u001b[0m\u001b[0m\n",
            "\u001b[0;32m/usr/local/lib/python3.7/dist-packages/pandas/io/parsers/readers.py\u001b[0m in \u001b[0;36m_read\u001b[0;34m(filepath_or_buffer, kwds)\u001b[0m\n\u001b[1;32m    480\u001b[0m \u001b[0;34m\u001b[0m\u001b[0m\n\u001b[1;32m    481\u001b[0m     \u001b[0;31m# Create the parser.\u001b[0m\u001b[0;34m\u001b[0m\u001b[0;34m\u001b[0m\u001b[0;34m\u001b[0m\u001b[0m\n\u001b[0;32m--> 482\u001b[0;31m     \u001b[0mparser\u001b[0m \u001b[0;34m=\u001b[0m \u001b[0mTextFileReader\u001b[0m\u001b[0;34m(\u001b[0m\u001b[0mfilepath_or_buffer\u001b[0m\u001b[0;34m,\u001b[0m \u001b[0;34m**\u001b[0m\u001b[0mkwds\u001b[0m\u001b[0;34m)\u001b[0m\u001b[0;34m\u001b[0m\u001b[0;34m\u001b[0m\u001b[0m\n\u001b[0m\u001b[1;32m    483\u001b[0m \u001b[0;34m\u001b[0m\u001b[0m\n\u001b[1;32m    484\u001b[0m     \u001b[0;32mif\u001b[0m \u001b[0mchunksize\u001b[0m \u001b[0;32mor\u001b[0m \u001b[0miterator\u001b[0m\u001b[0;34m:\u001b[0m\u001b[0;34m\u001b[0m\u001b[0;34m\u001b[0m\u001b[0m\n",
            "\u001b[0;32m/usr/local/lib/python3.7/dist-packages/pandas/io/parsers/readers.py\u001b[0m in \u001b[0;36m__init__\u001b[0;34m(self, f, engine, **kwds)\u001b[0m\n\u001b[1;32m    809\u001b[0m             \u001b[0mself\u001b[0m\u001b[0;34m.\u001b[0m\u001b[0moptions\u001b[0m\u001b[0;34m[\u001b[0m\u001b[0;34m\"has_index_names\"\u001b[0m\u001b[0;34m]\u001b[0m \u001b[0;34m=\u001b[0m \u001b[0mkwds\u001b[0m\u001b[0;34m[\u001b[0m\u001b[0;34m\"has_index_names\"\u001b[0m\u001b[0;34m]\u001b[0m\u001b[0;34m\u001b[0m\u001b[0;34m\u001b[0m\u001b[0m\n\u001b[1;32m    810\u001b[0m \u001b[0;34m\u001b[0m\u001b[0m\n\u001b[0;32m--> 811\u001b[0;31m         \u001b[0mself\u001b[0m\u001b[0;34m.\u001b[0m\u001b[0m_engine\u001b[0m \u001b[0;34m=\u001b[0m \u001b[0mself\u001b[0m\u001b[0;34m.\u001b[0m\u001b[0m_make_engine\u001b[0m\u001b[0;34m(\u001b[0m\u001b[0mself\u001b[0m\u001b[0;34m.\u001b[0m\u001b[0mengine\u001b[0m\u001b[0;34m)\u001b[0m\u001b[0;34m\u001b[0m\u001b[0;34m\u001b[0m\u001b[0m\n\u001b[0m\u001b[1;32m    812\u001b[0m \u001b[0;34m\u001b[0m\u001b[0m\n\u001b[1;32m    813\u001b[0m     \u001b[0;32mdef\u001b[0m \u001b[0mclose\u001b[0m\u001b[0;34m(\u001b[0m\u001b[0mself\u001b[0m\u001b[0;34m)\u001b[0m\u001b[0;34m:\u001b[0m\u001b[0;34m\u001b[0m\u001b[0;34m\u001b[0m\u001b[0m\n",
            "\u001b[0;32m/usr/local/lib/python3.7/dist-packages/pandas/io/parsers/readers.py\u001b[0m in \u001b[0;36m_make_engine\u001b[0;34m(self, engine)\u001b[0m\n\u001b[1;32m   1038\u001b[0m             )\n\u001b[1;32m   1039\u001b[0m         \u001b[0;31m# error: Too many arguments for \"ParserBase\"\u001b[0m\u001b[0;34m\u001b[0m\u001b[0;34m\u001b[0m\u001b[0;34m\u001b[0m\u001b[0m\n\u001b[0;32m-> 1040\u001b[0;31m         \u001b[0;32mreturn\u001b[0m \u001b[0mmapping\u001b[0m\u001b[0;34m[\u001b[0m\u001b[0mengine\u001b[0m\u001b[0;34m]\u001b[0m\u001b[0;34m(\u001b[0m\u001b[0mself\u001b[0m\u001b[0;34m.\u001b[0m\u001b[0mf\u001b[0m\u001b[0;34m,\u001b[0m \u001b[0;34m**\u001b[0m\u001b[0mself\u001b[0m\u001b[0;34m.\u001b[0m\u001b[0moptions\u001b[0m\u001b[0;34m)\u001b[0m  \u001b[0;31m# type: ignore[call-arg]\u001b[0m\u001b[0;34m\u001b[0m\u001b[0;34m\u001b[0m\u001b[0m\n\u001b[0m\u001b[1;32m   1041\u001b[0m \u001b[0;34m\u001b[0m\u001b[0m\n\u001b[1;32m   1042\u001b[0m     \u001b[0;32mdef\u001b[0m \u001b[0m_failover_to_python\u001b[0m\u001b[0;34m(\u001b[0m\u001b[0mself\u001b[0m\u001b[0;34m)\u001b[0m\u001b[0;34m:\u001b[0m\u001b[0;34m\u001b[0m\u001b[0;34m\u001b[0m\u001b[0m\n",
            "\u001b[0;32m/usr/local/lib/python3.7/dist-packages/pandas/io/parsers/c_parser_wrapper.py\u001b[0m in \u001b[0;36m__init__\u001b[0;34m(self, src, **kwds)\u001b[0m\n\u001b[1;32m     49\u001b[0m \u001b[0;34m\u001b[0m\u001b[0m\n\u001b[1;32m     50\u001b[0m         \u001b[0;31m# open handles\u001b[0m\u001b[0;34m\u001b[0m\u001b[0;34m\u001b[0m\u001b[0;34m\u001b[0m\u001b[0m\n\u001b[0;32m---> 51\u001b[0;31m         \u001b[0mself\u001b[0m\u001b[0;34m.\u001b[0m\u001b[0m_open_handles\u001b[0m\u001b[0;34m(\u001b[0m\u001b[0msrc\u001b[0m\u001b[0;34m,\u001b[0m \u001b[0mkwds\u001b[0m\u001b[0;34m)\u001b[0m\u001b[0;34m\u001b[0m\u001b[0;34m\u001b[0m\u001b[0m\n\u001b[0m\u001b[1;32m     52\u001b[0m         \u001b[0;32massert\u001b[0m \u001b[0mself\u001b[0m\u001b[0;34m.\u001b[0m\u001b[0mhandles\u001b[0m \u001b[0;32mis\u001b[0m \u001b[0;32mnot\u001b[0m \u001b[0;32mNone\u001b[0m\u001b[0;34m\u001b[0m\u001b[0;34m\u001b[0m\u001b[0m\n\u001b[1;32m     53\u001b[0m \u001b[0;34m\u001b[0m\u001b[0m\n",
            "\u001b[0;32m/usr/local/lib/python3.7/dist-packages/pandas/io/parsers/base_parser.py\u001b[0m in \u001b[0;36m_open_handles\u001b[0;34m(self, src, kwds)\u001b[0m\n\u001b[1;32m    227\u001b[0m             \u001b[0mmemory_map\u001b[0m\u001b[0;34m=\u001b[0m\u001b[0mkwds\u001b[0m\u001b[0;34m.\u001b[0m\u001b[0mget\u001b[0m\u001b[0;34m(\u001b[0m\u001b[0;34m\"memory_map\"\u001b[0m\u001b[0;34m,\u001b[0m \u001b[0;32mFalse\u001b[0m\u001b[0;34m)\u001b[0m\u001b[0;34m,\u001b[0m\u001b[0;34m\u001b[0m\u001b[0;34m\u001b[0m\u001b[0m\n\u001b[1;32m    228\u001b[0m             \u001b[0mstorage_options\u001b[0m\u001b[0;34m=\u001b[0m\u001b[0mkwds\u001b[0m\u001b[0;34m.\u001b[0m\u001b[0mget\u001b[0m\u001b[0;34m(\u001b[0m\u001b[0;34m\"storage_options\"\u001b[0m\u001b[0;34m,\u001b[0m \u001b[0;32mNone\u001b[0m\u001b[0;34m)\u001b[0m\u001b[0;34m,\u001b[0m\u001b[0;34m\u001b[0m\u001b[0;34m\u001b[0m\u001b[0m\n\u001b[0;32m--> 229\u001b[0;31m             \u001b[0merrors\u001b[0m\u001b[0;34m=\u001b[0m\u001b[0mkwds\u001b[0m\u001b[0;34m.\u001b[0m\u001b[0mget\u001b[0m\u001b[0;34m(\u001b[0m\u001b[0;34m\"encoding_errors\"\u001b[0m\u001b[0;34m,\u001b[0m \u001b[0;34m\"strict\"\u001b[0m\u001b[0;34m)\u001b[0m\u001b[0;34m,\u001b[0m\u001b[0;34m\u001b[0m\u001b[0;34m\u001b[0m\u001b[0m\n\u001b[0m\u001b[1;32m    230\u001b[0m         )\n\u001b[1;32m    231\u001b[0m \u001b[0;34m\u001b[0m\u001b[0m\n",
            "\u001b[0;32m/usr/local/lib/python3.7/dist-packages/pandas/io/common.py\u001b[0m in \u001b[0;36mget_handle\u001b[0;34m(path_or_buf, mode, encoding, compression, memory_map, is_text, errors, storage_options)\u001b[0m\n\u001b[1;32m    705\u001b[0m                 \u001b[0mencoding\u001b[0m\u001b[0;34m=\u001b[0m\u001b[0mioargs\u001b[0m\u001b[0;34m.\u001b[0m\u001b[0mencoding\u001b[0m\u001b[0;34m,\u001b[0m\u001b[0;34m\u001b[0m\u001b[0;34m\u001b[0m\u001b[0m\n\u001b[1;32m    706\u001b[0m                 \u001b[0merrors\u001b[0m\u001b[0;34m=\u001b[0m\u001b[0merrors\u001b[0m\u001b[0;34m,\u001b[0m\u001b[0;34m\u001b[0m\u001b[0;34m\u001b[0m\u001b[0m\n\u001b[0;32m--> 707\u001b[0;31m                 \u001b[0mnewline\u001b[0m\u001b[0;34m=\u001b[0m\u001b[0;34m\"\"\u001b[0m\u001b[0;34m,\u001b[0m\u001b[0;34m\u001b[0m\u001b[0;34m\u001b[0m\u001b[0m\n\u001b[0m\u001b[1;32m    708\u001b[0m             )\n\u001b[1;32m    709\u001b[0m         \u001b[0;32melse\u001b[0m\u001b[0;34m:\u001b[0m\u001b[0;34m\u001b[0m\u001b[0;34m\u001b[0m\u001b[0m\n",
            "\u001b[0;31mFileNotFoundError\u001b[0m: [Errno 2] No such file or directory: '/content/predictive_maintenance.csv'"
          ]
        }
      ]
    },
    {
      "cell_type": "code",
      "source": [
        "dados.head()"
      ],
      "metadata": {
        "colab": {
          "base_uri": "https://localhost:8080/",
          "height": 372
        },
        "outputId": "25b57237-7004-4ba2-e392-dc9b36533c19",
        "id": "75u3oTVNMMwA"
      },
      "execution_count": null,
      "outputs": [
        {
          "output_type": "execute_result",
          "data": {
            "text/plain": [
              "   UDI ID Produto Tipo  Temperatura Ar [K]  Temperatura Processo [K]  \\\n",
              "0    1     M14860    M               298.1                     308.6   \n",
              "1    2     L47181    L               298.2                     308.7   \n",
              "2    3     L47182    L               298.1                     308.5   \n",
              "3    4     L47183    L               298.2                     308.6   \n",
              "4    5     L47184    L               298.2                     308.7   \n",
              "\n",
              "   Velocidade Rotacao [rpm]  Torque [Nm]  Desgaste Ferramenta [min]  Alvo  \\\n",
              "0                      1551         42.8                          0     0   \n",
              "1                      1408         46.3                          3     0   \n",
              "2                      1498         49.4                          5     0   \n",
              "3                      1433         39.5                          7     0   \n",
              "4                      1408         40.0                          9     0   \n",
              "\n",
              "  Tipo da Falha  \n",
              "0    No Failure  \n",
              "1    No Failure  \n",
              "2    No Failure  \n",
              "3    No Failure  \n",
              "4    No Failure  "
            ],
            "text/html": [
              "\n",
              "  <div id=\"df-27a65470-94a0-43a5-86a7-9a69a251496c\">\n",
              "    <div class=\"colab-df-container\">\n",
              "      <div>\n",
              "<style scoped>\n",
              "    .dataframe tbody tr th:only-of-type {\n",
              "        vertical-align: middle;\n",
              "    }\n",
              "\n",
              "    .dataframe tbody tr th {\n",
              "        vertical-align: top;\n",
              "    }\n",
              "\n",
              "    .dataframe thead th {\n",
              "        text-align: right;\n",
              "    }\n",
              "</style>\n",
              "<table border=\"1\" class=\"dataframe\">\n",
              "  <thead>\n",
              "    <tr style=\"text-align: right;\">\n",
              "      <th></th>\n",
              "      <th>UDI</th>\n",
              "      <th>ID Produto</th>\n",
              "      <th>Tipo</th>\n",
              "      <th>Temperatura Ar [K]</th>\n",
              "      <th>Temperatura Processo [K]</th>\n",
              "      <th>Velocidade Rotacao [rpm]</th>\n",
              "      <th>Torque [Nm]</th>\n",
              "      <th>Desgaste Ferramenta [min]</th>\n",
              "      <th>Alvo</th>\n",
              "      <th>Tipo da Falha</th>\n",
              "    </tr>\n",
              "  </thead>\n",
              "  <tbody>\n",
              "    <tr>\n",
              "      <th>0</th>\n",
              "      <td>1</td>\n",
              "      <td>M14860</td>\n",
              "      <td>M</td>\n",
              "      <td>298.1</td>\n",
              "      <td>308.6</td>\n",
              "      <td>1551</td>\n",
              "      <td>42.8</td>\n",
              "      <td>0</td>\n",
              "      <td>0</td>\n",
              "      <td>No Failure</td>\n",
              "    </tr>\n",
              "    <tr>\n",
              "      <th>1</th>\n",
              "      <td>2</td>\n",
              "      <td>L47181</td>\n",
              "      <td>L</td>\n",
              "      <td>298.2</td>\n",
              "      <td>308.7</td>\n",
              "      <td>1408</td>\n",
              "      <td>46.3</td>\n",
              "      <td>3</td>\n",
              "      <td>0</td>\n",
              "      <td>No Failure</td>\n",
              "    </tr>\n",
              "    <tr>\n",
              "      <th>2</th>\n",
              "      <td>3</td>\n",
              "      <td>L47182</td>\n",
              "      <td>L</td>\n",
              "      <td>298.1</td>\n",
              "      <td>308.5</td>\n",
              "      <td>1498</td>\n",
              "      <td>49.4</td>\n",
              "      <td>5</td>\n",
              "      <td>0</td>\n",
              "      <td>No Failure</td>\n",
              "    </tr>\n",
              "    <tr>\n",
              "      <th>3</th>\n",
              "      <td>4</td>\n",
              "      <td>L47183</td>\n",
              "      <td>L</td>\n",
              "      <td>298.2</td>\n",
              "      <td>308.6</td>\n",
              "      <td>1433</td>\n",
              "      <td>39.5</td>\n",
              "      <td>7</td>\n",
              "      <td>0</td>\n",
              "      <td>No Failure</td>\n",
              "    </tr>\n",
              "    <tr>\n",
              "      <th>4</th>\n",
              "      <td>5</td>\n",
              "      <td>L47184</td>\n",
              "      <td>L</td>\n",
              "      <td>298.2</td>\n",
              "      <td>308.7</td>\n",
              "      <td>1408</td>\n",
              "      <td>40.0</td>\n",
              "      <td>9</td>\n",
              "      <td>0</td>\n",
              "      <td>No Failure</td>\n",
              "    </tr>\n",
              "  </tbody>\n",
              "</table>\n",
              "</div>\n",
              "      <button class=\"colab-df-convert\" onclick=\"convertToInteractive('df-27a65470-94a0-43a5-86a7-9a69a251496c')\"\n",
              "              title=\"Convert this dataframe to an interactive table.\"\n",
              "              style=\"display:none;\">\n",
              "        \n",
              "  <svg xmlns=\"http://www.w3.org/2000/svg\" height=\"24px\"viewBox=\"0 0 24 24\"\n",
              "       width=\"24px\">\n",
              "    <path d=\"M0 0h24v24H0V0z\" fill=\"none\"/>\n",
              "    <path d=\"M18.56 5.44l.94 2.06.94-2.06 2.06-.94-2.06-.94-.94-2.06-.94 2.06-2.06.94zm-11 1L8.5 8.5l.94-2.06 2.06-.94-2.06-.94L8.5 2.5l-.94 2.06-2.06.94zm10 10l.94 2.06.94-2.06 2.06-.94-2.06-.94-.94-2.06-.94 2.06-2.06.94z\"/><path d=\"M17.41 7.96l-1.37-1.37c-.4-.4-.92-.59-1.43-.59-.52 0-1.04.2-1.43.59L10.3 9.45l-7.72 7.72c-.78.78-.78 2.05 0 2.83L4 21.41c.39.39.9.59 1.41.59.51 0 1.02-.2 1.41-.59l7.78-7.78 2.81-2.81c.8-.78.8-2.07 0-2.86zM5.41 20L4 18.59l7.72-7.72 1.47 1.35L5.41 20z\"/>\n",
              "  </svg>\n",
              "      </button>\n",
              "      \n",
              "  <style>\n",
              "    .colab-df-container {\n",
              "      display:flex;\n",
              "      flex-wrap:wrap;\n",
              "      gap: 12px;\n",
              "    }\n",
              "\n",
              "    .colab-df-convert {\n",
              "      background-color: #E8F0FE;\n",
              "      border: none;\n",
              "      border-radius: 50%;\n",
              "      cursor: pointer;\n",
              "      display: none;\n",
              "      fill: #1967D2;\n",
              "      height: 32px;\n",
              "      padding: 0 0 0 0;\n",
              "      width: 32px;\n",
              "    }\n",
              "\n",
              "    .colab-df-convert:hover {\n",
              "      background-color: #E2EBFA;\n",
              "      box-shadow: 0px 1px 2px rgba(60, 64, 67, 0.3), 0px 1px 3px 1px rgba(60, 64, 67, 0.15);\n",
              "      fill: #174EA6;\n",
              "    }\n",
              "\n",
              "    [theme=dark] .colab-df-convert {\n",
              "      background-color: #3B4455;\n",
              "      fill: #D2E3FC;\n",
              "    }\n",
              "\n",
              "    [theme=dark] .colab-df-convert:hover {\n",
              "      background-color: #434B5C;\n",
              "      box-shadow: 0px 1px 3px 1px rgba(0, 0, 0, 0.15);\n",
              "      filter: drop-shadow(0px 1px 2px rgba(0, 0, 0, 0.3));\n",
              "      fill: #FFFFFF;\n",
              "    }\n",
              "  </style>\n",
              "\n",
              "      <script>\n",
              "        const buttonEl =\n",
              "          document.querySelector('#df-27a65470-94a0-43a5-86a7-9a69a251496c button.colab-df-convert');\n",
              "        buttonEl.style.display =\n",
              "          google.colab.kernel.accessAllowed ? 'block' : 'none';\n",
              "\n",
              "        async function convertToInteractive(key) {\n",
              "          const element = document.querySelector('#df-27a65470-94a0-43a5-86a7-9a69a251496c');\n",
              "          const dataTable =\n",
              "            await google.colab.kernel.invokeFunction('convertToInteractive',\n",
              "                                                     [key], {});\n",
              "          if (!dataTable) return;\n",
              "\n",
              "          const docLinkHtml = 'Like what you see? Visit the ' +\n",
              "            '<a target=\"_blank\" href=https://colab.research.google.com/notebooks/data_table.ipynb>data table notebook</a>'\n",
              "            + ' to learn more about interactive tables.';\n",
              "          element.innerHTML = '';\n",
              "          dataTable['output_type'] = 'display_data';\n",
              "          await google.colab.output.renderOutput(dataTable, element);\n",
              "          const docLink = document.createElement('div');\n",
              "          docLink.innerHTML = docLinkHtml;\n",
              "          element.appendChild(docLink);\n",
              "        }\n",
              "      </script>\n",
              "    </div>\n",
              "  </div>\n",
              "  "
            ]
          },
          "metadata": {},
          "execution_count": 3
        }
      ]
    },
    {
      "cell_type": "markdown",
      "source": [
        "## Análise Exploratória dos dados"
      ],
      "metadata": {
        "id": "iIt4NHAGMMwA"
      }
    },
    {
      "cell_type": "code",
      "source": [
        "x = dados['UDI']\n",
        "y = dados['Temperatura Processo [K]']"
      ],
      "metadata": {
        "id": "b7TNLfFqMMwC"
      },
      "execution_count": null,
      "outputs": []
    },
    {
      "cell_type": "code",
      "source": [
        "plt.plot(x, y)\n",
        "plt.xlabel('Amostras')\n",
        "plt.ylabel('Temperatura Processo [K]')\n",
        "plt.title('Registros da Temperatura Processo [K]')\n",
        "plt.show()"
      ],
      "metadata": {
        "colab": {
          "base_uri": "https://localhost:8080/",
          "height": 295
        },
        "outputId": "f5932399-ddb8-4504-afcf-0bdbc45caab0",
        "id": "gZu7IPtBMMwE"
      },
      "execution_count": null,
      "outputs": [
        {
          "output_type": "display_data",
          "data": {
            "text/plain": [
              "<Figure size 432x288 with 1 Axes>"
            ],
            "image/png": "[encoded data removed]"
          },
          "metadata": {
            "needs_background": "light"
          }
        }
      ]
    },
    {
      "cell_type": "markdown",
      "source": [
        "## Modelagem usando rede neural MLP"
      ],
      "metadata": {
        "id": "wn-15qaNMMwa"
      }
    },
    {
      "cell_type": "code",
      "source": [
        "# Parametrizando dos dados de entrada e saida\n",
        "y = dados['Temperatura Processo [K]']\n",
        "\n",
        "x = dados[['Temperatura Ar [K]',\n",
        "        'Velocidade Rotacao [rpm]',\n",
        "        'Torque [Nm]',\n",
        "        'Desgaste Ferramenta [min]']]"
      ],
      "metadata": {
        "id": "bfPeuRYyMMwb"
      },
      "execution_count": null,
      "outputs": []
    },
    {
      "cell_type": "code",
      "source": [
        "# Separando os dados para treino e para teste\n",
        "x_train, x_test, y_train, y_test = train_test_split(x, y, test_size=0.30)"
      ],
      "metadata": {
        "id": "FLC8yEtXMMwb"
      },
      "execution_count": null,
      "outputs": []
    },
    {
      "cell_type": "code",
      "source": [
        "# Parametrizando a rede neural\n",
        "mlp = MLPRegressor(hidden_layer_sizes=(100, 50), max_iter=100, activation='relu', solver='adam', random_state=1, verbose=True)"
      ],
      "metadata": {
        "id": "fMd7EZizMMwc"
      },
      "execution_count": null,
      "outputs": []
    },
    {
      "cell_type": "code",
      "source": [
        "# Treinando a rede neural\n",
        "mlp.fit(x_train, y_train)"
      ],
      "metadata": {
        "colab": {
          "base_uri": "https://localhost:8080/"
        },
        "outputId": "a8d5928b-44fe-4fc5-e3cf-a4fe6285f350",
        "id": "r_SKwUyEMMwc"
      },
      "execution_count": null,
      "outputs": [
        {
          "output_type": "stream",
          "name": "stdout",
          "text": [
            "Iteration 1, loss = 16850.55771845\n",
            "Iteration 2, loss = 843.36763162\n",
            "Iteration 3, loss = 459.74076487\n",
            "Iteration 4, loss = 318.34487879\n",
            "Iteration 5, loss = 187.70477506\n",
            "Iteration 6, loss = 89.55489325\n",
            "Iteration 7, loss = 30.37839558\n",
            "Iteration 8, loss = 11.82215312\n",
            "Iteration 9, loss = 9.09296739\n",
            "Iteration 10, loss = 8.24797841\n",
            "Iteration 11, loss = 8.05473256\n",
            "Iteration 12, loss = 7.29259554\n",
            "Iteration 13, loss = 6.70289230\n",
            "Iteration 14, loss = 6.35195274\n",
            "Iteration 15, loss = 5.96524666\n",
            "Iteration 16, loss = 5.80610495\n",
            "Iteration 17, loss = 5.45156448\n",
            "Iteration 18, loss = 5.15153616\n",
            "Iteration 19, loss = 4.60904758\n",
            "Iteration 20, loss = 4.28045136\n",
            "Iteration 21, loss = 4.17575822\n",
            "Iteration 22, loss = 3.67204720\n",
            "Iteration 23, loss = 3.28863575\n",
            "Iteration 24, loss = 3.08734894\n",
            "Iteration 25, loss = 2.93775327\n",
            "Iteration 26, loss = 2.72549107\n",
            "Iteration 27, loss = 2.17792813\n",
            "Iteration 28, loss = 1.90115381\n",
            "Iteration 29, loss = 1.88809764\n",
            "Iteration 30, loss = 1.59609948\n",
            "Iteration 31, loss = 1.45376175\n",
            "Iteration 32, loss = 1.25062742\n",
            "Iteration 33, loss = 1.16962964\n",
            "Iteration 34, loss = 1.09224947\n",
            "Iteration 35, loss = 1.03220830\n",
            "Iteration 36, loss = 1.00002013\n",
            "Iteration 37, loss = 0.98506495\n",
            "Iteration 38, loss = 0.85191541\n",
            "Iteration 39, loss = 0.90395757\n",
            "Iteration 40, loss = 0.82439986\n",
            "Iteration 41, loss = 0.81958219\n",
            "Iteration 42, loss = 0.74858542\n",
            "Iteration 43, loss = 0.77489243\n",
            "Iteration 44, loss = 0.74551680\n",
            "Iteration 45, loss = 0.68987019\n",
            "Iteration 46, loss = 0.67948741\n",
            "Iteration 47, loss = 0.67358580\n",
            "Iteration 48, loss = 0.69660887\n",
            "Iteration 49, loss = 0.65269934\n",
            "Iteration 50, loss = 0.64105729\n",
            "Iteration 51, loss = 0.67354338\n",
            "Iteration 52, loss = 0.71273813\n",
            "Iteration 53, loss = 1.10623443\n",
            "Iteration 54, loss = 0.61163325\n",
            "Iteration 55, loss = 0.61566972\n",
            "Iteration 56, loss = 0.66312176\n",
            "Iteration 57, loss = 0.62367775\n",
            "Iteration 58, loss = 0.62649012\n",
            "Iteration 59, loss = 0.70260714\n",
            "Iteration 60, loss = 0.68467679\n",
            "Iteration 61, loss = 0.69211311\n",
            "Iteration 62, loss = 0.59122880\n",
            "Iteration 63, loss = 0.60171385\n",
            "Iteration 64, loss = 0.67709520\n",
            "Iteration 65, loss = 0.78683993\n",
            "Iteration 66, loss = 0.63678774\n",
            "Iteration 67, loss = 0.66150018\n",
            "Iteration 68, loss = 0.61222414\n",
            "Iteration 69, loss = 0.64024898\n",
            "Iteration 70, loss = 0.70500860\n",
            "Iteration 71, loss = 0.66273488\n",
            "Iteration 72, loss = 0.62894066\n",
            "Iteration 73, loss = 0.80983170\n",
            "Training loss did not improve more than tol=0.000100 for 10 consecutive epochs. Stopping.\n"
          ]
        },
        {
          "output_type": "execute_result",
          "data": {
            "text/plain": [
              "MLPRegressor(hidden_layer_sizes=(100, 50), max_iter=100, random_state=1,\n",
              "             verbose=True)"
            ]
          },
          "metadata": {},
          "execution_count": 50
        }
      ]
    },
    {
      "cell_type": "code",
      "source": [
        "y_pred_test = mlp.predict(x_test)\n",
        "y_pred_train = mlp.predict(x_train)"
      ],
      "metadata": {
        "id": "GnHL5XBcMMwd"
      },
      "execution_count": null,
      "outputs": []
    },
    {
      "cell_type": "code",
      "source": [
        "y_pred_test = pd.Series(y_pred_test)\n",
        "y_pred_train = pd.Series(y_pred_train)"
      ],
      "metadata": {
        "id": "S6vQZZcUxHU1"
      },
      "execution_count": null,
      "outputs": []
    },
    {
      "cell_type": "code",
      "source": [
        "# Preparação dos dados para plotagem\n",
        "xt = list(range(3000))"
      ],
      "metadata": {
        "id": "JZomok3mMMwi"
      },
      "execution_count": null,
      "outputs": []
    },
    {
      "cell_type": "code",
      "source": [
        "# Plotando os gráficos\n",
        "plt.plot(xt, y_test, xt, y_pred_test)\n",
        "plt.legend(('Teste', 'Previsão'))\n",
        "plt.show()"
      ],
      "metadata": {
        "colab": {
          "base_uri": "https://localhost:8080/",
          "height": 265
        },
        "outputId": "f3c1d1d1-e1ea-42f1-b4f0-871ed11ad689",
        "id": "jqFMAJGjMMwi"
      },
      "execution_count": null,
      "outputs": [
        {
          "output_type": "display_data",
          "data": {
            "text/plain": [
              "<Figure size 432x288 with 1 Axes>"
            ],
            "image/png": "[encoded data removed]"
          },
          "metadata": {
            "needs_background": "light"
          }
        }
      ]
    },
    {
      "cell_type": "code",
      "source": [
        "# Plotando os gráficos\n",
        "plt.plot(xt, y_test)\n",
        "plt.show()"
      ],
      "metadata": {
        "colab": {
          "base_uri": "https://localhost:8080/",
          "height": 265
        },
        "outputId": "bccebc50-f5bf-43c4-9385-f0402d294464",
        "id": "XqQFsPT6MMwk"
      },
      "execution_count": null,
      "outputs": [
        {
          "output_type": "display_data",
          "data": {
            "text/plain": [
              "<Figure size 432x288 with 1 Axes>"
            ],
            "image/png": "[encoded data removed]"
          },
          "metadata": {
            "needs_background": "light"
          }
        }
      ]
    },
    {
      "cell_type": "code",
      "source": [
        "print('Test MAE score: ', metrics.mean_absolute_error(y_test, y_pred_test))\n",
        "print('Test MSE score: ', metrics.mean_squared_error(y_test, y_pred_test))\n",
        "print('Test RMSE score com parâmetros: ', metrics.mean_squared_error(y_test, y_pred_test, squared=False))\n",
        "print('Test RMSE score com numpy: ', np.sqrt(metrics.mean_squared_error(y_test, y_pred_test)))\n",
        "print('Test R2 score: ', metrics.r2_score(y_test, y_pred_test))"
      ],
      "metadata": {
        "colab": {
          "base_uri": "https://localhost:8080/"
        },
        "id": "TlOAEhvHzZL2",
        "outputId": "b5c5e2ef-29cf-4f66-cfcf-dab6d1ad5cd3"
      },
      "execution_count": null,
      "outputs": [
        {
          "output_type": "stream",
          "name": "stdout",
          "text": [
            "Test MAE score:  0.9184852401137523\n",
            "Test MSE score:  1.2287703103695773\n",
            "Test RMSE score com parâmetros:  1.1084991251099738\n",
            "Test RMSE score com numpy:  1.1084991251099738\n",
            "Test R2 score:  0.4510938050419687\n"
          ]
        }
      ]
    }
  ]
}