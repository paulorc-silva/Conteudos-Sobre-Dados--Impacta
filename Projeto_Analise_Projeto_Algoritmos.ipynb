{
  "nbformat": 4,
  "nbformat_minor": 0,
  "metadata": {
    "colab": {
      "provenance": [],
      "collapsed_sections": [
        "lkq0A_rO5jMY"
      ],
      "include_colab_link": true
    },
    "kernelspec": {
      "name": "python3",
      "display_name": "Python 3"
    },
    "language_info": {
      "name": "python"
    }
  },
  "cells": [
    {
      "cell_type": "markdown",
      "metadata": {
        "id": "view-in-github",
        "colab_type": "text"
      },
      "source": [
        "<a href=\"https://colab.research.google.com/github/paulorc-silva/Conteudos-Sobre-Dados--Impacta/blob/master/Projeto_Analise_Projeto_Algoritmos.ipynb\" target=\"_parent\"><img src=\"https://colab.research.google.com/assets/colab-badge.svg\" alt=\"Open In Colab\"/></a>"
      ]
    },
    {
      "cell_type": "markdown",
      "metadata": {
        "id": "lkq0A_rO5jMY"
      },
      "source": [
        "# Busca Linear"
      ]
    },
    {
      "cell_type": "code",
      "metadata": {
        "colab": {
          "base_uri": "https://localhost:8080/"
        },
        "id": "SCcTbWyb5n69",
        "outputId": "e8821841-5690-450d-bb48-bcb46b462c70"
      },
      "source": [
        "def linear_search(input_list, number):\n",
        "    for i in range(0, len(input_list), 1):\n",
        "        if(input_list[i] == number):\n",
        "            return i\n",
        "\n",
        "    else:\n",
        "        return 'O número pesquisado não está presente na lista'\n",
        "\n",
        "\n",
        "input_list = [3, 12, 4, 1, 15, 7, 5, 2, 6, 9, 10, 8, 13, 11, 16, 14]\n",
        "print(linear_search(input_list, 2))\n",
        "print(linear_search(input_list, 4))\n",
        "print(linear_search(input_list, 8))\n",
        "print(linear_search(input_list, 20))"
      ],
      "execution_count": null,
      "outputs": [
        {
          "output_type": "stream",
          "name": "stdout",
          "text": [
            "7\n",
            "2\n",
            "11\n",
            "O número pesquisado não está presente na lista\n"
          ]
        }
      ]
    },
    {
      "cell_type": "markdown",
      "metadata": {
        "id": "XotRwElD9Kxu"
      },
      "source": [
        "# Busca Binária"
      ]
    },
    {
      "cell_type": "code",
      "metadata": {
        "colab": {
          "base_uri": "https://localhost:8080/"
        },
        "id": "nyras1bo9NG-",
        "outputId": "33528650-00fa-4fd0-f3f0-5a6f9df44b58"
      },
      "source": [
        "def binary_search(input_list, number):\n",
        "    left = 0\n",
        "    right = len(input_list) - 1\n",
        "\n",
        "    while (left <= right):\n",
        "        middle = (left + right) // 2\n",
        "\n",
        "        if(input_list[middle] == number):\n",
        "            return middle\n",
        "\n",
        "        elif(input_list[middle] > number):\n",
        "                right = middle - 1\n",
        "\n",
        "        else:\n",
        "            left = middle + 1\n",
        "\n",
        "    else:\n",
        "        return 'O número pesquisado não está presente na lista'\n",
        "\n",
        "\n",
        "input_list = [3, 12, 4, 1, 15, 7, 5, 2, 6, 9, 10, 8, 13, 11, 16, 14]\n",
        "print(binary_search(sorted(input_list), 8))\n",
        "print(binary_search(sorted(input_list), 4))\n",
        "print(binary_search(sorted(input_list), 14))\n",
        "print(binary_search(sorted(input_list), 20))"
      ],
      "execution_count": null,
      "outputs": [
        {
          "output_type": "stream",
          "name": "stdout",
          "text": [
            "7\n",
            "3\n",
            "13\n",
            "O número pesquisado não está presente na lista\n"
          ]
        }
      ]
    },
    {
      "cell_type": "markdown",
      "metadata": {
        "id": "nhxQikD1gjLp"
      },
      "source": [
        "# Insertion Sort\n"
      ]
    },
    {
      "cell_type": "code",
      "metadata": {
        "colab": {
          "base_uri": "https://localhost:8080/"
        },
        "id": "0OPuwhnDgiS2",
        "outputId": "d4b46b84-584d-47dc-d59a-a49696b16a16"
      },
      "source": [
        "def insertion_sort(input_list):\n",
        "    for i in range(0, len(input_list), 1):\n",
        "        number = input_list[i]\n",
        "        j = i - 1\n",
        "\n",
        "        while((j >= 0) and (number < input_list[j])):\n",
        "            input_list[j+1] = input_list[j]\n",
        "            j = j - 1\n",
        "\n",
        "        input_list[j+1] = number\n",
        "\n",
        "    return input_list\n",
        "\n",
        "\n",
        "input_list_1 = [3, 12, 4, 1, 15, 7, 5, 2, 6, 9, 10, 8, 13, 11, 16, 14]\n",
        "input_list_2 = [25, -10, 2, -7, 16, -4, 0, -2, -1, 7, 9, 17, 12, 13, 20, -8]\n",
        "input_list_3 = [29, 21, 18, 25, 16, 23, 30, 26, 19, 24, 17, 31, 22, 20, 28, 27]\n",
        "print('Lista 1 não ordenada:', input_list_1)\n",
        "print('Lista 2 não ordenada:', input_list_2)\n",
        "print('Lista 3 não ordenada:', input_list_3)\n",
        "print('')\n",
        "print('Lista 1 ordenada:', insertion_sort(input_list_1))\n",
        "print('Lista 2 ordenada:', insertion_sort(input_list_2))\n",
        "print('Lista 3 ordenada:', insertion_sort(input_list_3))"
      ],
      "execution_count": null,
      "outputs": [
        {
          "output_type": "stream",
          "name": "stdout",
          "text": [
            "Lista 1 não ordenada: [3, 12, 4, 1, 15, 7, 5, 2, 6, 9, 10, 8, 13, 11, 16, 14]\n",
            "Lista 2 não ordenada: [25, -10, 2, -7, 16, -4, 0, -2, -1, 7, 9, 17, 12, 13, 20, -8]\n",
            "Lista 3 não ordenada: [29, 21, 18, 25, 16, 23, 30, 26, 19, 24, 17, 31, 22, 20, 28, 27]\n",
            "\n",
            "Lista 1 ordenada: [1, 2, 3, 4, 5, 6, 7, 8, 9, 10, 11, 12, 13, 14, 15, 16]\n",
            "Lista 2 ordenada: [-10, -8, -7, -4, -2, -1, 0, 2, 7, 9, 12, 13, 16, 17, 20, 25]\n",
            "Lista 3 ordenada: [16, 17, 18, 19, 20, 21, 22, 23, 24, 25, 26, 27, 28, 29, 30, 31]\n"
          ]
        }
      ]
    },
    {
      "cell_type": "markdown",
      "metadata": {
        "id": "DT1ac-WMvfMD"
      },
      "source": [
        "# Selection Sort"
      ]
    },
    {
      "cell_type": "code",
      "metadata": {
        "colab": {
          "base_uri": "https://localhost:8080/"
        },
        "id": "WhU6uyvNvhnT",
        "outputId": "87a32517-5264-4175-e7b3-39d629c52b03"
      },
      "source": [
        "def selection_sort(input_list):\n",
        "    for i in range(0, len(input_list), 1):\n",
        "        smaller = i\n",
        "\n",
        "        for j in range((i+1), len(input_list), 1):\n",
        "            if(input_list[j] < input_list[smaller]):\n",
        "                smaller = j\n",
        "\n",
        "        if(i != smaller):\n",
        "            input_list[i], input_list[smaller] = input_list[smaller], input_list[i]\n",
        "\n",
        "    return input_list\n",
        "\n",
        "\n",
        "input_list_1 = [3, 12, 4, 1, 15, 7, 5, 2, 6, 9, 10, 8, 13, 11, 16, 14]\n",
        "input_list_2 = [25, -10, 2, -7, 16, -4, 0, -2, -1, 7, 9, 17, 12, 13, 20, -8]\n",
        "input_list_3 = [29, 21, 18, 25, 16, 23, 30, 26, 19, 24, 17, 31, 22, 20, 28, 27]\n",
        "print('Lista 1 não ordenada:', input_list_1)\n",
        "print('Lista 2 não ordenada:', input_list_2)\n",
        "print('Lista 3 não ordenada:', input_list_3)\n",
        "print('')\n",
        "print('Lista 1 ordenada:', selection_sort(input_list_1))\n",
        "print('Lista 2 ordenada:', selection_sort(input_list_2))\n",
        "print('Lista 3 ordenada:', selection_sort(input_list_3))"
      ],
      "execution_count": null,
      "outputs": [
        {
          "output_type": "stream",
          "name": "stdout",
          "text": [
            "Lista 1 não ordenada: [3, 12, 4, 1, 15, 7, 5, 2, 6, 9, 10, 8, 13, 11, 16, 14]\n",
            "Lista 2 não ordenada: [25, -10, 2, -7, 16, -4, 0, -2, -1, 7, 9, 17, 12, 13, 20, -8]\n",
            "Lista 3 não ordenada: [29, 21, 18, 25, 16, 23, 30, 26, 19, 24, 17, 31, 22, 20, 28, 27]\n",
            "\n",
            "Lista 1 ordenada: [1, 2, 3, 4, 5, 6, 7, 8, 9, 10, 11, 12, 13, 14, 15, 16]\n",
            "Lista 2 ordenada: [-10, -8, -7, -4, -2, -1, 0, 2, 7, 9, 12, 13, 16, 17, 20, 25]\n",
            "Lista 3 ordenada: [16, 17, 18, 19, 20, 21, 22, 23, 24, 25, 26, 27, 28, 29, 30, 31]\n"
          ]
        }
      ]
    },
    {
      "cell_type": "markdown",
      "metadata": {
        "id": "_S0bMnN9wfvy"
      },
      "source": [
        "# Bubble Sort"
      ]
    },
    {
      "cell_type": "code",
      "metadata": {
        "colab": {
          "base_uri": "https://localhost:8080/"
        },
        "id": "m8_Z_zr2wh0z",
        "outputId": "0cf84587-c257-4bf6-eaa6-b7924b93e4c6"
      },
      "source": [
        "def bubble_sort(input_list):\n",
        "    for i in range(len(input_list), 1, -1):\n",
        "        for j in range(1, i, 1):\n",
        "            if(input_list[j-1] > input_list[j]):\n",
        "                input_list[j], input_list[j-1] = input_list[j-1], input_list[j]\n",
        "\n",
        "    return input_list\n",
        "\n",
        "\n",
        "input_list_1 = [3, 12, 4, 1, 15, 7, 5, 2, 6, 9, 10, 8, 13, 11, 16, 14]\n",
        "input_list_2 = [25, -10, 2, -7, 16, -4, 0, -2, -1, 7, 9, 17, 12, 13, 20, -8]\n",
        "input_list_3 = [29, 21, 18, 25, 16, 23, 30, 26, 19, 24, 17, 31, 22, 20, 28, 27]\n",
        "print('Lista 1 não ordenada:', input_list_1)\n",
        "print('Lista 2 não ordenada:', input_list_2)\n",
        "print('Lista 3 não ordenada:', input_list_3)\n",
        "print('')\n",
        "print('Lista 1 ordenada:', bubble_sort(input_list_1))\n",
        "print('Lista 2 ordenada:', bubble_sort(input_list_2))\n",
        "print('Lista 3 ordenada:', bubble_sort(input_list_3))"
      ],
      "execution_count": null,
      "outputs": [
        {
          "output_type": "stream",
          "name": "stdout",
          "text": [
            "Lista 1 não ordenada: [3, 12, 4, 1, 15, 7, 5, 2, 6, 9, 10, 8, 13, 11, 16, 14]\n",
            "Lista 2 não ordenada: [25, -10, 2, -7, 16, -4, 0, -2, -1, 7, 9, 17, 12, 13, 20, -8]\n",
            "Lista 3 não ordenada: [29, 21, 18, 25, 16, 23, 30, 26, 19, 24, 17, 31, 22, 20, 28, 27]\n",
            "\n",
            "Lista 1 ordenada: [1, 2, 3, 4, 5, 6, 7, 8, 9, 10, 11, 12, 13, 14, 15, 16]\n",
            "Lista 2 ordenada: [-10, -8, -7, -4, -2, -1, 0, 2, 7, 9, 12, 13, 16, 17, 20, 25]\n",
            "Lista 3 ordenada: [16, 17, 18, 19, 20, 21, 22, 23, 24, 25, 26, 27, 28, 29, 30, 31]\n"
          ]
        }
      ]
    },
    {
      "cell_type": "markdown",
      "metadata": {
        "id": "VLAOW364xECc"
      },
      "source": [
        "# Merge Sort"
      ]
    },
    {
      "cell_type": "code",
      "metadata": {
        "colab": {
          "base_uri": "https://localhost:8080/"
        },
        "id": "nQ3Rif_Ux2t0",
        "outputId": "4c4dc9b3-d54c-4909-c0d5-023ef55ed1cc"
      },
      "source": [
        "def merge_sort(input_list):\n",
        "    if(len(input_list) < 2):\n",
        "        return input_list\n",
        "\n",
        "    left_half = merge_sort(input_list[:len(input_list)//2])\n",
        "    right_half = merge_sort(input_list[len(input_list)//2:])\n",
        "\n",
        "    return merge(left_half, right_half)\n",
        "\n",
        "\n",
        "def merge(left, right):\n",
        "    output_list = []\n",
        "\n",
        "    # Enquanto as listas possuirem elementos, o código será executado\n",
        "    while((left) or (right)):\n",
        "\n",
        "        # Verifica se as duas listas possuem elementos\n",
        "        if(len(left) and len(right)):\n",
        "            if(left[0] < right[0]):\n",
        "                output_list.append(left.pop(0))\n",
        "\n",
        "            else:\n",
        "                output_list.append(right.pop(0))\n",
        "\n",
        "        # Verifica se a lista da esquerda (menores valores) está vazia\n",
        "        if(not len(left)):\n",
        "            if(len(right)):\n",
        "                output_list.append(right.pop(0))\n",
        "\n",
        "        # Verifica se a lista da direita (maiores valores) está vazia\n",
        "        if(not len(right)):\n",
        "            if(len(left)):\n",
        "                output_list.append(left.pop(0))\n",
        "\n",
        "    return output_list\n",
        "\n",
        "\n",
        "input_list_1 = [3, 12, 4, 1, 15, 7, 5, 2, 6, 9, 10, 8, 13, 11, 16, 14]\n",
        "input_list_2 = [25, -10, 2, -7, 16, -4, 0, -2, -1, 7, 9, 17, 12, 13, 20, -8]\n",
        "input_list_3 = [29, 21, 18, 25, 16, 23, 30, 26, 19, 24, 17, 31, 22, 20, 28, 27]\n",
        "print('Lista 1 não ordenada:', input_list_1)\n",
        "print('Lista 2 não ordenada:', input_list_2)\n",
        "print('Lista 3 não ordenada:', input_list_3)\n",
        "print('')\n",
        "print('Lista 1 ordenada:', merge_sort(input_list_1))\n",
        "print('Lista 2 ordenada:', merge_sort(input_list_2))\n",
        "print('Lista 3 ordenada:', merge_sort(input_list_3))"
      ],
      "execution_count": null,
      "outputs": [
        {
          "output_type": "stream",
          "name": "stdout",
          "text": [
            "Lista 1 não ordenada: [3, 12, 4, 1, 15, 7, 5, 2, 6, 9, 10, 8, 13, 11, 16, 14]\n",
            "Lista 2 não ordenada: [25, -10, 2, -7, 16, -4, 0, -2, -1, 7, 9, 17, 12, 13, 20, -8]\n",
            "Lista 3 não ordenada: [29, 21, 18, 25, 16, 23, 30, 26, 19, 24, 17, 31, 22, 20, 28, 27]\n",
            "\n",
            "Lista 1 ordenada: [1, 2, 3, 4, 5, 6, 7, 8, 9, 10, 11, 12, 13, 14, 15, 16]\n",
            "Lista 2 ordenada: [-10, -8, -7, -4, -2, -1, 0, 2, 7, 9, 12, 13, 16, 17, 20, 25]\n",
            "Lista 3 ordenada: [16, 17, 18, 19, 20, 21, 22, 23, 24, 25, 26, 27, 28, 29, 30, 31]\n"
          ]
        }
      ]
    },
    {
      "cell_type": "markdown",
      "metadata": {
        "id": "cn59gUc6gYTB"
      },
      "source": [
        "# Quick Sort"
      ]
    },
    {
      "cell_type": "code",
      "metadata": {
        "colab": {
          "base_uri": "https://localhost:8080/"
        },
        "id": "-IqhlZtugami",
        "outputId": "02d1afe5-1ae2-403b-c1b8-ba2d749e0c88"
      },
      "source": [
        "def quick_sort(input_list, left, right):\n",
        "    if(right > left):\n",
        "        split = partition(input_list, left, right)\n",
        "        quick_sort(input_list, left, split)\n",
        "        quick_sort(input_list, (split + 1), right)\n",
        "\n",
        "    return input_list\n",
        "\n",
        "\n",
        "def partition(input_list, left, right):\n",
        "    i = left - 1\n",
        "    j = right + 1\n",
        "\n",
        "    while(i < j):\n",
        "        i += 1\n",
        "\n",
        "        while(input_list[i] < input_list[left]):\n",
        "            i += 1\n",
        "\n",
        "        j -= 1\n",
        "\n",
        "        while(input_list[j] > input_list[left]):\n",
        "            j -= 1\n",
        "\n",
        "        if(i < j):\n",
        "            input_list[i], input_list[j] = input_list[j], input_list[i]\n",
        "\n",
        "    return j\n",
        "\n",
        "\n",
        "input_list_1 = [3, 12, 4, 1, 15, 7, 5, 2, 6, 9, 10, 8, 13, 11, 16, 14]\n",
        "input_list_2 = [25, -10, 2, -7, 16, -4, 0, -2, -1, 7, 9, 17, 12, 13, 20, -8]\n",
        "input_list_3 = [29, 21, 18, 25, 16, 23, 30, 26, 19, 24, 17, 31, 22, 20, 28, 27]\n",
        "print('Lista 1 não ordenada:', input_list_1)\n",
        "print('Lista 2 não ordenada:', input_list_2)\n",
        "print('Lista 3 não ordenada:', input_list_3)\n",
        "print('')\n",
        "print('Lista 1 ordenada:', quick_sort(input_list_1, 0, len(input_list_1)-1))\n",
        "print('Lista 2 ordenada:', quick_sort(input_list_2, 0, len(input_list_2)-1))\n",
        "print('Lista 3 ordenada:', quick_sort(input_list_3, 0, len(input_list_3)-1))"
      ],
      "execution_count": null,
      "outputs": [
        {
          "output_type": "stream",
          "name": "stdout",
          "text": [
            "Lista 1 não ordenada: [3, 12, 4, 1, 15, 7, 5, 2, 6, 9, 10, 8, 13, 11, 16, 14]\n",
            "Lista 2 não ordenada: [25, -10, 2, -7, 16, -4, 0, -2, -1, 7, 9, 17, 12, 13, 20, -8]\n",
            "Lista 3 não ordenada: [29, 21, 18, 25, 16, 23, 30, 26, 19, 24, 17, 31, 22, 20, 28, 27]\n",
            "\n",
            "Lista 1 ordenada: [1, 2, 3, 4, 5, 6, 7, 8, 9, 10, 11, 12, 13, 14, 15, 16]\n",
            "Lista 2 ordenada: [-10, -8, -7, -4, -2, -1, 0, 2, 7, 9, 12, 13, 16, 17, 20, 25]\n",
            "Lista 3 ordenada: [16, 17, 18, 19, 20, 21, 22, 23, 24, 25, 26, 27, 28, 29, 30, 31]\n"
          ]
        }
      ]
    },
    {
      "cell_type": "markdown",
      "metadata": {
        "id": "kfLchK9MeIuq"
      },
      "source": [
        "# Bucket Sort"
      ]
    },
    {
      "cell_type": "code",
      "metadata": {
        "colab": {
          "base_uri": "https://localhost:8080/"
        },
        "id": "NI5Ol1DxDhsk",
        "outputId": "716ee931-0f51-463f-d649-329a96a152f7"
      },
      "source": [
        "def bucket_sort(input_list):\n",
        "    max_value = max(input_list)\n",
        "    size = max_value / len(input_list)\n",
        "    buckets_list= []\n",
        "    final_output = []\n",
        "\n",
        "    for x in range(0, len(input_list), 1):\n",
        "        buckets_list.append([])\n",
        "\n",
        "    for i in range(0, len(input_list), 1):\n",
        "        j = int(input_list[i] / size)\n",
        "\n",
        "        if(j != len(input_list)):\n",
        "            buckets_list[j].append(input_list[i])\n",
        "\n",
        "        else:\n",
        "            buckets_list[len(input_list) - 1].append(input_list[i])\n",
        "\n",
        "    for z in range(0, len(input_list), 1):\n",
        "        insertion_sort(buckets_list[z])\n",
        "\n",
        "    for x in range(0, len (input_list), 1):\n",
        "        final_output = final_output + buckets_list[x]\n",
        "\n",
        "    return final_output\n",
        "\n",
        "\n",
        "def insertion_sort(input_list):\n",
        "    for i in range(0, len(input_list), 1):\n",
        "        number = input_list[i]\n",
        "        j = i - 1\n",
        "\n",
        "        while((j >= 0) and (number < input_list[j])):\n",
        "            input_list[j+1] = input_list[j]\n",
        "            j = j - 1\n",
        "\n",
        "        input_list[j+1] = number\n",
        "\n",
        "    return input_list\n",
        "\n",
        "\n",
        "input_list_1 = [3, 12, 4, 1, 15, 7, 5, 2, 6, 9, 10, 8, 13, 11, 16, 14]\n",
        "input_list_2 = [25, -10, 2, -7, 16, -4, 0, -2, -1, 7, 9, 17, 12, 13, 20, -8]\n",
        "input_list_3 = [29, 21, 18, 25, 16, 23, 30, 26, 19, 24, 17, 31, 22, 20, 28, 27]\n",
        "print('Lista 1 não ordenada:', input_list_1)\n",
        "print('Lista 2 não ordenada:', input_list_2)\n",
        "print('Lista 3 não ordenada:', input_list_3)\n",
        "print('')\n",
        "print('Lista 1 ordenada:', bucket_sort(input_list_1))\n",
        "print('Lista 2 ordenada:', bucket_sort(input_list_2))\n",
        "print('Lista 3 ordenada:', bucket_sort(input_list_3))"
      ],
      "execution_count": null,
      "outputs": [
        {
          "output_type": "stream",
          "name": "stdout",
          "text": [
            "Lista 1 não ordenada: [3, 12, 4, 1, 15, 7, 5, 2, 6, 9, 10, 8, 13, 11, 16, 14]\n",
            "Lista 2 não ordenada: [25, -10, 2, -7, 16, -4, 0, -2, -1, 7, 9, 17, 12, 13, 20, -8]\n",
            "Lista 3 não ordenada: [29, 21, 18, 25, 16, 23, 30, 26, 19, 24, 17, 31, 22, 20, 28, 27]\n",
            "\n",
            "Lista 1 ordenada: [1, 2, 3, 4, 5, 6, 7, 8, 9, 10, 11, 12, 13, 14, 15, 16]\n",
            "Lista 2 ordenada: [-1, 0, 2, 7, 9, 12, 13, -10, 16, 17, -8, -7, 20, -4, -2, 25]\n",
            "Lista 3 ordenada: [16, 17, 18, 19, 20, 21, 22, 23, 24, 25, 26, 27, 28, 29, 30, 31]\n"
          ]
        }
      ]
    },
    {
      "cell_type": "markdown",
      "metadata": {
        "id": "Qat-3kG7geEK"
      },
      "source": [
        "# Heap Sort"
      ]
    },
    {
      "cell_type": "code",
      "metadata": {
        "colab": {
          "base_uri": "https://localhost:8080/"
        },
        "id": "9GfmO6CAf7I1",
        "outputId": "ef4af022-d08b-4c28-83fb-e38483f8324d"
      },
      "source": [
        "def heap_sort(input_list):\n",
        "    for i in range(len(input_list)//2, -1, -1):\n",
        "        heapify(input_list, len(input_list), i)\n",
        "\n",
        "    for i in range(len(input_list)-1, 0, -1):\n",
        "        input_list[i], input_list[0] = input_list[0], input_list[i]\n",
        "\n",
        "        heapify(input_list, i, 0)\n",
        "\n",
        "\n",
        "def heapify(input_list, n, i):\n",
        "    largest = i\n",
        "    left = 2 * i + 1\n",
        "    right = 2 * i + 2\n",
        "\n",
        "    if((left < n) and (input_list[i] < input_list[left])):\n",
        "        largest = left\n",
        "\n",
        "    if((right < n) and (input_list[largest] < input_list[right])):\n",
        "        largest = right\n",
        "\n",
        "    if(largest != i):\n",
        "        input_list[i], input_list[largest] = input_list[largest], input_list[i]\n",
        "        heapify(input_list, n, largest)\n",
        "\n",
        "\n",
        "input_list_1 = [3, 12, 4, 1, 15, 7, 5, 2, 6, 9, 10, 8, 13, 11, 16, 14]\n",
        "input_list_2 = [25, -10, 2, -7, 16, -4, 0, -2, -1, 7, 9, 17, 12, 13, 20, -8]\n",
        "input_list_3 = [29, 21, 18, 25, 16, 23, 30, 26, 19, 24, 17, 31, 22, 20, 28, 27]\n",
        "print('Lista 1 não ordenada:', input_list_1)\n",
        "print('Lista 2 não ordenada:', input_list_2)\n",
        "print('Lista 3 não ordenada:', input_list_3)\n",
        "print('')\n",
        "\n",
        "heap_sort(input_list_1)\n",
        "heap_sort(input_list_2)\n",
        "heap_sort(input_list_3)\n",
        "\n",
        "print('Lista 1 ordenada:', input_list_1)\n",
        "print('Lista 2 ordenada:', input_list_2)\n",
        "print('Lista 3 ordenada:', input_list_3)"
      ],
      "execution_count": null,
      "outputs": [
        {
          "output_type": "stream",
          "name": "stdout",
          "text": [
            "Lista 1 não ordenada: [3, 12, 4, 1, 15, 7, 5, 2, 6, 9, 10, 8, 13, 11, 16, 14]\n",
            "Lista 2 não ordenada: [25, -10, 2, -7, 16, -4, 0, -2, -1, 7, 9, 17, 12, 13, 20, -8]\n",
            "Lista 3 não ordenada: [29, 21, 18, 25, 16, 23, 30, 26, 19, 24, 17, 31, 22, 20, 28, 27]\n",
            "\n",
            "Lista 1 ordenada: [1, 2, 3, 4, 5, 6, 7, 8, 9, 10, 11, 12, 13, 14, 15, 16]\n",
            "Lista 2 ordenada: [-10, -8, -7, -4, -2, -1, 0, 2, 7, 9, 12, 13, 16, 17, 20, 25]\n",
            "Lista 3 ordenada: [16, 17, 18, 19, 20, 21, 22, 23, 24, 25, 26, 27, 28, 29, 30, 31]\n"
          ]
        }
      ]
    }
  ]
}