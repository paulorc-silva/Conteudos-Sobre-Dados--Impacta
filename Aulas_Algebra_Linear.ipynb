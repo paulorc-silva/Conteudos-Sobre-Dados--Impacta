{
  "nbformat": 4,
  "nbformat_minor": 0,
  "metadata": {
    "colab": {
      "provenance": [],
      "collapsed_sections": [
        "7hFEtfnPBR1O",
        "-2p4sp01d3Gm",
        "a_yKZL86diCR",
        "HAugLgcQd4AF",
        "GGKTTO3Hdiet",
        "p7ab5UD4d4n9",
        "tEXsQ5iw2x0D",
        "zUzKLS-x3O3l",
        "v9Irp-e03n0c",
        "Cu4G3ynZ_Fo0",
        "jDfuoSWLAz2t",
        "qJK1rz4UUBIL",
        "U0VeCUw_0TmJ",
        "pL-nQQeXF1Th",
        "lI488N6JF8YX",
        "gOMdonm9dinI",
        "MM_z91JqBnDF",
        "YATbjpUY_JD1",
        "YrlG2qnwBz03",
        "kEhG9w9oCmCD",
        "FkL4LskxDtNW",
        "U3BfBkIoqByl",
        "ExeMcSh2sge1",
        "cMqkvEhbj1bJ",
        "h149_FiOJoOR",
        "meo5_aQNWztc",
        "lrOVfYK2JuXj",
        "wITSKtCYF9PK",
        "Nrky0qenGHoz",
        "b80m13fqGLei",
        "illHdAq0OgcN",
        "9fOlXxk0YTsh",
        "O6xvIqsPaA6s",
        "xwDAVjQGaQvc",
        "ZYRaesdt9ZKO",
        "CGHNGYTs-xhH",
        "YjKRmtx7HgvN",
        "sHItk9mgJDke",
        "xvzLNPl86Nfh",
        "clL5Jc4d6kZK",
        "53ewIXUrALHg",
        "2JYHP5n_hEAm",
        "Ctpi0mM7T_3C",
        "BqYA1YGCUBLw",
        "YV03vRCcULSA",
        "Gmm0tZEBo2a3",
        "Wmmeuzt5ObLq",
        "InQNphwyQmS4",
        "iywvh97-OtgK",
        "GOle2FZxpApm",
        "gJcE-_ixpEAj",
        "_1cDdKDbpq-A",
        "fN4plQcJqEDY",
        "6rjg4pjGqaXw",
        "aE-KWavVrHBc",
        "PGF-nURqXRsq",
        "c_HujtS-KHBH",
        "v4DIG-aMdRqM",
        "at2DWQYIKTcv"
      ],
      "include_colab_link": true
    },
    "kernelspec": {
      "name": "python3",
      "display_name": "Python 3"
    }
  },
  "cells": [
    {
      "cell_type": "markdown",
      "metadata": {
        "id": "view-in-github",
        "colab_type": "text"
      },
      "source": [
        "<a href=\"https://colab.research.google.com/github/paulorc-silva/Conteudos-Sobre-Dados--Impacta/blob/master/Aulas_Algebra_Linear.ipynb\" target=\"_parent\"><img src=\"https://colab.research.google.com/assets/colab-badge.svg\" alt=\"Open In Colab\"/></a>"
      ]
    },
    {
      "cell_type": "markdown",
      "metadata": {
        "id": "7hFEtfnPBR1O"
      },
      "source": [
        "# Aula 01 - Introdução à álgebra linear\n",
        "\n"
      ]
    },
    {
      "cell_type": "markdown",
      "metadata": {
        "id": "-2p4sp01d3Gm"
      },
      "source": [
        "###### Nessa aula não foi apresentado nenhum conceito que pudesse ser aplicado ao Google Colab. Foi dado apenas a teoria."
      ]
    },
    {
      "cell_type": "markdown",
      "metadata": {
        "id": "a_yKZL86diCR"
      },
      "source": [
        "# Aula 02 - Relações de medidas com ângulos e distâncias"
      ]
    },
    {
      "cell_type": "markdown",
      "metadata": {
        "id": "HAugLgcQd4AF"
      },
      "source": [
        "###### Nessa aula não foi apresentado nenhum conceito que pudesse ser aplicado ao Google Colab. Foi dado apenas a teoria."
      ]
    },
    {
      "cell_type": "markdown",
      "metadata": {
        "id": "GGKTTO3Hdiet"
      },
      "source": [
        "# Aula 03 - Trigonometria e círculos"
      ]
    },
    {
      "cell_type": "markdown",
      "metadata": {
        "id": "p7ab5UD4d4n9"
      },
      "source": [
        "###### Nessa aula não foi apresentado nenhum conceito que pudesse ser aplicado ao Google Colab. Foi dado apenas a teoria."
      ]
    },
    {
      "cell_type": "markdown",
      "metadata": {
        "id": "tEXsQ5iw2x0D"
      },
      "source": [
        "# Aula 04 - Conceitos de geometria analítica"
      ]
    },
    {
      "cell_type": "markdown",
      "metadata": {
        "id": "zUzKLS-x3O3l"
      },
      "source": [
        "##1. Equação da Reta"
      ]
    },
    {
      "cell_type": "markdown",
      "metadata": {
        "id": "1PmJd61r4dyV"
      },
      "source": [
        "### $$y = -x + 1$$"
      ]
    },
    {
      "cell_type": "code",
      "metadata": {
        "id": "6WEe8WSJ3vru"
      },
      "source": [
        "import numpy as np # Importa a biblioteca NumPy e coloca o apelido \"np\" para ser usado\n",
        "import matplotlib.pyplot as plt # Importa o módulo PyPlot da biblioteca Matplotlib e coloca o apelido \"plt\" para ser usado"
      ],
      "execution_count": null,
      "outputs": []
    },
    {
      "cell_type": "code",
      "metadata": {
        "colab": {
          "base_uri": "https://localhost:8080/",
          "height": 225
        },
        "id": "qcyhV_Je319e",
        "outputId": "dbae709f-90ec-40b4-e5e2-b239411e7c9f"
      },
      "source": [
        "t = np.linspace(-5, 5, 100) # Cria a variável auxiliar t\n",
        "x = t # Atribui o valor de t para a variável x\n",
        "y = -x + 1 # Equação da reta armazenada na variável y\n",
        "\n",
        "plt.figure(figsize=(3, 3)) # Define o tamanho do gráfico como 3x3\n",
        "plt.xlabel(\"Eixo X\") # Nomeia o eixo X\n",
        "plt.ylabel(\"Eixo Y\") # Nomeia o eixo Y\n",
        "plt.xticks(np.arange(-6, 7)) # Organiza o quadriculado do grid, tendo como base o eixo X\n",
        "plt.yticks(np.arange(-6, 7)) # Organiza o quadriculado do grid, tendo como base o eixo Y\n",
        "plt.plot(x, y, 'r') # Cria a reta no gráfico utilizando as coordenadas X e Y e define a cor vermelha para a exibição da mesma\n",
        "plt.grid() # Cria o quadriculado ao fundo do gráfico"
      ],
      "execution_count": null,
      "outputs": [
        {
          "output_type": "display_data",
          "data": {
            "image/png": "[encoded data removed]",
            "text/plain": [
              "<Figure size 216x216 with 1 Axes>"
            ]
          },
          "metadata": {
            "tags": [],
            "needs_background": "light"
          }
        }
      ]
    },
    {
      "cell_type": "markdown",
      "metadata": {
        "id": "v9Irp-e03n0c"
      },
      "source": [
        "##2. Equação do Círculo\n"
      ]
    },
    {
      "cell_type": "markdown",
      "metadata": {
        "id": "TFYPEz6e5231"
      },
      "source": [
        "### $$y^2 + x^2 = 9$$"
      ]
    },
    {
      "cell_type": "code",
      "metadata": {
        "id": "BqIWsCtT5_OI"
      },
      "source": [
        "import numpy as np # Importa a biblioteca NumPy e coloca o apelido \"np\" para ser usado\n",
        "import matplotlib.pyplot as plt # Importa o módulo PyPlot da biblioteca Matplotlib e coloca o apelido \"plt\" para ser usado"
      ],
      "execution_count": null,
      "outputs": []
    },
    {
      "cell_type": "code",
      "metadata": {
        "colab": {
          "base_uri": "https://localhost:8080/",
          "height": 225
        },
        "id": "R3eUsfpa6A5I",
        "outputId": "aa93d665-a9c9-4971-f91f-951dd9e161a4"
      },
      "source": [
        "r = 3 # Define o tamanho do raio como 3, e armazena na variável r\n",
        "xc = 0 # Define a coordenada X do centro como 0, e armazena na variável xc\n",
        "yc = 0 # Define a coordenada Y do centro como 0, e armazena na variável yc\n",
        "\n",
        "t = np.linspace(-np.pi, np.pi, 100) # Cria a variável auxiliar t\n",
        "x = r * np.cos(t) + xc # Equação paramétrica de X do círculo armazenada na variável x\n",
        "y = r * np.sin(t) + yc # Equação paramétrica de Y do círculo armazenada na variável y\n",
        "\n",
        "ang = np.pi / 4 # Define o ângulo que a reta está (De acordo com o círculo trigonométrico), no caso pi/4 ou 45º\n",
        "rx = xc + np.linspace(0, r * np.cos(ang), 100) # Define a coordenada X do ponto da superfície do círculo, percorrendo o eixo do cosseno(X) e armazena na variável rx\n",
        "ry = yc + np.linspace(0, r * np.sin(ang), 100) # Define a coordenada Y do ponto da superfície do círculo, percorrendo o eixo do seno (Y) e armazena na variável ry\n",
        "\n",
        "plt.figure(figsize=(3, 3)) # Define o tamanho do gráfico como 3x3\n",
        "plt.xlabel(\"Eixo X\") # Nomeia o eixo X\n",
        "plt.ylabel(\"Eixo Y\") # Nomeia o eixo Y\n",
        "plt.xticks(np.linspace(-4, 4, 5)) # Organiza o quadriculado do grid, tendo como base o eixo X\n",
        "plt.yticks(np.linspace(-4, 4, 5)) # Organiza o quadriculado do grid, tendo como base o eixo Y\n",
        "plt.plot(x, y) # Cria o círculo no gráfico utilizando as coordenadas X e Y\n",
        "plt.plot(rx, ry) # Cria a reta(raio) no gráfico utilizando as coordenadas rX e rY\n",
        "plt.grid() # Cria o quadriculado ao fundo do gráfico"
      ],
      "execution_count": null,
      "outputs": [
        {
          "output_type": "display_data",
          "data": {
            "image/png": "[encoded data removed]",
            "text/plain": [
              "<Figure size 216x216 with 1 Axes>"
            ]
          },
          "metadata": {
            "tags": [],
            "needs_background": "light"
          }
        }
      ]
    },
    {
      "cell_type": "markdown",
      "metadata": {
        "id": "Cu4G3ynZ_Fo0"
      },
      "source": [
        "##3. Exercício"
      ]
    },
    {
      "cell_type": "markdown",
      "metadata": {
        "id": "JVAly71fBbH1"
      },
      "source": [
        "Elabore o gráfico de um círculo com raio 10 e centro em (-3, 5). Apresente um segmento de reta que corresponda ao raio do círculo e que seja vertical."
      ]
    },
    {
      "cell_type": "code",
      "metadata": {
        "id": "D0tu-JnCBY20"
      },
      "source": [
        "import numpy as np # Importa a biblioteca NumPy e coloca o apelido \"np\" para ser usado\n",
        "import matplotlib.pyplot as plt # Importa o módulo PyPlot da biblioteca Matplotlib e coloca o apelido \"plt\" para ser usado"
      ],
      "execution_count": null,
      "outputs": []
    },
    {
      "cell_type": "code",
      "metadata": {
        "colab": {
          "base_uri": "https://localhost:8080/",
          "height": 225
        },
        "id": "WfnNCxbtBln0",
        "outputId": "22bcad7c-c7e8-4d21-d8fd-aca8add0f306"
      },
      "source": [
        "r = 10 # Define o tamanho do raio como 10, e armazena na variável r\n",
        "xc = -3 # Define a coordenada X do centro como -3, e armazena na variável xc\n",
        "yc = 5 # Define a coordenada Y do centro como 5, e armazena na variável yc\n",
        "\n",
        "t = np.linspace(-np.pi, np.pi, 100) # Cria a variável auxiliar t\n",
        "x = r * np.cos(t) + xc # Equação paramétrica de X do círculo armazenada na variável x\n",
        "y = r * np.sin(t) + yc # Equação paramétrica de Y do círculo armazenada na variável y\n",
        "\n",
        "ang = np.pi / 2 # Define o ângulo que a reta está (De acordo com o círculo trigonométrico), no caso pi/2 ou 90º\n",
        "rx = xc + np.linspace(0, r * np.cos(ang), 100) # Define a coordenada X do ponto da superfície do círculo, percorrendo o eixo do cosseno(X) e armazena na variável rx\n",
        "ry = yc + np.linspace(0, r * np.sin(ang), 100) # Define a coordenada Y do ponto da superfície do círculo, percorrendo o eixo do seno(Y) e armazena na variável ry\n",
        "\n",
        "plt.figure(figsize=(3, 3)) # Define o tamanho do gráfico como 3x3\n",
        "plt.xlabel(\"Eixo X\") # Nomeia o eixo X\n",
        "plt.ylabel(\"Eixo Y\") # Nomeia o eixo Y\n",
        "plt.xticks(np.linspace(-15, 15, 16)) # Organiza o quadriculado do grid, tendo como base o eixo X\n",
        "plt.yticks(np.linspace(-15, 15, 16)) # Organiza o quadriculado do grid, tendo como base o eixo Y\n",
        "plt.plot(x, y) # Cria o círculo no gráfico utilizando as coordenadas X e Y\n",
        "plt.plot(rx, ry) # Cria a reta(raio) no gráfico utilizando as coordenadas rX e rY\n",
        "plt.grid() # Cria o quadriculado ao fundo do gráfico"
      ],
      "execution_count": null,
      "outputs": [
        {
          "output_type": "display_data",
          "data": {
            "image/png": "[encoded data removed]",
            "text/plain": [
              "<Figure size 216x216 with 1 Axes>"
            ]
          },
          "metadata": {
            "tags": [],
            "needs_background": "light"
          }
        }
      ]
    },
    {
      "cell_type": "markdown",
      "metadata": {
        "id": "jDfuoSWLAz2t"
      },
      "source": [
        "# Aula 05 - Cônicas\n"
      ]
    },
    {
      "cell_type": "markdown",
      "metadata": {
        "id": "qJK1rz4UUBIL"
      },
      "source": [
        "##1. Círculo\n"
      ]
    },
    {
      "cell_type": "markdown",
      "metadata": {
        "id": "QGF892HdUv6K"
      },
      "source": [
        "### $$(x - x_c)^2 + (y - y_c)^2 = r^2$$\n",
        "&nbsp;\n",
        "\n",
        "### <h3 align=\"center\">**_Equações paramétricas_**</h3>\n",
        "### $$x = r * cos(t) + x_c$$\n",
        "### $$y = r * sen(t) + y_c$$\n",
        "### $$t \\in \\mathbb{R}$$\n",
        "\n",
        "### <h3 align=\"center\">**_No exemplo de código abaixo, o raio r = 3_**</h3>\n",
        "\n"
      ]
    },
    {
      "cell_type": "code",
      "metadata": {
        "id": "48GfTPleUP26"
      },
      "source": [
        "import numpy as np # Importa a biblioteca NumPy e coloca o apelido \"np\" para ser usado\n",
        "import matplotlib.pyplot as plt # Importa o módulo PyPlot da biblioteca Matplotlib e coloca o apelido \"plt\" para ser usado"
      ],
      "execution_count": null,
      "outputs": []
    },
    {
      "cell_type": "code",
      "metadata": {
        "colab": {
          "base_uri": "https://localhost:8080/",
          "height": 225
        },
        "id": "NhTmNyKHUO9y",
        "outputId": "1d2c05d3-aff0-4c08-c026-30e7038e7fd1"
      },
      "source": [
        "r = 3 # Define o tamanho do raio como 3, e armazena na variável r\n",
        "xc = 0 # Define a coordenada X do centro como 0, e armazena na variável xc\n",
        "yc = 0 # Define a coordenada Y do centro como 0, e armazena na variável yc\n",
        "\n",
        "t = np.linspace(-np.pi, np.pi, 100) # Cria a variável auxiliar t\n",
        "x = r * np.cos(t) + xc # Equação paramétrica de X do círculo armazenada na variável x\n",
        "y = r * np.sin(t) + yc # Equação paramétrica de Y do círculo armazenada na variável y\n",
        "\n",
        "ang = np.pi / 4 # Define o ângulo que a reta está (De acordo com o círculo trigonométrico), no caso pi/4 ou 45º\n",
        "rx = xc + np.linspace(0, r * np.cos(ang), 100) # Define a coordenada X do ponto da superfície do círculo, percorrendo o eixo do cosseno(X) e armazena na variável rx\n",
        "ry = yc + np.linspace(0, r * np.sin(ang), 100) # Define a coordenada Y do ponto da superfície do círculo, percorrendo o eixo do seno (Y) e armazena na variável ry\n",
        "\n",
        "plt.figure(figsize=(3, 3)) # Define o tamanho do gráfico como 3x3\n",
        "plt.xlabel(\"Eixo X\") # Nomeia o eixo X\n",
        "plt.ylabel(\"Eixo Y\") # Nomeia o eixo Y\n",
        "plt.xticks(np.linspace(-4, 4, 5)) # Organiza o quadriculado do grid, tendo como base o eixo X\n",
        "plt.yticks(np.linspace(-4, 4, 5)) # Organiza o quadriculado do grid, tendo como base o eixo Y\n",
        "plt.plot(x, y) # Cria o círculo no gráfico utilizando as coordenadas X e Y\n",
        "plt.grid() # Cria o quadriculado ao fundo do gráfico"
      ],
      "execution_count": null,
      "outputs": [
        {
          "output_type": "display_data",
          "data": {
            "image/png": "[encoded data removed]",
            "text/plain": [
              "<Figure size 216x216 with 1 Axes>"
            ]
          },
          "metadata": {
            "tags": [],
            "needs_background": "light"
          }
        }
      ]
    },
    {
      "cell_type": "markdown",
      "metadata": {
        "id": "U0VeCUw_0TmJ"
      },
      "source": [
        "##2. Elipse\n",
        "\n"
      ]
    },
    {
      "cell_type": "markdown",
      "metadata": {
        "id": "Yc0k6aP_0mk6"
      },
      "source": [
        "### <h3 align=\"center\">**_Equação da Elipse Horizontal_**</h3>\n",
        "### $$\\frac{(x - x_c)^2} {a^2} + \\frac{(y - y_c)^2} {b^2} = 1$$\n",
        "&nbsp;\n",
        "\n",
        "### <h3 align=\"center\">**_Equação da Elipse Vertical_**</h3>\n",
        "### $$\\frac{(x - x_c)^2} {b^2} + \\frac{(y - y_c)^2} {a^2} = 1$$\n",
        "&nbsp;\n",
        "\n",
        "### <h3 align=\"center\">**_Pelo círculo trigonométrico, temos que:_**</h3>\n",
        "\n",
        "### $$cos^2(\\alpha) + sen^2(\\alpha) = 1$$\n",
        "&nbsp;\n",
        "\n",
        "### <h3 align=\"center\">**_Assim, podemos obter as equações paramétricas:_**</h3>\n",
        "\n",
        "#### <h4 align=\"center\">**_Equação Paramétrica da Elipse Horizontal_**</h4>\n",
        "\n",
        "### $$x = a * cos(t) + x_c$$\n",
        "### $$y = b * sen(t) + y_c$$\n",
        "### $$t \\in \\mathbb{R}$$\n",
        "&nbsp;\n",
        "\n",
        "#### <h4 align=\"center\">**_Equação Paramétrica da Elipse Vertical_**</h4>\n",
        "\n",
        "### $$x = b * cos(t) + x_c$$\n",
        "### $$y = a * sen(t) + y_c$$\n",
        "### $$t \\in \\mathbb{R}$$\n",
        "&nbsp;"
      ]
    },
    {
      "cell_type": "code",
      "metadata": {
        "id": "IV8hy0ZW5FYJ"
      },
      "source": [
        "import numpy as np # Importa a biblioteca NumPy e coloca o apelido \"np\" para ser usado\n",
        "import matplotlib.pyplot as plt # Importa o módulo PyPlot da biblioteca Matplotlib e coloca o apelido \"plt\" para ser usado"
      ],
      "execution_count": null,
      "outputs": []
    },
    {
      "cell_type": "code",
      "metadata": {
        "colab": {
          "base_uri": "https://localhost:8080/",
          "height": 338
        },
        "id": "wXS2sxet5J3p",
        "outputId": "8fe964c7-d184-4f21-efff-17572674cd9f"
      },
      "source": [
        "a = 8 # Define a distância do foco 1 até o eixo secundário percorrendo o eixo principal, e armazena na variável a\n",
        "b = 3 # Define a distância do centro da elipse até o ponto presente na superfície(ponto final do eixo secundário) percorrendo o próprio eixo secundário, e armazena na variável b\n",
        "xc = 0 # Define a coordenada X do centro como 0, e armazena na variável xc\n",
        "yc = 0 # Define a coordenada Y do centro como 0, e armazena na variável yc\n",
        "\n",
        "t = np.linspace(0, 2 * np.pi, 100) # Cria a variável auxiliar t\n",
        "'''=========================Elipse Horizontal========================='''\n",
        "x = a * np.cos(t) + xc # Equação paramétrica de X da elipse armazenada na variável x\n",
        "y = b * np.sin(t) + yc # Equação paramétrica de Y da elipse armazenada na variável y\n",
        "\n",
        "plt.figure(figsize=(10, 5)) # Define o tamanho do gráfico como 10x5\n",
        "plt.subplot(1, 2, 1) # Define que vai exibir mais de um gráfico na mesma \"rodada de exibição\" e mostra que é o 1/2 que aparecerá\n",
        "plt.xlabel(\"Eixo X\") # Nomeia o eixo X\n",
        "plt.ylabel(\"Eixo Y\") # Nomeia o eixo Y\n",
        "plt.xticks(np.linspace(-10, 10, 11)) # Organiza o quadriculado do grid, tendo como base o eixo X\n",
        "plt.yticks(np.linspace(-10, 10, 11)) # Organiza o quadriculado do grid, tendo como base o eixo Y\n",
        "plt.xlim(-10, 10) # Define um limite de itens para ser exibido no eixo X\n",
        "plt.ylim(-10, 10) # Define um limite de itens para ser exibido no eixo Y\n",
        "plt.plot(x, y) # Cria a elipse no gráfico utilizando as coordenadas X e Y\n",
        "plt.grid() # Cria o quadriculado ao fundo do gráfico\n",
        "\n",
        "'''=========================Elipse Vertical========================='''\n",
        "x = b * np.cos(t) + xc # Equação paramétrica de X do círculo armazenada na variável x\n",
        "y = a * np.sin(t) + yc # Equação paramétrica de Y do círculo armazenada na variável y\n",
        "\n",
        "plt.subplot(1, 2, 2) # Define que vai exibir mais de um gráfico na mesma \"rodada de exibição\" e mostra que é o 2/2 que aparecerá\n",
        "plt.xlabel(\"Eixo X\") # Nomeia o eixo X\n",
        "plt.ylabel(\"Eixo Y\") # Nomeia o eixo Y\n",
        "plt.xticks(np.linspace(-10, 10, 11)) # Organiza o quadriculado do grid, tendo como base o eixo X\n",
        "plt.yticks(np.linspace(-10, 10, 11)) # Organiza o quadriculado do grid, tendo como base o eixo Y\n",
        "plt.xlim(-10, 10) # Define um limite de itens para ser exibido no eixo X\n",
        "plt.ylim(-10, 10) # Define um limite de itens para ser exibido no eixo Y\n",
        "plt.plot(x, y) # Cria a elipse no gráfico utilizando as coordenadas X e Y\n",
        "plt.grid() # Cria o quadriculado ao fundo do gráfico"
      ],
      "execution_count": null,
      "outputs": [
        {
          "output_type": "display_data",
          "data": {
            "image/png": "[encoded data removed]",
            "text/plain": [
              "<Figure size 720x360 with 2 Axes>"
            ]
          },
          "metadata": {
            "tags": [],
            "needs_background": "light"
          }
        }
      ]
    },
    {
      "cell_type": "markdown",
      "metadata": {
        "id": "pL-nQQeXF1Th"
      },
      "source": [
        "##3. Hipérbole\n"
      ]
    },
    {
      "cell_type": "markdown",
      "metadata": {
        "id": "iJjGU1R6Vc_v"
      },
      "source": [
        "### <h3 align=\"center\">**_Equação da Hipérbole Horizontal_**</h3>\n",
        "### $$\\frac{(x - x_c)^2} {a^2} + \\frac{(y - y_c)^2} {b^2} = 1$$\n",
        "&nbsp;\n",
        "\n",
        "### <h3 align=\"center\">**_Equação da Hipérbole Vertical_**</h3>\n",
        "### $$\\frac{(x - x_c)^2} {b^2} + \\frac{(y - y_c)^2} {a^2} = 1$$\n",
        "&nbsp;\n",
        "\n",
        "### <h3 align=\"center\">**_Pelo círculo trigonométrico, temos que:_**</h3>\n",
        "\n",
        "### $$cosh^2(\\alpha) - senh^2(\\alpha) = 1$$\n",
        "&nbsp;\n",
        "\n",
        "### <h3 align=\"center\">**_O Cosseno Hiperbólico é definido por:_**</h3>\n",
        "\n",
        "### $$cosh({\\alpha}) = \\frac{e^{\\alpha} + e^{-\\alpha}} {2}$$\n",
        "&nbsp;\n",
        "\n",
        "### <h3 align=\"center\">**_O Seno Hiperbólico é definido por:_**</h3>\n",
        "\n",
        "### $$senh({\\alpha}) = \\frac{e^{\\alpha} - e^{-\\alpha}} {2}$$\n",
        "&nbsp;\n",
        "\n",
        "#### <h4 align=\"center\">**_Equação Paramétrica da Hipérbole Horizontal_**</h4>\n",
        "\n",
        "### $$x = a * cosh(t) + x_c$$\n",
        "### $$y = b * senh(t) + y_c$$\n",
        "### $$t \\in \\mathbb{R}$$\n",
        "&nbsp;\n",
        "\n",
        "#### <h4 align=\"center\">**_Equação Paramétrica da Hipérbole Vertical_**</h4>\n",
        "\n",
        "### $$x = b * cosh(t) + x_c$$\n",
        "### $$y = a * senh(t) + y_c$$\n",
        "### $$t \\in \\mathbb{R}$$\n",
        "&nbsp;"
      ]
    },
    {
      "cell_type": "code",
      "metadata": {
        "id": "jFgb3PGmYoje"
      },
      "source": [
        "import numpy as np # Importa a biblioteca NumPy e coloca o apelido \"np\" para ser usado\n",
        "import matplotlib.pyplot as plt # Importa o módulo PyPlot da biblioteca Matplotlib e coloca o apelido \"plt\" para ser usado"
      ],
      "execution_count": null,
      "outputs": []
    },
    {
      "cell_type": "code",
      "metadata": {
        "colab": {
          "base_uri": "https://localhost:8080/",
          "height": 338
        },
        "id": "ImkDsaqtYoW3",
        "outputId": "2d1b07ba-1185-433e-ffa5-bc48291c1cb2"
      },
      "source": [
        "a = 2 # Define a distância do foco 1 até o eixo secundário percorrendo o eixo principal, e armazena na variável a\n",
        "b = 1 # Define a distância do centro da hipérbole até o ponto presente na superfície(ponto final do eixo secundário) percorrendo o próprio eixo secundário, e armazena na variável b\n",
        "xc = 0 # Define a coordenada X do centro como 0, e armazena na variável xc\n",
        "yc = 0 # Define a coordenada Y do centro como 0, e armazena na variável yc\n",
        "\n",
        "t = np.linspace(-2, 2, 100) # Cria a variável auxiliar t\n",
        "'''=========================Hipérbole Horizontal========================='''\n",
        "x = a * np.cosh(t) + xc # Equação paramétrica de X da hipérbole armazenada na variável x\n",
        "y = b * np.sinh(t) + yc # Equação paramétrica de Y da hipérbole armazenada na variável y\n",
        "\n",
        "plt.figure(figsize=(10, 5)) # Define o tamanho do gráfico como 10x5\n",
        "plt.subplot(1, 2, 1) # Define que vai exibir mais de um gráfico na mesma \"rodada de exibição\" e mostra que é o 1/2 que aparecerá\n",
        "plt.xlabel(\"Eixo X\") # Nomeia o eixo X\n",
        "plt.ylabel(\"Eixo Y\") # Nomeia o eixo Y\n",
        "plt.xticks(np.linspace(-10, 10, 11)) # Organiza o quadriculado do grid, tendo como base o eixo X\n",
        "plt.yticks(np.linspace(-10, 10, 11)) # Organiza o quadriculado do grid, tendo como base o eixo Y\n",
        "plt.xlim(-10, 10) # Define um limite de itens para ser exibido no eixo X\n",
        "plt.ylim(-10, 10) # Define um limite de itens para ser exibido no eixo Y\n",
        "plt.plot(x, y, 'b') # Cria uma parte da  hipérbole no gráfico utilizando as coordenadas X e Y e coloca a cor azul na linha\n",
        "plt.plot(xc - x, y, 'b') # Cria outra parte da  hipérbole no gráfico utilizando as coordenadas (Xc - X) e Y e coloca a cor azul na linha\n",
        "plt.grid() # Cria o quadriculado ao fundo do gráfico\n",
        "\n",
        "'''=========================Hipérbole Vertical========================='''\n",
        "x = b * np.sinh(t) + xc # Equação paramétrica de X da hipérbole armazenada na variável x\n",
        "y = a * np.cosh(t) + yc # Equação paramétrica de Y da hipérbole armazenada na variável y\n",
        "\n",
        "plt.subplot(1, 2, 2) # Define que vai exibir mais de um gráfico na mesma \"rodada de exibição\" e mostra que é o 2/2 que aparecerá\n",
        "plt.xlabel(\"Eixo X\") # Nomeia o eixo X\n",
        "plt.ylabel(\"Eixo Y\") # Nomeia o eixo Y\n",
        "plt.xticks(np.linspace(-10, 10, 11)) # Organiza o quadriculado do grid, tendo como base o eixo X\n",
        "plt.yticks(np.linspace(-10, 10, 11)) # Organiza o quadriculado do grid, tendo como base o eixo Y\n",
        "plt.xlim(-10, 10) # Define um limite de itens para ser exibido no eixo X\n",
        "plt.ylim(-10, 10) # Define um limite de itens para ser exibido no eixo Y\n",
        "plt.plot(x, y, 'b') # Cria uma parte da  hipérbole no gráfico utilizando as coordenadas X e Y e coloca a cor azul na linha\n",
        "plt.plot(x, yc - y, 'b') # Cria outra parte da  hipérbole no gráfico utilizando as coordenadas X e (Yc - Y) e coloca a cor azul na linha\n",
        "plt.grid() # Cria o quadriculado ao fundo do gráfico"
      ],
      "execution_count": null,
      "outputs": [
        {
          "output_type": "display_data",
          "data": {
            "image/png": "[encoded data removed]",
            "text/plain": [
              "<Figure size 720x360 with 2 Axes>"
            ]
          },
          "metadata": {
            "tags": [],
            "needs_background": "light"
          }
        }
      ]
    },
    {
      "cell_type": "markdown",
      "metadata": {
        "id": "lI488N6JF8YX"
      },
      "source": [
        "##4. Parábola\n"
      ]
    },
    {
      "cell_type": "markdown",
      "metadata": {
        "id": "xgRnslBTGh4n"
      },
      "source": [
        "### <h3 align=\"center\">**_Parábola com Reta Suporte Horizontal_**</h3>\n",
        "### $$y = a(x - x_v)^2 + y_v$$\n",
        "\n",
        "#### <h4 align=\"center\">**_Desenvolvendo a equação acima, temos:_**</h4>\n",
        "\n",
        "### $$y = a(x^2 - 2xx_v + x_v^2) + y_v$$\n",
        "### $$y = ax^2 - 2axx_v + ax_v^2 + y_v$$\n",
        "####<h4 align=\"center\">**_fazendo: $-2ax_v = b$ e $ax_v^2 + y_v = c$, temos:_**</h4>\n",
        "### $$y = ax^2 + bx + c$$\n",
        "&nbsp;\n",
        "\n",
        "### <h3 align=\"center\">**_Parábola com Reta Suporte Vertical_**</h3>\n",
        "### $$x = a(y - y_v)^2 + x_v$$\n",
        "\n",
        "#### <h4 align=\"center\">**_Desenvolvendo a equação acima, temos:_**</h4>\n",
        "\n",
        "### $$x = a(y^2 - 2yy_v + y_v^2) + x_v$$\n",
        "### $$x = ay^2 - 2ayy_v + ay_v^2 + x_v$$\n",
        "####<h4 align=\"center\">**_fazendo: $-2ay_v = b$ e $ay_v^2 + x_v = c$, temos:_**</h4>\n",
        "### $$x = ay^2 + by + c$$\n",
        "&nbsp;\n",
        "\n",
        "#### <h4 align=\"center\">**_Nestas equações, o ponto $V = (x_v, y_v)$ corresponde ao vértice da parábola_**</h4>"
      ]
    },
    {
      "cell_type": "code",
      "metadata": {
        "id": "AG6cQwMyHOGB"
      },
      "source": [
        "import numpy as np # Importa a biblioteca NumPy e coloca o apelido \"np\" para ser usado\n",
        "import matplotlib.pyplot as plt # Importa o módulo PyPlot da biblioteca Matplotlib e coloca o apelido \"plt\" para ser usado"
      ],
      "execution_count": null,
      "outputs": []
    },
    {
      "cell_type": "code",
      "metadata": {
        "colab": {
          "base_uri": "https://localhost:8080/",
          "height": 338
        },
        "id": "s3Qk08zAHO93",
        "outputId": "ce46aeb9-5e0b-4024-92ae-580dd61d115d"
      },
      "source": [
        "a = 1 # Define a distância do foco 1 até o ponto p, e armazena na variável a\n",
        "xv = 0 # Define a coordenada X do vértice como 0, e armazena na variável xv\n",
        "yv = 0 # Define a coordenada Y do vértice como 0, e armazena na variável yv\n",
        "\n",
        "t = np.linspace(-3, 3, 100) # Cria a variável auxiliar t\n",
        "'''=========================Parábola Vertical com Reta Suporte na Horizontal========================='''\n",
        "x = t # Atribui o valor de t para x\n",
        "y = a * ((x - xv) ** 2) + yv # Equação paramétrica de Y da parábola armazenada na variável y\n",
        "\n",
        "plt.figure(figsize=(10, 5)) # Define o tamanho do gráfico como 10x5\n",
        "plt.subplot(1, 2, 1) # Define que vai exibir mais de um gráfico na mesma \"rodada de exibição\" e mostra que é o 1/2 que aparecerá\n",
        "plt.xlabel(\"Eixo X\") # Nomeia o eixo X\n",
        "plt.ylabel(\"Eixo Y\") # Nomeia o eixo Y\n",
        "plt.xticks(np.linspace(-10, 10, 11)) # Organiza o quadriculado do grid, tendo como base o eixo X\n",
        "plt.yticks(np.linspace(-10, 10, 11)) # Organiza o quadriculado do grid, tendo como base o eixo Y\n",
        "plt.xlim(-10, 10) # Define um limite de itens para ser exibido no eixo X\n",
        "plt.ylim(-10, 10) # Define um limite de itens para ser exibido no eixo Y\n",
        "plt.plot(x, y) # Cria a parábola no gráfico utilizando as coordenadas X e Y\n",
        "plt.grid() # Cria o quadriculado ao fundo do gráfico\n",
        "\n",
        "'''=========================Parábola Horizontal com Reta Suporte na Vertical========================='''\n",
        "y = t # Atribui o valor de t para y\n",
        "x = a * ((y - yv) ** 2) + xv # Equação paramétrica de X da parábola armazenada na variável x\n",
        "\n",
        "plt.subplot(1, 2, 2) # Define que vai exibir mais de um gráfico na mesma \"rodada de exibição\" e mostra que é o 2/2 que aparecerá\n",
        "plt.xlabel(\"Eixo X\") # Nomeia o eixo X\n",
        "plt.ylabel(\"Eixo Y\") # Nomeia o eixo Y\n",
        "plt.xticks(np.linspace(-10, 10, 11)) # Organiza o quadriculado do grid, tendo como base o eixo X\n",
        "plt.yticks(np.linspace(-10, 10, 11)) # Organiza o quadriculado do grid, tendo como base o eixo Y\n",
        "plt.xlim(-10, 10) # Define um limite de itens para ser exibido no eixo X\n",
        "plt.ylim(-10, 10) # Define um limite de itens para ser exibido no eixo Y\n",
        "plt.plot(x, y) # Cria a parábola no gráfico utilizando as coordenadas X e Y\n",
        "plt.grid() # Cria o quadriculado ao fundo do gráfico"
      ],
      "execution_count": null,
      "outputs": [
        {
          "output_type": "display_data",
          "data": {
            "image/png": "[encoded data removed]",
            "text/plain": [
              "<Figure size 720x360 with 2 Axes>"
            ]
          },
          "metadata": {
            "tags": [],
            "needs_background": "light"
          }
        }
      ]
    },
    {
      "cell_type": "markdown",
      "metadata": {
        "id": "gOMdonm9dinI"
      },
      "source": [
        "# Aula 06 - Vetores\n",
        "\n"
      ]
    },
    {
      "cell_type": "markdown",
      "metadata": {
        "id": "MM_z91JqBnDF"
      },
      "source": [
        "###### Nessa aula não foi apresentado nenhum conceito que pudesse ser aplicado ao Google Colab. Foi dado apenas a teoria."
      ]
    },
    {
      "cell_type": "markdown",
      "metadata": {
        "id": "YATbjpUY_JD1"
      },
      "source": [
        "# Aula 07 - Operações vetoriais\n"
      ]
    },
    {
      "cell_type": "markdown",
      "metadata": {
        "id": "YrlG2qnwBz03"
      },
      "source": [
        "##1. Adição de Vetores\n"
      ]
    },
    {
      "cell_type": "markdown",
      "metadata": {
        "id": "ioQR5dglCFEe"
      },
      "source": [
        "### $$\\vec{v} = [3, 6, -2]$$\n",
        "### $$\\vec{u} = [1, -1, 5]$$\n",
        "### $$\\vec{r} = \\vec{v} + \\vec{u}$$\n",
        "&nbsp;\n",
        "\n",
        "### $$\\vec{r} = [(\\vec{v}[0] + \\vec{u}[0]), (\\vec{v}[1] + \\vec{u}[1]), (\\vec{v}[2] + \\vec{u}[2]), ..., (\\vec{v}[n] + \\vec{u}[n])]$$\n",
        "\n",
        "&nbsp;\n",
        "### $$\\vec{r} = [(3 + 1), (6 + (-1)), ((-2) + 5)]$$\n",
        "\n",
        "### $$\\vec{r} = [4, 5, 3]$$"
      ]
    },
    {
      "cell_type": "code",
      "metadata": {
        "id": "OPlgtgAghSV9"
      },
      "source": [
        "import numpy as np # Importa a biblioteca NumPy e coloca o apelido \"np\" para ser usado"
      ],
      "execution_count": null,
      "outputs": []
    },
    {
      "cell_type": "code",
      "metadata": {
        "id": "JM0AnGGpB2C1",
        "colab": {
          "base_uri": "https://localhost:8080/"
        },
        "outputId": "39bf2686-21c8-4028-bc4f-34ca78fcf2a1"
      },
      "source": [
        "v = np.array([3, 6, -2]) # Cria o vetor v\n",
        "u = np.array([1, -1, 5]) # Cria o vetor u\n",
        "\n",
        "r = v + u # Calcula o vetor resultante r\n",
        "\n",
        "print(\"%s + %s = %s\" % (v, u, r)) # printa o calculo e seu resultado do vetor r"
      ],
      "execution_count": null,
      "outputs": [
        {
          "output_type": "stream",
          "text": [
            "[ 3  6 -2] + [ 1 -1  5] = [4 5 3]\n"
          ],
          "name": "stdout"
        }
      ]
    },
    {
      "cell_type": "markdown",
      "metadata": {
        "id": "kEhG9w9oCmCD"
      },
      "source": [
        "##2. Inversão de um Vetor\n"
      ]
    },
    {
      "cell_type": "markdown",
      "metadata": {
        "id": "6S1gtBvjCzfF"
      },
      "source": [
        "### $$\\vec{v} = [3, 6, -1, 5, -2]$$\n",
        "### $$\\vec{-v} = [-(3), -(6), -(-1), -(5), -(-2)]$$\n",
        "&nbsp;\n",
        "### <h3 align=\"center\">**_OU_**</h3>\n",
        "&nbsp;\n",
        "### $$\\vec{v} * (-1) = \\vec{-v}$$"
      ]
    },
    {
      "cell_type": "code",
      "metadata": {
        "id": "uVuJYqF7hsfd"
      },
      "source": [
        "import numpy as np # Importa a biblioteca NumPy e coloca o apelido \"np\" para ser usado"
      ],
      "execution_count": null,
      "outputs": []
    },
    {
      "cell_type": "code",
      "metadata": {
        "id": "F1x7k_AvC6Bm",
        "colab": {
          "base_uri": "https://localhost:8080/"
        },
        "outputId": "333f4da2-c3df-42fb-8f01-5699fb1377b9"
      },
      "source": [
        "v = np.array([3, 6, -2]) # Cria o vetor v\n",
        "\n",
        "i1 = -v # Atribui o valor de -v a i1\n",
        "i2 = v * (-1) # Calcula o inverso do vetor v, multiplicando-o por um escalar (-1)\n",
        "\n",
        "print(\"%s = %s\" % (v, i1)) # printa o inverso do vetor v\n",
        "print(\"%s = %s\" % (v, i2)) # printa o calculo e seu resultado"
      ],
      "execution_count": null,
      "outputs": [
        {
          "output_type": "stream",
          "text": [
            "[ 3  6 -2] = [-3 -6  2]\n",
            "[ 3  6 -2] = [-3 -6  2]\n"
          ],
          "name": "stdout"
        }
      ]
    },
    {
      "cell_type": "markdown",
      "metadata": {
        "id": "FkL4LskxDtNW"
      },
      "source": [
        "##3. Subtração de Vetores\n"
      ]
    },
    {
      "cell_type": "markdown",
      "metadata": {
        "id": "8WT034C1D3eH"
      },
      "source": [
        "### $$\\vec{v} = [3, 2, -4, 1]$$\n",
        "### $$\\vec{u} = [1, 5, -1, 0]$$\n",
        "### $$\\vec{r} = \\vec{v} - \\vec{u}$$\n",
        "&nbsp;\n",
        "\n",
        "### $$\\vec{r} = [(\\vec{v}[0] - \\vec{u}[0]), (\\vec{v}[1] - \\vec{u}[1]), (\\vec{v}[2] - \\vec{u}[2]), ..., (\\vec{v}[n] - \\vec{u}[n])]$$\n",
        "\n",
        "&nbsp;\n",
        "### $$\\vec{r} = [(3 - 1), (2 - 5), ((-4) - (-1)), (1 - 0)]$$\n",
        "\n",
        "### $$\\vec{r} = [2, -3, -3, 1]$$\n",
        "&nbsp;\n",
        "\n",
        "### <h3 align=\"center\">**_OU_**</h3>\n",
        "\n",
        "&nbsp;\n",
        "### $$\\vec{r} = \\vec{v} + \\vec{(-u)}$$\n",
        "&nbsp;\n",
        "\n",
        "### $$\\vec{r} = [(\\vec{v}[0] + \\vec{(-u}[0])), (\\vec{v}[1] + \\vec{(-u}[1])), (\\vec{v}[2] + \\vec{(-u}[2])), ..., (\\vec{v}[n] + \\vec{(-u}[n]))]$$\n",
        "&nbsp;\n",
        "\n",
        "### $$\\vec{r} = [(3 + (-1)), (2 + (-5)), ((-4) + (-(-1))), (1 + (-0))]$$\n",
        "\n",
        "### $$\\vec{r} = [2, -3, -3, 1]$$"
      ]
    },
    {
      "cell_type": "code",
      "metadata": {
        "id": "5wKCYxvghttd"
      },
      "source": [
        "import numpy as np # Importa a biblioteca NumPy e coloca o apelido \"np\" para ser usado"
      ],
      "execution_count": null,
      "outputs": []
    },
    {
      "cell_type": "code",
      "metadata": {
        "colab": {
          "base_uri": "https://localhost:8080/"
        },
        "id": "y7nwp7v1ocGl",
        "outputId": "c532362e-fb56-489c-f1f6-19d045ff0d0c"
      },
      "source": [
        "v = np.array([3, 2, -4, 1]) # Cria o vetor v\n",
        "u = np.array([1, 5, -1, 0]) # Cria o vetor u\n",
        "\n",
        "r1 = v - u # Calcula o vetor resultante r1\n",
        "r2 = v + (-u) # Calcula o vetor resultante r2\n",
        "\n",
        "print(\"%s - %s = %s\" % (v, u, r1)) # printa o calculo e seu resultado do vetor r1\n",
        "print(\"%s + (-%s) = %s\" % (v, u, r2)) # printa o calculo e seu resultado do vetor r2"
      ],
      "execution_count": null,
      "outputs": [
        {
          "output_type": "stream",
          "text": [
            "[ 3  2 -4  1] - [ 1  5 -1  0] = [ 2 -3 -3  1]\n",
            "[ 3  2 -4  1] + (-[ 1  5 -1  0]) = [ 2 -3 -3  1]\n"
          ],
          "name": "stdout"
        }
      ]
    },
    {
      "cell_type": "markdown",
      "metadata": {
        "id": "U3BfBkIoqByl"
      },
      "source": [
        "##4. Multiplicação de Vetor por escalar\n"
      ]
    },
    {
      "cell_type": "markdown",
      "metadata": {
        "id": "hLQBP4cEqXHt"
      },
      "source": [
        "### $$\\vec{v} = [3, 2]$$\n",
        "### $${a} = 4$$\n",
        "### $$\\vec{r} = {a} * \\vec{v}$$\n",
        "&nbsp;\n",
        "\n",
        "### $$\\vec{r} = [({a} *\\vec{v}[0]), ({a} *\\vec{v}[1]), ({a} *\\vec{v}[2]), ..., ({a} *\\vec{v}[n])]$$\n",
        "\n",
        "&nbsp;\n",
        "### $$\\vec{r} = [(4 * 3), (4 * 2)]$$\n",
        "\n",
        "### $$\\vec{r} = [12, 8]$$"
      ]
    },
    {
      "cell_type": "code",
      "metadata": {
        "id": "rluyWJV4rfQ9"
      },
      "source": [
        "import numpy as np # Importa a biblioteca NumPy e coloca o apelido \"np\" para ser usado"
      ],
      "execution_count": null,
      "outputs": []
    },
    {
      "cell_type": "code",
      "metadata": {
        "colab": {
          "base_uri": "https://localhost:8080/"
        },
        "id": "Wz2oDH2mrlMs",
        "outputId": "c4b6d371-b219-4424-ece6-9bcd0aea1ab6"
      },
      "source": [
        "v = np.array([3, 2]) # Cria o vetor v\n",
        "a = 4 # Cria o escalar a\n",
        "\n",
        "r = a * v # Calcula o vetor resultante r\n",
        "\n",
        "print(\"%s * %s = %s\" % (a, v, r)) # printa o calculo e seu resultado do vetor r"
      ],
      "execution_count": null,
      "outputs": [
        {
          "output_type": "stream",
          "text": [
            "4 * [3 2] = [12  8]\n"
          ],
          "name": "stdout"
        }
      ]
    },
    {
      "cell_type": "markdown",
      "metadata": {
        "id": "ExeMcSh2sge1"
      },
      "source": [
        "##5. Multiplicação entre Vetores (Produto Interno)\n"
      ]
    },
    {
      "cell_type": "markdown",
      "metadata": {
        "id": "TBMGBXAMs9a9"
      },
      "source": [
        "### $$\\vec{v} = [3, 2, 2]$$\n",
        "### $$\\vec{u} = [1, -2, 1]$$\n",
        "### $$\\vec{v}.\\vec{u} = \\vec{v} * \\vec{u}$$\n",
        "&nbsp;\n",
        "\n",
        "### $$\\vec{v}.\\vec{u} = (\\vec{v}[0] * \\vec{u}[0]) + (\\vec{v}[1] * \\vec{u}[1]) + (\\vec{v}[2] * \\vec{u}[2]) + ... + (\\vec{v}[n] * \\vec{u}[n])$$\n",
        "\n",
        "&nbsp;\n",
        "### $$\\vec{v}.\\vec{u} = (3 * 1) + (2 * (-2)) + (2 * 1)$$\n",
        "\n",
        "### $$\\vec{v}.\\vec{u} = 1$$\n",
        "&nbsp;\n",
        "\n",
        "### <h3 align=\"center\">**_OU_**</h3>\n",
        "\n",
        "&nbsp;\n",
        "### $$\\vec{v}.\\vec{u} = |{v}| * |{u}| * cos(\\theta)$$\n",
        "###### <h6 align=\"center\">_É realizado a multiplicação das normas e não dos vetores_</h3>\n",
        "&nbsp;\n",
        "\n",
        "### $$\\vec{v}.\\vec{u} = \\sqrt({v}[0]^2 + {v}[1]^2 + {v}[2]^2 + ... + {v}[n]^2) * \\sqrt({u}[0]^2 + {u}[1]^2 + {u}[2]^2 + ... + {u}[n]^2) * cos(\\theta)$$\n",
        "&nbsp;\n",
        "\n",
        "### $$\\vec{v}.\\vec{u} = \\sqrt(3^2 + 2^2 + 2^2) * \\sqrt(1^2 + (-2)^2 + 1^2) * cos(\\theta)$$\n",
        "\n",
        "### $$\\vec{v}.\\vec{u} = \\sqrt(17) * \\sqrt(6) * cos(\\theta)$$\n",
        "\n",
        "###### <h6 align=\"center\">_Como não sabemos o valor do ângulo theta, não podemos realizar o cálculo_</h3>\n",
        "###### <h6 align=\"center\">_Porém, podemos achar o ângulo entre os vetores, assim como será mostrado na próxima seção_</h3>\n"
      ]
    },
    {
      "cell_type": "code",
      "metadata": {
        "id": "7uC_YN-TyAKV"
      },
      "source": [
        "import numpy as np # Importa a biblioteca NumPy e coloca o apelido \"np\" para ser usado"
      ],
      "execution_count": null,
      "outputs": []
    },
    {
      "cell_type": "code",
      "metadata": {
        "colab": {
          "base_uri": "https://localhost:8080/"
        },
        "id": "5AWPgfwsyFH_",
        "outputId": "068305c3-e1c7-417c-9009-6700b763dcc9"
      },
      "source": [
        "v = np.array([3, 2, 2]) # Cria o vetor v\n",
        "u = np.array([1, -2, 1]) # Cria o vetor u\n",
        "vu = 0 # Cria a variável acumuladora vu, que representa a multiplicação dos termos de v e u, e atribui o valor 0 para ela\n",
        "\n",
        "vu = np.dot(v, u) # Calcula a multiplicação (Produto Interno) entre os vetores v e u\n",
        "\n",
        "print(\"%s * %s = %s\" % (v, u, vu)) # printa o calculo e seu resultado do vetor vu"
      ],
      "execution_count": null,
      "outputs": [
        {
          "output_type": "stream",
          "text": [
            "[3 2 2] * [ 1 -2  1] = 1\n"
          ],
          "name": "stdout"
        }
      ]
    },
    {
      "cell_type": "markdown",
      "metadata": {
        "id": "cMqkvEhbj1bJ"
      },
      "source": [
        "## <div id=\"angulos\">6. Ângulos entre Vetores</div>\n"
      ]
    },
    {
      "cell_type": "markdown",
      "metadata": {
        "id": "eMYqEFRGll06"
      },
      "source": [
        "### <h6 align=\"center\">_Utilizando as formas de calcular o produto interno entre dois vetores, podemos encontrar o ângulo entre os mesmos_</h6>\n",
        "\n",
        "### $$\\vec{v}.\\vec{u} = (\\vec{v}[0] * \\vec{u}[0]) + (\\vec{v}[1] * \\vec{u}[1]) + (\\vec{v}[2] * \\vec{u}[2]) + ... + (\\vec{v}[n] * \\vec{u}[n])$$\n",
        "\n",
        "### $$\\vec{v}.\\vec{u} = |{v}| * |{u}| * cos(\\theta)$$\n",
        "&nbsp;\n",
        "\n",
        "### $\\therefore$ &emsp; $|{v}| * |{u}| * cos(\\theta) = (\\vec{v}[0] * \\vec{u}[0]) + (\\vec{v}[1] * \\vec{u}[1]) + (\\vec{v}[2] * \\vec{u}[2]) + (\\vec{v}[n] * \\vec{u}[n])$\n",
        "\n",
        "### $$cos(\\theta) = \\frac{(\\vec{v}[0] * \\vec{u}[0]) + (\\vec{v}[1] * \\vec{u}[1]) + (\\vec{v}[2] * \\vec{u}[2]) + (\\vec{v}[n] * \\vec{u}[n])} {|{v}| * |{u}|}$$\n",
        "\n",
        "### $$\\theta = arccos(\\frac{(\\vec{v}[0] * \\vec{u}[0]) + (\\vec{v}[1] * \\vec{u}[1]) + (\\vec{v}[2] * \\vec{u}[2]) + (\\vec{v}[n] * \\vec{u}[n])} {|{v}| * |{u}|})$$\n",
        "&nbsp;\n",
        "\n",
        "### $$\\vec{v} = [3, 2, 2]$$\n",
        "### $$\\vec{u} = [1, -2, 1]$$\n",
        "&nbsp;\n",
        "\n",
        "### $$(\\vec{v}[0] * \\vec{u}[0]) + (\\vec{v}[1] * \\vec{u}[1]) + (\\vec{v}[2] * \\vec{u}[2]) + (\\vec{v}[n] * \\vec{u}[n]) = (3*1) + (2*(-2)) + (2 * 1) = 1$$\n",
        "\n",
        "### $$\\vec{|v|} = \\sqrt(3^2 + 2^2 + 2^2 = \\sqrt(17)$$\n",
        "### $$\\vec{|u|} = \\sqrt(1^2 + (-2)^2 + 1^2 = \\sqrt(6)$$\n",
        "&nbsp;\n",
        "\n",
        "### $$\\theta = arccos(\\frac{1} {\\sqrt(17)* \\sqrt(6)})$$\n",
        "### $$\\theta \\approx arccos(0.198)$$\n",
        "### $$\\theta \\approx 84.32^\\circ$$"
      ]
    },
    {
      "cell_type": "code",
      "metadata": {
        "id": "P56yXNXle2He"
      },
      "source": [
        "import numpy as np # Importa a biblioteca NumPy e coloca o apelido \"np\" para ser usado"
      ],
      "execution_count": null,
      "outputs": []
    },
    {
      "cell_type": "code",
      "metadata": {
        "colab": {
          "base_uri": "https://localhost:8080/"
        },
        "id": "CdpgKEAJoWrI",
        "outputId": "6495076e-e382-4383-cb52-7ee7a2ae0f6c"
      },
      "source": [
        "v = np.array([3, 2, 2]) # Cria o vetor v\n",
        "u = np.array([1, -2, 1]) # Cria o vetor u\n",
        "vu = 0 # Cria a variável acumuladora vu, que representa a multiplicação dos termos de v e u, e atribui o valor 0 para ela\n",
        "\n",
        "vu = np.dot(v, u) # Calcula a multiplicação (Produto Interno) entre os vetores v e u\n",
        "\n",
        "ang = np.arccos(vu / (np.linalg.norm(v) * np.linalg.norm(u))) # Calcula o valor do ângulo, pela função arccos, e armazena na variável ang\n",
        "\n",
        "print(\"O ângulo entre %s e %s é aproximadamente %.2f°\" % (v, u, np.rad2deg(ang))) # printa o calculo e seu resultado do vetor vu"
      ],
      "execution_count": null,
      "outputs": [
        {
          "output_type": "stream",
          "text": [
            "O ângulo entre [3 2 2] e [ 1 -2  1] é aproximadamente 84.32°\n"
          ],
          "name": "stdout"
        }
      ]
    },
    {
      "cell_type": "markdown",
      "metadata": {
        "id": "h149_FiOJoOR"
      },
      "source": [
        "# Aula 08 - Espaços vetoriais"
      ]
    },
    {
      "cell_type": "markdown",
      "metadata": {
        "id": "meo5_aQNWztc"
      },
      "source": [
        "###### Nessa aula não foi apresentado nenhum conceito que pudesse ser aplicado ao Google Colab. Foi dado apenas a teoria."
      ]
    },
    {
      "cell_type": "markdown",
      "metadata": {
        "id": "lrOVfYK2JuXj"
      },
      "source": [
        "# Atividade Contínua 02 (AC02)- Estudo de cônicas\n"
      ]
    },
    {
      "cell_type": "code",
      "metadata": {
        "id": "hPeeLV9ZF5sN"
      },
      "source": [
        "import numpy as np # Importa a biblioteca NumPy e coloca o apelido \"np\" para ser usado\n",
        "import matplotlib.pyplot as plt # Importa o módulo PyPlot da biblioteca Matplotlib e coloca o apelido \"plt\" para ser usado\n",
        "%matplotlib inline"
      ],
      "execution_count": null,
      "outputs": []
    },
    {
      "cell_type": "markdown",
      "metadata": {
        "id": "wITSKtCYF9PK"
      },
      "source": [
        "## Exercício 1\n"
      ]
    },
    {
      "cell_type": "code",
      "metadata": {
        "colab": {
          "base_uri": "https://localhost:8080/",
          "height": 609
        },
        "id": "fAQlRkGLGAtq",
        "outputId": "a052b55b-891b-4713-c899-ea18eb4c56b4"
      },
      "source": [
        "t = np.linspace(0, 2*np.pi, 100) # Cria a variável auxiliar t\n",
        "\n",
        "'''========================= Rosto ========================='''\n",
        "raio_rosto = 50 # Define o tamanho do raio do rosto como 50, e armazena na variável raio_rosto\n",
        "xc_rosto = 0 # Define a coordenada X do centro do rosto como 0, e armazena na variável xc_rosto\n",
        "yc_rosto = 0 # Define a coordenada Y do centro do rosto como 0, e armazena na variável yc_rosto\n",
        "\n",
        "x_rosto = raio_rosto * np.cos(t) + xc_rosto # Equação paramétrica de X do círculo do rosto, armazenada na variável x_rosto\n",
        "y_rosto = raio_rosto * np.sin(t) + yc_rosto # Equação paramétrica de Y do círculo do rosto, armazenada na variável y_rosto\n",
        "\n",
        "'''========================= Nariz ========================='''\n",
        "raio_nariz = 10 # Define o tamanho do raio do nariz como 10, e armazena na variável raio_nariz\n",
        "xc_nariz = 0 # Define a coordenada X do centro do nariz como 0, e armazena na variável xc_nariz\n",
        "yc_nariz = 0 # Define a coordenada Y do centro do nariz como 0, e armazena na variável yc_nariz\n",
        "\n",
        "x_nariz = raio_nariz * np.cos(t) + xc_nariz # Equação paramétrica de X do círculo do nariz, armazenada na variável x_nariz\n",
        "y_nariz = raio_nariz * np.sin(t) + yc_nariz # Equação paramétrica de Y do círculo do nariz, armazenada na variável y_nariz\n",
        "\n",
        "'''========================= Olhos ========================='''\n",
        "dist_olho = 3 # Define a distância de uma \"parábola\" até a outra, e armazena na variável dist_olho\n",
        "abert_olho = 1 # Define a a abertura das \"parábolas\", e armazena na variável abert_olho\n",
        "xc_olho = 0 # Define a coordenada X do centro como 0, e armazena na variável xc_olho\n",
        "yc_olho = 20 # Define a coordenada Y do centro como 20, e armazena na variável yc_olho\n",
        "\n",
        "t2 = np.linspace(-3, 3, 100) # Cria a variável auxiliar t2\n",
        "\n",
        "x_olho = dist_olho * np.cosh(t2) + xc_olho # Equação paramétrica de X da hipérbole, armazenada na variável x_olho\n",
        "y_olho = abert_olho * np.sinh(t2) + yc_olho # Equação paramétrica de Y da hipérbole, armazenada na variável y_olho\n",
        "\n",
        "'''========================= Parte superior da boca ========================='''\n",
        "abert_boca_superior = 3 # Define a abertura da parábola e o seu tamanho, e armazena na variável abert_boca_superior\n",
        "xv_boca_superior = 0 # Define a coordenada X do vértice como 0, e armazena na variável xv_boca_superior\n",
        "yv_boca_superior = -20 # Define a coordenada Y do vértice como -20, e armazena na variável yv_boca_superior\n",
        "\n",
        "x_boca_superior = 13*t2 # Atribui o valor de 13*t2 para x_boca_superior\n",
        "y_boca_superior = abert_boca_superior * ((t2 - xv_boca_superior) ** 2) + yv_boca_superior # Equação paramétrica de Y da parábola, armazenada na variável y_boca_superior\n",
        "\n",
        "'''========================= Parte inferior da boca ========================='''\n",
        "abert_boca_inferior = 3 # Define a abertura da parábola e o seu tamanho, e armazena na variável abert_boca_inferior\n",
        "xv_boca_inferior = 0 # Define a coordenada X do vértice como 0, e armazena na variável xv_boca_inferior\n",
        "yv_boca_inferior = -40 # Define a coordenada Y do vértice como -40, e armazena na variável yv_boca_inferior\n",
        "\n",
        "t3 = np.linspace(-4, 4, 100) # Cria a variável auxiliar t3\n",
        "\n",
        "x_boca_inferior = 9.85*t3 # Atribui o valor de 9.85*t3 para x_boca_inferior\n",
        "y_boca_inferior = abert_boca_inferior * ((t3 - xv_boca_inferior) ** 2) + yv_boca_inferior # Equação paramétrica de Y da parábola, armazenada na variável y_boca_inferior\n",
        "\n",
        "'''========================= Língua ========================='''\n",
        "abert_lingua = -10 # Define a abertura da parábola e o seu tamanho, e armazena na variável abert_lingua\n",
        "xv_lingua = 0 # Define a coordenada X do vértice da parábola como 0, e armazena na variável xv_lingua\n",
        "yv_lingua = -25 # Define a coordenada Y do vértice da parábola como -25, e armazena na variável yv_lingua\n",
        "\n",
        "t4 = np.linspace(-1, 1, 100) # Cria a variável auxiliar t4\n",
        "\n",
        "x_lingua = 12*t4 # Atribui o valor de 12*t4 para x_lingua\n",
        "y_lingua = abert_lingua * ((t4 - xv_lingua) ** 2) + yv_lingua # Equação paramétrica de Y da parábola, armazenada na variável y_lingua\n",
        "\n",
        "'''========================= Reta da Esquerda do Chapéu ========================='''\n",
        "t5 = np.linspace(0, 30, 100) # Cria a variável auxiliar t5\n",
        "xe_chapeu = t5 # Atribui o valor de t5 para a variável xe_chapeu\n",
        "ye_chapeu = t5 + 50 # Equação da reta da esquerda, armazenada na variável ye_chapeu\n",
        "\n",
        "'''========================= Reta da Direita do Chapéu ========================='''\n",
        "t6 = np.linspace(30, 40, 100) # Cria a variável auxiliar t6\n",
        "xd_chapeu = t6 # Atribui o valor de t6 para a variável xd_chapeu\n",
        "yd_chapeu = -1.66*t5 + 80 # Equação da reta da direita, armazenada na variável yd_chapeu\n",
        "\n",
        "'''========================= Plotagem dos gráficos ========================='''\n",
        "plt.figure(figsize=(8, 10)) # Define o tamanho do objeto como 8x10\n",
        "plt.xticks(np.linspace(-40, 40, 5)) # Define os pontos que serão exibidos no Eixo X\n",
        "plt.yticks(np.linspace(-40, 80, 7)) # Define os pontos que serão exibidos no Eixo Y\n",
        "plt.xlim(-55, 55) # Define um limite de pontos a serem exibidos no Eixo X\n",
        "plt.ylim(-55, 85) # Define um limite de pontos a serem exibidos no Eixo Y\n",
        "plt.plot(x_rosto, y_rosto, 'blue') # Cria o círculo no gráfico utilizando as coordenadas X e Y do rosto\n",
        "plt.plot(x_nariz, y_nariz, 'blue') # Cria o círculo no gráfico utilizando as coordenadas X e Y do nariz\n",
        "plt.plot(x_olho, y_olho, 'blue') # Cria uma parte da  hipérbole no gráfico utilizando as coordenadas X e Y do olho\n",
        "plt.plot(xc_olho - x_olho, y_olho, 'blue') # Cria outra parte da  hipérbole no gráfico utilizando as coordenadas (Xc - X) e Y do olho\n",
        "plt.plot(x_boca_superior, y_boca_superior, 'blue') # Cria a parábola no gráfico utilizando as coordenadas X e Y da parte superior da boca\n",
        "plt.plot(x_boca_inferior, y_boca_inferior, 'blue') # Cria a parábola no gráfico utilizando as coordenadas X e Y da parte inferior da boca\n",
        "plt.plot(x_lingua, y_lingua, 'blue') # Cria a parábola no gráfico utilizando as coordenadas X e Y da língua\n",
        "plt.plot(xe_chapeu, ye_chapeu, 'blue') # Cria a reta da esquerda no gráfico utilizando as coordenadas X e Y da esquerda do chapéu\n",
        "plt.plot(xd_chapeu, yd_chapeu, 'blue') # Cria a reta da direita no gráfico utilizando as coordenadas X e Y da direita do chapéu"
      ],
      "execution_count": null,
      "outputs": [
        {
          "output_type": "execute_result",
          "data": {
            "text/plain": [
              "[<matplotlib.lines.Line2D at 0x7fcd11b04d50>]"
            ]
          },
          "metadata": {
            "tags": []
          },
          "execution_count": 2
        },
        {
          "output_type": "display_data",
          "data": {
            "image/png": "[encoded data removed]",
            "text/plain": [
              "<Figure size 576x720 with 1 Axes>"
            ]
          },
          "metadata": {
            "tags": [],
            "needs_background": "light"
          }
        }
      ]
    },
    {
      "cell_type": "markdown",
      "metadata": {
        "id": "Nrky0qenGHoz"
      },
      "source": [
        "## Exercício 2"
      ]
    },
    {
      "cell_type": "code",
      "metadata": {
        "colab": {
          "base_uri": "https://localhost:8080/",
          "height": 500
        },
        "id": "C1-KdAkJGOqV",
        "outputId": "a8b24dca-b079-4bef-b872-800f32437a4a"
      },
      "source": [
        "t = np.linspace(0, 2*np.pi, 100) # Cria a variável auxiliar t\n",
        "\n",
        "'''========================= Rosto ========================='''\n",
        "raio_rosto = 50 # Define o tamanho do raio como 50, e armazena na variável raio_rosto\n",
        "xc_rosto = 0 # Define a coordenada X do centro como 0, e armazena na variável xc_rosto\n",
        "yc_rosto = 0 # Define a coordenada Y do centro como 0, e armazena na variável yc_rosto\n",
        "\n",
        "x_rosto = raio_rosto * np.cos(t) + xc_rosto # Equação paramétrica de X do círculo do rosto, armazenada na variável x_rosto\n",
        "y_rosto = raio_rosto * np.sin(t) + yc_rosto # Equação paramétrica de Y do círculo do rosto, armazenada na variável y_rosto\n",
        "\n",
        "'''========================= Elipse do Nariz ========================='''\n",
        "abert_hori_nariz = 8 # Define a abertura horizontal da elipse, e armazena na variável abert_hori_nariz\n",
        "abert_vert_nariz = 4 # Define a abertura vertical da elipse, e armazena na variável abert_vert_nariz\n",
        "xc_nariz = 0 # Define a coordenada X do centro do nariz como 0, e armazena na variável xc_nariz\n",
        "yc_nariz = -5 # Define a coordenada Y do centro do nariz como -5, e armazena na variável yc_nariz\n",
        "\n",
        "x_nariz = abert_hori_nariz * np.cos(t) + xc_nariz # Equação paramétrica de X da elipse, armazenada na variável x_nariz\n",
        "y_nariz = abert_vert_nariz * np.sin(t) + yc_nariz # Equação paramétrica de Y da elipse, armazenada na variável y_nariz\n",
        "\n",
        "'''========================= Parábola do Nariz ========================='''\n",
        "abert_nariz = -10 # Define a abertura da parábola e o seu tamanho, e armazena na variável abert_nariz\n",
        "xv_nariz = 0 # Define a coordenada X do vértice como 0, e armazena na variável xv_nariz\n",
        "yv_nariz = 0 # Define a coordenada Y do vértice como 0, e armazena na variável yv_nariz\n",
        "\n",
        "t2 = np.linspace(-0.8, 0.8, 100) # Cria a variável auxiliar t2\n",
        "\n",
        "x_parabola_nariz = 25*t2 # Atribui o valor de 25*t2 para x_parabola_nariz\n",
        "y_parabola_nariz = abert_nariz * ((t2 - xv_nariz) ** 2) + yv_nariz # Equação paramétrica de Y da parábola, armazenada na variável y_parabola_nariz\n",
        "\n",
        "'''========================= Elipse do Olho Esquerdo ========================='''\n",
        "abert_vert_oe = 18 # Define a abertura vertical da elipse, e armazena na variável abert_vert_oe\n",
        "abert_hori_oe = 8 # Define a abertura horizontal da elipse, e armazena na variável abert_hori_oe\n",
        "xc_oe = -20 # Define a coordenada X do centro da elipse do olho esquerdo como -20, e armazena na variável xc_oe\n",
        "yc_oe = 15 # Define a coordenada Y do centro da elipse do olho esquerdo como 15, e armazena na variável yc_oe\n",
        "\n",
        "x_oe = abert_hori_oe * np.cos(t) + xc_oe # Equação paramétrica de X da elipse, armazenada na variável x_oe\n",
        "y_oe = abert_vert_oe * np.sin(t) + yc_oe # Equação paramétrica de Y da elipse, armazenada na variável y_oe\n",
        "\n",
        "'''========================= Círculo do Olho Esquerdo ========================='''\n",
        "raio_olhos = 5 # Define o tamanho do raio como 5, e armazena na variável raio_olhos\n",
        "xc_olho_esquerdo = -20 # Define a coordenada X do centro do círculo do olho esquerdo como -20, e armazena na variável xc_olho_esquerdo\n",
        "yc_olho_esquerdo = 10 # Define a coordenada Y do centro do círculo do olho esquerdo  como 10, e armazena na variável yc_olho_esquerdo\n",
        "\n",
        "x_olho_esquerdo = raio_olhos * np.cos(t) + xc_olho_esquerdo # Equação paramétrica de X do círculo do olho, armazenada na variável x_olho_esquerdo\n",
        "y_olho_esquerdo = raio_olhos * np.sin(t) + yc_olho_esquerdo # Equação paramétrica de Y do círculo do olho, armazenada na variável y_olho_esquerdo\n",
        "\n",
        "'''========================= Elipse do Olho Direito ========================='''\n",
        "abert_vert_od = 18 # Define a abertura vertical da elipse, e armazena na variável abert_vert_od\n",
        "abert_hori_od = 8 # Define a abertura horizontal da elipse, e armazena na variável abert_hori_od\n",
        "xc_od = 20 # Define a coordenada X do centro da elipse do olho direito como 20, e armazena na variável xc_od\n",
        "yc_od = 15 # Define a coordenada Y do centro da elipse do olho direito como 15, e armazena na variável yc_od\n",
        "\n",
        "x_od = abert_hori_od * np.cos(t) + xc_od # Equação paramétrica de X da elipse armazenada na variável x_od\n",
        "y_od = abert_vert_od * np.sin(t) + yc_od # Equação paramétrica de Y da elipse armazenada na variável y_od\n",
        "\n",
        "'''========================= Círculo do Olho Direito ========================='''\n",
        "xc_olho_direito = 20 # Define a coordenada X do centro do círculo do olho direito como 20, e armazena na variável xc_olho_direito\n",
        "yc_olho_direito = 10 # Define a coordenada Y do centro do círculo do olho direito como 10, e armazena na variável yc_olho_direito\n",
        "\n",
        "x_olho_direito = raio_olhos * np.cos(t) + xc_olho_direito # Equação paramétrica de X do círculo do olho, armazenada na variável x_olho_direito\n",
        "y_olho_direito = raio_olhos * np.sin(t) + yc_olho_direito # Equação paramétrica de Y do círculo do olho, armazenada na variável y_olho_direito\n",
        "\n",
        "'''========================= Orelha Esquerda ========================='''\n",
        "raio_orelhas = 20 # Define o tamanho do raio como 20, e armazena na variável raio_orelhas\n",
        "xc_orelha_esquerda = -54 # Define a coordenada X do centro como -54, e armazena na variável xc_orelha_esquerda\n",
        "yc_orelha_esquerda = 45 # Define a coordenada Y do centro como 45, e armazena na variável yc_orelha_esquerda\n",
        "\n",
        "x_orelha_esquerda = raio_orelhas * np.cos(t) + xc_orelha_esquerda # Equação paramétrica de X do círculo da orelha esquerda, armazenada na variável x_orelha_esquerda\n",
        "y_orelha_esquerda = raio_orelhas * np.sin(t) + yc_orelha_esquerda # Equação paramétrica de Y do círculo da orelha esquerda, armazenada na variável y_orelha_esquerda\n",
        "\n",
        "'''========================= Orelha Direita ========================='''\n",
        "xc_orelha_direita = 54 # Define a coordenada X do centro como 54, e armazena na variável xc_orelha_direita\n",
        "yc_orelha_direita = 45 # Define a coordenada Y do centro como 45, e armazena na variável yc_orelha_direita\n",
        "\n",
        "x_orelha_direita = raio_orelhas * np.cos(t) + xc_orelha_direita # Equação paramétrica de X do círculo da orelha direita, armazenada na variável x_orelha_direita\n",
        "y_orelha_direita = raio_orelhas * np.sin(t) + yc_orelha_direita # Equação paramétrica de Y do círculo da orelha direita, armazenada na variável y_orelha_direita\n",
        "\n",
        "'''========================= Parte superior da boca ========================='''\n",
        "abert_boca_superior = 4 # Define a abertura da parábola e o seu tamanho, e armazena na variável abert_boca_superior\n",
        "xv_boca_superior = 0 # Define a coordenada X do vértice como 0, e armazena na variável xv_boca_superior\n",
        "yv_boca_superior = -25 # Define a coordenada Y do vértice como -25, e armazena na variável yv_boca_superior\n",
        "\n",
        "t3 = np.linspace(-2, 2, 100) # Cria a variável auxiliar t3\n",
        "\n",
        "x_boca_superior = 20*t3 # Atribui o valor de 20*t3 para x_boca_superior\n",
        "y_boca_superior = abert_boca_superior * ((t3 - xv_boca_superior) ** 2) + yv_boca_superior # Equação paramétrica de Y da parábola, armazenada na variável y_boca_superior\n",
        "\n",
        "'''========================= Parte inferior da boca ========================='''\n",
        "abert_boca_inferior = 1.3 # Define a abertura da parábola e o seu tamanho, e armazena na variável abert_boca_inferior\n",
        "xv_boca_inferior = 0 # Define a coordenada X do vértice como 0, e armazena na variável xv_boca_inferior\n",
        "yv_boca_inferior = -35 # Define a coordenada Y do vértice como -35, e armazena na variável yv_boca_inferior\n",
        "\n",
        "t4 = np.linspace(-3.2, 3.2, 100) # Cria a variável auxiliar t4\n",
        "\n",
        "x_boca_inferior = 6*t4 # Atribui o valor de 6*t4 para x_boca_inferior\n",
        "y_boca_inferior = abert_boca_inferior * ((t4 - xv_boca_inferior) ** 2) + yv_boca_inferior # Equação paramétrica de Y da parábola, armazenada na variável y_boca_inferior\n",
        "\n",
        "'''========================= Plotagem dos gráficos ========================='''\n",
        "plt.figure(figsize=(10, 8)) # Define o tamanho do gráfico como 10x8\n",
        "plt.xticks(np.linspace(-80, 80, 9)) # Define os pontos que serão exibidos no Eixo X\n",
        "plt.yticks(np.linspace(-40, 60, 6)) # Define os pontos que serão exibidos no Eixo Y\n",
        "plt.xlim(-85, 85) # Define um limite de pontos a serem exibidos no Eixo X\n",
        "plt.ylim(-55, 70) # Define um limite de pontos a serem exibidos no Eixo Y\n",
        "plt.plot(x_rosto, y_rosto, 'black') # Cria o círculo no gráfico utilizando as coordenadas X e Y do rosto\n",
        "plt.plot(x_nariz, y_nariz, 'black') # Cria a elipse no gráfico utilizando as coordenadas X e Y do nariz\n",
        "plt.plot(x_parabola_nariz, y_parabola_nariz, 'black') # Cria a parábola no gráfico utilizando as coordenadas X e Y\n",
        "plt.plot(x_oe, y_oe, 'black') # Cria a elipse no gráfico utilizando as coordenadas X e Y\n",
        "plt.plot(x_olho_esquerdo, y_olho_esquerdo, 'black') # Cria o círculo no gráfico utilizando as coordenadas X e Y do olho\n",
        "plt.plot(x_od, y_od, 'black') # Cria a elipse no gráfico utilizando as coordenadas X e Y\n",
        "plt.plot(x_olho_direito, y_olho_direito, 'black') # Cria o círculo no gráfico utilizando as coordenadas X e Y do rosto\n",
        "plt.plot(x_orelha_esquerda, y_orelha_esquerda, 'black') # Cria o círculo no gráfico utilizando as coordenadas X e Y do rosto\n",
        "plt.plot(x_orelha_direita, y_orelha_direita, 'black') # Cria o círculo no gráfico utilizando as coordenadas X e Y do rosto\n",
        "plt.plot(x_boca_superior, y_boca_superior, 'black') # Cria a parábola no gráfico utilizando as coordenadas X e Y\n",
        "plt.plot(x_boca_inferior, y_boca_inferior, 'black') # Cria a parábola no gráfico utilizando as coordenadas X e Y"
      ],
      "execution_count": null,
      "outputs": [
        {
          "output_type": "execute_result",
          "data": {
            "text/plain": [
              "[<matplotlib.lines.Line2D at 0x7fcd115f8610>]"
            ]
          },
          "metadata": {
            "tags": []
          },
          "execution_count": 3
        },
        {
          "output_type": "display_data",
          "data": {
            "image/png": "[encoded data removed]",
            "text/plain": [
              "<Figure size 720x576 with 1 Axes>"
            ]
          },
          "metadata": {
            "tags": [],
            "needs_background": "light"
          }
        }
      ]
    },
    {
      "cell_type": "markdown",
      "metadata": {
        "id": "b80m13fqGLei"
      },
      "source": [
        "## Exercício 3"
      ]
    },
    {
      "cell_type": "code",
      "metadata": {
        "colab": {
          "base_uri": "https://localhost:8080/",
          "height": 609
        },
        "id": "KuA1X-W5GQbB",
        "outputId": "bbd36ce7-e492-4379-9a71-54a6c9537e63"
      },
      "source": [
        "t = np.linspace(0, 2*np.pi, 100) # Cria a variável auxiliar t\n",
        "\n",
        "'''========================= Rosto ========================='''\n",
        "raio_rosto = 50 # Define o tamanho do raio do rosto como 50, e armazena na variável raio_rosto\n",
        "xc_rosto = 0 # Define a coordenada X do centro do rosto como 0, e armazena na variável xc_rosto\n",
        "yc_rosto = 0 # Define a coordenada Y do centro do rosto como 0, e armazena na variável yc_rosto\n",
        "\n",
        "x_rosto = raio_rosto * np.cos(t) + xc_rosto # Equação paramétrica de X do círculo do rosto, armazenada na variável x_rosto\n",
        "y_rosto = raio_rosto * np.sin(t) + yc_rosto # Equação paramétrica de Y do círculo do rosto, armazenada na variável y_rosto\n",
        "\n",
        "'''========================= Elipse do Olho Esquerdo ========================='''\n",
        "abert_vert_oe = 18 # Define a abertura vertical da elipse, e armazena na variável abert_vert_oe\n",
        "abert_hori_oe = 8 # Define a abertura horizontal da elipse, e armazena na variável abert_hori_oe\n",
        "xc_oe = -20 # Define a coordenada X do centro da elipse do olho esquerdo como -20, e armazena na variável xc_oe\n",
        "yc_oe = 15 # Define a coordenada Y do centro da elipse do olho esquerdo como 15, e armazena na variável yc_oe\n",
        "\n",
        "x_oe = abert_hori_oe * np.cos(t) + xc_oe # Equação paramétrica de X da elipse, armazenada na variável x_oe\n",
        "y_oe = abert_vert_oe * np.sin(t) + yc_oe # Equação paramétrica de Y da elipse, armazenada na variável y_oe\n",
        "\n",
        "'''========================= Círculo do Olho Esquerdo ========================='''\n",
        "raio_olhos = 5 # Define o tamanho do raio como 5, e armazena na variável raio_olhos\n",
        "xc_olho_esquerdo = -20 # Define a coordenada X do centro do círculo do olho esquerdo como -20, e armazena na variável xc_olho_esquerdo\n",
        "yc_olho_esquerdo = 10 # Define a coordenada Y do centro do círculo do olho esquerdo  como 10, e armazena na variável yc_olho_esquerdo\n",
        "\n",
        "x_olho_esquerdo = raio_olhos * np.cos(t) + xc_olho_esquerdo # Equação paramétrica de X do círculo do olho, armazenada na variável x_olho_esquerdo\n",
        "y_olho_esquerdo = raio_olhos * np.sin(t) + yc_olho_esquerdo # Equação paramétrica de Y do círculo do olho, armazenada na variável y_olho_esquerdo\n",
        "\n",
        "'''========================= Elipse do Olho Direito ========================='''\n",
        "abert_vert_od = 18 # Define a abertura vertical da elipse, e armazena na variável abert_vert_od\n",
        "abert_hori_od = 8 # Define a abertura horizontal da elipse, e armazena na variável abert_hori_od\n",
        "xc_od = 20 # Define a coordenada X do centro da elipse do olho direito como 20, e armazena na variável xc_od\n",
        "yc_od = 15 # Define a coordenada Y do centro da elipse do olho direito como 15, e armazena na variável yc_od\n",
        "\n",
        "x_od = abert_hori_od * np.cos(t) + xc_od # Equação paramétrica de X da elipse armazenada na variável x_od\n",
        "y_od = abert_vert_od * np.sin(t) + yc_od # Equação paramétrica de Y da elipse armazenada na variável y_od\n",
        "\n",
        "'''========================= Círculo do Olho Direito ========================='''\n",
        "xc_olho_direito = 20 # Define a coordenada X do centro do círculo do olho direito como 20, e armazena na variável xc_olho_direito\n",
        "yc_olho_direito = 10 # Define a coordenada Y do centro do círculo do olho direito como 10, e armazena na variável yc_olho_direito\n",
        "\n",
        "x_olho_direito = raio_olhos * np.cos(t) + xc_olho_direito # Equação paramétrica de X do círculo do olho, armazenada na variável x_olho_direito\n",
        "y_olho_direito = raio_olhos * np.sin(t) + yc_olho_direito # Equação paramétrica de Y do círculo do olho, armazenada na variável y_olho_direito\n",
        "\n",
        "'''========================= Reta Superior do Nariz ========================='''\n",
        "t2 = np.linspace(-5, 5, 100) # Cria a variável auxiliar t2\n",
        "xs_nariz = t2 # Atribui o valor de t2 para a variável xs_nariz\n",
        "ys_nariz = 0*xs_nariz - 3 # Equação da reta superior, armazenada na variável ys_nariz\n",
        "\n",
        "'''========================= Reta Inferior-Esquerda do Nariz ========================='''\n",
        "t3 = np.linspace(-5, 0, 100)  # Cria a variável auxiliar t3\n",
        "xie_nariz = t3 # Atribui o valor de t3 para a variável xie_nariz\n",
        "yie_nariz = -2*xie_nariz - 13 # Equação da reta inferior-esquerda, armazenada na variável yie_nariz\n",
        "\n",
        "'''========================= Reta Inferior-Direita do Nariz ========================='''\n",
        "t4 = np.linspace(0, 5, 100)  # Cria a variável auxiliar t4\n",
        "xid_nariz = t4 # Atribui o valor de t4 para a variável xid_nariz\n",
        "yid_nariz = 2*xid_nariz - 13 # Equação da reta inferior-direita, armazenada na variável yid_nariz\n",
        "\n",
        "'''========================= Parábola Esquerda da Boca ========================='''\n",
        "abert_boca_esquerda = 0.08 # Define a abertura da parábola e o seu tamanho, e armazena na variável abert_boca_esquerda\n",
        "xv_boca_esquerda = -10 # Define a coordenada X do vértice como -10, e armazena na variável xv_boca_esquerda\n",
        "yv_boca_esquerda = -30 # Define a coordenada Y do vértice como -30, e armazena na variável yv_boca_esquerda\n",
        "\n",
        "t5 = np.linspace(-20, 0, 100)  # Cria a variável auxiliar t5\n",
        "\n",
        "x_boca_esquerda = t5 # Atribui o valor de t5 para x_boca_esquerda\n",
        "y_boca_esquerda = abert_boca_esquerda * (t5 - xv_boca_esquerda) ** 2 + yv_boca_esquerda # Equação paramétrica de Y da parábola, armazenada na variável y_boca_esquerda\n",
        "\n",
        "'''========================= Parábola Direita da Boca ========================='''\n",
        "abert_boca_direita = 0.08 # Define a abertura da parábola e o seu tamanho, e armazena na variável abert_boca_direita\n",
        "xv_boca_direita = 10 # Define a coordenada X do vértice como 10, e armazena na variável xv_boca_direita\n",
        "yv_boca_direita = -30 # Define a coordenada Y do vértice como -30, e armazena na variável yv_boca_direita\n",
        "\n",
        "t6 = np.linspace(0, 20, 100)  # Cria a variável auxiliar t6\n",
        "\n",
        "x_boca_direita = t6 # Atribui o valor de t6 para x_boca_direita\n",
        "y_boca_direita = abert_boca_direita * (t6 - xv_boca_direita) ** 2 + yv_boca_direita # Equação paramétrica de Y da parábola, armazenada na variável y_boca_direita\n",
        "\n",
        "'''========================= Orelha da Esquerda ========================='''\n",
        "t7 = np.linspace(-40, -25, 100)  # Cria a variável auxiliar t7\n",
        "xe_oe = t7 # Atribui o valor de t7 para a variável xe_oe\n",
        "ye_oe = 3.15*xe_oe + 156 # Equação da reta da esquerda, armazenada na variável ye_oe\n",
        "\n",
        "t8 = np.linspace(-25, -10, 100)  # Cria a variável auxiliar t8\n",
        "xd_oe = t8 # Atribui o valor de t8 para a variável xd_oe\n",
        "yd_oe = -1.85*xd_oe + 31 # Equação da reta da direita, armazenada na variável yd_oe\n",
        "\n",
        "'''========================= Orelha da Direita ========================='''\n",
        "t9 = np.linspace(10, 25, 100) # Cria a variável auxiliar t9\n",
        "xe_od = t9 # Atribui o valor de t9 para a variável xe_od\n",
        "ye_od = 1.85*xe_od + 31 # Equação da reta da esquerda, armazenada na variável ye_od\n",
        "\n",
        "t10 = np.linspace(25, 40, 100) # Cria a variável auxiliar t10\n",
        "xd_od = t10 # Atribui o valor de t10 para a variável xd_od\n",
        "yd_od = -3.15*xd_od + 156 # Equação da reta da esquerda, armazenada na variável yd_od\n",
        "\n",
        "'''========================= Bigodes ========================='''\n",
        "dist_bigode = 4 # Define a distância de uma \"parábola\" até a outra, e armazena na variável dist_bigode\n",
        "abert_bigode = 1 # Define a a abertura das \"parábolas\", e armazena na variável abert_bigode\n",
        "xc_bigode = 0 # Define a coordenada X do centro como 0, e armazena na variável xc_bigode\n",
        "yc_bigode = -15 # Define a coordenada Y do centro como -15, e armazena na variável yc_bigode\n",
        "\n",
        "t11 = np.linspace(-3, 3, 100) # Cria a variável auxiliar t11\n",
        "\n",
        "x_bigode = dist_bigode * np.cosh(t11) + xc_bigode # Equação paramétrica de X da hipérbole, armazenada na variável x_bigode\n",
        "y_bigode = abert_bigode * np.sinh(t11) + yc_bigode # Equação paramétrica de Y da hipérbole, armazenada na variável y_bigode\n",
        "\n",
        "'''========================= Plotagem dos gráficos ========================='''\n",
        "plt.figure(figsize=(8, 10)) # Define o tamanho do objeto como 8x10\n",
        "plt.xticks(np.linspace(-40, 40, 5)) # Define os pontos que serão exibidos no Eixo X\n",
        "plt.yticks(np.linspace(-40, 80, 7)) # Define os pontos que serão exibidos no Eixo Y\n",
        "plt.xlim(-55, 55) # Define um limite de pontos a serem exibidos no Eixo X\n",
        "plt.ylim(-55, 85) # Define um limite de pontos a serem exibidos no Eixo Y\n",
        "plt.plot(x_rosto, y_rosto, 'black') # Cria o círculo no gráfico utilizando as coordenadas X e Y do rosto\n",
        "plt.plot(x_oe, y_oe, 'black') # Cria a elipse no gráfico utilizando as coordenadas X e Y do olho\n",
        "plt.plot(x_olho_esquerdo, y_olho_esquerdo, 'black') # Cria o círculo no gráfico utilizando as coordenadas X e Y do olho\n",
        "plt.plot(x_od, y_od, 'black') # Cria a elipse no gráfico utilizando as coordenadas X e Y do olho\n",
        "plt.plot(x_olho_direito, y_olho_direito, 'black') # Cria o círculo no gráfico utilizando as coordenadas X e Y do rosto\n",
        "plt.plot(xs_nariz, ys_nariz, 'black') # Cria a reta superior do nariz no gráfico utilizando as coordenadas X e Y da reta superior\n",
        "plt.plot(xie_nariz, yie_nariz, 'black') # Cria a reta inferior-esquerda do nariz no gráfico utilizando as coordenadas X e Y da reta inferior-esquerda\n",
        "plt.plot(xid_nariz, yid_nariz, 'black') # Cria a reta inferior_direita do nariz no gráfico utilizando as coordenadas X e Y da reta inferior-direita\n",
        "plt.axvline(x=0, ymin=0.23, ymax=0.3, color='black') # Cria a reta inferior ao nariz utilizando a função axvline()\n",
        "plt.plot(x_boca_esquerda, y_boca_esquerda, 'black') # Cria a parábola da esquerda da boca no gráfico utilizando as coordenadas X e Y\n",
        "plt.plot(x_boca_direita, y_boca_direita, 'black') # Cria a parábola da direita da boca no gráfico utilizando as coordenadas X e Y\n",
        "plt.plot(xe_oe, ye_oe, 'black') # Cria a reta da esquerda no gráfico utilizando as coordenadas X e Y da orelha esquerda\n",
        "plt.plot(xd_oe, yd_oe, 'black') # Cria a reta da direita no gráfico utilizando as coordenadas X e Y da orelha esquerda\n",
        "plt.plot(xe_od, ye_od, 'black') # Cria a reta da esquerda no gráfico utilizando as coordenadas X e Y da orelha direita\n",
        "plt.plot(xd_od, yd_od, 'black') # Cria a reta da direita no gráfico utilizando as coordenadas X e Y da orelha da direita\n",
        "plt.plot(x_bigode, y_bigode, 'black') # Cria uma parte da  hipérbole no gráfico utilizando as coordenadas X e Y do bigode\n",
        "plt.plot(xc_bigode - x_bigode, y_bigode, 'black') # Cria outra parte da  hipérbole no gráfico utilizando as coordenadas (Xc - X) e Y do bigode"
      ],
      "execution_count": null,
      "outputs": [
        {
          "output_type": "execute_result",
          "data": {
            "text/plain": [
              "[<matplotlib.lines.Line2D at 0x7f1c3991a710>]"
            ]
          },
          "metadata": {
            "tags": []
          },
          "execution_count": 4
        },
        {
          "output_type": "display_data",
          "data": {
            "image/png": "[encoded data removed]",
            "text/plain": [
              "<Figure size 576x720 with 1 Axes>"
            ]
          },
          "metadata": {
            "tags": [],
            "needs_background": "light"
          }
        }
      ]
    },
    {
      "cell_type": "markdown",
      "metadata": {
        "id": "illHdAq0OgcN"
      },
      "source": [
        "# Aula 09 - Bases vetoriais e introdução à matrizes"
      ]
    },
    {
      "cell_type": "markdown",
      "metadata": {
        "id": "9fOlXxk0YTsh"
      },
      "source": [
        "###### Nessa aula não foi apresentado nenhum conceito que pudesse ser aplicado ao Google Colab. Foi dado apenas a teoria."
      ]
    },
    {
      "cell_type": "markdown",
      "metadata": {
        "id": "O6xvIqsPaA6s"
      },
      "source": [
        "# Aula 10 - Operações matriciais\n",
        "\n"
      ]
    },
    {
      "cell_type": "markdown",
      "metadata": {
        "id": "xwDAVjQGaQvc"
      },
      "source": [
        "##1. Soma de Matrizes\n"
      ]
    },
    {
      "cell_type": "markdown",
      "metadata": {
        "id": "2IZhDl543qBC"
      },
      "source": [
        "### $$M= \\begin{pmatrix}\n",
        "3 & 1 & 6\\\\\n",
        "2 & -1 & 3\\\\\n",
        "1 &  0 & -2\n",
        "\\end{pmatrix}$$\n",
        "&nbsp;\n",
        "\n",
        "### $$N= \\begin{pmatrix}\n",
        "5 & -4 & 1\\\\\n",
        "-2 & -5 & 0\\\\\n",
        "-1 &  8 & 7\n",
        "\\end{pmatrix}$$\n",
        "&nbsp;\n",
        "\n",
        "### $$R= M + N$$\n",
        "&nbsp;\n",
        "\n",
        "### $$R= \\begin{pmatrix}\n",
        "(M_{11} + N_{11}) & (M_{12} + N_{12}) & (M_{13} + N_{13})\\\\\n",
        "(M_{21} + N_{21}) & (M_{22} + N_{22}) & (M_{23} + N_{23})\\\\\n",
        "(M_{31} + N_{31}) & (M_{32} + N_{32}) & (M_{33} + N_{33})\n",
        "\\end{pmatrix}$$\n",
        "&nbsp;\n",
        "\n",
        "### $$R= \\begin{pmatrix}\n",
        "(3+5) & (1+(-4)) & (6+1)\\\\\n",
        "(2+(-2)) & (-1+(-5)) & (3+0)\\\\\n",
        "(1+(-1)) & (0+8) & (-2+7)\n",
        "\\end{pmatrix}$$\n",
        "&nbsp;\n",
        "\n",
        "### $$R= \\begin{pmatrix}\n",
        "8 & -3 & 7\\\\\n",
        "0 & -6 & 3\\\\\n",
        "0 & 8 & 5\n",
        "\\end{pmatrix}$$"
      ]
    },
    {
      "cell_type": "code",
      "metadata": {
        "id": "ioSYTtVJWITx"
      },
      "source": [
        "import numpy as np # Importa a biblioteca NumPy e coloca o apelido \"np\" para ser usado"
      ],
      "execution_count": null,
      "outputs": []
    },
    {
      "cell_type": "code",
      "metadata": {
        "colab": {
          "base_uri": "https://localhost:8080/"
        },
        "id": "OEsArcBeWTd4",
        "outputId": "59f04116-3def-47fc-b4bd-e9891532da31"
      },
      "source": [
        "m = np.array([[3, 1, 6], [2, -1, 3], [1, 0, -2]]) # Cria a matriz M\n",
        "n = np.array([[5, -4, 1], [-2, -5, 0], [-1, 8, 7]]) # Cria a matriz N\n",
        "\n",
        "r = m + n # Calcula a matriz resultante R\n",
        "\n",
        "print(\"%s\\n\\n + \\n\\n%s\\n\\n = \\n\\n%s\" % (m, n, r)) # printa o calculo e o resultado da matriz R"
      ],
      "execution_count": null,
      "outputs": [
        {
          "output_type": "stream",
          "text": [
            "[[ 3  1  6]\n",
            " [ 2 -1  3]\n",
            " [ 1  0 -2]]\n",
            "\n",
            " + \n",
            "\n",
            "[[ 5 -4  1]\n",
            " [-2 -5  0]\n",
            " [-1  8  7]]\n",
            "\n",
            " = \n",
            "\n",
            "[[ 8 -3  7]\n",
            " [ 0 -6  3]\n",
            " [ 0  8  5]]\n"
          ],
          "name": "stdout"
        }
      ]
    },
    {
      "cell_type": "markdown",
      "metadata": {
        "id": "ZYRaesdt9ZKO"
      },
      "source": [
        "##2. Subtração de Matrizes\n"
      ]
    },
    {
      "cell_type": "markdown",
      "metadata": {
        "id": "fXRYQChz9cbF"
      },
      "source": [
        "### $$M= \\begin{pmatrix}\n",
        "3 & 1 & 6\\\\\n",
        "2 & -1 & 3\\\\\n",
        "1 &  0 & -2\n",
        "\\end{pmatrix}$$\n",
        "&nbsp;\n",
        "\n",
        "### $$N= \\begin{pmatrix}\n",
        "5 & -4 & 1\\\\\n",
        "-2 & -5 & 0\\\\\n",
        "-1 &  8 & 7\n",
        "\\end{pmatrix}$$\n",
        "&nbsp;\n",
        "\n",
        "### $$R= M - N$$\n",
        "&nbsp;\n",
        "\n",
        "### $$R= \\begin{pmatrix}\n",
        "(M_{11} - N_{11}) & (M_{12} - N_{12}) & (M_{13} - N_{13})\\\\\n",
        "(M_{21} - N_{21}) & (M_{22} - N_{22}) & (M_{23} - N_{23})\\\\\n",
        "(M_{31} - N_{31}) & (M_{32} - N_{32}) & (M_{33} - N_{33})\n",
        "\\end{pmatrix}$$\n",
        "&nbsp;\n",
        "\n",
        "### $$R= \\begin{pmatrix}\n",
        "(3-5) & (1-(-4)) & (6-1)\\\\\n",
        "(2-(-2)) & (-1-(-5)) & (3-0)\\\\\n",
        "(1-(-1)) & (0-8) & (-2-7)\n",
        "\\end{pmatrix}$$\n",
        "&nbsp;\n",
        "\n",
        "### $$R= \\begin{pmatrix}\n",
        "-2 & 5 & 5\\\\\n",
        "4 & 4 & 3\\\\\n",
        "2 & -8 & -9\n",
        "\\end{pmatrix}$$"
      ]
    },
    {
      "cell_type": "code",
      "metadata": {
        "id": "ZKyI11EDYNGZ"
      },
      "source": [
        "import numpy as np # Importa a biblioteca NumPy e coloca o apelido \"np\" para ser usado"
      ],
      "execution_count": null,
      "outputs": []
    },
    {
      "cell_type": "code",
      "metadata": {
        "colab": {
          "base_uri": "https://localhost:8080/"
        },
        "id": "P2T_0dI5YNq5",
        "outputId": "16244c33-7b7b-451c-dbeb-89f5f5bfab59"
      },
      "source": [
        "m = np.array([[3, 1, 6], [2, -1, 3], [1, 0, -2]]) # Cria a matriz M\n",
        "n = np.array([[5, -4, 1], [-2, -5, 0], [-1, 8, 7]]) # Cria a matriz N\n",
        "\n",
        "r = m - n # Calcula a matriz resultante R\n",
        "\n",
        "print(\"%s\\n\\n - \\n\\n%s\\n\\n = \\n\\n%s\" % (m, n, r)) # printa o calculo e o resultado da matriz R"
      ],
      "execution_count": null,
      "outputs": [
        {
          "output_type": "stream",
          "text": [
            "[[ 3  1  6]\n",
            " [ 2 -1  3]\n",
            " [ 1  0 -2]]\n",
            "\n",
            " - \n",
            "\n",
            "[[ 5 -4  1]\n",
            " [-2 -5  0]\n",
            " [-1  8  7]]\n",
            "\n",
            " = \n",
            "\n",
            "[[-2  5  5]\n",
            " [ 4  4  3]\n",
            " [ 2 -8 -9]]\n"
          ],
          "name": "stdout"
        }
      ]
    },
    {
      "cell_type": "markdown",
      "metadata": {
        "id": "CGHNGYTs-xhH"
      },
      "source": [
        "##3.Multiplicação de Matrizes\n"
      ]
    },
    {
      "cell_type": "markdown",
      "metadata": {
        "id": "qReJow-W-4qs"
      },
      "source": [
        "### $$M= \\begin{pmatrix}\n",
        "3 & 1 & 6\\\\\n",
        "2 & -1 & 3\\\\\n",
        "1 &  0 & -2\n",
        "\\end{pmatrix}$$\n",
        "&nbsp;\n",
        "\n",
        "### $$N= \\begin{pmatrix}\n",
        "5 & -4 & 1\\\\\n",
        "-2 & -5 & 0\\\\\n",
        "-1 &  8 & 7\n",
        "\\end{pmatrix}$$\n",
        "&nbsp;\n",
        "\n",
        "### $$R = M * N$$\n",
        "&nbsp;\n",
        "\n",
        "###### $R= \\begin{pmatrix}\n",
        "(M_{11}N_{11} + M_{12}N_{21} + M_{13}N_{31}) &\n",
        "(M_{11}N_{12} + M_{12}N_{22} + M_{13}N_{32}) &\n",
        "(M_{11}N_{13} + M_{12}N_{23} + M_{13}N_{33})\\\\\n",
        "(M_{21}N_{11} + M_{22}N_{21} + M_{23}N_{31}) &\n",
        "(M_{21}N_{12} + M_{22}N_{22} + M_{23}N_{32}) &\n",
        "(M_{21}N_{13} + M_{22}N_{23} + M_{23}N_{33})\\\\\n",
        "(M_{31}N_{11} + M_{32}N_{21} + M_{33}N_{31}) &\n",
        "(M_{31}N_{12} + M_{32}N_{22} + M_{33}N_{32}) &\n",
        "(M_{31}N_{13} + M_{32}N_{23} + M_{33}N_{33})\n",
        "\\end{pmatrix}$\n",
        "&nbsp;\n",
        "\n",
        "### $$R= \\begin{pmatrix}\n",
        "(15+(-2)+(-6)) & ((-12)+(-5)+48) & (3+0+42)\\\\\n",
        "(10+2+(-3)) & ((-8)+5+24) & (2+0+21)\\\\\n",
        "(5+0+2) & ((-4)+0+(-16)) & (1+0+(-14))\n",
        "\\end{pmatrix}$$\n",
        "&nbsp;\n",
        "\n",
        "### $$R= \\begin{pmatrix}\n",
        "7 & 31 & 45\\\\\n",
        "9 & 21 & 23\\\\\n",
        "7 & -20 & -13\n",
        "\\end{pmatrix}$$"
      ]
    },
    {
      "cell_type": "code",
      "metadata": {
        "id": "gGS0fwgsYVWA"
      },
      "source": [
        "import numpy as np # Importa a biblioteca NumPy e coloca o apelido \"np\" para ser usado"
      ],
      "execution_count": null,
      "outputs": []
    },
    {
      "cell_type": "code",
      "metadata": {
        "colab": {
          "base_uri": "https://localhost:8080/"
        },
        "id": "QoBcJXnUYU-w",
        "outputId": "34e263d8-c5d8-4230-9a25-71b5553deff6"
      },
      "source": [
        "m = np.array([[3, 1, 6], [2, -1, 3], [1, 0, -2]]) # Cria a matriz M\n",
        "n = np.array([[5, -4, 1], [-2, -5, 0], [-1, 8, 7]]) # Cria a matriz N\n",
        "\n",
        "# Calcula a matriz resultante R\n",
        "r = m @ n # O \"@\" é um operador exclusivo do NumPy que realiza a multiplicação de matrizes\n",
        "\n",
        "print(\"%s\\n\\n * \\n\\n%s\\n\\n = \\n\\n%s\" % (m, n, r)) # printa o calculo e o resultado da matriz R"
      ],
      "execution_count": null,
      "outputs": [
        {
          "output_type": "stream",
          "text": [
            "[[ 3  1  6]\n",
            " [ 2 -1  3]\n",
            " [ 1  0 -2]]\n",
            "\n",
            " * \n",
            "\n",
            "[[ 5 -4  1]\n",
            " [-2 -5  0]\n",
            " [-1  8  7]]\n",
            "\n",
            " = \n",
            "\n",
            "[[  7  31  45]\n",
            " [  9  21  23]\n",
            " [  7 -20 -13]]\n"
          ],
          "name": "stdout"
        }
      ]
    },
    {
      "cell_type": "markdown",
      "metadata": {
        "id": "YjKRmtx7HgvN"
      },
      "source": [
        "##4.Transposição de Matrizes\n"
      ]
    },
    {
      "cell_type": "markdown",
      "metadata": {
        "id": "Srtcig6XHk_U"
      },
      "source": [
        "### $$M= \\begin{pmatrix}\n",
        "3 & 1 & 6\\\\\n",
        "2 & -1 & 3\\\\\n",
        "1 &  0 & -2\n",
        "\\end{pmatrix}$$\n",
        "&nbsp;\n",
        "\n",
        "###### <h6 align=\"center\">_Ao realizar a transposição de uma matriz, os itens das linhas viram colunas e os itens das colunas viram linhas_</h6>\n",
        "&nbsp;\n",
        "\n",
        "### $$M^t= \\begin{pmatrix}\n",
        "3 & 2 & 1\\\\\n",
        "1 & -1 & 0\\\\\n",
        "6 &  3 & -2\n",
        "\\end{pmatrix}$$"
      ]
    },
    {
      "cell_type": "code",
      "metadata": {
        "id": "sC-uhkyXbclp"
      },
      "source": [
        "import numpy as np # Importa a biblioteca NumPy e coloca o apelido \"np\" para ser usado"
      ],
      "execution_count": null,
      "outputs": []
    },
    {
      "cell_type": "code",
      "metadata": {
        "colab": {
          "base_uri": "https://localhost:8080/"
        },
        "id": "uxuKV-yjbc_w",
        "outputId": "42df7440-1352-42d8-b4f0-f43c2a513e4b"
      },
      "source": [
        "m = np.array([[3, 1, 6], [2, -1, 3], [1, 0, -2]]) # Cria a matriz M\n",
        "\n",
        "mt = m.T # Calcula a transposta da matriz M\n",
        "\n",
        "print(\"Matriz M:\\n %s\\n\\n Matriz M Transposta:\\n %s\\n\\n\" % (m, mt)) # printa a matriz M e a sua transposta"
      ],
      "execution_count": null,
      "outputs": [
        {
          "output_type": "stream",
          "text": [
            "Matriz M:\n",
            " [[ 3  1  6]\n",
            " [ 2 -1  3]\n",
            " [ 1  0 -2]]\n",
            "\n",
            " Matriz M Transposta:\n",
            " [[ 3  2  1]\n",
            " [ 1 -1  0]\n",
            " [ 6  3 -2]]\n",
            "\n",
            "\n"
          ],
          "name": "stdout"
        }
      ]
    },
    {
      "cell_type": "markdown",
      "metadata": {
        "id": "sHItk9mgJDke"
      },
      "source": [
        "##5.Inversão de Matrizes"
      ]
    },
    {
      "cell_type": "markdown",
      "metadata": {
        "id": "tzP-WxBIJHfE"
      },
      "source": [
        "### $$M= \\begin{pmatrix}\n",
        "3 & 1\\\\\n",
        "-1 & 2\n",
        "\\end{pmatrix}$$\n",
        "&nbsp;\n",
        "\n",
        "### $$M^{-1}= \\begin{pmatrix}\n",
        "a & b\\\\\n",
        "c & d\n",
        "\\end{pmatrix}$$\n",
        "&nbsp;\n",
        "\n",
        "### $$I= \\begin{pmatrix}\n",
        "1 & 0\\\\\n",
        "0 & 1\n",
        "\\end{pmatrix}$$\n",
        "&nbsp;\n",
        "\n",
        "### $$M * M^{-1} = I$$\n",
        "&nbsp;\n",
        "\n",
        "### $$S1= \\begin{cases}\n",
        "M_{11}*M^{-1}_{11} + M_{12}*M^{-1}_{21} = I_{11}\\\\\n",
        "M_{21}*M^{-1}_{11} + M_{22}*M^{-1}_{21} = I_{21}\\\\  \n",
        "\\end{cases}$$\n",
        "\n",
        "### $$S2= \\begin{cases}\n",
        "M_{11}*M^{-1}_{12} + M_{12}*M^{-1}_{22} = I_{12}\\\\\n",
        "M_{21}*M^{-1}_{12} + M_{22}*M^{-1}_{22} = I_{22}\\\\  \n",
        "\\end{cases}$$\n",
        "&nbsp;\n",
        "\n",
        "### $$S1= \\begin{cases}\n",
        "3a + c = 1\\\\\n",
        "-a + 2c = 0\\\\  \n",
        "\\end{cases}$$\n",
        "&nbsp;\n",
        "\n",
        "### $$a=2/7$$\n",
        "### $$c=1/7$$\n",
        "&nbsp;\n",
        "\n",
        "### $$S2= \\begin{cases}\n",
        "3b + d = 0\\\\\n",
        "-b + 2d = 1\\\\  \n",
        "\\end{cases}$$\n",
        "&nbsp;\n",
        "\n",
        "### $$b=-1/7$$\n",
        "### $$d=3/7$$\n",
        "&nbsp;\n",
        "\n",
        "### $$M= \\begin{pmatrix}\n",
        "3 & 1\\\\\n",
        "-1 & 2\n",
        "\\end{pmatrix}$$\n",
        "&nbsp;\n",
        "\n",
        "### $$M^{-1}= \\begin{pmatrix}\n",
        "2/7 & -1/7\\\\\n",
        "1/7 & 3/7\n",
        "\\end{pmatrix}$$\n",
        "&nbsp;\n",
        "\n",
        "### <h3 align=\"center\">$\\begin{pmatrix}\n",
        "3 & 1\\\\\n",
        "-1 & 2\n",
        "\\end{pmatrix}\n",
        "*\\begin{pmatrix}\n",
        "2/7 & -1/7\\\\\n",
        "1/7 & 3/7\n",
        "\\end{pmatrix}\n",
        "=\\begin{pmatrix}\n",
        "1 & 0\\\\\n",
        "0 & 1\n",
        "\\end{pmatrix} $ </h6>"
      ]
    },
    {
      "cell_type": "code",
      "metadata": {
        "id": "0uExctiAchTo"
      },
      "source": [
        "import numpy as np # Importa a biblioteca NumPy e coloca o apelido \"np\" para ser usado"
      ],
      "execution_count": null,
      "outputs": []
    },
    {
      "cell_type": "code",
      "metadata": {
        "colab": {
          "base_uri": "https://localhost:8080/"
        },
        "id": "POwkVt8tcg_J",
        "outputId": "5962ced6-549b-4d3e-93a4-9c99a9ce4f62"
      },
      "source": [
        "m = np.array([[3, 1], [-1, 2]]) # Cria a matriz M\n",
        "\n",
        "m1 = np.linalg.inv(m) # Calcula a matriz inversa de M (M^-1)\n",
        "\n",
        "print(\"Matriz M:\\n %s\\n\\n Matriz Inversa de M:\\n %s\\n\\n\" % (m, m1)) # printa a matriz M e a sua inversão\n",
        "\n",
        "# Verifica de a multiplicação da matriz M pela sua inversa é uma matriz identidade\n",
        "pr = m @ m1 # O \"@\" é um operador exclusivo do NumPy que realiza a multiplicação de matrizes\n",
        "\n",
        "print(\"Prova Real de que a matriz inversa está certa:\\n %s\\n\\n * \\n\\n%s\\n\\n = \\n\\n%s\" % (m, m1, pr)) # Printa o calculo e o resultado confirmando se a matriz inversa está correta"
      ],
      "execution_count": null,
      "outputs": [
        {
          "output_type": "stream",
          "text": [
            "Matriz M:\n",
            " [[ 3  1]\n",
            " [-1  2]]\n",
            "\n",
            " Matriz Inversa de M:\n",
            " [[ 0.28571429 -0.14285714]\n",
            " [ 0.14285714  0.42857143]]\n",
            "\n",
            "\n",
            "Prova Real de que a matriz inversa está certa:\n",
            " [[ 3  1]\n",
            " [-1  2]]\n",
            "\n",
            " * \n",
            "\n",
            "[[ 0.28571429 -0.14285714]\n",
            " [ 0.14285714  0.42857143]]\n",
            "\n",
            " = \n",
            "\n",
            "[[1. 0.]\n",
            " [0. 1.]]\n"
          ],
          "name": "stdout"
        }
      ]
    },
    {
      "cell_type": "markdown",
      "metadata": {
        "id": "xvzLNPl86Nfh"
      },
      "source": [
        "# Aula 11 - Introdução à transformações geométricas\n"
      ]
    },
    {
      "cell_type": "markdown",
      "metadata": {
        "id": "clL5Jc4d6kZK"
      },
      "source": [
        "##1. Translação\n"
      ]
    },
    {
      "cell_type": "markdown",
      "metadata": {
        "id": "XCc1sbTy6sQB"
      },
      "source": [
        "### <h3 align=\"center\">**_Considerando um ponto inicial com as coordenadas:_**\n",
        "### $$(x, y)$$\n",
        "### <h3 align=\"center\">**_Podemos criar o vetor:_**\n",
        "### $$\\vec{v}=[x,y]$$\n",
        "&nbsp;\n",
        "\n",
        "### <h3 align=\"center\">**_É desejado chegar a um ponto com as coordenadas:_**</h3>\n",
        "### $$(x', y')$$\n",
        "### <h3 align=\"center\">**_Como anteriomente, podemos criar um vetor:_**</h3>\n",
        "### $$\\vec{u}=[x',y']$$\n",
        "&nbsp;\n",
        "\n",
        "### <h3 align=\"center\">**_Para ir do ponto inicial até o ponto desejado, é necessário um vetor de deslocamento:_**</h3>\n",
        "### $$\\vec{d}=[dx,dy]$$\n",
        "&nbsp;\n",
        "\n",
        "### <h3 align=\"center\">**_Se as coordenadas de um ponto após um deslocamento $\\vec{d}$ são $(x’, y’)$, partindo do ponto $(x, y)$, temos:_**</h3>\n",
        "### $$\\vec{u}=\\vec{v} + \\vec{d}$$\n",
        "### $$[x',y']=[x,y] + [dx,dy]$$\n"
      ]
    },
    {
      "cell_type": "code",
      "metadata": {
        "id": "GzeWGcDH6qVw"
      },
      "source": [
        "import numpy as np # Importa a biblioteca NumPy e coloca o apelido \"np\" para ser usado\n",
        "import matplotlib.pyplot as plt # Importa o módulo PyPlot da biblioteca Matplotlib e coloca o apelido \"plt\" para ser usado"
      ],
      "execution_count": null,
      "outputs": []
    },
    {
      "cell_type": "code",
      "metadata": {
        "colab": {
          "base_uri": "https://localhost:8080/",
          "height": 374
        },
        "id": "yhVFqIdk6rLv",
        "outputId": "769a082a-0fbd-4d26-a60a-42b155d45e6e"
      },
      "source": [
        "def plot_polygon(polygon, new_figure=True, figsize=(10, 6)):\n",
        "    '''\n",
        "        plot_polygon(polygon, new_figure=True, figsize=(10, 6)): realiza a plotagem do polígono\n",
        "\n",
        "        Recebe três parâmetros polygon, new_figure e figsize:\n",
        "        polygon: plota o polígono solicitado via array. No exemplo abaixo, um quadrado\n",
        "        new_figure: se for True, cria uma nova imagem, se for False, cria uma unica imagem com todos os polígonos\n",
        "        figsize: determina o tamanho da imagem\n",
        "        plot_polygon(polygon, new_figure=True, figsize=(10, 6)) retorna None\n",
        "    '''\n",
        "\n",
        "    x = np.array([v[0] for v in polygon]) # List Comprehension que realiza a identificação dos valores de X dos pares ordenados\n",
        "    y = np.array([v[1] for v in polygon]) # List Comprehension que realiza a identificação dos valores de Y dos pares ordenados\n",
        "\n",
        "    if(new_figure): # Verifica se o parâmetro \"new_figure\" é igual a \"True\"\n",
        "        plt.figure(figsize=figsize) # Se for verdadeiro, ele plota o polígono em uma nova imagem\n",
        "\n",
        "    plt.plot(x, y); # Plota o polígono com as coordenadas x e y e permite que seja adicionado um número variável de argumentos posicionais, se necessário\n",
        "\n",
        "\n",
        "quadrado = [\n",
        "    np.array([0, 0]),\n",
        "    np.array([0, 1]),\n",
        "    np.array([1, 1]),\n",
        "    np.array([1, 0]),\n",
        "    np.array([0, 0])\n",
        "] # Cria o polígono passando todas as coordenadas dos vértices, sempre repetindo a primeira na última posição, para realizar o \"fechamento\" do polígono\n",
        "\n",
        "deslocamento = np.array([4, 2]) # Cria o vetor d, que simboliza o deslocamento do polígono\n",
        "\n",
        "quadrado_deslocado = [(v + deslocamento) for v in quadrado] # List Comprehension que realiza o deslocamento do polígono\n",
        "'''\n",
        "    Nesse List Comprehension, é percorrido o polígono coordenada por coordenada e é realizado uma soma de vetores, sendo que:\n",
        "        - v é um vetor da lista de vetores do polígono\n",
        "        - deslocamento é o vetor que representa para onde o polígono vai ser redirecionado\n",
        "    A soma desses vetores são adicionadas a variável \"quadrado_deslocado\", criando uma nova lista de vetores\n",
        "'''\n",
        "\n",
        "plot_polygon(quadrado) # Chamada da função \"plot_polygon\" passando como parâmetro o polígono definido, no caso o quadrado\n",
        "plot_polygon(quadrado_deslocado, new_figure=False) # Chamada da função \"plot_polygon\" passando como parâmetros o polígono deslocado e solicitando que seja exibido na mesma imagem\n",
        "# plt.xticks([]) # Usado para retirar os valores do eixo X (Usar apenas para animações)\n",
        "# plt.yticks([]) # Usado para retirar os valores do eixo Y (Usar apenas para animações)"
      ],
      "execution_count": null,
      "outputs": [
        {
          "output_type": "display_data",
          "data": {
            "image/png": "[encoded data removed]",
            "text/plain": [
              "<Figure size 720x432 with 1 Axes>"
            ]
          },
          "metadata": {
            "tags": [],
            "needs_background": "light"
          }
        }
      ]
    },
    {
      "cell_type": "markdown",
      "metadata": {
        "id": "53ewIXUrALHg"
      },
      "source": [
        "##2. Coordenadas homogêneas"
      ]
    },
    {
      "cell_type": "markdown",
      "metadata": {
        "id": "V8X_VuTPARYA"
      },
      "source": [
        "### <h3 align=\"center\">**_Um vetor $[x, y]$ em um espaço de 2 dimensões é mapeado para o vetor $[x, y, 1]$ em 3 dimensões_**\n",
        "&nbsp;\n",
        "\n",
        "### <h3 align=\"center\">**_Considerando um ponto inicial com as coordenadas:_**\n",
        "### $$(x, y, 1)$$\n",
        "### <h3 align=\"center\">**_Podemos criar o vetor:_**\n",
        "### $$\\vec{v}=[x,y,1]$$\n",
        "&nbsp;\n",
        "\n",
        "### <h3 align=\"center\">**_É desejado chegar a um ponto com as coordenadas:_**</h3>\n",
        "### $$(x', y', 1)$$\n",
        "### <h3 align=\"center\">**_Como anteriomente, podemos criar um vetor:_**</h3>\n",
        "### $$\\vec{u}=[x',y',1]$$\n",
        "&nbsp;\n",
        "\n",
        "### <h3 align=\"center\">**_Para ir do ponto inicial até o ponto desejado, é necessário uma matriz de deslocamento:_**</h3>\n",
        "### $$D= \\begin{pmatrix}\n",
        "1 & 0 & 0\\\\\n",
        "0 & 1 & 0\\\\\n",
        "dx &  dy & 1\n",
        "\\end{pmatrix}$$\n",
        "&nbsp;\n",
        "\n",
        "### <h3 align=\"center\">**_Se as coordenadas de um ponto após um deslocamento $D$ são $(x’, y’, 1)$, partindo do ponto $(x, y, 1)$, temos:_**</h3>\n",
        "### $$\\vec{u}=\\vec{v} * D$$\n",
        "### $$[x',y',1]=[x,y,1] * \\begin{pmatrix}\n",
        "1 & 0 & 0\\\\\n",
        "0 & 1 & 0\\\\\n",
        "dx &  dy & 1\n",
        "\\end{pmatrix}$$"
      ]
    },
    {
      "cell_type": "code",
      "metadata": {
        "id": "TInKsrKQAR0x"
      },
      "source": [
        "import numpy as np # Importa a biblioteca NumPy e coloca o apelido \"np\" para ser usado\n",
        "import matplotlib.pyplot as plt # Importa o módulo PyPlot da biblioteca Matplotlib e coloca o apelido \"plt\" para ser usado"
      ],
      "execution_count": null,
      "outputs": []
    },
    {
      "cell_type": "code",
      "metadata": {
        "colab": {
          "base_uri": "https://localhost:8080/",
          "height": 374
        },
        "id": "N27X5eV2ASJi",
        "outputId": "e119430b-e381-44fa-9939-d0ab40fa8f5c"
      },
      "source": [
        "def plot_polygon(polygon, new_figure=True, figsize=(10, 6)):\n",
        "    '''\n",
        "        plot_polygon(polygon, new_figure=True, figsize=(10, 6)): realiza a plotagem do polígono\n",
        "\n",
        "        Recebe três parâmetros polygon, new_figure e figsize:\n",
        "        polygon: plota o polígono solicitado via array. No exemplo abaixo, um quadrado\n",
        "        new_figure: se for True, cria uma nova imagem, se for False, cria uma unica imagem com todos os polígonos\n",
        "        figsize: determina o tamanho da imagem\n",
        "        plot_polygon(polygon, new_figure=True, figsize=(10, 6)) retorna None\n",
        "    '''\n",
        "\n",
        "\n",
        "    x = np.array([v[0] for v in polygon]) # List Comprehension que realiza a identificação dos valores de X dos pares ordenados\n",
        "    y = np.array([v[1] for v in polygon]) # List Comprehension que realiza a identificação dos valores de Y dos pares ordenados\n",
        "\n",
        "    if(new_figure): # Verifica se o parâmetro \"new_figure\" é igual a \"True\"\n",
        "        plt.figure(figsize=figsize) # Se for verdadeiro, ele plota o polígono em uma nova imagem\n",
        "\n",
        "    plt.plot(x, y); # Plota o polígono com as coordenadas x e y e permite que seja adicionado um número variável de argumentos posicionais, se necessário\n",
        "\n",
        "\n",
        "quadrado = [\n",
        "    np.array([0, 0, 1]),\n",
        "    np.array([0, 1, 1]),\n",
        "    np.array([1, 1, 1]),\n",
        "    np.array([1, 0, 1]),\n",
        "    np.array([0, 0, 1])\n",
        "] # Cria o polígono passando todas as coordenadas dos vértices, sempre repetindo a primeira na última posição, para realizar o \"fechamento\" do polígono\n",
        "\n",
        "deslocamento = np.array([[1, 0, 0], [0, 1, 0], [4, 2, 1]]) # Cria o vetor d, que simboliza o deslocamento do polígono\n",
        "\n",
        "quadrado_deslocado = np.matmul(quadrado, deslocamento) # Realiza o cálculo de deslocamento via coordenadas homogêneas (multiplicação de matrizes)\n",
        "\n",
        "plot_polygon(quadrado) # Chamada da função \"plot_polygon\" passando como parâmetro o polígono definido, no caso o quadrado\n",
        "plot_polygon(quadrado_deslocado, new_figure=False) # Chamada da função \"plot_polygon\" passando como parâmetros o polígono deslocado e solicitando que seja exibido na mesma imagem\n",
        "# plt.xticks([]) # Usado para retirar os valores do eixo X (Usar apenas para animações)\n",
        "# plt.yticks([]) # Usado para retirar os valores do eixo Y (Usar apenas para animações)"
      ],
      "execution_count": null,
      "outputs": [
        {
          "output_type": "display_data",
          "data": {
            "image/png": "[encoded data removed]",
            "text/plain": [
              "<Figure size 720x432 with 1 Axes>"
            ]
          },
          "metadata": {
            "tags": [],
            "needs_background": "light"
          }
        }
      ]
    },
    {
      "cell_type": "markdown",
      "metadata": {
        "id": "2JYHP5n_hEAm"
      },
      "source": [
        "# Aula 12 - Transformações geométricas"
      ]
    },
    {
      "cell_type": "markdown",
      "metadata": {
        "id": "Ctpi0mM7T_3C"
      },
      "source": [
        "##1. Translação (Deslocamento do polígono)\n"
      ]
    },
    {
      "cell_type": "markdown",
      "metadata": {
        "id": "xdVHPKp8Uutx"
      },
      "source": [
        "### <h3 align=\"center\">**_Considerando um ponto inicial com as coordenadas:_**\n",
        "### $$(x, y)$$\n",
        "### <h3 align=\"center\">**_Podemos criar o vetor:_**\n",
        "### $$\\vec{v}=[x,y]$$\n",
        "&nbsp;\n",
        "\n",
        "### <h3 align=\"center\">**_É desejado chegar a um ponto com as coordenadas:_**</h3>\n",
        "### $$(x', y')$$\n",
        "### <h3 align=\"center\">**_Como anteriomente, podemos criar um vetor:_**</h3>\n",
        "### $$\\vec{u}=[x',y']$$\n",
        "&nbsp;\n",
        "\n",
        "### <h3 align=\"center\">**_Para ir do ponto inicial até o ponto desejado, é necessário um vetor de deslocamento:_**</h3>\n",
        "### $$\\vec{d}=[dx,dy]$$\n",
        "&nbsp;\n",
        "\n",
        "### <h3 align=\"center\">**_Se as coordenadas de um ponto após um deslocamento $\\vec{d}$ são $(x’, y’)$, partindo do ponto $(x, y)$, temos:_**</h3>\n",
        "### $$\\vec{u}=\\vec{v} + \\vec{d}$$\n",
        "### $$[x',y']=[x,y] + [dx,dy]$$\n"
      ]
    },
    {
      "cell_type": "code",
      "metadata": {
        "id": "YAr7_sOUUwKQ"
      },
      "source": [
        "import numpy as np # Importa a biblioteca NumPy e coloca o apelido \"np\" para ser usado\n",
        "import matplotlib.pyplot as plt # Importa o módulo PyPlot da biblioteca Matplotlib e coloca o apelido \"plt\" para ser usado"
      ],
      "execution_count": null,
      "outputs": []
    },
    {
      "cell_type": "code",
      "metadata": {
        "colab": {
          "base_uri": "https://localhost:8080/",
          "height": 324
        },
        "id": "GmEqYesVUzgR",
        "outputId": "53faef86-1dd2-4603-b371-05a0a6381d86"
      },
      "source": [
        "def plot_polygon(polygon, new_figure=True, figsize=(8, 5)):\n",
        "    '''\n",
        "        plot_polygon(polygon, new_figure=True, figsize=(8, 5)): realiza a plotagem do polígono\n",
        "\n",
        "        Recebe três parâmetros polygon, new_figure e figsize:\n",
        "        polygon: plota o polígono solicitado via array. No exemplo abaixo, um quadrado\n",
        "        new_figure: se for True, cria uma nova imagem, se for False, cria uma unica imagem com todos os polígonos\n",
        "        figsize: determina o tamanho da imagem\n",
        "        plot_polygon(polygon, new_figure=True, figsize=(8, 5)) retorna None\n",
        "    '''\n",
        "\n",
        "    x = np.array([v[0] for v in polygon]) # List Comprehension que realiza a identificação dos valores de X dos pares ordenados\n",
        "    y = np.array([v[1] for v in polygon]) # List Comprehension que realiza a identificação dos valores de Y dos pares ordenados\n",
        "\n",
        "    if(new_figure): # Verifica se o parâmetro \"new_figure\" é igual a \"True\"\n",
        "        plt.figure(figsize=figsize) # Se for verdadeiro, ele plota o polígono em uma nova imagem\n",
        "\n",
        "    plt.plot(x, y); # Plota o polígono com as coordenadas x e y e permite que seja adicionado um número variável de argumentos posicionais, se necessário\n",
        "\n",
        "\n",
        "poligono = np.array([\n",
        "    [0,0],\n",
        "    [2,0],\n",
        "    [2,1],\n",
        "    [1,1],\n",
        "    [1,2],\n",
        "    [0,2],\n",
        "    [0,0]\n",
        "]) # Cria o polígono passando todas as coordenadas dos vértices, sempre repetindo a primeira na última posição, para realizar o \"fechamento\" do polígono\n",
        "\n",
        "deslocamento = np.array([3, 4]) # Cria o vetor d, que simboliza o deslocamento do polígono\n",
        "deslocamento2 = np.array([4, 0]) # Cria o vetor d2, que simboliza o deslocamento do segundo polígono\n",
        "\n",
        "poligono_deslocado = [(ponto + deslocamento) for ponto in poligono] # List Comprehension que realiza o deslocamento do polígono\n",
        "'''\n",
        "    Nesse List Comprehension, é percorrido o polígono coordenada por coordenada e é realizado uma soma de vetores, sendo que:\n",
        "        - v é um vetor da lista de vetores do polígono\n",
        "        - deslocamento é o vetor que representa para onde o polígono vai ser redirecionado\n",
        "    A soma desses vetores são adicionadas a variável \"poligono_deslocado\", criando uma nova lista de vetores\n",
        "'''\n",
        "\n",
        "poligono_deslocado2 = [(ponto2 + deslocamento2) for ponto2 in poligono_deslocado] # List Comprehension que realiza o deslocamento do segundo polígono\n",
        "'''\n",
        "    Nesse List Comprehension, é percorrido o segundo polígono coordenada por coordenada e é realizado uma soma de vetores, sendo que:\n",
        "        - v é um vetor da lista de vetores do segundo polígono\n",
        "        - deslocamento é o vetor que representa para onde o segundo polígono vai ser redirecionado\n",
        "    A soma desses vetores são adicionadas a variável \"poligono_deslocado2\", criando uma nova lista de vetores\n",
        "'''\n",
        "\n",
        "plot_polygon(poligono) # Chamada da função \"plot_polygon\" passando como parâmetro o polígono definido, no caso o quadrado\n",
        "plot_polygon(poligono_deslocado, new_figure=False) # Chamada da função \"plot_polygon\" passando como parâmetros o polígono deslocado e solicitando que seja exibido na mesma imagem\n",
        "plot_polygon(poligono_deslocado2, new_figure=False) # Chamada da função \"plot_polygon\" passando como parâmetros o segundo polígono deslocado e solicitando que seja exibido na mesma imagem\n",
        "plt.xticks(np.linspace(0, 10, 11)) # Define os pontos que serão exibidos no Eixo X\n",
        "plt.yticks(np.linspace(0, 7, 8)) # Define os pontos que serão exibidos no Eixo Y\n",
        "plt.grid() # Cria o quadridulado no fundo da imagem\n",
        "# plt.xticks([]) # Usado para retirar os valores do eixo X (Usar apenas para animações)\n",
        "# plt.yticks([]) # Usado para retirar os valores do eixo Y (Usar apenas para animações)"
      ],
      "execution_count": null,
      "outputs": [
        {
          "output_type": "display_data",
          "data": {
            "image/png": "[encoded data removed]",
            "text/plain": [
              "<Figure size 576x360 with 1 Axes>"
            ]
          },
          "metadata": {
            "tags": [],
            "needs_background": "light"
          }
        }
      ]
    },
    {
      "cell_type": "markdown",
      "metadata": {
        "id": "BqYA1YGCUBLw"
      },
      "source": [
        "##2. Escalonamento (Ampliação do polígono)\n",
        "\n"
      ]
    },
    {
      "cell_type": "markdown",
      "metadata": {
        "id": "XBdLxuWqaMw4"
      },
      "source": [
        "### <h3 align=\"center\">**_A matriz de transformação que implementa o escalonamento é:_**\n",
        "\n",
        "### $$S= \\begin{pmatrix}\n",
        "S_x & 0\\\\\n",
        "0 & S_y\n",
        "\\end{pmatrix}$$\n",
        "&nbsp;\n",
        "\n",
        "### <h3 align=\"center\">**_Ou, em coordenadas homogêneas:_**\n",
        "\n",
        "### $$S= \\begin{pmatrix}\n",
        "S_x & 0 & 0\\\\\n",
        "0 & S_y & 0\\\\\n",
        "0 & 0 & 1\\\\\n",
        "\\end{pmatrix}$$\n",
        "&nbsp;\n",
        "\n",
        "###### <h3 align=\"center\">**_Para:_**\n",
        "\n",
        "* $S_x, S_y$ > 1, o polígono aumenta de tamanho\n",
        "* $S_x, S_y$ = 1, o polígono mantém o mesmo tamanho\n",
        "* $S_x, S_y$ < 1, o polígono diminui de tamanho\n",
        "\n",
        "### <h3 align=\"justify\">**_Utilizando as matrizes de escalonamento, é possível observar uma movimentação dos objetos quando fazemos a mudança de tamanho (Primeiro bloco de código)_**\n",
        "&nbsp;\n",
        "\n",
        "### <h3 align=\"justify\">**_Outra forma usual de realizar o escalonamento consiste em utilizar o centro geométrico do objeto como ponto fixo (Segundo bloco de código)_**\n",
        "&nbsp;\n",
        "\n",
        "### <h3 align=\"center\">**_Para encontrarmos o centro de um objeto, podemos utilizar a média dos pontos que compõem o objeto:_**\n",
        "\n",
        "### $$m_x= \\frac{(x_1 + x_2 + ... + x_n)} {n}$$\n",
        "\n",
        "### $$m_y= \\frac{(y_1 + y_2 + ... + y_n)} {n}$$\n",
        "&nbsp;\n",
        "\n",
        "### <h3 align=\"center\">**_Uma vez com as coordenadas $m = (m_x, m_y)$ do centro do objeto, fazemos o deslocamento do objeto de modo que seu centro coincida com o ponto de origem dos eixos (0, 0) e, após o escalonamento, retornarmos o centro do objeto para sua posição original_**\n",
        "\n",
        "### $$S_m= \\begin{pmatrix}\n",
        "1 & 0 & 0\\\\\n",
        "0 & 1 & 0\\\\\n",
        "-m_x & -m_y & 1\\\\\n",
        "\\end{pmatrix} *\n",
        "\\begin{pmatrix}\n",
        "S_x & 0 & 0\\\\\n",
        "0 & S_y & 0\\\\\n",
        "0 & 0 & 1\\\\\n",
        "\\end{pmatrix} * \\begin{pmatrix}\n",
        "1 & 0 & 0\\\\\n",
        "0 & 1 & 0\\\\\n",
        "m_x & m_y & 1\\\\\n",
        "\\end{pmatrix}$$\n"
      ]
    },
    {
      "cell_type": "code",
      "metadata": {
        "id": "yoLeX0P1aHYf"
      },
      "source": [
        "import numpy as np # Importa a biblioteca NumPy e coloca o apelido \"np\" para ser usado\n",
        "import matplotlib.pyplot as plt # Importa o módulo PyPlot da biblioteca Matplotlib e coloca o apelido \"plt\" para ser usado"
      ],
      "execution_count": null,
      "outputs": []
    },
    {
      "cell_type": "code",
      "metadata": {
        "colab": {
          "base_uri": "https://localhost:8080/",
          "height": 378
        },
        "id": "IcYFG0NAaHPY",
        "outputId": "0e1b8b56-86d9-421e-e387-5ad64086606d"
      },
      "source": [
        "def plot_polygon(polygon, new_figure=True, figsize=(6, 6)):\n",
        "    '''\n",
        "        plot_polygon(polygon, new_figure=True, figsize=(6, 6)): realiza a plotagem do polígono\n",
        "\n",
        "        Recebe três parâmetros polygon, new_figure e figsize:\n",
        "        polygon: plota o polígono solicitado via array. No exemplo abaixo, um quadrado\n",
        "        new_figure: se for True, cria uma nova imagem, se for False, cria uma unica imagem com todos os polígonos\n",
        "        figsize: determina o tamanho da imagem\n",
        "        plot_polygon(polygon, new_figure=True, figsize=(6, 6)) retorna None\n",
        "    '''\n",
        "\n",
        "    x = np.array([v[0] for v in polygon]) # List Comprehension que realiza a identificação dos valores de X dos pares ordenados\n",
        "    y = np.array([v[1] for v in polygon]) # List Comprehension que realiza a identificação dos valores de Y dos pares ordenados\n",
        "\n",
        "    if(new_figure): # Verifica se o parâmetro \"new_figure\" é igual a \"True\"\n",
        "        plt.figure(figsize=figsize) # Se for verdadeiro, ele plota o polígono em uma nova imagem\n",
        "\n",
        "    plt.plot(x, y); # Plota o polígono com as coordenadas x e y e permite que seja adicionado um número variável de argumentos posicionais, se necessário\n",
        "\n",
        "\n",
        "poligono = np.array([\n",
        "    [2,2,1],\n",
        "    [3,2,1],\n",
        "    [3,1,1],\n",
        "    [1,1,1],\n",
        "    [1,3,1],\n",
        "    [2,3,1],\n",
        "    [2,2,1]\n",
        "]) # Cria o polígono passando todas as coordenadas dos vértices, sempre repetindo a primeira na última posição, para realizar o \"fechamento\" do polígono\n",
        "\n",
        "escala = np.array([\n",
        "    [3,0,0],\n",
        "    [0,4,0],\n",
        "    [0,0,1]\n",
        "]) # Cria a matriz de transformação, com coordenadas homogêneas, passando para Sx = 3 e para Sy=4\n",
        "\n",
        "poligono_escalonado = np.matmul(poligono, escala) # Realiza a multiplicação entre as matrizes de escala e polígono, de forma que realiza o escalonanamento do polígono\n",
        "\n",
        "plot_polygon(poligono) # Chamada da função \"plot_polygon\" passando como parâmetro o polígono definido, no caso o quadrado\n",
        "plot_polygon(poligono_escalonado, new_figure=False) # Chamada da função \"plot_polygon\" passando como parâmetros o polígono escalonado e solicitando que seja exibido na mesma imagem\n",
        "plt.xticks(np.linspace(0, 10, 11)) # Define os pontos que serão exibidos no Eixo X\n",
        "plt.yticks(np.linspace(0, 13, 14)) # Define os pontos que serão exibidos no Eixo Y\n",
        "plt.grid() # Cria o quadridulado no fundo da imagem\n",
        "# plt.xticks([]) # Usado para retirar os valores do eixo X (Usar apenas para animações)\n",
        "# plt.yticks([]) # Usado para retirar os valores do eixo Y (Usar apenas para animações)"
      ],
      "execution_count": null,
      "outputs": [
        {
          "output_type": "display_data",
          "data": {
            "image/png": "[encoded data removed]",
            "text/plain": [
              "<Figure size 432x432 with 1 Axes>"
            ]
          },
          "metadata": {
            "tags": [],
            "needs_background": "light"
          }
        }
      ]
    },
    {
      "cell_type": "code",
      "metadata": {
        "colab": {
          "base_uri": "https://localhost:8080/"
        },
        "id": "hQAMx068mRtP",
        "outputId": "94c00619-c6bc-40e3-f145-b44e491c8c22"
      },
      "source": [
        "def plot_polygon(polygon, new_figure=True, figsize=(6, 6)):\n",
        "    '''\n",
        "        plot_polygon(polygon, new_figure=True, figsize=(6, 6)): realiza a plotagem do polígono\n",
        "\n",
        "        Recebe três parâmetros polygon, new_figure e figsize:\n",
        "        polygon: plota o polígono solicitado via array. No exemplo abaixo, um quadrado\n",
        "        new_figure: se for True, cria uma nova imagem, se for False, cria uma unica imagem com todos os polígonos\n",
        "        figsize: determina o tamanho da imagem\n",
        "        plot_polygon(polygon, new_figure=True, figsize=(6, 6)) retorna None\n",
        "    '''\n",
        "\n",
        "    x = np.array([v[0] for v in polygon]) # List Comprehension que realiza a identificação dos valores de X dos pares ordenados\n",
        "    y = np.array([v[1] for v in polygon]) # List Comprehension que realiza a identificação dos valores de Y dos pares ordenados\n",
        "\n",
        "    if(new_figure): # Verifica se o parâmetro \"new_figure\" é igual a \"True\"\n",
        "        plt.figure(figsize=figsize) # Se for verdadeiro, ele plota o polígono em uma nova imagem\n",
        "\n",
        "    plt.plot(x, y); # Plota o polígono com as coordenadas x e y e permite que seja adicionado um número variável de argumentos posicionais, se necessário\n",
        "\n",
        "\n",
        "poligono = np.array([\n",
        "    [2,2,1],\n",
        "    [3,2,1],\n",
        "    [3,1,1],\n",
        "    [1,1,1],\n",
        "    [1,3,1],\n",
        "    [2,3,1],\n",
        "    [2,2,1]\n",
        "]) # Cria o polígono passando todas as coordenadas dos vértices, sempre repetindo a primeira na última posição, para realizar o \"fechamento\" do polígono\n",
        "\n",
        "escala = np.array([\n",
        "    [3,0,0],\n",
        "    [0,4,0],\n",
        "    [0,0,1]\n",
        "]) # Cria a matriz de transformação, com coordenadas homogêneas, passando para Sx = 3 e para Sy=4\n",
        "\n",
        "m = np.mean(poligono, axis=0) # Cria o ponto m (centro do polígono), e atribui na variável m\n",
        "\n",
        "deslocamento1 = np.array([\n",
        "    [1,0,0],\n",
        "    [0,1,0],\n",
        "    -m + np.array([0,0,2])\n",
        "]) # Cria a matriz de deslocamento 1\n",
        "\n",
        "deslocamento2 = np.array([\n",
        "    [1,0,0],\n",
        "    [0,1,0],\n",
        "    m\n",
        "]) # Cria a matriz de deslocamento 2\n",
        "\n",
        "sm = np.matmul(np.matmul(deslocamento1, escala), deslocamento2) # Realiza a multiplicação entre as matrizes de escala e deslocamento1, e depois, multiplica o resultado por deslocamento2\n",
        "poligono_escalonado = np.matmul(poligono, sm) # Realiza o escalonamento do polígono\n",
        "\n",
        "plot_polygon(poligono) # Chamada da função \"plot_polygon\" passando como parâmetro o polígono definido, no caso o quadrado\n",
        "plot_polygon(poligono_escalonado, new_figure=False) # Chamada da função \"plot_polygon\" passando como parâmetros o polígono escalonado e solicitando que seja exibido na mesma imagem\n",
        "plt.xticks(np.linspace(-1, 5, 7)) # Define os pontos que serão exibidos no Eixo X\n",
        "plt.yticks(np.linspace(-2, 6, 9)) # Define os pontos que serão exibidos no Eixo Y\n",
        "plt.grid() # Cria o quadridulado no fundo da imagem\n",
        "# plt.xticks([]) # Usado para retirar os valores do eixo X (Usar apenas para animações)\n",
        "# plt.yticks([]) # Usado para retirar os valores do eixo Y (Usar apenas para animações)"
      ],
      "execution_count": null,
      "outputs": [
        {
          "output_type": "display_data",
          "data": {
            "image/png": "[encoded data removed]",
            "text/plain": [
              "<Figure size 432x432 with 1 Axes>"
            ]
          },
          "metadata": {
            "tags": [],
            "needs_background": "light"
          }
        }
      ]
    },
    {
      "cell_type": "markdown",
      "metadata": {
        "id": "YV03vRCcULSA"
      },
      "source": [
        "##3. Rotação (Deslocamento de um ponto do polígono)\n",
        "\n"
      ]
    },
    {
      "cell_type": "markdown",
      "metadata": {
        "id": "fIqXizI1aNbw"
      },
      "source": [
        "### <h3 align=\"justify\">**_A rotação de um objeto é sempre feita em relação a um ponto, para rotação 2D, ou um eixo, para rotação 3D._**\n",
        "\n",
        "### <h3 align=\"justify\">**_Se $c = (0,0)$, então a rotação ocorre em torno do ponto de origem dos eixos. (Primeiro bloco de código)_**\n",
        "\n",
        "### <h3 align=\"center\">**_A rotação de um ponto em torno de $c = (0,0)$ é implementada através da matriz de rotação:_**\n",
        "\n",
        "### $$R= \\begin{pmatrix}\n",
        "cos(\\alpha) & sen(\\alpha)\\\\\n",
        "-sen(\\alpha) & cos(\\alpha)\n",
        "\\end{pmatrix}$$\n",
        "&nbsp;\n",
        "\n",
        "### <h3 align=\"center\">**_Ou, em coordenadas homogêneas:_**\n",
        "\n",
        "### $$R= \\begin{pmatrix}\n",
        "cos(\\alpha) & sen(\\alpha) & 0\\\\\n",
        "-sen(\\alpha) & cos(\\alpha) & 0\\\\\n",
        "0 & 0 & 1\n",
        "\\end{pmatrix}$$\n",
        "&nbsp;\n",
        "\n",
        "### <h3 align=\"center\">**_Para um ponto $c = (x_c,y_c)$, devemos fazer os ajustes nas posições do ponto, de modo que possamos fazer a rotação em torno do ponto (0, 0) e depois retornar o objeto à sua posição de referência original (Segundo bloco de código)_**\n",
        "\n",
        "#### $$R_c= \\begin{pmatrix}\n",
        "1 & 0 & 0\\\\\n",
        "0 & 1 & 0\\\\\n",
        "-x_c & -y_c & 1\\\\\n",
        "\\end{pmatrix} *\n",
        "\\begin{pmatrix}\n",
        "cos(\\alpha) & sen(\\alpha) & 0\\\\\n",
        "-sen(\\alpha) & cos(\\alpha) & 0\\\\\n",
        "0 & 0 & 1\n",
        "\\end{pmatrix} * \\begin{pmatrix}\n",
        "1 & 0 & 0\\\\\n",
        "0 & 1 & 0\\\\\n",
        "x_c & y_c & 1\n",
        "\\end{pmatrix}$$\n"
      ]
    },
    {
      "cell_type": "code",
      "metadata": {
        "id": "bbuFdwF7aIX_"
      },
      "source": [
        "import numpy as np # Importa a biblioteca NumPy e coloca o apelido \"np\" para ser usado\n",
        "import matplotlib.pyplot as plt # Importa o módulo PyPlot da biblioteca Matplotlib e coloca o apelido \"plt\" para ser usado"
      ],
      "execution_count": null,
      "outputs": []
    },
    {
      "cell_type": "code",
      "metadata": {
        "colab": {
          "base_uri": "https://localhost:8080/",
          "height": 528
        },
        "id": "0uvktWuNxzNO",
        "outputId": "5b3ec9f2-7788-42f3-b52d-afdc9924c53f"
      },
      "source": [
        "def plot_polygon(polygon, new_figure=True, figsize=(6, 6)):\n",
        "    '''\n",
        "        plot_polygon(polygon, new_figure=True, figsize=(6, 6)): realiza a plotagem do polígono\n",
        "\n",
        "        Recebe três parâmetros polygon, new_figure e figsize:\n",
        "        polygon: plota o polígono solicitado via array. No exemplo abaixo, um quadrado\n",
        "        new_figure: se for True, cria uma nova imagem, se for False, cria uma unica imagem com todos os polígonos\n",
        "        figsize: determina o tamanho da imagem\n",
        "        plot_polygon(polygon, new_figure=True, figsize=(6, 6)) retorna None\n",
        "    '''\n",
        "\n",
        "    x = np.array([v[0] for v in polygon]) # List Comprehension que realiza a identificação dos valores de X dos pares ordenados\n",
        "    y = np.array([v[1] for v in polygon]) # List Comprehension que realiza a identificação dos valores de Y dos pares ordenados\n",
        "\n",
        "    if(new_figure): # Verifica se o parâmetro \"new_figure\" é igual a \"True\"\n",
        "        plt.figure(figsize=figsize) # Se for verdadeiro, ele plota o polígono em uma nova imagem\n",
        "\n",
        "    plt.plot(x, y); # Plota o polígono com as coordenadas x e y e permite que seja adicionado um número variável de argumentos posicionais, se necessário\n",
        "\n",
        "\n",
        "poligono = np.array([\n",
        "    [0,0,1],\n",
        "    [2,0,1],\n",
        "    [2,1,1],\n",
        "    [1,1,1],\n",
        "    [1,2,1],\n",
        "    [0,2,1],\n",
        "    [0,0,1]\n",
        "]) # Cria o polígono passando todas as coordenadas dos vértices, sempre repetindo a primeira na última posição, para realizar o \"fechamento\" do polígono\n",
        "\n",
        "ang = np.deg2rad(45) # Realiza a conversão de 45° para radianos\n",
        "\n",
        "matriz_rotacao = np.array([\n",
        "    [np.cos(ang),np.sin(ang),0],\n",
        "    [-np.sin(ang),np.cos(ang),0],\n",
        "    [0,0,1]\n",
        "]) # Cria a matriz de rotação, com coordenadas homogêneas\n",
        "\n",
        "poligono_rotacionado = np.matmul(poligono, matriz_rotacao) # Realiza a multiplicação entre as matrizes de rotação e polígono\n",
        "\n",
        "plot_polygon(poligono) # Chamada da função \"plot_polygon\" passando como parâmetro o polígono definido, no caso o quadrado\n",
        "plot_polygon(poligono_rotacionado, new_figure=False) # Chamada da função \"plot_polygon\" passando como parâmetros o polígono rotacionado e solicitando que seja exibido na mesma imagem\n",
        "plt.xticks(np.linspace(-2, 3, 6)) # Define os pontos que serão exibidos no Eixo X\n",
        "plt.yticks(np.linspace(-1, 3, 5)) # Define os pontos que serão exibidos no Eixo Y\n",
        "plt.grid() # Cria o quadridulado no fundo da imagem\n",
        "# plt.xticks([]) # Usado para retirar os valores do eixo X (Usar apenas para animações)\n",
        "# plt.yticks([]) # Usado para retirar os valores do eixo Y (Usar apenas para animações)"
      ],
      "execution_count": null,
      "outputs": [
        {
          "output_type": "display_data",
          "data": {
            "text/plain": [
              "<Figure size 600x600 with 1 Axes>"
            ],
            "image/png": "[encoded data removed]"
          },
          "metadata": {}
        }
      ]
    },
    {
      "cell_type": "code",
      "metadata": {
        "colab": {
          "base_uri": "https://localhost:8080/",
          "height": 528
        },
        "id": "UUh1gvDsaIR4",
        "outputId": "03053f99-5189-4072-acb5-5fd169eb77fe"
      },
      "source": [
        "def plot_polygon(polygon, new_figure=True, figsize=(6, 6)):\n",
        "    '''\n",
        "        plot_polygon(polygon, new_figure=True, figsize=(6, 6)): realiza a plotagem do polígono\n",
        "\n",
        "        Recebe três parâmetros polygon, new_figure e figsize:\n",
        "        polygon: plota o polígono solicitado via array. No exemplo abaixo, um quadrado\n",
        "        new_figure: se for True, cria uma nova imagem, se for False, cria uma unica imagem com todos os polígonos\n",
        "        figsize: determina o tamanho da imagem\n",
        "        plot_polygon(polygon, new_figure=True, figsize=(6, 6)) retorna None\n",
        "    '''\n",
        "\n",
        "    x = np.array([v[0] for v in polygon]) # List Comprehension que realiza a identificação dos valores de X dos pares ordenados\n",
        "    y = np.array([v[1] for v in polygon]) # List Comprehension que realiza a identificação dos valores de Y dos pares ordenados\n",
        "\n",
        "    if(new_figure): # Verifica se o parâmetro \"new_figure\" é igual a \"True\"\n",
        "        plt.figure(figsize=figsize) # Se for verdadeiro, ele plota o polígono em uma nova imagem\n",
        "\n",
        "    plt.plot(x, y); # Plota o polígono com as coordenadas x e y e permite que seja adicionado um número variável de argumentos posicionais, se necessário\n",
        "\n",
        "\n",
        "poligono = np.array([\n",
        "    [2,2,1],\n",
        "    [3,2,1],\n",
        "    [3,1,1],\n",
        "    [1,1,1],\n",
        "    [1,3,1],\n",
        "    [2,3,1],\n",
        "    [2,2,1]\n",
        "]) # Cria o polígono passando todas as coordenadas dos vértices, sempre repetindo a primeira na última posição, para realizar o \"fechamento\" do polígono\n",
        "\n",
        "ang = np.deg2rad(45) # Realiza a conversão de 45° para radianos\n",
        "\n",
        "matriz_rotacao = np.array([\n",
        "    [np.cos(ang),np.sin(ang),0],\n",
        "    [-np.sin(ang),np.cos(ang),0],\n",
        "    [0,0,1]\n",
        "]) # Cria a matriz de rotação, com coordenadas homogêneas\n",
        "\n",
        "c = np.mean(poligono, axis=0) # Cria o ponto m (centro do polígono), e atribui na variável m\n",
        "\n",
        "deslocamento1 = np.array([\n",
        "    [1,0,0],\n",
        "    [0,1,0],\n",
        "    -c + np.array([0,0,2])\n",
        "]) # Cria a matriz de deslocamento 1\n",
        "\n",
        "deslocamento2 = np.array([\n",
        "    [1,0,0],\n",
        "    [0,1,0],\n",
        "    c\n",
        "]) # Cria a matriz de deslocamento 2\n",
        "\n",
        "rc = np.matmul(np.matmul(deslocamento1, matriz_rotacao), deslocamento2) # Realiza a multiplicação entre as matrizes de escala e deslocamento1, e depois, multiplica o resultado por deslocamento2\n",
        "poligono_rotacionado = np.matmul(poligono, rc) # Realiza o escalonamento do polígono\n",
        "\n",
        "plot_polygon(poligono) # Chamada da função \"plot_polygon\" passando como parâmetro o polígono definido, no caso o quadrado\n",
        "plot_polygon(poligono_rotacionado, new_figure=False) # Chamada da função \"plot_polygon\" passando como parâmetros o polígono escalonado e solicitando que seja exibido na mesma imagem\n",
        "plt.xticks(np.linspace(0, 4, 5)) # Define os pontos que serão exibidos no Eixo X\n",
        "plt.yticks(np.linspace(0, 4, 5)) # Define os pontos que serão exibidos no Eixo Y\n",
        "plt.grid() # Cria o quadridulado no fundo da imagem\n",
        "# plt.xticks([]) # Usado para retirar os valores do eixo X (Usar apenas para animações)\n",
        "# plt.yticks([]) # Usado para retirar os valores do eixo Y (Usar apenas para animações)"
      ],
      "execution_count": null,
      "outputs": [
        {
          "output_type": "display_data",
          "data": {
            "text/plain": [
              "<Figure size 600x600 with 1 Axes>"
            ],
            "image/png": "[encoded data removed]"
          },
          "metadata": {}
        }
      ]
    },
    {
      "cell_type": "markdown",
      "metadata": {
        "id": "Gmm0tZEBo2a3"
      },
      "source": [
        "# Aula 13 - Animações com Transformações geométricas"
      ]
    },
    {
      "cell_type": "markdown",
      "metadata": {
        "id": "Wmmeuzt5ObLq"
      },
      "source": [
        "##1. Animação feita com translação - Exemplo 1 - Parábola"
      ]
    },
    {
      "cell_type": "code",
      "metadata": {
        "id": "08eDiGe9ObrK"
      },
      "source": [
        "from IPython.display import HTML # Importa a função HTML do módulo display da biblioteca IPython\n",
        "import numpy as np # Importa a biblioteca NumPy e coloca o apelido \"np\" para ser usado\n",
        "\n",
        "from matplotlib.animation import FuncAnimation # Importa a função FuncAnimation do módulo animation da biblioteca Matplotlib\n",
        "import matplotlib.pyplot as plt # Importa o módulo PyPlot da biblioteca Matplotlib e coloca o apelido \"plt\" para ser usado"
      ],
      "execution_count": null,
      "outputs": []
    },
    {
      "cell_type": "code",
      "metadata": {
        "colab": {
          "base_uri": "https://localhost:8080/"
        },
        "id": "mcFMQpkgObd5",
        "outputId": "c2d141a3-ca2b-46e7-88cc-243ca99249b6"
      },
      "source": [
        "def init():\n",
        "    '''\n",
        "        init(): realiza a plotagem do fundo de cada frame\n",
        "\n",
        "        init() retorna uma tupla com as coordenadas base da animação line1\n",
        "    '''\n",
        "    line1.set_data([], []) # Define as coordenadas X e Y da linha 1 como vazia\n",
        "\n",
        "    line1.set_color('#000') # Define a cor da linha 1 (inglês, hexadecimal ou rgba)\n",
        "    return (line1,) # Retorna a tupla com a linha base da animação\n",
        "\n",
        "\n",
        "def animate(i):\n",
        "    '''\n",
        "        animate(i): realiza a animação do polígono\n",
        "\n",
        "        Recebe um parâmetro i, que corresponde ao índice da imagem na animação, partindo de 0 até N-1\n",
        "        animate(i) retorna uma tupla com as coordenadas modificadas line1\n",
        "    '''\n",
        "    xv = 0 # Cria a variável xv e atribui o valor 0 para x do vértice\n",
        "    yv = 1 # Cria a variável yv e atribui o valor 1 para y do vértice\n",
        "    a = 1 # Cria a variável a e atribui o valor de 1 para o coeficiente angular\n",
        "\n",
        "    xt = np.linspace(-1, 1, 200) # Cria a variável auxiliar xt e atribui a variação de frames do eixo x\n",
        "    yt = -a * ((xt - xv)**2) + yv # Cria a variável auxiliar yt e atribui a variação de frames do eixo y\n",
        "\n",
        "    x = xt[i] # Cria a coordenada x do polígono\n",
        "    y = yt[i] # Cria a coordenada y do polígono\n",
        "\n",
        "    line1.set_data([x], [y]) # Troca os dados da linha 1 da função init por x e y\n",
        "    return (line1,) # Retorna a tupla com a linha modificada\n",
        "\n",
        "\n",
        "'''Configuração da imagem, do eixo e do elemento plotado que queremos animar'''\n",
        "fig, ax = plt.subplots() # Cria o gráfico\n",
        "\n",
        "ax.set_aspect('equal') # Determina o tamanho do eixo x igual ao do eixo y\n",
        "ax.set_xlim((-1.5, 1.5)) # Define o limite de itens que aparece no eixo x\n",
        "ax.set_ylim((0, 1.5)) # Define o limite de itens que aparece no eixo y\n",
        "\n",
        "line1, = ax.plot([], [], '.', lw=2) # Plota as coordenadas X e Y da linha 1 como vazia e com grossura de 2px\n",
        "\n",
        "anim = FuncAnimation(fig, animate, init_func=init, frames=200, interval=10, blit=True) # Chama a função de animação\n",
        "# '''\n",
        "    # FuncAnimation(fig, animate, init_func=init, frames=200, interval=10, blit=True): realiza a animação do polígono\n",
        "\n",
        "    # Recebe seis parâmetros fig, animate, init_func=init, frames=200, interval=5 e blit=True:\n",
        "    # fig: plota o polígono solicitado e os eixos do gráfico\n",
        "    # animate: chama a função criada pelo programador animate que realiza as alterações da animação\n",
        "    # init_func=init: determina a função inicial (aquela que tem os dados base) como init\n",
        "    # frames: define a quantidade de frames que terá na animação\n",
        "    # interval=5: define o tempo da animação em milisegundos\n",
        "    # blit=True: re-desenha apenas as partes que foram alteradas\n",
        "    # FuncAnimation(fig, animate, init_func=init, frames=200, interval=10, blit=True) retorna None\n",
        "# '''"
      ],
      "execution_count": null,
      "outputs": [
        {
          "output_type": "display_data",
          "data": {
            "image/png": "[encoded data removed]",
            "text/plain": [
              "<Figure size 432x288 with 1 Axes>"
            ]
          },
          "metadata": {
            "tags": [],
            "needs_background": "light"
          }
        }
      ]
    },
    {
      "cell_type": "code",
      "metadata": {
        "colab": {
          "base_uri": "https://localhost:8080/"
        },
        "id": "9ZEQREQjerG1",
        "outputId": "2dd6880e-5fb8-41ba-f5ba-e24dfdee5491"
      },
      "source": [
        "HTML(anim.to_html5_video()) # Chama a função HTML e exibe o vídeo da animação"
      ],
      "execution_count": null,
      "outputs": [
        {
          "output_type": "execute_result",
          "data": {
            "text/html": [
              "<video width=\"432\" height=\"288\" controls autoplay loop>\n",
              "  <source type=\"video/mp4\" src=\"data:video/mp4;base64,AAAAHGZ0eXBNNFYgAAACAGlzb21pc28yYXZjMQAAAAhmcmVlAAAgo21kYXQAAAKuBgX//6rcRem9\n",
              "5tlIt5Ys2CDZI+7veDI2NCAtIGNvcmUgMTUyIHIyODU0IGU5YTU5MDMgLSBILjI2NC9NUEVHLTQg\n",
              "QVZDIGNvZGVjIC0gQ29weWxlZnQgMjAwMy0yMDE3IC0gaHR0cDovL3d3dy52aWRlb2xhbi5vcmcv\n",
              "eDI2NC5odG1sIC0gb3B0aW9uczogY2FiYWM9MSByZWY9MyBkZWJsb2NrPTE6MDowIGFuYWx5c2U9\n",
              "MHgzOjB4MTEzIG1lPWhleCBzdWJtZT03IHBzeT0xIHBzeV9yZD0xLjAwOjAuMDAgbWl4ZWRfcmVm\n",
              "PTEgbWVfcmFuZ2U9MTYgY2hyb21hX21lPTEgdHJlbGxpcz0xIDh4OGRjdD0xIGNxbT0wIGRlYWR6\n",
              "b25lPTIxLDExIGZhc3RfcHNraXA9MSBjaHJvbWFfcXBfb2Zmc2V0PS0yIHRocmVhZHM9MyBsb29r\n",
              "YWhlYWRfdGhyZWFkcz0xIHNsaWNlZF90aHJlYWRzPTAgbnI9MCBkZWNpbWF0ZT0xIGludGVybGFj\n",
              "ZWQ9MCBibHVyYXlfY29tcGF0PTAgY29uc3RyYWluZWRfaW50cmE9MCBiZnJhbWVzPTMgYl9weXJh\n",
              "bWlkPTIgYl9hZGFwdD0xIGJfYmlhcz0wIGRpcmVjdD0xIHdlaWdodGI9MSBvcGVuX2dvcD0wIHdl\n",
              "aWdodHA9MiBrZXlpbnQ9MjUwIGtleWludF9taW49MjUgc2NlbmVjdXQ9NDAgaW50cmFfcmVmcmVz\n",
              "aD0wIHJjX2xvb2thaGVhZD00MCByYz1jcmYgbWJ0cmVlPTEgY3JmPTIzLjAgcWNvbXA9MC42MCBx\n",
              "cG1pbj0wIHFwbWF4PTY5IHFwc3RlcD00IGlwX3JhdGlvPTEuNDAgYXE9MToxLjAwAIAAAAd6ZYiE\n",
              "ACf//vWxfApqyfOKDOgyLuGXJMmutiLibQDAAAADAAVQSrRfODf9+M4AAOqABEIg4JjlfAA2exGM\n",
              "iqYZ1yhlkA18vK4UKgvzH1Q8Nq6/wpzqYsrtu656ojimG9TyEoaUO7yShzS74DXRuapycpupk5ea\n",
              "L7NqpMGe7Ka9NnGOLaIhFzHNbd77TX1MbBWHC2ogrOwSG7+3naa8C3dG831N/P1vuPgRvqVwAGIv\n",
              "HUgRKwEG0MKq5inxv0SgajjSP9o6MAa7prHoBBPRv12hbMSWP+X0gwL3YjIiTq0f/0dWjsqmhF/k\n",
              "3YpT9FlW5w28erO//J+5jvOhXaScROd/ZRuyx25lfJhL9LiMEwlDDgCoEv+3lPvcIAAAAwAOSB/W\n",
              "emEupOy+BuTxZZtDpLfrTqpV0uiEnXRIMjWsML8zpjQez1yGM/TUzEOwY7lbcQoU42B44ndhFRea\n",
              "SG+AB0zVNS/6saP5S3qX2jV+9Eg33rV6eLmP/xr9RMoXEK8zOhFL07VDJKEcVpb23ToX7AYz0s1A\n",
              "aFKTuMB4ifQgupIRoXPBHQhNMy2NMEdMLv2BjOlp/DdsUSfgf5uAA5BgzFAzigOlRi7Xnu7gdwxl\n",
              "m9ewtfxF3JvbTCAVl92i7zjuxiLKP4PaA/fwaR5CxdLTDWXdyv7Vayh/N/Pp+DA0cowSRgZcm6iB\n",
              "FrUbJCyb+6z+ByKA0HPFKCc7/LiA4V4jmL+SBlfTPCO0x0+9Px7LHWA+GQ6eZr6tjnUrYAAYLSLb\n",
              "Z0d8W668+qADWUScKw2NUqGnlaaAB51AmU4esDuPY81JDJdpuEiZ+1qg/xYfo+EQ6IeW9/hMp1OH\n",
              "HKJAd+3onG+pTXmbqck7cT76LuvXtUC465bpHv9RwbokYixQ/SjT+4rYvBAiS2QfmbDb8tU+KN4M\n",
              "Hld48aFXlKpGaxvGvzXFT9y0yjnWiwGHxw3OAb39uUTquEcZBwpnDcSZO2m9b2ua4MYQV9eijIx8\n",
              "w76GygXvuBO26bxSdQymZ2IXN39ZBR73pvnBUef5ACLPpIe1jfobh1f0QAFrtdMpbM4LLEa/ZBgY\n",
              "fDh/HZcpBXyJo55GrOiFpFc1EB0bexwyTIjTFQaJOJDuayJDOK098Fqm4xMAkYvHke0BSObIl3kJ\n",
              "P7fCU1fS98/f4Kn/rqpbPnkFV67/XopAYz1Y8Zl9ThGqK6POerMRJgBtTlzW7yV2Bwffy0R1Sxb9\n",
              "uep6dZ0HGzSt9WN1WF9AV0V7VmzT/vQcGluAAiwUy/J/1pUK2OgI9x/04U0LObJd5g4FiizmR6o8\n",
              "FFz3Qidv8RLgpIGheob/J7Sx6ijC9gHuwCIfPyCUS51ptH/28uocEkAJQzQB52sDXEmimj/25Jzc\n",
              "dPiHADxdwnCOMzzUU4OTHr31gx89cmSNcYAKDFfAwQNe9tGzc8jpJC3+mawBTKGHxgDVDmyzKbJW\n",
              "2oDbGBrFzbzkVAGajxqZHphKxOPjloHyEs6SGMlsMGFI917Keqcj7yShkLIcm0N5CSEESHn+J9OQ\n",
              "o8PGqMa629Hw7q+kv3gvylxZNyzgIoL6k3aUiLIMNjzL46BBPB6xp6C56lPItfa6pEsit5b7IlNj\n",
              "2AmNC3VseQ9Re9TmfD7MRW1h1M1cMktIn6Cd7Pj8NouV55tb2nAZ7qlXJNFyHZb8i5BPDxBCAhAB\n",
              "lifnRyP9xh+sTFDHqaOZJNvmZfjoBTBsNPO9OXiTTU9r2eCXWUNwcTaNv9cPuU5dp8Fen/bGfRP3\n",
              "NKJg4B03GwbTv+MdzFvoNng45REDlTlWZ3C3Lyd51hFh8TIL5S2fmAXRIwtA3Wn/DxrOWuu/q08L\n",
              "Y322ti7veKo4jy2ltVD72+XahZhFNSxgjXl5WLU8GAskmalWN5II5rsU5vP766ebDpeTIF8AHc8B\n",
              "EW0mdepGDJgsXh+P+xB+I++mlSFbl3Y851/kvcfE5MIliiRdYR9QO2oyaz6U96S1KN23kCbkk7ZW\n",
              "QiKCNFwyYZf4pCXZq9BzLCIYne8jCeDA7qCvYjW73EhVudHx+anyDF52acLNOxexaHJrQ/AV7PUK\n",
              "4fNqAbgtp/u20D2wg+EwNnUSi1mtCR6ZWcx6bcgpvdF4z4DunuZmpSfiBr6S8AJ75XrJ7G5wyXzP\n",
              "PEa/mHpSZQD+nf+PJjUDO+vVUQnNTaD5zj+jZRJI8xsuUq5SFk1XNErcEEqVI/BziT2N0Zjs5Xy7\n",
              "GRaMUhpS1BJIOkEAlLqfe3lfECRCai9WQnN+K32dGXWcSP6IU5Wpl5j0Ep5xf+bRdvLi46lJtfDp\n",
              "/KDsZKy70PwU2x/Id0bYXbymlfuv2f0x2N0LCIGFVT6asEpTgbvEEtb3pSXbT7Xkjq0iUehV9Y3B\n",
              "VIPvU9tzfjYsP4q5OASrL1ADq3VSQYr2wr6eTdDbMJrBawgGHFffyXzdJyQMKSPjLOQ5PUTqQ/1M\n",
              "tFWaVhQQsBroghzTRx4BPfz4xnTxIVQ16h+stE5pRtczTCC2QtsuM9mnTBU3Uw/gxHX2HrCTwrZt\n",
              "xbazsfWh93z2yy77EjtYSjqb1kj/q3IwA+eAAEtBAAABDEGaJGxCP/3hADS+jgl6ZcAKMzg+dY6z\n",
              "phmu63l3vXWeDajk+A/9GPLZgsDl/jXsZY0KV1vRKRaCENquhKhEvNr2XrOGNz/vFzWXvk4q69X6\n",
              "+xDZY1ZpIqz5TOSWNQb6wD9+GlRrqvOiEQCMRkJo7PBRqQsZ6E1NifKH4nk45G4hhnsWB5fqQEL0\n",
              "YAPru6A6+F3SvuToAvAThwpw4ChJfNYz0FkRhU56+AKpQUNGloo9Fl/BvRl/wfqyxE9yFqqrT0TX\n",
              "DiEC/OWUdYhvcRRt7CJ18+HYHmh/1Gm6tCbanocr9a2sVGOjjIoafLcE+JPWCyPxULE4g1hNhROi\n",
              "TLW6An/YQ/O1fUb6M8qgGJAAAABdQZ5CeI3/AjboV4B2t5DIMQMP2As6ux50gqj47WpuNUQmR+LA\n",
              "AJkIzPCUQmPhS0VmQagLO5cTKBTtcryMy0W8tWvXsHvDA1XK+MLiJIwprBgx0KdzApRxHTVLXgVd\n",
              "AAAARwGeYXRF/wLVwaGwg6f4SZsmjZVcvAUCrO7pLNGowUSzrzeIfIZMVc7wOo+aO4Nh/HtsmVjH\n",
              "JyZ1/LsRCIFA1oA9xEBQCC1gAAAALwGeY2pF/wBcC7TSqFTNgC3ziYQdHhoU7fcJ0C/f0mr2bt3W\n",
              "69U+UMU82p2J/0jrAAAAY0GaZ0moQWiZTAhH//3hABpqSW4QsfrZ7P+owLbA9siAFrc83ox4AfOT\n",
              "gxUO7wjJ3N2W8HDvTbkkZ9s+Li2yHGfZ6Ny7xAhvANqXBKzJSnaOVrl0r2sGS/p7Tdw3ER/fK4IM\n",
              "yQAAACpBnoVFESxfAACskxFvMhquBus7lYgQ85MpCopT3GCacWj6iHI2WDbwHpEAAAAjAZ6makX/\n",
              "AACe89kfEVeio8xvB9L1y1HRmeka9YuYd1Z8RN0AAABIQZqoSahBbJlMCEf//eEADSn5eAoPUrQ1\n",
              "MRzpitI47Dst/ywTmCY/nLp9Lp039doXggfEoBtWdT1gmRgrL94trRgcABOzHUFbAAAAPUGayUnh\n",
              "ClJlMCEf/eEAABc28BnCp5JtsqoF3WoYGoZqVkZGav8/dmdZYAUkaubO1/2OEXGCsv3hMKeqCoAA\n",
              "AAA0QZrrSeEOiZTBTRMJ//3xAAAOddz8iVn+ua8nIJApe09jTpDAEqGqwP8vc/YsSY3Bf3eJgQAA\n",
              "ABgBnwpqRf8AAT3nsiK0HrlYP5KM6rVrEBgAAAAxQZsNSeEPJlMFPCf//fEAAA513PyJnV6bQM3H\n",
              "KCmCU40wB633Mg34P/uLEmNwX+G7MAAAABgBnyxqRf8AAT3nsihEr4fxUW96vY+E+qEAAAAwQZsw\n",
              "SeEPJlMCE//98QAADnWmwysDDRnZZvT/TPXCdtDGV4CV/gMAWziWje1/36NhAAAAG0GfTkURPF8A\n",
              "AT3bcKmgGOMAAK9Ly5kSuTUX4QAAABQBn29qRf8AAT3nsfnAY0adkLToYAAAAEdBm3RJqEFomUwI\n",
              "T//98QAAHG3/tuAAV09DWe3XvEY5+qCbTPNQMI1Nm2nZIyv7LSoeeifg7cOwCzqDktM2n3RofF/0\n",
              "2aKGFQAAAB5Bn5JFESxvAAHxdroGahkbSVJIePPg1YjxpzaF1w8AAAAYAZ+xdEX/AAJ6+CyA7pSh\n",
              "wyNhNPKKJq+cAAAAGAGfs2pF/wACfZfVaujVtvjdzGR/OBdmawAAACVBm7dJqEFsmUwIT//98QAA\n",
              "HDtNhmJWf606PJw6BGQWWqeUTHiBAAAAGUGf1UUVLF8AAn5zB8hk66Zgp9jlr5e82EAAAAASAZ/2\n",
              "akX/AAJ9mf9rPL/9O7+3AAAAG0Gb+kmoQWyZTAhH//3hAABamBfS5tyjAZzWgQAAABVBnhhFFSxf\n",
              "AATX0qV4SSQmKaSPZYAAAAARAZ45akX/AATZW6aicQD64UkAAAAbQZo8SahBbJlMFEwn//3xAAA4\n",
              "d3O2omructFYAAAAFAGeW2pF/wAE1MDw5Ohq+ymk0O+BAAAAHEGaX0nhClJlMCE//fEAADh2mwU8\n",
              "DC4HYv9sRScAAAAWQZ59RTRMXwAE14UViLe40QbKbaqJPAAAABMBnp5qRf8ABNLZXAL59iw13XGA\n",
              "AAAAGkGagkmoQWiZTAhP//3xAAA42/6yxYekFzDxAAAAFEGeoEURLF8ABNVnFgTGoo4jvVp4AAAA\n",
              "EAGewWpF/wAEtMEqS/OAB8EAAAAbQZrGSahBbJlMCEf//eEAALCxQ7itt1zWw4eAAAAAF0Ge5EUV\n",
              "LG8AB1VV3z8Jo/vmCEuLL/fBAAAAEQGfA3RF/wAJcPexyssE9QfBAAAAEQGfBWpF/wAJaYJUK0FS\n",
              "6WTfAAAAG0GbCEmoQWyZTBRMI//94QAAsLAvOzvxN3VXcQAAABQBnydqRf8ACWPrk6SzI0ENxG/P\n",
              "gAAAABZBmylJ4QpSZTAhP/3xAABuTOI+nEwIAAAAH0GbTUnhDomUwIR//eEAALCxQ6WSR3IsuYhT\n",
              "1stsZZMAAAAVQZ9rRRE8bwAHaU3YGvqL8WBe/9K+AAAAEQGfinRF/wAJb/oCyrrnCsPgAAAAEgGf\n",
              "jGpF/wAJaYJRnAYckR8PgQAAABpBm49JqEFomUwU8I/94QAAsfJ7lReeBMswIQAAABQBn65qRf8A\n",
              "CW8KXnFU9GX0PDs48QAAABlBm7FJ4QpSZTBSwj/94QABWGfQzffCEpgQAAAAEgGf0GpF/wASXhS/\n",
              "paU4jA7R4AAAABpBm9RJ4Q6JlMCEf/3hAAFYYF52eCOAGynDgwAAABNBn/JFFTxfABJeFL+lpTiM\n",
              "DtHgAAAADwGeE2pF/wASUwSoVoG9AwAAABdBmhVJqEFomUwIR//94QABWG8JCAQd0QAAABhBmjdJ\n",
              "4QpSZTBREsI//eEAAVhn0M4BB3QAAAARAZ5WakX/ABJH1y1LS8OdX4EAAAAgQZpZSeEOiZTBRMI/\n",
              "/eEAAVhgYGJxGMQABCnq/R7G1WkAAAARAZ54akX/ABJTBKZk88r0aPAAAAAhQZp7SeEPJlMFPCf/\n",
              "/fEAANeWKGHgpjoQ3B0V+O9m2VmBAAAAEgGemmpF/wASUwSjOAvPLByFwAAAABlBmp5J4Q8mUwIT\n",
              "//3xAADY7/rLFf3QXJHxAAAAE0GevEURPF8AEl4UvOKpwiWU8fEAAAAPAZ7dakX/ABJVb5yvgmLA\n",
              "AAAAGUGawUmoQWiZTAhP//3xAAGlJwhlSmWzBCwAAAASQZ7/RREsXwAjvoVoQSvlbVGZAAAADgGf\n",
              "AGpF/wAjvoVTDGQsAAAAGUGbBUmoQWyZTAhH//3hAAKexQzs6+EJRi0AAAATQZ8jRRUsbwAcRTfT\n",
              "98B3giPT8AAAABABn0J0Rf8AI7/oDTJM3IWBAAAADwGfRGpF/wAjvBXrrSVUwQAAABxBm0dJqEFs\n",
              "mUwUTCP//eEAAp7PqQgCOAPkRlfBAAAAEAGfZmpF/wAjpds6/8uNwPEAAAAgQZtpSeEKUmUwUsI/\n",
              "/eEAAp7AwMjdin4aQ35wtVvVD+YAAAASAZ+IakX/ACOmCUZwF5tAHIXAAAAAGUGbi0nhDomUwUTC\n",
              "P/3hAAKjye5b1I1a8WcAAAASAZ+qakX/ACOmCUx2mLZ/yQuAAAAAFUGbrEnhDyZTAhP//fEAAZsy\n",
              "msCImAAAABdBm9BJ4Q8mUwIT//3xAAGbJ5gZU4hnwQAAABFBn+5FETxvABuZDPvQxCgqdwAAAA0B\n",
              "ng10Rf8AIqEA6ZgRAAAADQGeD2pF/wAipJPllJAAAAAXQZoUSahBaJlMCE///fEAAZsnCGVOIZ8A\n",
              "AAARQZ4yRREsbwAbmffUH3J5H7UAAAANAZ5RdEX/ACKhAOmYEAAAAA0BnlNqRf8AIqXbaykgAAAA\n",
              "IkGaVkmoQWyZTBRMJ//98QABmyxUb4LXWAQkF/KNCtScnYUAAAAQAZ51akX/ACK8FQzdtWLYzAAA\n",
              "ABlBmnpJ4QpSZTAhP/3xAAGd3/WXR2UobxcRAAAAEkGemEU0TG8AG6cSM4Y9jU/JlwAAAA4Bnrd0\n",
              "Rf8AIr/FgvqxGwAAAA4BnrlqRf8AIqs4csoWUQAAABZBmr5JqEFomUwIT//98QABkSbUjiGpAAAA\n",
              "EEGe3EURLG8AGvnsxK/DS9sAAAANAZ77dEX/ACG/xwMhYQAAAA0Bnv1qRf8AIaXbaypgAAAAF0Ga\n",
              "4UmoQWyZTAhP//3xAAGRJwo+nENSAAAAEEGfH0UVLF8AIbwV/GWEFP0AAAANAZ8gakX/ACG8FfwQ\n",
              "sAAAAB5BmyVJqEFsmUwIT//98QABkSbQ6bktRCCXILD/xecAAAAUQZ9DRRUsbwAa+exCMitR7603\n",
              "IWgAAAAPAZ9idEX/ACG/xwYEK5ExAAAAEQGfZGpF/wAhpdgOzL+0+uEFAAAAIUGbZ0moQWyZTBRM\n",
              "J//98QABkSxVE4LnmAQkF/KNCSrG4QAAABMBn4ZqRf8AIbwU9fMvyFuRIivBAAAAGEGbi0nhClJl\n",
              "MCE//fEAAZPf9ZdCRFyJuAAAABFBn6lFNExvABr9ti73Q2lMuAAAAA4Bn8h0Rf8AIaRR7tMSMQAA\n",
              "AA0Bn8pqRf8AIKXbaytgAAAAF0Gbz0moQWiZTAhH//3hAAJppRUoAgg4AAAAEEGf7UURLG8AGmeE\n",
              "Ylh/he0AAAANAZ4MdEX/ACC/xwMiYQAAAA0Bng5qRf8AIKXbaythAAAAIkGaE0moQWyZTAhH//3h\n",
              "AAJppjFFe7pbFqIU9X5vf3qiBMAAAAATQZ4xRRUsbwAaZxI4F7n57gOJvgAAAA8BnlB0Rf8AIL/H\n",
              "BgKwuSEAAAAOAZ5SakX/ACCl2A7MoXcAAAAgQZpVSahBbJlMFEx//IQACXHNW9eyOmTOZyPmjP/0\n",
              "lPwAAAARAZ50akX/ACC8FPXzKiy6g+EAAAAXQZp2SeEKUmUwI//8hAAJdzq6lfHnCpgAAAAWQZqX\n",
              "SeEOiZTAj//8hAAJJhJPM8D0gQAAABVBmrhJ4Q8mUwIR//3hAAJZvDqcGLEAAAAWQZrZSeEPJlMC\n",
              "Ef/94QACWa+qUAQQ8AAAABdBmvtJ4Q8mUwURPH/8hAAJJdunmeB6QQAAAA8BnxpqRf8AH8TjgeqE\n",
              "FPwAAAAVQZscSeEPJlMCEf/94QACWbw6nBixAAAAFkGbPUnhDyZTAhH//eEAAlm+FKAIIeEAAAAV\n",
              "QZteSeEPJlMCE//98QABfTKawIlYAAAAIEGbYUnhDyZTAhH//eEAAlmgwRrdin4aQ35wtEsb7BBo\n",
              "AAAAEkGfn0URPF8AH7JYfWTzcml4+QAAAA4Bn6BqRf8AH7NUEUsTMAAAABxBm6RJqEFomUwIR//9\n",
              "4QACXdE1M0RJKwEB1KSBAAAAFEGfwkURLF8AH7JYejgJMCi7fqEzAAAAEAGf42pF/wAfs1LWv4WT\n",
              "qikAAAAaQZvmSahBbJlMFEwj//3hAAJJr6I/74QlG9EAAAASAZ4FakX/AB8DfP6tA38sZceBAAAA\n",
              "GEGaB0nhClJlMCEf/eEAAk3RNr4+FMIZSQAAABVBmihJ4Q6JlMCEf/3hAAEk3h1OGVAAAAAWQZpJ\n",
              "SeEPJlMCE//98QAAucHFITiOOAAAABdBmm1J4Q8mUwIT//3xAAC5u8vj++I44QAAABFBnotFETxv\n",
              "AAyM+6un/ryP2gAAAA4Bnqp0Rf8AD4ASP9WtoAAAAA4BnqxqRf8AD4G+f6tbQQAAAB5BmrFJqEFo\n",
              "mUwIR//94QABJNKHH0C47D5A35wtW70AAAAVQZ7PRREsbwAMjPurFfUI/HA6KX/RAAAAEQGe7nRF\n",
              "/wAPjEiXkWb8nt7AAAAAEgGe8GpF/wAPgb56OAvZCMqrQAAAABtBmvNJqEFsmUwUTCP//eEAASbo\n",
              "mpkYJJWvMuEAAAARAZ8SakX/AA+DyBYlhLSGs+AAAAAYQZsWSeEKUmUwIR/94QABHNBeiVXwhKcc\n",
              "AAAAE0GfNEU0TF8ADzJ6FITlONTY0eEAAAAPAZ9VakX/AA8pvn9Wgb07AAAAGkGbV0moQWiZTAhH\n",
              "//3hAAEdlcV6Z4shJU45AAAAG0GbeUnhClJlMFESwn/98QAAtnJ9tp9GipYTsQAAABEBn5hqRf8A\n",
              "DywP+ZZ8amBR8AAAABZBm5xJ4Q6JlMCEf/3hAACOaUNErCI/AAAAEUGfukUVPF8AB5SV67Xq01X4\n",
              "AAAADgGf22pF/wAHlN8/1d3BAAAAHUGb30moQWiZTAhH//3hAACOaC+PoFx2HyBvzkHvAAAAFUGf\n",
              "/UURLF8AB5SV6w09spwmHhHB4AAAABIBnh5qRf8AB5TfPRwF8wjKrcAAAAAdQZoBSahBbJlMFEwj\n",
              "//3hAACPdE1NeaK8r09J1YEAAAATAZ4gakX/AAeU3z0cBc2qaoEpQAAAABhBmiJJ4QpSZTAhP/3x\n",
              "AABYXxVISmWzFFEAAAAZQZpFSeEOiZTAhP/98QAAWPk+204WLPi6DgAAABNBnmNFETxfAAdtPNpF\n",
              "OU6v7GjxAAAADwGehGpF/wAHagf8yz3ooQAAABhBmolJqEFomUwIR//94QAARTSh3YWEk4EAAAAR\n",
              "QZ6nRREsbwAC+z7ccGMBR+0AAAAOAZ7GdEX/AAO3EiYil6AAAAAOAZ7IakX/AAO0b2u1kCAAAAAX\n",
              "QZrKSahBbJlMCEf//eEAAEU3wpQBJOEAAAAgQZrsSeEKUmUwUVLCf/3xAAAsLpvj2pbqKT+2SkR5\n",
              "pdAAAAAUAZ8LakX/AAO0b2sHAYACJgbrAsAAAAAdQZsPSeEOiZTAhP/98QAALHyfazGqPULN9Q9j\n",
              "mUEAAAAVQZ8tRRU8XwADtp6Ej8o+lMvRTCShAAAAEQGfTmpF/wADtPP8GuuA0K+/AAAAF0GbUUmo\n",
              "QWiZTBTwn/3xAAAVh8TRG+PpAAAAEAGfcGpF/wABzze129Ze6fgAAAAXQZt0SeEKUmUwIT/98QAA\n",
              "FYdwdQN8fSEAAAARQZ+SRTRMXwAB0E82lLUxwXgAAAAOAZ+zakX/AAHPN8/1wsAAAAAxQZu4SahB\n",
              "aJlMCE///fEAABWuT7b8Zi0gBI6qus88/1SEJvpElNyvxs2CIXNAGpnqaQAAABVBn9ZFESxvAAF0\n",
              "sEBX8HeotZS9q4AAAAAQAZ/1dEX/AAHQiQIi1TOZoQAAABEBn/dqRf8AAcqrEonGEfks9QAAAB5B\n",
              "m/tJqEFsmUwIT//98QAACtJGWK1idff/EKzVRGAAAAAVQZ4ZRRUsXwAByzvvAxQ2y/TR6UShAAAA\n",
              "EgGeOmpF/wAB0G8ngtGh5NTDgAAAABxBmj9JqEFsmUwIR//94QAAEO6JtKADL6h8IbVpAAAAFUGe\n",
              "XUUVLG8AAXUqkSbHzfgYA+riSwAAABIBnnx0Rf8AAc8sJvYSMXkW14AAAAASAZ5+akX/AAHQb9oL\n",
              "2HE86t6AAAAAGEGaYkmoQWyZTAhH//3hAAAIKWsv64LEbwAAABRBnoBFFSxfAAHREMtnBeA3qo2U\n",
              "+AAAABABnqFqRf8AAdBvlkXsOcqhAAAAK0GapkmoQWyZTAjf+lgAAD68aSAI1G7yzYMmOo/fq9Co\n",
              "jr7gDef1cRBcgHAAAAAWQZ7ERRUsbwABdSqnnGylgCW+ocF9hwAAABABnuN0Rf8AAc8s4+YZZQHh\n",
              "AAAAHgGe5WpF/wAB0G+WeDOfkItjYAIMU5Oh8W5q7LZCSQAAAB9BmudJqEFsmUwIv/pYAAA+vF1e\n",
              "p50AIOCsiG8ZoWFdAAALrm1vb3YAAABsbXZoZAAAAAAAAAAAAAAAAAAAA+gAAAfQAAEAAAEAAAAA\n",
              "AAAAAAAAAAABAAAAAAAAAAAAAAAAAAAAAQAAAAAAAAAAAAAAAAAAQAAAAAAAAAAAAAAAAAAAAAAA\n",
              "AAAAAAAAAAAAAAAAAAIAAArYdHJhawAAAFx0a2hkAAAAAwAAAAAAAAAAAAAAAQAAAAAAAAfQAAAA\n",
              "AAAAAAAAAAAAAAAAAAABAAAAAAAAAAAAAAAAAAAAAQAAAAAAAAAAAAAAAAAAQAAAAAGwAAABIAAA\n",
              "AAAAJGVkdHMAAAAcZWxzdAAAAAAAAAABAAAH0AAAAQAAAQAAAAAKUG1kaWEAAAAgbWRoZAAAAAAA\n",
              "AAAAAAAAAAAAMgAAAGQAVcQAAAAAAC1oZGxyAAAAAAAAAAB2aWRlAAAAAAAAAAAAAAAAVmlkZW9I\n",
              "YW5kbGVyAAAACfttaW5mAAAAFHZtaGQAAAABAAAAAAAAAAAAAAAkZGluZgAAABxkcmVmAAAAAAAA\n",
              "AAEAAAAMdXJsIAAAAAEAAAm7c3RibAAAALNzdHNkAAAAAAAAAAEAAACjYXZjMQAAAAAAAAABAAAA\n",
              "AAAAAAAAAAAAAAAAAAGwASAASAAAAEgAAAAAAAAAAQAAAAAAAAAAAAAAAAAAAAAAAAAAAAAAAAAA\n",
              "AAAAAAAAABj//wAAADFhdmNDAWQAH//hABhnZAAfrNlBsJaEAAADAAQAAAMDIDxgxlgBAAZo6+PL\n",
              "IsAAAAAcdXVpZGtoQPJfJE/FujmlG88DI/MAAAAAAAAAGHN0dHMAAAAAAAAAAQAAAMgAAACAAAAA\n",
              "FHN0c3MAAAAAAAAAAQAAAAEAAAVwY3R0cwAAAAAAAACsAAAAAQAAAQAAAAABAAACgAAAAAEAAAEA\n",
              "AAAAAQAAAAAAAAABAAAAgAAAAAEAAAIAAAAAAgAAAIAAAAACAAABAAAAAAEAAAGAAAAAAQAAAIAA\n",
              "AAABAAABgAAAAAEAAACAAAAAAQAAAgAAAAACAAAAgAAAAAEAAAKAAAAAAQAAAQAAAAABAAAAAAAA\n",
              "AAEAAACAAAAAAQAAAgAAAAACAAAAgAAAAAEAAAIAAAAAAgAAAIAAAAABAAABgAAAAAEAAACAAAAA\n",
              "AQAAAgAAAAACAAAAgAAAAAEAAAIAAAAAAgAAAIAAAAABAAACgAAAAAEAAAEAAAAAAQAAAAAAAAAB\n",
              "AAAAgAAAAAEAAAGAAAAAAQAAAIAAAAABAAABAAAAAAEAAAKAAAAAAQAAAQAAAAABAAAAAAAAAAEA\n",
              "AACAAAAAAQAAAYAAAAABAAAAgAAAAAEAAAGAAAAAAQAAAIAAAAABAAACAAAAAAIAAACAAAAAAQAA\n",
              "AQAAAAABAAABgAAAAAEAAACAAAAAAQAAAYAAAAABAAAAgAAAAAEAAAGAAAAAAQAAAIAAAAABAAAC\n",
              "AAAAAAIAAACAAAAAAQAAAgAAAAACAAAAgAAAAAEAAAKAAAAAAQAAAQAAAAABAAAAAAAAAAEAAACA\n",
              "AAAAAQAAAYAAAAABAAAAgAAAAAEAAAGAAAAAAQAAAIAAAAABAAABgAAAAAEAAACAAAAAAQAAAQAA\n",
              "AAABAAACgAAAAAEAAAEAAAAAAQAAAAAAAAABAAAAgAAAAAEAAAKAAAAAAQAAAQAAAAABAAAAAAAA\n",
              "AAEAAACAAAAAAQAAAYAAAAABAAAAgAAAAAEAAAKAAAAAAQAAAQAAAAABAAAAAAAAAAEAAACAAAAA\n",
              "AQAAAoAAAAABAAABAAAAAAEAAAAAAAAAAQAAAIAAAAABAAACAAAAAAIAAACAAAAAAQAAAoAAAAAB\n",
              "AAABAAAAAAEAAAAAAAAAAQAAAIAAAAABAAABgAAAAAEAAACAAAAAAQAAAoAAAAABAAABAAAAAAEA\n",
              "AAAAAAAAAQAAAIAAAAABAAACgAAAAAEAAAEAAAAAAQAAAAAAAAABAAAAgAAAAAEAAAKAAAAAAQAA\n",
              "AQAAAAABAAAAAAAAAAEAAACAAAAAAQAAAYAAAAABAAAAgAAAAAQAAAEAAAAAAQAAAYAAAAABAAAA\n",
              "gAAAAAMAAAEAAAAAAQAAAgAAAAACAAAAgAAAAAEAAAIAAAAAAgAAAIAAAAABAAABgAAAAAEAAACA\n",
              "AAAAAwAAAQAAAAABAAACgAAAAAEAAAEAAAAAAQAAAAAAAAABAAAAgAAAAAEAAAKAAAAAAQAAAQAA\n",
              "AAABAAAAAAAAAAEAAACAAAAAAQAAAYAAAAABAAAAgAAAAAEAAAIAAAAAAgAAAIAAAAABAAABAAAA\n",
              "AAEAAAGAAAAAAQAAAIAAAAABAAACAAAAAAIAAACAAAAAAQAAAgAAAAACAAAAgAAAAAEAAAGAAAAA\n",
              "AQAAAIAAAAABAAABAAAAAAEAAAIAAAAAAgAAAIAAAAABAAACgAAAAAEAAAEAAAAAAQAAAAAAAAAB\n",
              "AAAAgAAAAAEAAAEAAAAAAQAAAYAAAAABAAAAgAAAAAEAAAIAAAAAAgAAAIAAAAABAAABgAAAAAEA\n",
              "AACAAAAAAQAAAgAAAAACAAAAgAAAAAEAAAKAAAAAAQAAAQAAAAABAAAAAAAAAAEAAACAAAAAAQAA\n",
              "AgAAAAACAAAAgAAAAAEAAAKAAAAAAQAAAQAAAAABAAAAAAAAAAEAAACAAAAAAQAAAgAAAAACAAAA\n",
              "gAAAAAEAAAKAAAAAAQAAAQAAAAABAAAAAAAAAAEAAACAAAAAAQAAAQAAAAAcc3RzYwAAAAAAAAAB\n",
              "AAAAAQAAAMgAAAABAAADNHN0c3oAAAAAAAAAAAAAAMgAAAowAAABEAAAAGEAAABLAAAAMwAAAGcA\n",
              "AAAuAAAAJwAAAEwAAABBAAAAOAAAABwAAAA1AAAAHAAAADQAAAAfAAAAGAAAAEsAAAAiAAAAHAAA\n",
              "ABwAAAApAAAAHQAAABYAAAAfAAAAGQAAABUAAAAfAAAAGAAAACAAAAAaAAAAFwAAAB4AAAAYAAAA\n",
              "FAAAAB8AAAAbAAAAFQAAABUAAAAfAAAAGAAAABoAAAAjAAAAGQAAABUAAAAWAAAAHgAAABgAAAAd\n",
              "AAAAFgAAAB4AAAAXAAAAEwAAABsAAAAcAAAAFQAAACQAAAAVAAAAJQAAABYAAAAdAAAAFwAAABMA\n",
              "AAAdAAAAFgAAABIAAAAdAAAAFwAAABQAAAATAAAAIAAAABQAAAAkAAAAFgAAAB0AAAAWAAAAGQAA\n",
              "ABsAAAAVAAAAEQAAABEAAAAbAAAAFQAAABEAAAARAAAAJgAAABQAAAAdAAAAFgAAABIAAAASAAAA\n",
              "GgAAABQAAAARAAAAEQAAABsAAAAUAAAAEQAAACIAAAAYAAAAEwAAABUAAAAlAAAAFwAAABwAAAAV\n",
              "AAAAEgAAABEAAAAbAAAAFAAAABEAAAARAAAAJgAAABcAAAATAAAAEgAAACQAAAAVAAAAGwAAABoA\n",
              "AAAZAAAAGgAAABsAAAATAAAAGQAAABoAAAAZAAAAJAAAABYAAAASAAAAIAAAABgAAAAUAAAAHgAA\n",
              "ABYAAAAcAAAAGQAAABoAAAAbAAAAFQAAABIAAAASAAAAIgAAABkAAAAVAAAAFgAAAB8AAAAVAAAA\n",
              "HAAAABcAAAATAAAAHgAAAB8AAAAVAAAAGgAAABUAAAASAAAAIQAAABkAAAAWAAAAIQAAABcAAAAc\n",
              "AAAAHQAAABcAAAATAAAAHAAAABUAAAASAAAAEgAAABsAAAAkAAAAGAAAACEAAAAZAAAAFQAAABsA\n",
              "AAAUAAAAGwAAABUAAAASAAAANQAAABkAAAAUAAAAFQAAACIAAAAZAAAAFgAAACAAAAAZAAAAFgAA\n",
              "ABYAAAAcAAAAGAAAABQAAAAvAAAAGgAAABQAAAAiAAAAIwAAABRzdGNvAAAAAAAAAAEAAAAsAAAA\n",
              "YnVkdGEAAABabWV0YQAAAAAAAAAhaGRscgAAAAAAAAAAbWRpcmFwcGwAAAAAAAAAAAAAAAAtaWxz\n",
              "dAAAACWpdG9vAAAAHWRhdGEAAAABAAAAAExhdmY1Ny44My4xMDA=\n",
              "\">\n",
              "  Your browser does not support the video tag.\n",
              "</video>"
            ],
            "text/plain": [
              "<IPython.core.display.HTML object>"
            ]
          },
          "metadata": {
            "tags": []
          },
          "execution_count": 3
        }
      ]
    },
    {
      "cell_type": "markdown",
      "metadata": {
        "id": "InQNphwyQmS4"
      },
      "source": [
        "##2. Animação feita com translação - Exemplo 2 - Deslize"
      ]
    },
    {
      "cell_type": "code",
      "metadata": {
        "id": "6B7VrmfYBuTX"
      },
      "source": [
        "from IPython.display import HTML # Importa a função HTML do módulo display da biblioteca IPython\n",
        "import numpy as np # Importa a biblioteca NumPy e coloca o apelido \"np\" para ser usado\n",
        "\n",
        "from matplotlib.animation import FuncAnimation # Importa a função FuncAnimation do módulo animation da biblioteca Matplotlib\n",
        "import matplotlib.pyplot as plt # Importa o módulo PyPlot da biblioteca Matplotlib e coloca o apelido \"plt\" para ser usado"
      ],
      "execution_count": null,
      "outputs": []
    },
    {
      "cell_type": "code",
      "metadata": {
        "colab": {
          "base_uri": "https://localhost:8080/",
          "height": 265
        },
        "id": "7d3PZtXmBuIU",
        "outputId": "0b54557a-15f8-48ae-a706-bad8a79ee04d"
      },
      "source": [
        "def init():\n",
        "    '''\n",
        "        init(): realiza a plotagem do fundo de cada frame\n",
        "\n",
        "        init() retorna uma tupla com as coordenadas base da animação line1\n",
        "    '''\n",
        "    x = quadrado[0:,0] # Cria o vetor com as coordenadas de X\n",
        "    y = quadrado[0:,1] # Cria o vetor com as coordenadas de Y\n",
        "\n",
        "    line.set_data(x, y) # Define as coordenadas X e Y das linhas passando os vetores acima\n",
        "\n",
        "    line.set_color('#3498DB') # Define a cor das linhas (inglês, hexadecimal ou rgba)\n",
        "    return (line,) # Retorna a tupla com a linha base da animação\n",
        "\n",
        "\n",
        "def animate(i):\n",
        "    '''\n",
        "        animate(i): realiza a animação do polígono\n",
        "\n",
        "        Recebe um parâmetro i, que corresponde ao índice da imagem na animação, partindo de 0 até N-1\n",
        "        animate(i) retorna uma tupla com as coordenadas modificadas line1\n",
        "    '''\n",
        "    d = i * (1 / 50) # Deslocamento realizado pelo polígono\n",
        "\n",
        "    translacao = np.array([\n",
        "        [1, 0, 0],\n",
        "        [0, 1, 0],\n",
        "        [d, 0, 1]\n",
        "    ]) # Matriz de transformação\n",
        "\n",
        "    quadrado_i = np.matmul(quadrado, translacao) # Calcula a translação do quadrado por meio de multiplicação das matrizes\n",
        "    x = quadrado_i[0:,0] # Atribui a variável x, um vetor com os valores de X do quadrado deslocado\n",
        "    y = quadrado_i[0:,1] # Atribui a variável x, um vetor com os valores de X do quadrado deslocado\n",
        "\n",
        "    line.set_data(x, y) # Troca os dados das linhas da função init por x e y\n",
        "    return (line,) # Retorna a tupla com a linha modificada\n",
        "\n",
        "\n",
        "'''Configuração da imagem, do eixo e do elemento plotado que queremos animar'''\n",
        "fig, ax = plt.subplots() # Cria o gráfico\n",
        "\n",
        "ax.set_aspect('equal') # Determina o tamanho do eixo x igual ao do eixo y\n",
        "ax.set_xlim((-1.2, 1.2)) # Define o limite de itens que aparece no eixo x\n",
        "ax.set_ylim((-1.2, 1.2)) # Define o limite de itens que aparece no eixo y\n",
        "\n",
        "quadrado = np.array([\n",
        "    [-3, 0, 1],\n",
        "    [-2, 0, 1],\n",
        "    [-2, 1, 1],\n",
        "    [-3, 1, 1],\n",
        "    [-3, 0, 1]\n",
        "]) # Coordenadas do quadrado após a translação\n",
        "\n",
        "line, = ax.plot([], []) # Plota as coordenadas X e Y das linhas como vazia\n",
        "\n",
        "anim = FuncAnimation(fig, animate, init_func=init, frames=250, interval=10, blit=True) # Chama a função de animação\n",
        "# '''\n",
        "    # FuncAnimation(fig, animate, init_func=init, frames=250, interval=10, blit=True): realiza a animação do polígono\n",
        "\n",
        "    # Recebe seis parâmetros fig, animate, init_func=init, frames=200, interval=5 e blit=True:\n",
        "    # fig: plota o polígono solicitado e os eixos do gráfico\n",
        "    # animate: chama a função criada pelo programador animate que realiza as alterações da animação\n",
        "    # init_func=init: determina a função inicial (aquela que tem os dados base) como init\n",
        "    # frames: define a quantidade de frames que terá na animação\n",
        "    # interval=5: define o tempo da animação em milisegundos\n",
        "    # blit=True: re-desenha apenas as partes que foram alteradas\n",
        "    # FuncAnimation(fig, animate, init_func=init, frames=200, interval=10, blit=True) retorna None\n",
        "# '''"
      ],
      "execution_count": null,
      "outputs": [
        {
          "output_type": "display_data",
          "data": {
            "image/png": "[encoded data removed]",
            "text/plain": [
              "<Figure size 432x288 with 1 Axes>"
            ]
          },
          "metadata": {
            "tags": [],
            "needs_background": "light"
          }
        }
      ]
    },
    {
      "cell_type": "code",
      "metadata": {
        "colab": {
          "base_uri": "https://localhost:8080/",
          "height": 309
        },
        "id": "TGJNET2RFElJ",
        "outputId": "02108ea5-86ec-4095-d329-f41cd7088686"
      },
      "source": [
        "HTML(anim.to_html5_video())"
      ],
      "execution_count": null,
      "outputs": [
        {
          "output_type": "execute_result",
          "data": {
            "text/html": [
              "<video width=\"432\" height=\"288\" controls autoplay loop>\n",
              "  <source type=\"video/mp4\" src=\"data:video/mp4;base64,AAAAHGZ0eXBNNFYgAAACAGlzb21pc28yYXZjMQAAAAhmcmVlAAAtGW1kYXQAAAKuBgX//6rcRem9\n",
              "5tlIt5Ys2CDZI+7veDI2NCAtIGNvcmUgMTUyIHIyODU0IGU5YTU5MDMgLSBILjI2NC9NUEVHLTQg\n",
              "QVZDIGNvZGVjIC0gQ29weWxlZnQgMjAwMy0yMDE3IC0gaHR0cDovL3d3dy52aWRlb2xhbi5vcmcv\n",
              "eDI2NC5odG1sIC0gb3B0aW9uczogY2FiYWM9MSByZWY9MyBkZWJsb2NrPTE6MDowIGFuYWx5c2U9\n",
              "MHgzOjB4MTEzIG1lPWhleCBzdWJtZT03IHBzeT0xIHBzeV9yZD0xLjAwOjAuMDAgbWl4ZWRfcmVm\n",
              "PTEgbWVfcmFuZ2U9MTYgY2hyb21hX21lPTEgdHJlbGxpcz0xIDh4OGRjdD0xIGNxbT0wIGRlYWR6\n",
              "b25lPTIxLDExIGZhc3RfcHNraXA9MSBjaHJvbWFfcXBfb2Zmc2V0PS0yIHRocmVhZHM9MyBsb29r\n",
              "YWhlYWRfdGhyZWFkcz0xIHNsaWNlZF90aHJlYWRzPTAgbnI9MCBkZWNpbWF0ZT0xIGludGVybGFj\n",
              "ZWQ9MCBibHVyYXlfY29tcGF0PTAgY29uc3RyYWluZWRfaW50cmE9MCBiZnJhbWVzPTMgYl9weXJh\n",
              "bWlkPTIgYl9hZGFwdD0xIGJfYmlhcz0wIGRpcmVjdD0xIHdlaWdodGI9MSBvcGVuX2dvcD0wIHdl\n",
              "aWdodHA9MiBrZXlpbnQ9MjUwIGtleWludF9taW49MjUgc2NlbmVjdXQ9NDAgaW50cmFfcmVmcmVz\n",
              "aD0wIHJjX2xvb2thaGVhZD00MCByYz1jcmYgbWJ0cmVlPTEgY3JmPTIzLjAgcWNvbXA9MC42MCBx\n",
              "cG1pbj0wIHFwbWF4PTY5IHFwc3RlcD00IGlwX3JhdGlvPTEuNDAgYXE9MToxLjAwAIAAAAWuZYiE\n",
              "ACf//vWxfApqyfOKDOgyLuGXJMmutiLibQDAAAADAAVQSrRfODf9+M4AAOq3Vvhgp/+YBERfpBt9\n",
              "cgWNudNoifATMKu8t5LWaQGSDOSvsPUvLwoMDxN8xB7+RRYTnxp+4M8K5TrggxtwqNACpVG9VFj8\n",
              "H/ja1cNEkXPwZ/IyCv/aPTNARGWpMal0Q6Ox4zRKO4nuSLPTUInwBx+PabY/7PFpnCixLcqRClye\n",
              "DEVcY5+mIec3jDC9ASEdCD8tl8UHVNggCr12jkzjIRbqm7axR9ASG8xUPDGitTtIc2AGsiu3vSb5\n",
              "u1AhhDa5UB5d+7MYaSnWqn7lzK5SylcYMyHO3Y6/6KQWYSqbWjPUA/PogfiGj/PnbDXgOBmgmwQw\n",
              "U2aCoe//PgcLCpuPZqx9Ugf+yrkauWVNzigTQ89VYg6sdG9l5if9S1zYPiv2367j9Sv0dWY3cfja\n",
              "jp7bVwb3/7m000+BZe9Z2YqNgHDLmI6ENZFc/crbtCH+xSaRp0L7gnimSzZ08Ybc4GvRCXaoqpmS\n",
              "7MTediyby6mv5f+ipYuVNKV7eurRR4NWApqNAWaZhdvRiAb4rQ+XoXBXMqmg7Qg8jpjXUY1+khDy\n",
              "TaUDWI8StarEJG7vvsJTYtkhpGjdr8j2tfxUlcWd36C/rl3HwVU2zABFVejLsjZIchdF9KvYcdLJ\n",
              "iDV/sH+kOcwx8Laa6cnj2qQginliNdEFpWzafHtyNlKILmvNFIW2iQqnGBWXRoxlcKrkz2IzcwXL\n",
              "vovN+8J6+qkluinpwZqzXAq0EGbUBSbCsrvsHjx/a4iZ9WGltW7PapRcQ7A63RY2Ap70LPXZmmqw\n",
              "pEBqgZUtc9ZOUQRqQ1waE05gcB112cYL0W3DrcazlXjhP2mtwBDHAkQLIQYOTxi9f71Fap//Fffq\n",
              "UVRlz8sJH/62PhFapS9WdoyL/CtsCI6uBGxYyloEzr681UhDR0XlN31jUCVFv769gml3UCwf/uOt\n",
              "uPANW1/+VTB3MOgJYIIWMeuu0Lrq7uVh0dt+XerC9F4vNIiWBh6GB/oB0kTiYVQ7v2CnnVe9vdje\n",
              "gM0BFL8NqKYeIuCDaeT8Xf0iS9GU5jm0aLEVpGk37riDRdDtnbRj7RCwmROPbi8OjHJWG/BCh2qw\n",
              "0uvQLu0I7/UMBejP5a6uj1PY+Iysp5OYhUicR7KAlmfDDLc1wAA9T8Ta+xMMlifjZ4RP8pXSAkWP\n",
              "7GppB/4m3O0eKL2+d1nzBh3QIu2h/HakV3d+xqporK9y0THFFebyfU0SLD6QCGyCtZNm/sKtKPTS\n",
              "fWHuIHjPfdFNg168finwj7BIkMRQ9vNYH43I6TAzOrJiv0IDlZIbvniftx2KTXihCGfmXUvWHMHu\n",
              "A62c7RASdpRq2VHuFWbhO13cKTPuGQKeRLMkB/fX/5Qn6KR5Y0PhbR1jvoFy+tfwCGsxzlZ3AAlD\n",
              "RtE4YmLLbdlA2smagOPE53rS0Kd+F5Eckg/L8Gux9mEh6VKYGbKo/sV+4DNpF1B7+cAUzFI4xnhM\n",
              "+LLYKmxx+KTqW0p44L/pY/gLmh5rIRKGeu91Zg62l67OwXp8ygoqBDKnPdAuYLAfoOlfaXjPUkm7\n",
              "DyLfzHQAVOcz9uxzj9EqA1DCRmqzitozZz4NevxztJcUK+NQ1L+zyaRivuaGXb3xXvcJDKqo++N4\n",
              "kbQLkPoWcEn/aoBb9X/2o7CyhKWiwsKWjJxNzexsBFnV+SFop+SFjlrxWwRPfUkHj5lu3rIh9UYQ\n",
              "niUSzqlPsTGFxvKl2lcx79BmhkzhWcXvNeL/HQ6JXHvKwIzYnlRFzbxpIQ9uYWUqCuccOn9YGD/d\n",
              "+tubwOPcKfjukgbLob2HxdEXql6eYWvzAvN5flD+I5QQsG5FyAgzdfqovL0UFMlmaXX/GwprAEpq\n",
              "EHuUGAJXvR7eVtDrDr7VpzwAAAMAAs0LdE0AAACjQZokbEJ//fEAPOL9QA8HTQrPY8dJ/fFv+qdl\n",
              "q5+XzAlvnbCt0ITZlXkmvNEwUKjG8uaCFdpZOT6MHbVKoEm9MD2y9gP8ICl6DbcdZDiHXaxpsQWI\n",
              "zVMXmGE2Ab7f8ZsYTPzjhbCY1KlakJDhNSKeVAPaP8bT8SzQcjzkz/UGyU2uygEaGQkxCK7nZ/sg\n",
              "xik9PFUDI4k9+/WeheJZAq120kKJkAAAACJBnkJ4jf8Fn8toi0GvcoAAsDJ4QCY7FDoMswTzVumf\n",
              "kGjhAAAAIAGeYXRF/wT3ceE81BYgAD6xTLAMFyj+DyGCVjxJey3QAAAAEgGeY2pF/wpXiFWBBjs0\n",
              "ymuk6wAAABxBmmhJqEFomUwIT//98QAAAwDc1OMW1P3t4kqlAAAAF0GehkURLG8ILjhMAN/eB6h3\n",
              "l5dq2ZKRAAAAEAGepXRF/wAAEtp1A8tB5VEAAAAMAZ6nakX/AAAS1eSMAAAAFEGarEmoQWyZTAhP\n",
              "//3xAAADAEXAAAAAEkGeykUVLG8IL9qABv7wN/a7VQAAAAoBnul0Rf8AAAYEAAAACgGe62pF/wAA\n",
              "BgQAAAAUQZrwSahBbJlMCE///fEAAAMARcEAAAASQZ8ORRUsbwgv2oAG/vA39rtVAAAACgGfLXRF\n",
              "/wAABgUAAAAKAZ8vakX/AAAGBAAAABRBmzRJqEFsmUwIT//98QAAAwBFwAAAABJBn1JFFSxvCC/a\n",
              "gAb+8Df2u1UAAAAKAZ9xdEX/AAAGBAAAAAoBn3NqRf8AAAYEAAAAFEGbeEmoQWyZTAhP//3xAAAD\n",
              "AEXBAAAAEkGflkUVLG8IL9qABv7wN/a7VAAAAAoBn7V0Rf8AAAYFAAAACgGft2pF/wAABgUAAAAU\n",
              "QZu8SahBbJlMCE///fEAAAMARcAAAAASQZ/aRRUsbwgv2oAG/vA39rtVAAAACgGf+XRF/wAABgQA\n",
              "AAAKAZ/7akX/AAAGBQAAABRBm+BJqEFsmUwIT//98QAAAwBFwQAAABJBnh5FFSxvCC/agAb+8Df2\n",
              "u1QAAAAKAZ49dEX/AAAGBAAAAAoBnj9qRf8AAAYFAAAAFEGaJEmoQWyZTAhP//3xAAADAEXAAAAA\n",
              "EkGeQkUVLG8IL9qABv7wN/a7VQAAAAoBnmF0Rf8AAAYEAAAACgGeY2pF/wAABgUAAAAUQZpoSahB\n",
              "bJlMCEf//eEAAAMAb0EAAAASQZ6GRRUsbwgv2oAG/vA39rtVAAAACgGepXRF/wAABgUAAAAKAZ6n\n",
              "akX/AAAGBAAAAERBmqpJqEFsmUwUTH/8hAC1FNn4gA/ut/I2lYsFUXHT2WmnGdHg9nFIuMPfLGT/\n",
              "1OPd1Y2Z6It+2GloElGZ6JXfS/ExYAAAADcBnslqRf8KVwW8EEwekAJn/LLMAC298HU/iWZrBkal\n",
              "KhBB2hcs+OirIQTMZ9QkwtXNub3ECVsJAAAAXUGay0nhClJlMCEf/eEALluMsYAF8wpA48vByCqV\n",
              "907i8OVJfSHPTfT5XlbnNivPHFNpJIqeLCnFwsIJmphFrPPuhS0A/pRB3MuH5OcfslrFPK8vPmeK\n",
              "SF7qmUo3QAAAAEdBmuxJ4Q6JlMCEf/3hAC5tRdYSAC+m+KnlK3na+LYD7cFGDtpHg0pw+cm409Av\n",
              "gF5B9fRMkmc8HCtBFzTq27VknU4Q5p6pgAAAAEtBmw1J4Q8mUwIR//3hAC5tRdeRgBNW0Koz81EB\n",
              "8Z+dbKdO6GUL3qpNGONyfloNfALyNORJ3pn5ckTq+tpqx4R+PVv1Q/wgfb8HqPkAAABIQZsvSeEP\n",
              "JlMFETwn//3xABztDtIAAWWrrteyGBKpO/wxuUbbpklaGhLGJ0Zfa1jrAl4JyNOpAfdmsWx9QPSy\n",
              "yRw0/KgIWETBAAAAGgGfTmpF/wJ6HNUCfqizuKkpHTi3D00d2OaBAAAAbUGbUUnhDyZTBTwn//3x\n",
              "ABzUEmoqaCjwDSWQL0jOJzcaaINnB/qeMnLCrkZnPl5Sa/hxUWoCg9rwYET2Aj9MWD3hYlXRRII/\n",
              "HH5Mwy0/jWpnKnRDKEF7UTlZX5VOA8tK0HWoMD6LBXPsFjT4RMAAAAAkAZ9wakX/AnocXr5ltkKX\n",
              "meTRomnOpsaEMN06MAeFRxEc4rHfAAAAI0GbdEnhDyZTAhP//fEAHP8+US8L/+LvOaghZaaphkLy\n",
              "tqJhAAAAG0GfkkURPF8Ca7f8sVn4uy+yDL8mbux58nA5mQAAABcBn7NqRf8Ca7f8sViSdp3p/4ZB\n",
              "u27xgAAAAB1Bm7hJqEFomUwIT//98QAcMkRLPrSLutTcgwAT0wAAABxBn9ZFESxvAeNIzUqla9WA\n",
              "Eu3CvEMTOuvpSJ/NAAAAFgGf9XRF/wJr7DRS91EZR5/es6yM1IEAAAAWAZ/3akX/Amu3/LFZp4e2\n",
              "a2JlN2M1IQAAAFtBm/tJqEFsmUwIR//94QAte2+wA+5CpAGY8tyETPV9QXxk7OzNgbvQCKhB6pBg\n",
              "Qh0oFGtTLfZmSyRbOcCifLaQqkg8LwDWhk4ZV/Fn9SGWGZRKXmFgXBZ7GOOAAAAAH0GeGUUVLF8C\n",
              "ajX4E9Bokt3V9CIIQliouFbNug7ti+EAAAAYAZ46akX/AmqzZn8hoYobP45wGEcfgkqYAAAAHkGa\n",
              "PUmoQWyZTBRMJ//98QAbiMqkf13njf0rfOpPmQAAABkBnlxqRf8CWkk8fPDuyqfDgupfWpYVQWm5\n",
              "AAAAIUGaQEnhClJlMCE//fEAG4J4sgC/jzFm6bYjWedn0aT5gAAAABxBnn5FNExfAlNqN0fIjDCr\n",
              "UqOCUdrSTSmcEG1QAAAAFAGen2pF/wJbwV66z+VzFgefvrUvAAAAL0Gag0moQWiZTAhP//3xABuC\n",
              "ngj/rrxGdIdx0vb+ci+YlV6ly9kJwOLrFO37ViXgAAAAH0GeoUURLF8CWjX4E9Bokt3V9CIIQlio\n",
              "uFclug7ti+EAAAAWAZ7CakX/Alu378O/6U2foPvz6wmZWwAAADFBmsZJqEFsmUwIT//98QAa8FMh\n",
              "YABXSFSBg+CRPxyiq6P5mxd2cLacrlp2X+XGQyf5AAAAG0Ge5EUVLF8CSjYAOMy2qtpYZvTN1wQa\n",
              "xY/oZQAAABUBnwVqRf8CSkk8fPDuyqfDgupe15EAAAAfQZsJSahBbJlMCE///fEAGujLWx/f9PG/\n",
              "pXQXHt62gQAAABxBnydFFSxfAkNqN0fIjDCrUqOCUdrSYSmcEG1QAAAAFgGfSGpF/wJLt/roHaVl\n",
              "s6jcOZkaZvQAAAA0QZtMSahBbJlMCE///fEAGw/KOLmFABbVeoPeqX2GVEvl1AhHNiLTcgffmz4G\n",
              "UKl+kegs4QAAAB9Bn2pFFSxfAko1+BPQaJLd1fQiCEJYqLhXfboO7YvgAAAAFQGfi2pF/wJKSRKe\n",
              "ffwttp8iGnyUnAAAAC9Bm49JqEFsmUwIT//98QAaUFMhYABVI1ejXhthabp0fzNi7s4W0KOI3Db6\n",
              "mC9dwQAAABtBn61FFSxfAju3/LFZ+Lsvsgy/Jm8VS+Td1kUAAAAVAZ/OakX/Aju3/LFZ+Lsvs2uN\n",
              "ejOPAAAAIUGb0UmoQWyZTBRMJ//98QAaQm1IAm3y3LpKOyCpvKJswAAAABoBn/BqRf8COPpe+sPo\n",
              "pwZ+OuRaixQexZJepAAAACZBm/VJ4QpSZTAhP/3xABpKbOSr3DrVUgCzfhXaoD1I3Gz7dZBcQQAA\n",
              "ACBBnhNFNExvAcNSqyFEyz9aLn/SCirj0Sm9w6GOH29viAAAABUBnjJ0Rf8CO+w1PYgSWaPOB6Ed\n",
              "qggAAAAVAZ40akX/AjpJHq8NcoC6WSpNKiW1AAAAIEGaOEmoQWiZTAhP//3xABmigVI3s+3Tt/mu\n",
              "TfEXQom9AAAAG0GeVkURLF8CKjYAOMy2qtpYZsy2qiXeLIETIQAAABUBnndqRf8CKkk8fPDuyqfD\n",
              "gupe2NEAAABeQZp8SahBbJlMCEf//eEALlQTPAAHYiIKsDmY/M9rZ5llnsB7MANkqbyT90emRXHA\n",
              "toZ4Jt4u34phlTY5AO2+rhBYXfabed4GTFxZOLST+C0magV5nUP2okW2Z1V/gAAAAC1BnppFFSxv\n",
              "Ae97Bw9GKoRUYqg30n8/3V5AARN2vEf0iyT0KTj/wfVtvNVZdsEAAAAbAZ65dEX/AioEziPnUI3P\n",
              "mEYSKNAAreS5nqkgAAAAOgGeu2pF/wJ6xHtRAAS4i3MZwRbCIC9t/SjBUCOIV3/lz/FK5W0VQ34e\n",
              "Z1oEtByfUMlDOVzlLCSBy2kAAABqQZq9SahBbJlMCEf//eEALluMsYAF8wrada0J2Put/X7Iddpn\n",
              "8Xh2fLL5xHHpI8+/PbUO7IDelTCoX1/1ayfQ0cb2INfALyNOU0XoiVUq59o/wWMpS0nDEjrtN5K/\n",
              "f1+mKsPugvvgrrp2LwAAAGBBmt9J4QpSZTBRUsI//eEALovXujAAvrZ51mIwCwWaTEDvXUVTjHxR\n",
              "wTY5YQ/DWtQYpQjHKpZWtocRtDCm9Sm0kkgCHXtr3Zt8gjggNNgyR3JL47huoRHho/swwkUQXcAA\n",
              "AABCAZ7+akX/AnocY48IATUSKY1nZt2B3m8nPsFzDUYIzBwzIv8Ct8S2XSxVJgBdkoxGLe+OP/Jb\n",
              "cLXuInaclAqvsEajAAAAPkGa4UnhDomUwUTCP/3hAC5tH5Iu2TUlARMQEAAgQPhMOh5NfsTcty7L\n",
              "nhcAfD5uiy6SihqyHvYYG5RMQmiZAAAAJQGfAGpF/wJ6HNYB/YRKHFR2qx7SCprWPd80Oy/nRQ1K\n",
              "yP4o54AAAABAQZsCSeEPJlMCEf/94QAubUS3IASgMqYQ3QLmdovFtkLIZmTScBTkaKi+OSIGEYOx\n",
              "TJaKQgGh88bHyDA54PoLuQAAAGhBmyRJ4Q8mUwURPCP//eEALp3igARGtFiHf/YGlb8/d3wlEWpQ\n",
              "XsQabE35xkp6By6+sf6J2uyXaVsZVzpzoegfg1A8E9eZ/84vuTvT3A8lcTEhmLdh08x47Ct6qKf6\n",
              "km6DTMb0dNhxwAAAACQBn0NqRf8CfC/GNSI2fvcPOPCCgD5iSUypz/TJtqLYKt+mdkEAAABFQZtG\n",
              "SeEPJlMFPCf//fEAHCsel0WsgdKOpdb4DKJIBspLZw45f/37Pe+9XjYngklDAcI+Oetlr2s+8pYw\n",
              "GG7ClolnUD5hAAAAJwGfZWpF/wJruAS8jYNAeS4/cPDn6yGX29lYg+yBl0BvK7oe04F7YQAAAC9B\n",
              "m2lJ4Q8mUwIT//3xABwrYq3PlIKa3KF4woNOLVo+bNlHtjMU4Lx00xLEbzLPQQAAACVBn4dFETxf\n",
              "Amo2CnC57YDMkm9poI4FVXJvuNSM90MWRzHxd1ZWAAAAIQGfqGpF/wJo+l915PFYvLIvbzeNShbS\n",
              "Uc5QAfPP0am4eAAAAEVBm6xJqEFomUwIR//94QAtfJ7lcNaQArpCou0QdXYGvX+TpOKNv6sjrlEa\n",
              "YpoEfcUAeat8h70hQPb0KmnQZ4kwlJLkWPkAAAApQZ/KRREsXwJqLYAmLmwVcZsLRe4z/lLd3KES\n",
              "gUV0V//PR0R37d/H3MAAAAAjAZ/rakX/AmpJLExgOG4W33I63L9b4J3QtNskYQ+43mLIzAgAAAAt\n",
              "QZvuSahBbJlMFEwn//3xABuCbU0dQSbEWXIkIi69OVpWIKWAz2LycUoZQ6XTAAAAKAGeDWpF/wJa\n",
              "SVJuXKRgDk5N9GWEgk2tOndEV2EjvT4j1p7ZMi5cFBMAAABGQZoRSeEKUmUwIR/94QAsDGFQ9b5w\n",
              "+9HXAhO5QGjKXG3LO07qxL+1t9CqxtHvMyOBjAFwoQSugXCShsxiBMQ234iMYnDtSQAAAChBni9F\n",
              "NExfAlu4BMKozyHelRLYLr+SYPA4tgLW5qnVcrUWlFgmnGSyAAAAHwGeUGpF/wJbuAQNWAsG80Oe\n",
              "ODCsruUHo9IXJ9fWuLgAAAApQZpTSahBaJlMFPCP/eEALAxK0fGCj04VYN/6PBGz5gd7Xg/CbTg0\n",
              "xYEAAAAiAZ5yakX/AlpJUK0yn01EFTChb+UcU5ONh4Om3aqqXRWwPAAAADFBmnVJ4QpSZTBSwn/9\n",
              "8QAbrf9Zb5NlZSfmcJvvHvRjGjICq9QRbBYKDeFeL+cHgLJwAAAAIgGelGpF/wJaSRKfnjQOA8Ds\n",
              "6abMxY5TSWWcsrwyku79Cu8AAAA/QZqYSeEOiZTAhP/98QAa8FMhYABVI1ejXkUztZqI/g1oV/Tr\n",
              "70hMHH8c/qiAUjjYcfiYxMk4jcNvqWmGdwZUAAAAKkGetkUVPF8CSjYLNe05FzZhONKdMzoCbub3\n",
              "CAvIFPYbvGfFtph7TcXtgQAAAB4BntdqRf8CSklSblbmnA8NiGnzmqMapcgDnQq8TZUAAABFQZrb\n",
              "SahBaJlMCE///fEAGupsH5KFKuF8AFlYjtypIgOg9tPAhc+qzSIKO0nS94rBo3Y63Et22NdapMKN\n",
              "3lUv9X224/QQAAAAJUGe+UURLF8CS7gEDIk3pBXBsGggjfWSSQVL1MIpLTOsNJdFaTcAAAAfAZ8a\n",
              "akX/Aku4BA1YCwbzQ544MKyu5Qej0hcn19a4+AAAADFBmx5JqEFsmUwIT//98QAa8gtBcld8Po9S\n",
              "bpzXQiCUFa2hHAnNwtT01Mk7/mpjWWXhAAAAKEGfPEUVLF8CSjX4Ji5sFs2Y4GSrgjJNXd4UcbFa\n",
              "XTef1NFkHbTkKXEAAAAeAZ9dakX/AkpJEp+bugP2gQj3GfQHRt+gdUl2AWXgAAAATkGbQUmoQWyZ\n",
              "TAhH//3hACnqcFTsANEuBergbfISuTi5Ss3dGoCmGqyDWIgwR1cnyIqbDCzkah9TAj5hrqkxUKXB\n",
              "D6OxpwiczckGTuDPgAAAACdBn39FFSxfAju4BNI97AAqYPJ2vy7oh6NPIdzlBRPbAYjAFO/ahvEA\n",
              "AAAfAZ+AakX/Aju4BLyMChEP+2FaL69PC3OEi9EXL3ibaAAAADZBm4RJqEFsmUwIR//94QApzHK0\n",
              "wusFnm0WCHdtHEX+qXdguH/8wilbEgv4VA0uXuRJRok79JEAAAAkQZ+iRRUsXwI6NgpVBm9KNiDl\n",
              "apGil3gxlXTPfw5dweCLtBUQAAAAHAGfw2pF/wI6SVCweKO/mkowaFq8LS3LNk0UNycAAAAzQZvG\n",
              "SahBbJlMFEwj//3hACnMBTYa1gvMKwlYnXuLAj+lvkpL5tFfZgEmt6ACLGA1feYFAAAAKAGf5WpF\n",
              "/wI7t/ZQ3zHGf0CHOsC1baxjtRswyLePc6DmmQOnvnvigNEAAAA3QZvoSeEKUmUwUsJ//fEAGm/s\n",
              "GQv8EeE1lCqOWWA16xYaw1wzm6xtY2MxDHPtYZZD42yEC+ZnwQAAACQBngdqRf8COq2mNECNjiOG\n",
              "YVlb08fosHS4MpUuD7ki3979KLIAAABDQZoLSeEOiZTAhH/94QAorGGVYAW3g+CwjoSXDk1JTHxO\n",
              "ZxvXaOD5LDgT3edmvg92mxvFlh/D52wubCeXsuYipJY7QQAAACVBnilFFTxfAiu4BNI9yuGBB9sZ\n",
              "XCOn1DmAq7kHFSDqRAX1YVjPAAAAIAGeSmpF/wIqXd8ClTK78y1OXji2RszfXoPL88MSz7aCAAAA\n",
              "L0GaTUmoQWiZTBTwj/3hACisS5YABryXbqyM4uICmoSnkGaOl16EjkqvKxg0uK5eAAAAIgGebGpF\n",
              "/wIqSVCtMp9NRBUwoW/lHFOTjYeDpt3aql0VsD0AAAA+QZpvSeEKUmUwUsJ//fEAGc3+k2+TZWWG\n",
              "wAi92rxe/zIJPr6rLjIBszdnhQfe2iTP0OJn/VaiyCkBisxjbuEAAAAnAZ6OakX/AipJLEy+2zQE\n",
              "h2g5+rP/O8DBI9aZJXuc1uMCTPfPedxLAAAASUGakknhDomUwIR//eEAJ5phUP66kpexQ2tugKmt\n",
              "HoEtxOPao9NzR/uhxKJ1Cr0GcZMzwvrDlXxuFtsECKc7+9+tc7nqvLUEmzAAAAApQZ6wRRU8XwIb\n",
              "uAS7oJ2gfHTmDjPxbSe5XUG+1wW3ZZzm2nDyftOBe2AAAAAiAZ7RakX/AhpJUm5cpME0q8bfhK2o\n",
              "5SFnOtMpJFxZW3ESQQAAADJBmtVJqEFomUwIR//94QAnmnK0gWVvZOFXVfMv8iNMVM1uJe1ceCE9\n",
              "ZnqfJZtt3f4llAAAACZBnvNFESxfAho2CnC57YDMkm9poIvW+IC5EIbLQqgFnN77orVZgAAAAB4B\n",
              "nxRqRf8CGklQrTKfTUQVMKFv5RxTk42Hg6bb20EAAABDQZsYSahBbJlMCEf//eEAJ90ScbhrSAGi\n",
              "WkTaa0+CvX+ekliIjQ91OhQWLTTPARvAgvbeUKgtaCS7YzxJhKSU97aO6AAAACxBnzZFFSxfAho1\n",
              "+EmHJC/ndYNkWtEGNi/JuI5gH+S5idqjZdRxDvOgA3BXQQAAACMBn1dqRf8CGkksTGA4bhbfcjrc\n",
              "v1vgndC02yRhD7jeYsjNmQAAADRBm1pJqEFsmUwUTH/8hACWWtkOTpsoAM2eWQkGMzyc4MV1uCH4\n",
              "9YkKGhQI0wlmhp1slWbgAAAAIgGfeWpF/wIKSVJuX+K7KCrTIHTz4IMoljxbvNFqql0VsD0AAAAw\n",
              "QZt7SeEKUmUwIR/94QAmm8PoeF73w8MfbF5viGGul4ghYUTR6/dp7Kkg7wIGeHFgAAAALkGbnEnh\n",
              "DomUwIR//eEAJprtt7XUkT55LfSGhoY3JbyovhNeGuUV3nBqrwYXeEEAAAAsQZu9SeEPJlMCEf/9\n",
              "4QAmmu3P5QgeU0PYSrT4ic8qf2ulp2tXp+IK4Htz8fEAAABWQZvfSeEPJlMFETwj//3hACaaStIF\n",
              "QU/WAEdaNMjM088cjg011pB5buvm+dtwd1IlO9zvYD6Z4zHlnvdoLAmO9lb8MyEbBwdKK5tO6DFH\n",
              "WDqo9Ku8uggAAAAlAZ/+akX/AgpJUIaI/GCCUPVcPjz3str2tAX2Yxq+Z2ql/3BUQAAAAGNBm+BJ\n",
              "4Q8mUwIT//3xABhivsNyvE+RSx68gByhexHX1Sbe6UhWuP4TK/xgB4bio8mAcHZ664vp4Whe5FUQ\n",
              "DkIX1urzs4xUdn4m4vHt9C8JSDX70115AfK2fd7ZVnoXJfIm0MEAAACFQZoDSeEPJlMCE//98QAY\n",
              "j8zCDrquVrb4MVKL1Uoglm2Ck+mnwXzMrNNCTPxCJlMg3qGPVGf4z2ktMnn5JuzvHu5SquaosEHb\n",
              "YSatRJOIYUZaXlcIvaGDIK7LYrVu3lAEWgmETcoode8ahB+DOgTTaQpfvPbq0bTY3bRf+kIOUZua\n",
              "VBXvMAAAAC1BniFFETxfAgqtZUOgBncYyNShp4wQ6xCrZtNwlLsZ4T5+c0eqndC8rc6SDsEAAAAZ\n",
              "AZ5CakX/AfxGGpFZ+Lsvsgy/Jm3rrv8gGAAAACJBmkdJqEFomUwIT//98QAXzcxuN8K2j+YxawRP\n",
              "BpPKgnerAAAAJEGeZUURLG8BmnNJugBnDHHn8fRJrpFsmu3DeusPIKf8jzhsgQAAABUBnoR0Rf8B\n",
              "+vaeI+dQjc+YRed5GfMAAAAVAZ6GakX/AfskaNLO92VT4cF1L21ZAAAAMUGaikmoQWyZTAhP//3x\n",
              "ABfv2AIOuq5WuFif3dZzAfOY8wdIsF0Rb7BRt1Orc34ie1IAAAAgQZ6oRRUsXwH7FCbCgYEyRfJN\n",
              "pRWRYXg/0sOfxkyPQ2UAAAAVAZ7JakX/AfskR159/C22nyIWYTKhAAAANkGazUmoQWyZTAhP//3x\n",
              "ABdFOCooAEZOZUQ4bVPLNG0F32ITcR/T+sYVpDujWJjhLnXqW3ZjfgAAABtBnutFFSxfAfAULXLM\n",
              "tqraWGbMtquF3iyBEyAAAAAVAZ8MakX/AfFGGjg8LDKaNQ7QjtW1AAAAIEGbEUmoQWyZTAhP//3x\n",
              "ABc9zG8f3/Txv6WF3yaNqoh5AAAAHEGfL0UVLG8BkHNDfdYIjbiLwNgeHbehPSMd2kkAAAAVAZ9O\n",
              "dEX/AfF6vrQQjt6zUKrQjtW0AAAAFgGfUGpF/wHxRhqRWfi7L7IMvyZtW0AAAAAnQZtUSahBbJlM\n",
              "CEf//eEAJN0TUzyw/hIn/jxt2Gyi4hhdUbQQKmRdAAAAGkGfckUVLF8B8BQhPRI1M8NvypH/HBoI\n",
              "uqlWAAAAGAGfk2pF/wHweL+eolf1wNktTLs5RkWTgAAAAC9Bm5dJqEFsmUwIR//94QAjmmGVYAW3\n",
              "g+CwjoFBE8Lh7NyBQL/X3zuCuxmwnmC1dwAAABtBn7VFFSxfAeUNBW6MsGLE2BJKXKviwqgUBsAA\n",
              "AAAVAZ/WakX/AeUkaNLO92VT4cF1L235AAAAIkGb2UmoQWyZTBRMI//94QAjmkpR/oERhgHE7q5o\n",
              "i18fRcEAAAAZAZ/4akX/AeUkaNLO92VT4cF1L78e8WSYuwAAAB5Bm/pJ4QpSZTAhH/3hACOa7o/E\n",
              "lTq4Ygdu4BRwnzEAAAAlQZobSeEOiZTAhH/94QAjm8eZAFFArtKHI71k6rCzaLA6bGXtXAAAAC1B\n",
              "mj1J4Q8mUwURPCf//fEAFs/YAg66Ltao27SMUdj5JMqBALJP9vo7IY3f7ekAAAAdAZ5cakX/AeV4\n",
              "v56iV/XA2S1MuzlGSPbQSglHb7sAAAAgQZpASeEPJlMCE//98QAWF4FSANtfNDLqJDuJKqLKJ/gA\n",
              "AAAbQZ5+RRE8XwHaFC1yzLaq2lhmzLasYsKoFAbAAAAAFQGen2pF/wHaJGjSzvdlU+HBdS9uWQAA\n",
              "ACpBmoNJqEFomUwIT//98QAWF3jFAAIz7Kk0j97Od06P5mi5ApOp0X4ft6AAAAAbQZ6hRREsXwHa\n",
              "FC1yzLaq2lhmzLasYsKoFAbBAAAAFQGewmpF/wHaJGjSzvdlU+HBdS9uWAAAACZBmsZJqEFsmUwI\n",
              "R//94QAi3RNTOGD+SDNQ2Ics3+8RDPyWobwyTwAAAB9BnuRFFSxfAdp8Y4h0dLzu1Yk+I+Srck7E\n",
              "70RxPSJTAAAAFwGfBWpF/wHQRhqRWfi7L7IMvybmjQ4PAAAAHUGbCUmoQWyZTAhH//3hACGlurcX\n",
              "O8X9uis7glSRAAAAHUGfJ0UVLF8BzxQtcsy2qtpYZsy50HeoMAMWR6EgAAAAFwGfSGpF/wHPJGjS\n",
              "zvdlU+HBdUIZyhOwAAAAKEGbTEmoQWyZTAj//IQAgls2FoAO4U5VapugFbL99/9p6Lzq7ZV61i0A\n",
              "AAAdQZ9qRRUsXwHQRhqRWfi7L7IMvybnI0yHH/JuhiQAAAAXAZ+LakX/Ac8kaNLO92VT4cF1QhnK\n",
              "E7AAAAAoQZuNSahBbJlMCEf//eEAId8L3esMd4lCLEj+XQLbBsXJx73a9OmS8QAAACBBm65J4QpS\n",
              "ZTAhH/3hACCyQXn9CeGlUsqfq1unelvdMQAAACBBm89J4Q6JlMCEf/3hACCyQXn9CeGlUsqfq1un\n",
              "elvdMQAAADdBm/FJ4Q8mUwURPCP//eEAILHMUkAAZaoNBLiwm3fTw+zuRPQ03xg5dnlR2LexxwTM\n",
              "kBXa3XumAAAAGQGeEGpF/wHDVInu5F53ORKKuL+okk6naaoAAAApQZoSSeEPJlMCE//98QAVHdLC\n",
              "7RdgAJd43mKi9rZNZUKuZqEYftMSqYEAAAAhQZo2SeEPJlMCE//98QAVH2Iuyd66z3ig/Mtw7VA7\n",
              "iMm4AAAAFkGeVEURPG8BajAyRTLhMfjV/kY4ECAAAAARAZ5zdEX/AcQsLkUKZtkjR8EAAAAKAZ51\n",
              "akX/AAAGBAAAABRBmnpJqEFomUwIT//98QAAAwBFwQAAABBBnphFESxvAAAfcSAl+V55AAAACgGe\n",
              "t3RF/wAABgQAAAAKAZ65akX/AAAGBQAAABRBmr5JqEFsmUwIT//98QAAAwBFwAAAABBBntxFFSxv\n",
              "AAAfcSAl+V55AAAACgGe+3RF/wAABgUAAAAKAZ79akX/AAAGBAAAABRBmuJJqEFsmUwIT//98QAA\n",
              "AwBFwAAAABBBnwBFFSxvAAAfcSAl+V55AAAACgGfP3RF/wAABgQAAAAKAZ8hakX/AAAGBQAAABRB\n",
              "myZJqEFsmUwIT//98QAAAwBFwAAAABBBn0RFFSxvAAAfcSAl+V55AAAACgGfY3RF/wAABgUAAAAK\n",
              "AZ9lakX/AAAGBQAAABRBm2pJqEFsmUwIT//98QAAAwBFwQAAABBBn4hFFSxvAAAfcSAl+V54AAAA\n",
              "CgGfp3RF/wAABgQAAAAKAZ+pakX/AAAGBQAAABRBm65JqEFsmUwIT//98QAAAwBFwAAAABBBn8xF\n",
              "FSxvAAAfcSAl+V54AAAACgGf63RF/wAABgUAAAAKAZ/takX/AAAGBQAAABRBm/JJqEFsmUwIR//9\n",
              "4QAAAwBvQQAAABBBnhBFFSxvAAAfcSAl+V54AAAACgGeL3RF/wAABgQAAAAKAZ4xakX/AAAGBQAA\n",
              "ABJBmjZJqEFsmUwI//yEAAADAbMAAAAQQZ5URRUsbwAAH3EgJfleeAAAAAoBnnN0Rf8AAAYFAAAA\n",
              "CgGedWpF/wAABgQAAAASQZp5SahBbJlMCL/6WAAAAwNXAAAAEEGel0UVLF8AAChmvY84SKEAAAAK\n",
              "AZ64akX/AAAGBAAADa5tb292AAAAbG12aGQAAAAAAAAAAAAAAAAAAAPoAAAJxAABAAABAAAAAAAA\n",
              "AAAAAAAAAQAAAAAAAAAAAAAAAAAAAAEAAAAAAAAAAAAAAAAAAEAAAAAAAAAAAAAAAAAAAAAAAAAA\n",
              "AAAAAAAAAAAAAAACAAAM2HRyYWsAAABcdGtoZAAAAAMAAAAAAAAAAAAAAAEAAAAAAAAJxAAAAAAA\n",
              "AAAAAAAAAAAAAAAAAQAAAAAAAAAAAAAAAAAAAAEAAAAAAAAAAAAAAAAAAEAAAAABsAAAASAAAAAA\n",
              "ACRlZHRzAAAAHGVsc3QAAAAAAAAAAQAACcQAAAEAAAEAAAAADFBtZGlhAAAAIG1kaGQAAAAAAAAA\n",
              "AAAAAAAAADIAAAB9AFXEAAAAAAAtaGRscgAAAAAAAAAAdmlkZQAAAAAAAAAAAAAAAFZpZGVvSGFu\n",
              "ZGxlcgAAAAv7bWluZgAAABR2bWhkAAAAAQAAAAAAAAAAAAAAJGRpbmYAAAAcZHJlZgAAAAAAAAAB\n",
              "AAAADHVybCAAAAABAAALu3N0YmwAAACzc3RzZAAAAAAAAAABAAAAo2F2YzEAAAAAAAAAAQAAAAAA\n",
              "AAAAAAAAAAAAAAABsAEgAEgAAABIAAAAAAAAAAEAAAAAAAAAAAAAAAAAAAAAAAAAAAAAAAAAAAAA\n",
              "AAAAAAAY//8AAAAxYXZjQwFkAB//4QAYZ2QAH6zZQbCWhAAAAwAEAAADAyA8YMZYAQAGaOvjyyLA\n",
              "AAAAHHV1aWRraEDyXyRPxbo5pRvPAyPzAAAAAAAAABhzdHRzAAAAAAAAAAEAAAD6AAAAgAAAABRz\n",
              "dHNzAAAAAAAAAAEAAAABAAAGqGN0dHMAAAAAAAAA0wAAAAEAAAEAAAAAAQAAAoAAAAABAAABAAAA\n",
              "AAEAAAAAAAAAAQAAAIAAAAABAAACgAAAAAEAAAEAAAAAAQAAAAAAAAABAAAAgAAAAAEAAAKAAAAA\n",
              "AQAAAQAAAAABAAAAAAAAAAEAAACAAAAAAQAAAoAAAAABAAABAAAAAAEAAAAAAAAAAQAAAIAAAAAB\n",
              "AAACgAAAAAEAAAEAAAAAAQAAAAAAAAABAAAAgAAAAAEAAAKAAAAAAQAAAQAAAAABAAAAAAAAAAEA\n",
              "AACAAAAAAQAAAoAAAAABAAABAAAAAAEAAAAAAAAAAQAAAIAAAAABAAACgAAAAAEAAAEAAAAAAQAA\n",
              "AAAAAAABAAAAgAAAAAEAAAKAAAAAAQAAAQAAAAABAAAAAAAAAAEAAACAAAAAAQAAAoAAAAABAAAB\n",
              "AAAAAAEAAAAAAAAAAQAAAIAAAAABAAABgAAAAAEAAACAAAAAAwAAAQAAAAABAAABgAAAAAEAAACA\n",
              "AAAAAQAAAYAAAAABAAAAgAAAAAEAAAIAAAAAAgAAAIAAAAABAAACgAAAAAEAAAEAAAAAAQAAAAAA\n",
              "AAABAAAAgAAAAAEAAAIAAAAAAgAAAIAAAAABAAABgAAAAAEAAACAAAAAAQAAAgAAAAACAAAAgAAA\n",
              "AAEAAAIAAAAAAgAAAIAAAAABAAACAAAAAAIAAACAAAAAAQAAAgAAAAACAAAAgAAAAAEAAAIAAAAA\n",
              "AgAAAIAAAAABAAACAAAAAAIAAACAAAAAAQAAAYAAAAABAAAAgAAAAAEAAAKAAAAAAQAAAQAAAAAB\n",
              "AAAAAAAAAAEAAACAAAAAAQAAAgAAAAACAAAAgAAAAAEAAAKAAAAAAQAAAQAAAAABAAAAAAAAAAEA\n",
              "AACAAAAAAQAAAQAAAAABAAABgAAAAAEAAACAAAAAAQAAAYAAAAABAAAAgAAAAAEAAAEAAAAAAQAA\n",
              "AYAAAAABAAAAgAAAAAEAAAGAAAAAAQAAAIAAAAABAAACAAAAAAIAAACAAAAAAQAAAgAAAAACAAAA\n",
              "gAAAAAEAAAGAAAAAAQAAAIAAAAABAAACAAAAAAIAAACAAAAAAQAAAYAAAAABAAAAgAAAAAEAAAGA\n",
              "AAAAAQAAAIAAAAABAAACAAAAAAIAAACAAAAAAQAAAgAAAAACAAAAgAAAAAEAAAIAAAAAAgAAAIAA\n",
              "AAABAAACAAAAAAIAAACAAAAAAQAAAgAAAAACAAAAgAAAAAEAAAGAAAAAAQAAAIAAAAABAAABgAAA\n",
              "AAEAAACAAAAAAQAAAgAAAAACAAAAgAAAAAEAAAGAAAAAAQAAAIAAAAABAAABgAAAAAEAAACAAAAA\n",
              "AQAAAgAAAAACAAAAgAAAAAEAAAIAAAAAAgAAAIAAAAABAAACAAAAAAIAAACAAAAAAQAAAYAAAAAB\n",
              "AAAAgAAAAAMAAAEAAAAAAQAAAYAAAAABAAAAgAAAAAEAAAEAAAAAAQAAAgAAAAACAAAAgAAAAAEA\n",
              "AAKAAAAAAQAAAQAAAAABAAAAAAAAAAEAAACAAAAAAQAAAgAAAAACAAAAgAAAAAEAAAIAAAAAAgAA\n",
              "AIAAAAABAAACgAAAAAEAAAEAAAAAAQAAAAAAAAABAAAAgAAAAAEAAAIAAAAAAgAAAIAAAAABAAAC\n",
              "AAAAAAIAAACAAAAAAQAAAYAAAAABAAAAgAAAAAIAAAEAAAAAAQAAAYAAAAABAAAAgAAAAAEAAAIA\n",
              "AAAAAgAAAIAAAAABAAACAAAAAAIAAACAAAAAAQAAAgAAAAACAAAAgAAAAAEAAAIAAAAAAgAAAIAA\n",
              "AAABAAACAAAAAAIAAACAAAAAAwAAAQAAAAABAAABgAAAAAEAAACAAAAAAQAAAQAAAAABAAACgAAA\n",
              "AAEAAAEAAAAAAQAAAAAAAAABAAAAgAAAAAEAAAKAAAAAAQAAAQAAAAABAAAAAAAAAAEAAACAAAAA\n",
              "AQAAAoAAAAABAAABAAAAAAEAAAAAAAAAAQAAAIAAAAABAAACgAAAAAEAAAEAAAAAAQAAAAAAAAAB\n",
              "AAAAgAAAAAEAAAKAAAAAAQAAAQAAAAABAAAAAAAAAAEAAACAAAAAAQAAAoAAAAABAAABAAAAAAEA\n",
              "AAAAAAAAAQAAAIAAAAABAAACgAAAAAEAAAEAAAAAAQAAAAAAAAABAAAAgAAAAAEAAAKAAAAAAQAA\n",
              "AQAAAAABAAAAAAAAAAEAAACAAAAAAQAAAoAAAAABAAABAAAAAAEAAAAAAAAAAQAAAIAAAAABAAAC\n",
              "AAAAAAIAAACAAAAAHHN0c2MAAAAAAAAAAQAAAAEAAAD6AAAAAQAAA/xzdHN6AAAAAAAAAAAAAAD6\n",
              "AAAIZAAAAKcAAAAmAAAAJAAAABYAAAAgAAAAGwAAABQAAAAQAAAAGAAAABYAAAAOAAAADgAAABgA\n",
              "AAAWAAAADgAAAA4AAAAYAAAAFgAAAA4AAAAOAAAAGAAAABYAAAAOAAAADgAAABgAAAAWAAAADgAA\n",
              "AA4AAAAYAAAAFgAAAA4AAAAOAAAAGAAAABYAAAAOAAAADgAAABgAAAAWAAAADgAAAA4AAABIAAAA\n",
              "OwAAAGEAAABLAAAATwAAAEwAAAAeAAAAcQAAACgAAAAnAAAAHwAAABsAAAAhAAAAIAAAABoAAAAa\n",
              "AAAAXwAAACMAAAAcAAAAIgAAAB0AAAAlAAAAIAAAABgAAAAzAAAAIwAAABoAAAA1AAAAHwAAABkA\n",
              "AAAjAAAAIAAAABoAAAA4AAAAIwAAABkAAAAzAAAAHwAAABkAAAAlAAAAHgAAACoAAAAkAAAAGQAA\n",
              "ABkAAAAkAAAAHwAAABkAAABiAAAAMQAAAB8AAAA+AAAAbgAAAGQAAABGAAAAQgAAACkAAABEAAAA\n",
              "bAAAACgAAABJAAAAKwAAADMAAAApAAAAJQAAAEkAAAAtAAAAJwAAADEAAAAsAAAASgAAACwAAAAj\n",
              "AAAALQAAACYAAAA1AAAAJgAAAEMAAAAuAAAAIgAAAEkAAAApAAAAIwAAADUAAAAsAAAAIgAAAFIA\n",
              "AAArAAAAIwAAADoAAAAoAAAAIAAAADcAAAAsAAAAOwAAACgAAABHAAAAKQAAACQAAAAzAAAAJgAA\n",
              "AEIAAAArAAAATQAAAC0AAAAmAAAANgAAACoAAAAiAAAARwAAADAAAAAnAAAAOAAAACYAAAA0AAAA\n",
              "MgAAADAAAABaAAAAKQAAAGcAAACJAAAAMQAAAB0AAAAmAAAAKAAAABkAAAAZAAAANQAAACQAAAAZ\n",
              "AAAAOgAAAB8AAAAZAAAAJAAAACAAAAAZAAAAGgAAACsAAAAeAAAAHAAAADMAAAAfAAAAGQAAACYA\n",
              "AAAdAAAAIgAAACkAAAAxAAAAIQAAACQAAAAfAAAAGQAAAC4AAAAfAAAAGQAAACoAAAAjAAAAGwAA\n",
              "ACEAAAAhAAAAGwAAACwAAAAhAAAAGwAAACwAAAAkAAAAJAAAADsAAAAdAAAALQAAACUAAAAaAAAA\n",
              "FQAAAA4AAAAYAAAAFAAAAA4AAAAOAAAAGAAAABQAAAAOAAAADgAAABgAAAAUAAAADgAAAA4AAAAY\n",
              "AAAAFAAAAA4AAAAOAAAAGAAAABQAAAAOAAAADgAAABgAAAAUAAAADgAAAA4AAAAYAAAAFAAAAA4A\n",
              "AAAOAAAAFgAAABQAAAAOAAAADgAAABYAAAAUAAAADgAAABRzdGNvAAAAAAAAAAEAAAAsAAAAYnVk\n",
              "dGEAAABabWV0YQAAAAAAAAAhaGRscgAAAAAAAAAAbWRpcmFwcGwAAAAAAAAAAAAAAAAtaWxzdAAA\n",
              "ACWpdG9vAAAAHWRhdGEAAAABAAAAAExhdmY1Ny44My4xMDA=\n",
              "\">\n",
              "  Your browser does not support the video tag.\n",
              "</video>"
            ],
            "text/plain": [
              "<IPython.core.display.HTML object>"
            ]
          },
          "metadata": {
            "tags": []
          },
          "execution_count": 10
        }
      ]
    },
    {
      "cell_type": "markdown",
      "metadata": {
        "id": "iywvh97-OtgK"
      },
      "source": [
        "## 3. Animação feita com rotação"
      ]
    },
    {
      "cell_type": "code",
      "metadata": {
        "id": "NLwJMywzO4LJ"
      },
      "source": [
        "from IPython.display import HTML # Importa a função HTML do módulo display da biblioteca IPython\n",
        "import numpy as np # Importa a biblioteca NumPy e coloca o apelido \"np\" para ser usado\n",
        "\n",
        "from matplotlib.animation import FuncAnimation # Importa a função FuncAnimation do módulo animation da biblioteca Matplotlib\n",
        "import matplotlib.pyplot as plt # Importa o módulo PyPlot da biblioteca Matplotlib e coloca o apelido \"plt\" para ser usado"
      ],
      "execution_count": null,
      "outputs": []
    },
    {
      "cell_type": "code",
      "metadata": {
        "colab": {
          "base_uri": "https://localhost:8080/",
          "height": 269
        },
        "id": "roIRNXr1O4Fb",
        "outputId": "5d9a698d-156a-40ca-8844-6aa195720bf6"
      },
      "source": [
        "def init():\n",
        "    '''\n",
        "        init(): realiza a plotagem do fundo de cada frame\n",
        "\n",
        "        init() retorna uma tupla com as coordenadas base da animação line1, line2 e line3\n",
        "    '''\n",
        "    line1.set_data([], []) # Define as coordenadas X e Y da linha 1 como vazia\n",
        "    line2.set_data([], []) # Define as coordenadas X e Y da linha 2 como vazia\n",
        "    line3.set_data([], []) # Define as coordenadas X e Y da linha 3 como vazia\n",
        "\n",
        "    line1.set_color('#3498DB') # Define a cor da linha 1 (inglês, hexadecimal ou rgba)\n",
        "    line2.set_color('#FF0000') # Define a cor da linha 2 (inglês, hexadecimal ou rgba)\n",
        "    line3.set_color('#FF0000') # Define a cor da linha 3 (inglês, hexadecimal ou rgba)\n",
        "    return (line1, line2, line3) # Retorna a tupla com as linhas base da animação\n",
        "\n",
        "\n",
        "def animate(i):\n",
        "    '''\n",
        "        animate(i): realiza a animação do polígono\n",
        "\n",
        "        Recebe um parâmetro i, que corresponde ao índice da imagem na animação, partindo de 0 até N-1\n",
        "        animate(i) retorna uma tupla com as coordenadas modificadas line1, line2 e line3\n",
        "    '''\n",
        "    t = np.linspace(0, np.pi/2, 50) + (i * np.pi/100) # Cria a variável auxiliar t e atribui o ângulo de 90° + uma variação consecultiva de ângulos\n",
        "    x = np.cos(t) # Cria a coordenada x do polígono\n",
        "    y = np.sin(t) # Cria a coordenada y do polígono\n",
        "    line1.set_data(x, y) # Troca os dados da linha 1 da função init por x e y\n",
        "    line2.set_data([0, x[0]], [0, y[0]]) # Troca os dados da linha 2 da função init por [0, x[0]] e [0, y[0]]\n",
        "    line3.set_data([0, x[-1]], [0, y[-1]]) # Troca os dados da linha 3 da função init por [0, x[-1]] e [0, y[-1]]\n",
        "    return (line1, line2, line3) # Retorna a tupla com as linhas modificadas\n",
        "\n",
        "\n",
        "'''Configuração da imagem, do eixo e do elemento plotado que queremos animar'''\n",
        "fig, ax = plt.subplots() # Cria o gráfico\n",
        "\n",
        "ax.set_aspect('equal') # Determina o tamanho do eixo x igual ao do eixo y\n",
        "ax.set_xlim((-1.5, 1.5)) # Define o limite de itens que aparece no eixo x\n",
        "ax.set_ylim((-1.5, 1.5)) # Define o limite de itens que aparece no eixo y\n",
        "\n",
        "line1, = ax.plot([], [], lw=2) # Plota as coordenadas X e Y da linha 1 como vazia e com grossura de 2px\n",
        "line2, = ax.plot([], [], lw=2) # Plota as coordenadas X e Y da linha 2 como vazia e com grossura de 2px\n",
        "line3, = ax.plot([], [], lw=2) # Plota as coordenadas X e Y da linha 3 como vazia e com grossura de 2px\n",
        "\n",
        "anim = FuncAnimation(fig, animate, init_func=init, frames=200, interval=5, blit=True) # Chama a função de animação\n",
        "# '''\n",
        "    # FuncAnimation(fig, animate, init_func=init, frames=200, interval=5, blit=True): realiza a animação do polígono\n",
        "\n",
        "    # Recebe seis parâmetros fig, animate, init_func=init, frames=200, interval=5 e blit=True:\n",
        "    # fig: plota o polígono solicitado e os eixos do gráfico\n",
        "    # animate: chama a função criada pelo programador animate que realiza as alterações da animação\n",
        "    # init_func=init: determina a função inicial (aquela que tem os dados base) como init\n",
        "    # frames: define a quantidade de frames que terá na animação\n",
        "    # interval=5: define o tempo da animação em milisegundos\n",
        "    # blit=True: re-desenha apenas as partes que foram alteradas\n",
        "    # FuncAnimation(fig, animate, init_func=init, frames=200, interval=5, blit=True) retorna None\n",
        "# '''"
      ],
      "execution_count": null,
      "outputs": [
        {
          "output_type": "display_data",
          "data": {
            "image/png": "[encoded data removed]",
            "text/plain": [
              "<Figure size 432x288 with 1 Axes>"
            ]
          },
          "metadata": {
            "tags": [],
            "needs_background": "light"
          }
        }
      ]
    },
    {
      "cell_type": "code",
      "metadata": {
        "colab": {
          "base_uri": "https://localhost:8080/",
          "height": 309
        },
        "id": "RnKArmktVQAH",
        "outputId": "8faaeffe-eee7-475b-a244-6c5616354c5e"
      },
      "source": [
        "HTML(anim.to_html5_video()) # Chama a função HTML e exibe o vídeo da animação"
      ],
      "execution_count": null,
      "outputs": [
        {
          "output_type": "execute_result",
          "data": {
            "text/html": [
              "<video width=\"432\" height=\"288\" controls autoplay loop>\n",
              "  <source type=\"video/mp4\" src=\"data:video/mp4;base64,AAAAHGZ0eXBNNFYgAAACAGlzb21pc28yYXZjMQAAAAhmcmVlAAB8NG1kYXQAAAKuBgX//6rcRem9\n",
              "5tlIt5Ys2CDZI+7veDI2NCAtIGNvcmUgMTUyIHIyODU0IGU5YTU5MDMgLSBILjI2NC9NUEVHLTQg\n",
              "QVZDIGNvZGVjIC0gQ29weWxlZnQgMjAwMy0yMDE3IC0gaHR0cDovL3d3dy52aWRlb2xhbi5vcmcv\n",
              "eDI2NC5odG1sIC0gb3B0aW9uczogY2FiYWM9MSByZWY9MyBkZWJsb2NrPTE6MDowIGFuYWx5c2U9\n",
              "MHgzOjB4MTEzIG1lPWhleCBzdWJtZT03IHBzeT0xIHBzeV9yZD0xLjAwOjAuMDAgbWl4ZWRfcmVm\n",
              "PTEgbWVfcmFuZ2U9MTYgY2hyb21hX21lPTEgdHJlbGxpcz0xIDh4OGRjdD0xIGNxbT0wIGRlYWR6\n",
              "b25lPTIxLDExIGZhc3RfcHNraXA9MSBjaHJvbWFfcXBfb2Zmc2V0PS0yIHRocmVhZHM9MyBsb29r\n",
              "YWhlYWRfdGhyZWFkcz0xIHNsaWNlZF90aHJlYWRzPTAgbnI9MCBkZWNpbWF0ZT0xIGludGVybGFj\n",
              "ZWQ9MCBibHVyYXlfY29tcGF0PTAgY29uc3RyYWluZWRfaW50cmE9MCBiZnJhbWVzPTMgYl9weXJh\n",
              "bWlkPTIgYl9hZGFwdD0xIGJfYmlhcz0wIGRpcmVjdD0xIHdlaWdodGI9MSBvcGVuX2dvcD0wIHdl\n",
              "aWdodHA9MiBrZXlpbnQ9MjUwIGtleWludF9taW49MjUgc2NlbmVjdXQ9NDAgaW50cmFfcmVmcmVz\n",
              "aD0wIHJjX2xvb2thaGVhZD00MCByYz1jcmYgbWJ0cmVlPTEgY3JmPTIzLjAgcWNvbXA9MC42MCBx\n",
              "cG1pbj0wIHFwbWF4PTY5IHFwc3RlcD00IGlwX3JhdGlvPTEuNDAgYXE9MToxLjAwAIAAAAkhZYiE\n",
              "AH/+9KP4FNGWTDDflx/zyKNEKMlkgMwpkAAAAwABtJtR85UgRL/1BGYOhye0id5/BbxuzSCntDov\n",
              "HLfLRIDTntBjiweDSz3l0fz0twv8jHfY61r4AAD8nceJPr1TWWyvwAA0gb5Mk9PLJf0PLdRRbowp\n",
              "zBDogF0pdtSjFpjnlafNr0wPI+o95PUlcARKoTwe9ssWkBr1ynKW1L7mP4IiC88exGPFksj370AA\n",
              "bwdB1fBj1FFBnwn0CrO0kKKn5iRMWdnnwkraDnGPvZL0M/IgwPeQ4AAAzu390Wp3vmIEcJHZ5doO\n",
              "amxB8vkj1N2A3bTSCs8kB/wpqf6PPuIKg8cIHRHi+c2ukZWhynGPPiEPCFSe6M6Go5fcRT3opZS0\n",
              "ecBGpzF9I8+qYIoJgQxVOvli8+dWZWR0p70Ux7tSclGaYV/M/VEklqk84gExrjSFK8lFqr5VwDqX\n",
              "RcVsT6snvWrUy5MUPO/IFw8HsvuS5Q7uRrEGc2ynHAsrEZmU08T6FbPt/rlJQx6Wzn1rPDnlxjGq\n",
              "i5CuHQKbsY5yBNz3+F5WT2W1Ww/aPcDSrTXS5/mAXzuGTs0CDjzhzAOHUZTSikxHqcUkAc4rC2lk\n",
              "hqNhWDdVI6UuXQyhNCYXccdJBB78jkhYxhmOgEcmGSs5VyeCBUVetSWoqBQuoabKoeC1At5B2Xq+\n",
              "yeGKwdk1s0cFEKmbvu2AWF1Rv+cZ8oOwX8ZPcLOy2BI0Vq2vMPF5JsCApDJrWeXd+dx6pHpWGcVz\n",
              "N/bmf+Brj8Emr1nb8lMnqkMX86U0JoRUkB7gkxTq8xKjA5QR0woozHiC1F+ISXtT7AFyAuttsqlv\n",
              "B2XMzIlHCB656C22YKcJE/8+XtCFVnYfZ5ObafRlpvn3DVZXXSXeDHfPCCdWOqurwSuxU0a9cUhi\n",
              "kwK4IVXfBgfeL8gwZQDN15Sj7mKtaC+JfxP3BYoR5rXxhZ1PXz+9dYdq/DtmFwpVXXMNH/1jvsQC\n",
              "RwMKNiZGn9He5rYjGePRpD8reDF64eK9gfMuAJEzGXthwBqNFYtdo8L4p/DllBz8QgwwN0t7V3v6\n",
              "dr0kg6aSypZv6kJS/A4bByA51ks560Gz3k2PhkABpgbZGEcp188mPinJDFT1AkqTA6ePSN22Sy2R\n",
              "6av/JzRZ6Vf1hR4vQiR7kkJcmnUdxuBsfFGybfCW41ETvmo0LaK/YQGT0aY85wIW4CC9orQ+J7bt\n",
              "4U0fVgplFWjrn+PF89H/Dos8IZOtRJsHvHfpib7PXqH/xRuBST2ebqzchkdWbhpKqwlhAixr8MAq\n",
              "2lI79CBqvC+s5qEDHwedioYvmXodwzjXgi/3UD1IUidseM8pOSNNf/zhss7qeTK+zC97+HhJQOQh\n",
              "QEbathY4tQseuhlUKIHeJ0SXvetmWT/abdY0ZU/HKw1IRSCvkNfLZyPGRNxAKLbEmZuTR/E06UF4\n",
              "XwuQ6Z6/Fdo/g3W4AlammfUyVxtO5L7sMLOhxfrUfoYl3idOqbpigs0ed0KzEHnMlzqkjqoiQ+D5\n",
              "K4kYy9ltFZstSMVulS/xWIWs0PmH0PBOX0ub2q0rPxBtgCdlbshW99QtECu+tbiKzy3ZS6Ounk7Q\n",
              "Hkq4DGyKkc6EOEU1uJBJvby//vbM7i0VjZxOAWLZq7sVEXoHwy1xmN/zWT5tRx2FoJlWo/gzpior\n",
              "g/CZjnJGFSgd6d4wmV3pdI0+TRTI5gfmD/OVnG8objlj5y+0dbS4Lboig8SasTR3WGaceR12givU\n",
              "5ERNul+jV3DW0Lm0b4I+cseWdZ85u/8CHmewvS9jFLAJx+tbiwVH6TWtu1qOneQQTYQ2TSFq2O+i\n",
              "1ncqy0fgbL9WFcqK8fCiLML8/n8NDaDtOgfUSTUl0jdkzXdtZUNol3BhcqU5emu4xMRrr8upnZcn\n",
              "okZMY4f/oFL3iqqFKir2IbK4eO2UyARGABkn9z8EAw2u+1nz9CeWgAukUTrpSivQXfFbvQYJfdZL\n",
              "kW40o229HIQE3/V7QsUCT6jjNZpXlleGWR+9b+MHQvh0naO8R25Q/MHrE+/LhyjdCSbckw5ZmyM2\n",
              "/TQU0yeFE+qDlL94u0VBFOcvafl/AVc5kk5+/+oyINfCLlPgEABlB+ZrtrpqWzKTk3ZMeuwiEALU\n",
              "mCGA8b3aAAmrdg+q3OBz54ajr52XnPKJSLZ0jNBDrX1JmpGlCNm89vria9jBHb237RAN4XG9ib8E\n",
              "C0iir/bqJbRC1g6hWXwllFLOxIj65p4nSa6c/suU9k8taDMD+N8gpPyU+vGO37v7rhLxINMnbhVZ\n",
              "d30iI9ztQGSo5cLr10STX4OzWedQsiPgxf9o3bsSXbTl4yKqojVpo9nFVGOh5V6tylkEGbuIuCq9\n",
              "DC4Msr8TgF3IWtftQ/gDapxSjaXhi0OCxU66jUpj12/Tb8XwUgrUcpfO+HY/gftJ9XVY/jgwN/C1\n",
              "b2b2Vrt6J12/0tHUVFxshy6zo+8nlnTPOTOdg2cH/y5aFUbFLeliHzsCnqpOOWjGVMYf/wmAh4hz\n",
              "ruzuHq0KfGWYfIpx0voQAQFrYrX2iNgY2+7StJLCcpP1SZ52oypq2Zc2nxmSVWHKOS4Ab34y15Vi\n",
              "HtLgMr5w+mvZ7S28lkiReWxc078vWxNwgWBNQm/z75vstLm+pvu0b6f9B7A3YAS+OWIznSTQ/zGy\n",
              "KJPuNALWq4kYixXJ9dpiWKWlu6CknkBFRrn1kAHo6axLNTCV4buoNhxeGBDpLL0PjvQDziCjVsRa\n",
              "JAo7ZqaAF1JGD7fWWBtG4K6rjbtUNr5hSFKOaFzxGW3XPCa0LxtljbxPZnAg1MJUupppKS3gpyY7\n",
              "qT3iPLwtEFCxQMMISWjTqTnerhIZBN0T5mmUb1Gw6IO2jslF80GKPbfsuA5v1DWvAxoSuA77qDid\n",
              "fOX9z63+Dj4bnEYdDBXya7lk/oqqIZ+VV06D8P/FdCQr4KchhZoYxvaafCjAOchxm/HHWbGOIN+o\n",
              "KKIS2pQizppp93nGUchbZTL8RiWPuTgBPBfIurzNSENjcVH70DeqmXcIGN+YbXnctR9j4JkPhTMY\n",
              "YjHnAgoTbL7racORuRJL/VKAENmFX3xXnjGcM1zr/zPah7O8VGS5IAAABLvg1SfAldTAQNaBAAAB\n",
              "sUGaIWxCP/3hAF/rY4AqwC03hXwA+8qO/xoRlhlhYBSO58iQChHs0nwyKqhiK5ssax6FDNeioXq1\n",
              "NltQc/WeSwl7OpR8PFakvNOWhezhzBro8J6KFw4HbxZBnJtYFYD1csyEIEDn96K+8WNTGKy7/7el\n",
              "55yEzjErku+RETra9kDOh4MmJBAFpC/MBvuvspqBBLFuO0skdPlfBDZNm2h6Q2Sepj+q8mBhMjmP\n",
              "tYfLYgs9eRJFiIw+mH++7Au3eKLcqde816b7j8l5UYse6DT8OjEt+73ogQB41oM0/T9xqzQvpcW7\n",
              "jci/vs1DiR2mtWfYedlThxNwR0/dJkdt/Fn0ISYmteC22VVeU4J46iR+h4ocBu1X3E79Hxr3+zol\n",
              "vNhu2Bco3fIw1Uc5bY635+7vzkntmMp+t2/kQ945Vs4+bDwBdITv7JcDhl7twbsv+YPW8QF7f3KN\n",
              "xg1Z4OzlVEtDQLUJ0dpzdYODRVjqFKD5u9QpbCHeUb8WRwQhzAWMFOBjHLN7VHaxvLUKiu8X4424\n",
              "huIYVFiggod5VK+w37a61IbMx+Z1OYm1+ululRfDiRxwfOUAAADFQZpCPCGTKYQj//3hAu2SZQ1+\n",
              "Dr9e0ZYUkaupbTFtUvurz+H0kRj58qURgKNyGGu1iAK1eGX4QJgQQPXsbSQQfClGKMKTnRbqQckA\n",
              "0hLdeAXkdVdcl7fjo88Lyjr4W1gmHiuVoxzwrrDV0VQexnk6dEpDpqVbYQ6dQMaxekJfyrWNdby3\n",
              "10oSB3U3vHQDEoXCGFFHg82tNkVEyLG9m+cPex9PEKaGQVy0zWIclrCzP1FvdXKrNhjKp2aTbC5E\n",
              "Fw1AEnaT4k0AAACuQZpkSeEPJlMFPCP//eEAE9AlYr+Lr6khoAiPDwLtgnDPsvr3ApCPS+3GkrsU\n",
              "lmnD/zwPlMYKdbnm01QxXqS2EHBKgHPwBse2WuQx2sjE0kO7hRLHV3Gnhm1TlQxS6cl1SljGsMfm\n",
              "shN7Y+UDRhQED6Ee3zzhLG5QuBaxSVIXM/I1ejiB8xn7k6BGbkFjPOhBrxT6Ruag6EK//P71svHI\n",
              "gIqrHx/cYSyzLmZiUVwPAAAASwGeg2pF/wEMy06wNMtfmky+XFF8GoWMVgBIoZDt52vDM0MKUpOs\n",
              "kjbTWpCzTY4WEKlu7iM0Tfq4ORoaTK8pf/fFRzZ+UQibIktQEwAAALBBmoZJ4Q8mUwU8f/yEAE9S\n",
              "OeoOoBBKkYnpm0bd63PnNcG/eTbBmAyaEXLkfePWfKZGKhvSiH1/N/8QL2m5xpO+RwzvC7wtha9A\n",
              "qxZHHtD1nwQdtPX/r9B3Ws5mbvbMxwsjcBhv3G5L/AJVm+aE6oRn1X1DxyJOXLmRCEfMc4cBb9k1\n",
              "Z2pquA3UNDH29JbI5yTMuJzYMmpohDWle/lNkXBeMhY9fEWUysvjXTj38MybQQAAAEoBnqVqRf8B\n",
              "FlW1jKxGYO96YkTn/jMhFm6OADvRoIUUC79OozkQXhuw9EwvlkVPvxMk8Xpj8HAPm972aDDE9cA9\n",
              "Nw8gkhWqrMntCQAAAKhBmqdJ4Q8mUwI///yEAE9Qs4tQApwS+DLLi+VSvTD5jW1206AiPc1TJThj\n",
              "NflNX2xR5ZqV4Hqj91rW8g2SM5uZ4asW2BjhvMfO/tlLQKg3UKrTOcX5BJ7MH0ZhSU7WUE+cbzMP\n",
              "iWV373rpZNa7eearTH7uK8K+QKCofrcgD6Yom4P2Sa0LnroQj7yMI+j8/37R2hatljkDat4t8PXi\n",
              "wHOhKiX0vmRtATcAAACUQZrISeEPJlMCP//8hABPlwZWJoAcoRDBLZayMMUm+bwSBx98howvSC66\n",
              "vFxyXKYtOquULK9615tL3a9nhiOa/qGFQkGnFgb3HsI9+m5VA0O9HmjUbPCWsx8KF0YBAt2PG8mT\n",
              "g3oeZm9cgnGue/rTqongHt0jWfP2orNXdLa7+JMqWIDlxxaCiLnt2aWogxvwQhngIAAAAJxBmulJ\n",
              "4Q8mUwI///yEAE+Wnx+LgBX3Mqv+5q10UysJNS0+iCewErQR3KPPvWs5HsbiPF2RbygSHk4/6nFt\n",
              "XFB8z/7Yoo5Cywggp9pvgfbf6AWokkXaNc7IMULlMKfBSCRXv+tcQYXUbhXPuScQsPP7Rmfd0JkP\n",
              "HIHQT+mOt6PAjQDRaT9l3PlNJ4gdEBn9d7XbEWjJxH/AS+jYc0wAAAB9QZsKSeEPJlMCP//8hABP\n",
              "yeYOLwA4ARJLVHRrNvJPz72J1/963WYbd7OgX+oMRGU42MIHvvI/sZQzjYsBJB2HW9t2Y1LwyOs/\n",
              "ovT42H0cQCJkRhHWYisb7qf81/dxM3vfw7ubcxw0YYxyT62/0AnfvMK9f63wY7CArIHhboEAAACM\n",
              "QZsrSeEPJlMCEf/94QAUdWOwoBbUAHCqe2PIqXI3L0BR3EGYFbr3EakROPoLiJiKW5o2vEBNJdor\n",
              "z8/VirM1xMGDMo5Z+kygJJakXwww1GO8TaJ9JEk3LLhd86Ws4xqksu3rjYvS5HsJxACuqHEnGZab\n",
              "OEXxiUT7aBj1WiI5QPO+dmYGE8wiRIm99EgAAAClQZtMSeEPJlMCEf/94QAUdQqIhh0ARav0a6cW\n",
              "2H/N/Q/ZIDQEn+wh9HypBvzTWFUsOVRDJ8co+arFE6GqDF6yGHWC2735/QB8otA/7/hcBl4u/SrO\n",
              "ooD8NQ/cvvwj0EJgvwOjgWSr7bqzbSt8AZW5NwzMV+w7t/hhVPRqx/+OAlwJ2PCS8kDxVWOLdYEX\n",
              "4Jkg4B6c4Nk10ZANlP5aXN9Ijt7r0pCzAAABS0Gbb0nhDyZTAhH//eEAFPY7LaF6ATz3F8LVO0NC\n",
              "8Z5772cysgR0sKQA+MfzKAsfl2ns0Rv29y0lOCDBnVS8iws32AZk54KKSpEcnLk0zdjX3RrcHLjh\n",
              "krB6LsM1dKD3+8nk9Owdzi1djSezu7n70NmwxRziDXjzVVj8ou1T4VP2pPBavRw7oCe4GUHsgpAj\n",
              "znDLZpPVyU4KQ5txcB1MxT8pNM/JjW1t5xAsb7/UmHaJBRL9oC3HWFdoX6JZwdWEu3eA3VFmKdXi\n",
              "IgoCUycK2lhm7VC1LbJRlgK2yFez02O6nX8sEH7J9rs+kpeIeP9hHt0qfnkz90QIRGuN9kWcdCLe\n",
              "LkK4LI2qZjqWLSBPtCJjOuDfC0UpJtX8suGVzVimxUHG0U76Ik+J32CUHbo51+vfLKOaQRBaNcc3\n",
              "a2FER94lBMAe4AeY1UpeQs0AAABXQZ+NRRE8XwEdrIchAFI1cwHuZ47fVvwc2RvE0sffhjCpJpGe\n",
              "PwVF8auIe+V2lxo0VmDvg9qBbmaADQQaXaoYgj1IF6AOw6HCs7zuIwANWe2kZg+0W4EhAAAASQGf\n",
              "rmpF/wEdJjvmT8r3GexU0i4h+hwAJQ/eN2YbArIEhIxfJtfAgeHEEtlKCCWA34Fs9c5/a/d6Hy4N\n",
              "YhSbj2L88Z4662pReoEAAACXQZuwSahBaJlMCEf//eEAFQah5TuQB8kXhgaZowS7QsF4nRRyMkCz\n",
              "k3zxgdErbue5SynhY87F06JUe7jK6WFfITrDuCTB/Ndc5A8TiMXsVDx+w4Rf39FRalkGInWF8F2D\n",
              "ptZIvvrv+PD7nS+xWQV3UYgDmCqGahNPj32rrYaH0GMl7z9lePqbbA/d9ebHDpT8fI/RqnBZQAAA\n",
              "AL5Bm9FJ4QpSZTAhH/3hABUGi58dyAYsg7Eb8JOJDV1lxCRM+ozybmAhJYwUHNkKmeisXJ+ItwBZ\n",
              "4woSozyeOF15mXg9/4oqVs2EKIP59omsAUW8tuzqm3Co5ngL6nXu9YQyWwMqzOBhPoniVFAxi8p1\n",
              "UlvJmDtWHOTpzzkchZoLM00OxbwTlvoVoakpJ3rXrjN+ZHKozKNwF6KbP3f8EguTyigArnz4Jtdb\n",
              "ob+2Seq3NQuGfi15DtEMyn9s8whkAAABEkGb9EnhDomUwIR//eEAFPTxSBTp7r7tk1By6kBjXvK0\n",
              "N79PNslfAZp0lRL5CC/nPfg4DJqe4Artw/P8czExtJEG1O3D4uNdXBh5K5HmhHqZUA9t60n9uVW3\n",
              "I26YxaF9HotYk18I1WnbalDEKibtYU7sJ0iemZQKe2dDQDuhALymTnApEAd8p8r/FZSJh/pgv8Kp\n",
              "cAOQ7yXhA7L+TOws0D2PtX61iqKmWmUDikakUeca8r5Hq/Xxc6NGPIRJ6hWFAOsb/ijM9Jyd3kGE\n",
              "lINzkzz630a18QcoA3xuMeNxSACCmlncXsVzwo7T+40zYlV7jCD6K8cpKR+1G26+tVaYgN16XUv4\n",
              "9hNlqAJxAVqOgUg5vMEAAABIQZ4SRRE8XwCTKtdzzXZDGNsSsCaI8Gioe+EIJKJTzwAdyo8AFY0j\n",
              "ldTBhuPD+v0Ll5kLtcP2sWk9l2umqfgVflh0tej/HlNYAAAANwGeM2pF/wCS94mFNTV3CKW3QLK5\n",
              "Ax1qF02vIyYzlG8lZtcHPjL3FC7IJg/ub8jxCivXKrChgSAAAAD0QZo2SahBaJlMFPCP/eEACtEc\n",
              "3ZwGX+M23xyPgBckNzlVqd8l9z7HF2rzsxGLye3atDErm4tXvybGj4+EYQmCFVJJTbPSLcnnOhF5\n",
              "LaR4Hko7gySsP4MRQbJauJLE3CONxkWIx9po7Bih/uKCzQ3SOhbIuqI5g7wDaUn2xeJoFpkPqLeF\n",
              "vOZegD6ogG+X8BwW81w7cvy1FoIdOxskw45LQ10jEt6/NBLdX+MUTYqMN74gPfx8jJ4gOdo/7a0c\n",
              "fS+HLKYnmRjAESfB0Rd3lIOmo8k+NPHu6Vs+gyiS89CkSZEikPokgap4os6ADe9Vjj47kIK53wAA\n",
              "AD0BnlVqRf8AkvivwErBe6vLjDxb8QROQJqTR5D5xnUE4zEZoaRHRtcAvY+WzocjQjjZ9bjEnHAH\n",
              "V/RBntnAAAAAyEGaV0nhClJlMCEf/eEACsNDlkuAKe1845k02lIoWP1cpsLhLtUh5wLf1V8qsHC8\n",
              "DR2F7yBR5vlotMWkpQahpWr3+7Vc51EOu9oWwdgejmwGWuKrMWWaXvGDzp93AntCHNJXzyJA42oa\n",
              "KK9Ej7oZUSRvVB+RvahaogwN2qBE3kGdF6gcYZ1zce8ck1BRNBhZ6lSArOfjYB0ZXP7AqKU32XrZ\n",
              "1i2Tu8VAgQpKUwWkASbuO8VqUY40B0vDH+5jCcxXnh/SQtv4VHBnAAAA7UGaeUnhDomUwU0TCP/9\n",
              "4QAKwwUbYW6AT7ALEIs2+3Waxr6H3ckgoyt3mbN0GHQza2RjQ+UkoTrMZ9QopVGYBk49i1RobEOD\n",
              "8AaVr05qeCVzoLY5ecEVaBI1Q0zUbs7ly3+4VEjSQLp0cSnf6nWdPvEajVPHesAmfd36Oy8J+qC0\n",
              "sGe+ckmHQmespdorlduPFr/hrWXHjCa56NTWDHYxtnTKB2EjSsOx+z4ny4NV+AlMM+DZ4PrCLG6/\n",
              "iH7c5XS/qWcbvXLFKWvgYJ/XediAW9qQKXN2bxmb8XKHAy6CaDtZz/bnSvsTAgouyKyLgQAAAEUB\n",
              "nphqRf8AkkoGpvcmaIFSX0jDlpukwv9QlnLrPdXRjKpRd/QzAznE3G4uZUjoEElHxxiBt3pF0NMw\n",
              "aSj5TVvYBfe+/6AAAADEQZqaSeEPJlMCEf/94QAVrk+HSA5fu0AbfSNG0NOyGesXuCn3VnreW9ym\n",
              "KseIHJg9/onMY21LMWgxTUOPzQH18xoSg8oy9GhOKstxg7jb297td7EibcTa+LruPllfcv5AjV6P\n",
              "HoUimX2Yq68l0n5DtFft2+TvXK76ppez1Ki4fWBF+3bSTKT4+6CTpVZNi7/0v4BMc77Wf9ROAm8r\n",
              "9b8zOH+KVedcAY9JnB50RfUC/p47nwatFJe8E31sGVwbvTx2oBfdEQAAAVNBmr5J4Q8mUwI///yE\n",
              "ACoI6cDFhek8QMFAHWKalNvspD0DMKm1IWNaRre4YIRN/HSSPoGAAPsoefjyp1eMjwFZqcd8r4no\n",
              "PsONQBN/Uq9S3LafUdrQa1Q23o+RH2PfbyLe7/GjSYHRws0XhIm6Z/T52VkXL8DWDErN3YY+jS0Q\n",
              "ywUS5X0pzL/KeB5cDOj5JyEyJJNCLnIQ6k8u31Udl609JHClO9s+oQbnBVeU8YvldcdzjPrc6+3p\n",
              "Tz5T87g/NIbLkkG0WHP9uabDHIqcGN2c6CiSD2PGO0QDkR6CRtBNaE8lcZo7GFHb5Zpaci18QbUl\n",
              "WcVOyFk+wTEg/wZgjlZwNaSs+BSw9Ffno3iz6zx9DnHslhYNWFZxmzTN6HXaWDpy9Jaj1ycdoc4R\n",
              "xLyjbab7/EKNXgQnRjiw0VuRAJ0C5MRKtoK82SVcKKvRhoRZKyhkWiQAAABkQZ7cRRE8bwB23Xve\n",
              "rRndoY9pOEAJZXzbyNnztsnhk4qPooRoI+DXS9jH9JSXfmoZT0Xzqv4HOw4MCGmwyFdI9P5uXG/6\n",
              "YuWnEqxOVgLgT9IvziOkobr1WSJdRiz8VyfuTtIIMQAAAEoBnvt0Rf8AkmW9GgBgBVTt8xYmNm2u\n",
              "Isqhj0zeZieprR9XhgFAC6oSeN3whukls1tFpzd1o+8yVNLRd9RbaStUBsl0vBhC4pJFwQAAADcB\n",
              "nv1qRf8Af0OMiUAVgu3NVeJbFmbsX49JF7Vo5bCjssgw5kl/nasPaNlxQ2bNIArVMYGDQgbAAAAA\n",
              "lUGa/0moQWiZTAj//IQAJMpIeTg2FEAGc8VvixWX39Comp67EiLw+XXuLOC3w4tZJwZ1opcyWoL1\n",
              "KNIlVmmYxQEDIWpDQcAoPBFyKQaz0kQ76lATji8RjPiYN1FZwUM13SLLHBIZKb6kGDbZk0vcgT/F\n",
              "/eAUkY2S/77kUnZpThW4ozmExgtuq5ZxrqXsCDijRRnJjblgAAAAm0GbAEnhClJlMCEf/eEACWjZ\n",
              "z4ABKALQVToFeY74RB7hDFB4X65wAk2glgD20alf/zOo2IFkoetRMQ7S42L4zaVej2+lb65FWVFW\n",
              "1jmZ+nAODbpmHI7LHVeVlgO84hQ8rDKrdBslpO3gt1LFiD7ZkKvHmUBdEvpVnYKqdPKS50MksugD\n",
              "UE/Klp0AN8yy/URYfn+rL/qVkDHBn4HJAAAA9UGbIknhDomUwU0TH//8hABHN/gAGfu1wkMJ6VpT\n",
              "jJkr0ZLetrBaKgWF+RNn/UeK+nkNWxfVz0UrZftPFeDhgoGjikqj7WARYWDSMxE5uRGM+34DJUcM\n",
              "cIIDH1X1uCdRTWE0kHnw45r02LuX4mKErM3CB6lc/Aqj9nGaagSUg1F/sckeiAeq/oKp7vu/WZOK\n",
              "6LfIve1/yO8k9X09X5AqvIabtDPMKFgkMMw7Vz9QgvW2OMsz+92Ih0ybLqzzmc0COo2R2GEcf5+Q\n",
              "pnRCzUBXpfaZsjMrCAVkn0ZO3cwvg7fYvCoyrOB3BXdtnwv32GCPuRUJVF+xAAAAUwGfQWpF/wB+\n",
              "dG5IUIBtjXVMIHobQnMsIqte/YWbnh3FSPiZ9je+iTRv8/vHLw6Xlsmp2IAvG3p1P1VUiKwAkWUY\n",
              "wwvqin06rAD95ozDHc/I0xcRAAAA00GbQ0nhDyZTAj///IQASTk1wAS1ToEZ+rqL/Z4I1JkrgL3V\n",
              "FRw5jH1h3Q3bxP5B35tP66DJFzkJZbeBw98dmaercxz2CpcnHc8bCI+rIEG8oLW7bryLC9kjg0Pf\n",
              "1Kp9Eq91QfGJstB/eTfKykytvgMUuikrByRVtSghraF2QwhhMdGRwv+Sg0nnmDdvZBAcXfAGxw4p\n",
              "/OLnM3VvVzKt5wTjNmKBvpfTBcJlcM9ztLtUIYp7dhB4FF8L3o7dQkImRC/QndMvLcpKSGaUFNpa\n",
              "kNpL6SAAAADCQZtkSeEPJlMCP//8hABJZzfsq58en0foAALUtzbCkveiNl9Eb812EZ1R03j6YH6v\n",
              "tJngi6oP6nJxrtz4wwv/KrtRWj8d+/TwIjhnhP7r6Puwx89HW0VnCwegqQIHdO/H+QJw7GBOVyje\n",
              "jvaG7zce6idVZ8CRATn47skOjGFib6cC3DRetfoNPjj7zVpbWMVkrlP7XMrWUuMe4ZPbl6a7qBid\n",
              "mfArrl6EOoOsyGn8e/l1xrgmVa4RI9xuzXzoCHlqWkEAAACRQZuFSeEPJlMCEf/94QAS2jnilXfC\n",
              "VibaDg8r7eBwAxZRfB3XGPMcCli+nNp8QzO5ZzsPk6XrPhGpnuv4tx1694fQ/cklk5N0PKjvPWwO\n",
              "hIx6MmlqTBbtODcgCCXJcKfClJ9QtdANTdwawXkGvh7Dhfeyn6vv9U9JJDeEfT68UTJKXvU8j4id\n",
              "q4zNVT3iV7T61QAAAIVBm6ZJ4Q8mUwIR//3hABLNdWFOglCqhGoIAPtUgRZkm0b2OVjOYvSNi5ZK\n",
              "dTrUSWJYa50BH9Y33S2R2runLID9TH1/79vRecSUZam9DiiOgbTNVSF06z0JJ1hCjxt/av6mXG/q\n",
              "mOQydxklrz4ffaDiZ4acACW6NHXTPMEG7Pc/WNRJ0HRBAAAAqUGbyEnhDyZTBRE8I//94QAS0tjL\n",
              "BTu0Een87ZQAW1ty95lSwX+mqSj5E+AVxVLmRRNDCETkTFEQCslFSjEMqnrojW/Q6tMXxXyTOLvH\n",
              "y0Tt8wgw/o2iiI3npglD8srsR0+k1a9X/mvOtpwzlkOP+SuDGPOKUoNUJwzY6I/pkLZPNnjhottp\n",
              "YJgM7yWU3L2ivC6dOomjefnnpArzLej3otEdebwt/Bo/6dEAAABLAZ/nakX/AP6AIsmvkdftLiAB\n",
              "T5qghrAyXfAg+T9R5J7W/bEbxfTc38Nt8B/AqsU6x+A4tgG0p9TaUyAGwXrSWUUz+hF45Dwpy8lg\n",
              "AAAAl0Gb6UnhDyZTAhH//eEAE0/rkAC6i5GnTvgZWNY32ImsJHVV2pTPmSs/92Jk1RuFxa5TP+D8\n",
              "C8Cs5G6PP4/0Z7kMTmebm7RBDcYR2KBNtxvVnN7uPxe6WMYNl8tNkOe5Du1QEAndcXjgMbD3xus+\n",
              "cPDxGi1+oomV5ATsyd0OwMZjeM3L3s8+cchZC6z/Lv0hqLM78aOhcKAAAADOQZoLSeEPJlMFETwn\n",
              "//3xAAxBBELfyoALzv366/CnHn9Dk6l8Cu1LlAr+WoEi0ug9fbWgpAZz2mcbxtCEApvdUnrUUFO/\n",
              "qKhcLaIt/W6M6XQXdXzUBnd77FqjCd4FT0K8ClJyBlAWnK6Vt2OBrhdZwSbctZiPcnWvBH4dey3b\n",
              "geqmwsBBhX7/JwqvrBgoOkwQauFtLVUvzUsCqmCD6cgSuGGlS933xKOvUyQcXSVPEAFuaM2OzYJO\n",
              "xi2QQ22fPn0jR4Q+CV3l7djNWu5xqisAAABCAZ4qakX/AQGR3Ou2uvAA3Q7Gz57gpzeR5WZcClkZ\n",
              "0G7Vqfe/hkeMV/h0TDP4CW7XGmCcMQNeCcRpJRpjWZjg8/mQAAABH0GaL0nhDyZTAhH//eEAE01M\n",
              "0txuIAP52Z2tRuVLxizN4hG407rnsj1nPZRLSa1ZyrhR7W5TFeKyT0oHXi2rrocOUbiUAk0/WbxP\n",
              "aeB2q5sX810gQTVHwhPKSk3BMKel/XoYbAhykrf1fHTMLK3j5rfTVB8pr/isECIXn5826NtZk3T4\n",
              "BaJA6LurKHMGZJ9FAXxC6pLobmB2GRX+IEOp/3cIXG56EWrNrq81wpMZE+HlFbfGEg6MDvL/SjQj\n",
              "bxjGL7faozcTd6nTrBKLAxK9cOCISqdmvKuPxyX3U6rNqbHQz2jzuzZeVy6Fz/32q0zcgvj7Zuhs\n",
              "KrnViIBiTtp2X1xhISlNT4nU+Uq0K2FPAJM+zieMK3Z/5Wmawb5mAZ0wAAAAYkGeTUURPG8BpJIH\n",
              "X3A/augBJcno+nXoYYrjsRwji0wZdldG+/U77Jj4o2eJd9kfNWV7a5jI2zJW7k2l8h0a/8tYQONK\n",
              "tlZc8rTMa5vDJBpFGmvrzacQY75efmk5c4vudpthAAAASAGebHRF/wIMPcPcyLIACbDfuseMnTVX\n",
              "OQ4/MpjEvYKRlYzc8YdE8syqJno8MYEZbfQNGiNIDQN/7AXVzOmguHaFPFHDtqwx6QAAAEgBnm5q\n",
              "Rf8CDK1nBY20DdELccEPp0PWm6zpm5SFZzv/KYAHihVX+oi7/yLkxW8kS0iBe60HItKHeQ2c7P50\n",
              "2wRzd3uNCTmn5YEAAADQQZpxSahBaJlMFPCP/eEAE+Rr7/8AHycxApAZTGZCJbwBkIW/tyfPtXmm\n",
              "efDGHAlnlx/na7ALf3wafEXscMj7ciWLHfc2BKbTJdQbSYNwucn154PhKkrux+HHIzBcb9CQ8gYv\n",
              "2esny4lHsunDFO4oI7ZtnSHnEB51iWO+z9e7zTjNp/uXyM/9Kn6jTNkelouaaJjD7M+QO2I43IYN\n",
              "jNhPywU2JDTk83w+QElelArSyIEXQ8XRZDOzP+K5vXn+hdFBjdVO5G7CZ55tXTiclbHuggAAAEEB\n",
              "npBqRf8BDkh2EGMtKEi7E62LBSFbqsz1FhQOtgASiGoss2rZ4XnC8QOvzHynG8E0KWha21UmCWYB\n",
              "RsEazD6bgAAAALxBmpJJ4QpSZTAhH/3hACfcfmHYpE5CAAh9KeYUum5HoLD2KO08er7EMYQXllrV\n",
              "B1EArULTvPwsEtM2zAd4RrQWK1s6PNOKIn5zvpczN1j7Ks6DgmOO6HVAkY8/5x35r4d4m979JM27\n",
              "25qEXb0RFgfdUwG5inM4BAy4YAgCiz+mJEa8ISL2EJSnMMgXgTDNkamAvMqjabn0TDo6MnH8pPfH\n",
              "dwL+2Xoh9KRlLgTpLLGvSQCzdrD0yqpg4373QQAAAQtBmrVJ4Q6JlMCP//yEAE2N7pf7w9wgAnRr\n",
              "kWcdafyLrhQYuG8pWqfPP6/mTE+C68TbJDnZcr8PE1gSwgZRxEQK5V8fWpae1d6fxBzJr7fmkTNJ\n",
              "IV4z9SZ3oHFHuugYg+rd4Cr2gE0/Wxu65mU1fZfEx21sI7eBYTJqMQAXlI+o1m0mPvOpiivSn915\n",
              "EfJo0C5CbTLHPUO7gfdAis+wmU2pR3gwr4D7cSBPsD0XqjbVgMGIFwNUABWWB0MX8d2m2ihLi6dr\n",
              "d9QExCN04DlUxz8DZycIERs3ihLFNo7+AsXFG64UYWXeTYyd4/yuWM9c3lDV8KjXNaYu4y44iSfT\n",
              "v3/+RIo8npQdgbxO6nAAAABLQZ7TRRE8XwIKvSYhbrU29tvuEKpM7QN9mMqAFjZ0l7I30eq6BYpR\n",
              "drS55u14RT+99OHfszjxZtBEM0O2YexvG/lA3C9iSSClTct0AAAASQGe9GpF/wEMojnztACX8Czz\n",
              "6M6xRyTMEyQaQce/c6UMcLf1EiWuXV0taE0Dz++8hWWRcIA9PDqQbd5sPsVz0BO10eLwCYW5lF0A\n",
              "AAB2QZr2SahBaJlMCP/8hABNLGbuYASt2HRCNdT+mlvXUHpZLScRgkAjpe2SP+Drr5sjRHvIXMXJ\n",
              "S49d3yNtimaI+NnInNd2vX8QF7Iz5erd77gskqJxrj6g++kjhIqWaFqNVJsDsTD7XeTieu3ZZoO8\n",
              "j15Gem/S8AAAAI5BmxdJ4QpSZTAj//yEAE2NahP8xQAQF2XldfTecCygdwRbFxI4Peun3XXtX99o\n",
              "crmqIPv/8b77AtPF635d8rrqG9RTJgvIH1MhfaFpuqMVMKrYFK7+yOkGuJ8V/6kV+1oHAgI/p43e\n",
              "42mZ7nMmkXbcnBJpwfFK8Jd/FXftNVbgMm4j6gwTN7vec3YXC4mBAAAAqkGbOEnhDomUwIR//eEA\n",
              "FGGUS8VkAC4jHSjNmfhI4SRCbVpCDAfoMrm5jWOtoAjD65MnuG3zJKR2IkokzM69+bAThP8hGxnx\n",
              "NcR52Mh/gfMBcEfODBm9CTEW9a9k3p33ySs2FdvngivnpISukZF8c9hlpFDRC1/Q8KxI1FNBCIko\n",
              "O5HGyGsOngZqyt2UIPt9w5DGma4MAlULMkwK/hNaGC+ta47tZl+aSQuhAAAAkUGbWUnhDyZTAhH/\n",
              "/eEAFHah+1AACGWlaf3dO7SAxYU8Yzrpap5w6n/1+Au2iqxvOkLhlwo8NxjRNeHSqDr86U0fTsyB\n",
              "ER4Ecr8AeSmSmg/3faIaa0t1jBOv41qmQXvuGh/FF0WG0VXimjyQ7Sw6S598XA186QJ3Mgremqu2\n",
              "7tto9crnR7b9XC7GSyW7Fj0M3IMAAADRQZt7SeEPJlMFETwj//3hACffGlmia6y73IAEsEhwpK25\n",
              "LG18TSWvMMviUHje5veJACaGcaEmIQJ22+kew/yOzlYttsbQAX2N8pB3rkauhoYoUZ1RGOQP/Qhy\n",
              "T+qXzugXuGXgMzZ8D46HHe7zU7mXwnA3SlmCSUdI668ejDWy5NmU5RFVx1wXauuuCU2kQHYKpAuE\n",
              "dy1uTixauIKLoh2ovFf41ohKlsI+NtMM2/DjlQHY/z4xuGHW6sgWtRwwrkcokwyBhQXYXxoALgJS\n",
              "bkyEv7kAAAA5AZ+aakX/ARGUMpL7sCAI0tWrUO2crLJXdBRrFdu+HbzxDelHF8o1DXOqHMVnaCr1\n",
              "6ABQfskz9wdIAAAApEGbnUnhDyZTBTwj//3hABRmKfmNWgt9KvtRODr4uDJESPOyABK3E8U/fP/0\n",
              "mPjLSAuWPRN0ldagzIQ2MEcRC2x/VSIxA4DPEC4T93zBzEkAzTh+0niyv9Je51Bz2k6ru1AISzY+\n",
              "50ywMV6ERfu3XvccPp+LL/2h74izDWD2PAymS2lGO1+E8qaoMsYxwDAnzXuUxh1o+XRqns+GQ8XM\n",
              "oYgalL7lAAAAPgGfvGpF/wEV2+U0zeoybVeyWP8pLHMfHgj8H3BfAwAJReygzzEfBTXFcuWaUURQ\n",
              "ZNLcORyLUb0xkg1ZC0shAAAAwUGbv0nhDyZTBTwj//3hABR1M71qLgAzd/iWJ1erEUhGdNGkjNSL\n",
              "PiGpYF73tH35sHLnOGagdAOwbwTm5VABxGkwIWKdcGs4VxYdZ2CRiX+Y4LKO3h91Or9mNkm8Tqzg\n",
              "82Zb/kNMwHnbjUW5bZT8lMH0njaWTYkMI1a2KUkou0t2OzUNEuoJVfT2yXJfRjYur4IEYXhqFQcl\n",
              "YV/Yb+V1oJ/JPtXFemGn4M6AkvdV4gtPMaSeEnlWeHbXZ7Qiva9tVLwAAABBAZ/eakX/ARXb5Tbi\n",
              "xmnj7yyFy6UwAzHyizVfxZPP/oMlKefzVIuop+Bw6coxwojcT9NPV7J8iE9EZ/sY4d9nlkAAAADy\n",
              "QZvBSeEPJlMFPH/8hABRoUVACt9dBl6fxELCaKmFvVtR9XtO6UvNtmN9jloaqg3EkwFp50Bnp2kB\n",
              "H+WBCDm76mMkvyrw2a/FNaWH/zG48PKKo92yK769fQHaAI/ML0JGCOI8cwZNn+vg23TZsPWiD9Dt\n",
              "l40WBhP28tvhJceLY9JzW1J/qp7e6v4Fy/F644+/kW6CtuO45kNSqPJ7qmLNVRUrKii0zT7iduy2\n",
              "8NVSn/fIr7KcTszeVVMJV76Fhnmk6WDQUf0AV060nbULZnjKlFuuRSLAELqIorRit2izrFxwaOEW\n",
              "ITF2Re0qUhC4TMFujpEAAABDAZ/gakX/AR0mO7YUH2hcYA2lnC6TBYGGcpFvJyopmQMPGm7oZPal\n",
              "/i5Ha0b18mlTG4J7aQnzVDjsBxj5TJKxAAf/oAAAAJ5Bm+JJ4Q8mUwI///yEAFHXBexyxJC/hMeV\n",
              "jiz7fr8NoKjfEjwb22TyQTLGV8vnzm3uPi+Yd2/u6b1OAHn95E7TdGADwP/QSx/cDyskr53aqrMk\n",
              "GUIgXAKabth+7wG1w3KcBUNFdhCInEzwxiG6aExIo6CEaTWSQQ7irwDDPqU+e3ofdI0UTGWwKly5\n",
              "xaWO4TRKJD8o5HjFIftxSTYruwAAAHVBmgNJ4Q8mUwI///yEAFI5YwAoSxjgpaxkKv0NoTj2fj2q\n",
              "8drt+hXZuz5mRXNpP0ytetGVD+heELTtNsW3AllFbJ/YNpYU+3OZwaUtXFioq2qGiYhMEXGVa7ch\n",
              "yHw15z+XBAkjHKBf22MWkslDYxpjhFCAocAAAACBQZokSeEPJlMCP//8hABSPRxErBfkgHh7sAHd\n",
              "QkRsr61gRut6TunZ8pKAPT2nAaFA+zQqMRpn+6JnpY6cACxm2tyH+cyPJjQogqOC5Mnt+A5proz5\n",
              "+110xIvrb2MXfiiBrUnb1EabfD8KCw3NXc2GFkvxcPDhnJIUdYjb/CUjpJJ9AAAAjUGaRUnhDyZT\n",
              "Aj///IQAKOlQ+RwPe+oAPabFDiLdjrz9QZVWPws0Zrd5xp+gE7TWGv7rlKwirzafTLYBdn8d3uM0\n",
              "U7mTJVDvoAZqaW8K9ABBwGeUNx9h5H7cw3X+1bi0AfLXsPhL0G6XJCCYAz2IKb0QUq0tVKhd1UpK\n",
              "fzYh23PcFThHAClih1DZGhVAgQAAAGxBmmZJ4Q8mUwIR//3hABUeT4d7HT/JJGAASkSugcXTg8WP\n",
              "95shQb9KOe1/p6GfNqxh9rfXK7tumMeYqzKVp990EOWKAd7VklX4Ik+T+2xXjzLX6McWkgQHbkNi\n",
              "7+DG4RF/sFUb8ZX6DmjF+oEAAACSQZqHSeEPJlMCEf/94QAKgr43JewRyABOdCliK8yt9ndzPiPm\n",
              "8YMXDg94ZzOVjpSY/TmRxxVgLdyhW2avVOOpU7M/cMd/Ii1OYn/HGOwEahedcnL3V/xWdJ6xzYrk\n",
              "05cUBrH0Iy04sETUrm9eSCJBKEamhufkrcBC7Ftf5a0jZBdKAgix8rTTUpqWM9VTLmNH54EAAAEC\n",
              "QZqpSeEPJlMFETwj//3hAArLSHtASQALdNck1QqzVCKoG9ezyNqpcAQ1asOyK4QQE3iImYG+hW8l\n",
              "a5Hh62GdHzBWFxDSzlKzAlvi3aEn/zWpyTUUM5NLyEDEQsjD2NA/b4lVObP1uaBVjzxUFaqghPXj\n",
              "//cRU8COVmXYo5QVUNGEMML3sF3b/wV7UFxiQa19KRFJMM2tc7rjtZXi1kuffv74xIvzCRqIucW7\n",
              "/JT4MWXrUPvbJxcHSoy+cT+q7DVm0zaBPqVUbD1FunYloyNqCOVoYF8VBCxkgBBa/YMYfdszKWjx\n",
              "2GC5jUUjfp2C56Cg/KuBAgaVO7zRRWXM3yZlaSjwAAAAQQGeyGpF/wCR3NyHuB8DMGvbIA7Ir56f\n",
              "GKWJaQivjEQ97Bmrilmoo5XsbZJThreEPTJwLcW/KyLFlIAowWHAK2LAAAAA70Gay0nhDyZTBTwj\n",
              "//3hAArLSHs8MgBIcnNt5EbDR/stxzF5mRhj6T6mL+TD1NGg4/QI0qSm0X0wj93LMOFQ8jtan+du\n",
              "w1hynJ285XW1qSZ+bI5QvMuI9vDWjyeCtBcY2Pc1mdtCXMuaruERV8vopOZOUIBt/zizyeLuQTsa\n",
              "nWCp4NFuGubVyoFo34n5ZjLah4jbOIV4QSYntnA/iIbVvMKiLQSVcIRPyp1+oP7cBEP8DbbTd3Zb\n",
              "Zs2lRMkWAw9jN49xtpyZBlwv56Hl8uXKm8/vTshQ0iZcW6PD+rYj9APJaDt8KDKq46fyya971/rB\n",
              "AAAASgGe6mpF/wCSPqsNJxKoxEOY8nQAbMRCXEkqOo1SMw2pkPv8v/B1Vf++hBrO4EDJcKRJkB/S\n",
              "PF8jaMNtg1MtRWJZwp4RvdiJeIEzAAAA0kGa7UnhDyZTBTwj//3hAArDBR13Yd3+STA5QAejO+Kv\n",
              "rg0HklHg+peOQWiAWwoD1Hl8F7/e2/+l1+DWKFLM3OQbKzbHD7jvLFzSaCFBIW5bmRGVV2VEurEB\n",
              "Nw6jvFt6zhBV0s7f4YEqpBTjsw3Ke2+Vj8YZrR82u/2jksP1pscjqXGLwKw52ZSPaB8uPdqixQNJ\n",
              "AY0EMgViL20EA9qUfOpH47kjhLP5EZvVGHswtLDcA679AjaYS5WsB/3l5+ePr0neSSYse+jnLzpX\n",
              "MQkwXCsswAAAAD8BnwxqRf8Aku7in0iMrO5oAEoUQ/r2gcc6Wk2mV8jwLRQAtGwWnvUkJefFyR0w\n",
              "fiJLsKf56JQihuGLXslROiMAAAC9QZsOSeEPJlMCEf/94QAK10MAJxktzOmFc545cidU9SiJgNH8\n",
              "CEWrxEkvdu4p2Xycj0JlVpWphIUs28HCdJpCIiZ9gLH80P3/NUm5tvWQo5gf5L7v86XPttqyYnDy\n",
              "01MjETJQPv7bqE/jwV3otdZnV95Yw+C1MAaIgGL+O3JrNGAf+uYtv9HCdw5gdJNBn4FME8EviuLW\n",
              "vY9jPfyRVmYU/IKfx6c9Ni/ySBNX3HaDEO9Oc8oaDun7SqEqVnJhAAAAyEGbMEnhDyZTBRE8I//9\n",
              "4QAK1ycnhZEgKNkHx1h7gAQdTuYth9jGmdqbAuSl7/blT5C1wFQFJbFz8aXsmnl+cRM/YdCJFbWp\n",
              "LS/fqAt12NLkrwWaDnWlxrXz18GJkSaHZc8Y671qe7+s3GQc4twSqH/ln5d3tKaSPcZmeL97HujI\n",
              "Gcyy6fyh4uEdwW5AYA5qOqamPVPhWhiFWd+xRtodi8c/MzqSILiCUuPCBrSdFGLBL1hgvv5a1f3P\n",
              "iexHHEgZ29mWxKNSkmOZAAAARgGfT2pF/wCRBHhVYzRv33QOBs3C0z402uwf/M06DT+zXiAWah2I\n",
              "CQI+W4ExzZNZOevKe9QAqwzrZLlJYYGZebYITKRN4MAAAACgQZtSSeEPJlMFPH/8hAAU6w9Dbx4R\n",
              "44tc1z9t3HA8AFQ6BkZgmhg3ZvgU02vEOckLFLvkEF4sUzykOxogr1cP/h774ShOvvZy4u9f/lun\n",
              "1Z7jWKDhlIy4nMVS55LHIJIzaJiR3QTiK0RjVYuj756wA8eX49BHWQFU2a0H4IKk+pNsxiez6AMk\n",
              "OyxhtffOQUCOMjIyNk8I134GJlBDsDQ7gAAAADYBn3FqRf8ASGxgyo3QrVaYVmN09pxI2rihA/Cw\n",
              "MR5u5485zoWQSXfiNd3N0x+SRTzx0AkKfIkAAACyQZtzSeEPJlMCP//8hAAVhXntU8AIqoc/rKgn\n",
              "LYu6/P7cUntX6OTXMrU7qANYnAGPgot8c8H8T5fEtvVRKfXNUtANgfDvjfBwtDRhqGFKWEHhxm9M\n",
              "Gu+vWlspC+09TIz6fYFQXAdTJZkTtEbnTiwv3xUlfDv4+iGF/FjZku7CmRFvu9hvlGWqschozSdX\n",
              "buKOsX5jERsFre75Ow9PkozBCYG6GWRltxUtRT5uC2p0vYelUAAAAIdBm5RJ4Q8mUwIR//3hAAWF\n",
              "rnxM7mcOflOy0ABb4to9LDUkL/GD3LMqF4xAGFx6XjmaqapnH42OzL057DdXqkE+3jSCGF68QUrt\n",
              "vhfwjbvmJWQC0eABtdnFHqdd6A7RSOomNtIbP0XdSSpO+Gb/eYPVT5M0117UgXL9v7zxEEOFIWGS\n",
              "X5qNXRAAAADDQZu1SeEPJlMCEf/94QAFhyjKI3sg2OEECyAEscsP2wxyJLwu47q0OMiY3pnYWJKs\n",
              "HrtcqXMaeV3mcUYnlh6CaCFwL9Z/P2ZZpoDKG8EoR2/drRiNNu6KPkFmIYx7LJm3D3R77GH8Oiub\n",
              "Y7IjgJ6dtxNINle4xpOsNNYxt/ftENczszDSrJC7oWJvIhDimuK/XHvfv7BGY/TIXEE7670fdZVD\n",
              "6U2V2XKjNiXxAnqFA3D13Z1ac5ZizWsvncZykaIEiaDzAAAA4EGb10nhDyZTBRE8f/yEABWvKreV\n",
              "HRjVTA6MycWV1QAJwcwnHcdf6aYhocd+2Rc5nrIjzCp/cPwrppzvT8RC3t+RHtEo420lMku/gbf6\n",
              "tU2adjvWVVREnYNDgpyf3k4JeIGITK31halTeyrc5jAopViZ3oyN5/T+psOwkRhCgR94aLvV+2lT\n",
              "efGgtnZRU4oSB7k8iQREYsfPSaOC20EjUCLiX+2w5gJBXJRr6Aadx/tVBUYxX49jhCvMbUrl+RzT\n",
              "6/N7VXdeJZ/6KjLknXNlunQDQQUjShj3Y1FqXYW3AzlAAAAAPgGf9mpF/wCSr03vp0w4WxrlGXqS\n",
              "MY8iP+GJWxpK3PrN1a+Ykc06uNQ4Eyg5l3h555zPsau4cM7BUNpjdXCBAAAAgkGb+EnhDyZTAhH/\n",
              "/eEAAsII97rChSr7W8AAENLUOKkKeZ1PAMJsbRiMHgnBXLEPS4WqkCUUIbzdO3NLiHlEZTJK6986\n",
              "UzYJF8HPtuwsJKAur/ofpAgcjG75eyeGz+K3rn9Xa1yOrh3lauN+2QC91WOC3AQ4Bq0T3oMUtR73\n",
              "sD5UsE0AAABtQZoZSeEPJlMCEf/94QACxNcwTVw9uh8VEpcUMJgx4IOwl+UAFTk7J0dyiMeZaMf9\n",
              "AUC4eSTOy/MA7pTlANWNeC2HrxGWFkDaZliB+5jYI9X9ih+I6+2XYFWNQZIphaUAn8x3IxKukYuP\n",
              "VDxfiAAAALpBmjtJ4Q8mUwURPCP//eEAAsOarbsuIAL007GSYYcCl9xpSE76s/1A/+xJmjbNbv+Y\n",
              "V0Rnua1TXLVINq5hGkldLfvy5I5VqTpJ7wxNPFhfCSjJzF7gyXVxyyWECb8rdoxyAM0qTgmVeyYY\n",
              "nj4Ig1ImYRLqUjU81FMc0BQmw4G+09FLqd4EhlzMaNZghgJPcOUUPdbpcEZrOXhDAvUquxLD8+1o\n",
              "/0DNoYY6LVh6T8ErKEyVoNhoKATF2IEAAAA3AZ5aakX/ACWpFVtKZQykQtQQea1rm5YBzoXbFUjS\n",
              "aPvJsB4gDwknfwDTdlv4nj/woaV/q8t/9AAAAHlBmlxJ4Q8mUwIR//3hAALC4ki3nvUfS/kPqmE8\n",
              "qI0ek7Y+bQBF6GVU1crGg/LisW2WNQqVmVW3dNB9zVSFqqblXgccvNqb6wP6jktAyNjVhbBeSYli\n",
              "5ZgjggSpOSJZI6dVxYOrwDvXJSujesRZpsdYuErEV0/VTVKRAAAA1EGafknhDyZTBRE8I//94QAC\n",
              "w8LylfOZ9XFXWAOAfJAMvcXIQJqiLYrv9V+1RsW2LWHJUvRUCu7qbAzO2Q2gd4mgDtV9VOWnLbww\n",
              "Alj/UBH1U8HeHW3XKmakyk42vOKE5/g5qhKoq194pi5zBl/SMYZI0VNDY5jRUDav0mFpDlumgyga\n",
              "Nr6oA08TPds79GV/K2hqS73UEAqHWqzoQgu3UlbX6w1RPheXmEcfCzaBVoCcp6/KnouTgRI1X1wZ\n",
              "hFqXopsRq1wVKiB17ATuID3aqUWcyVGTAAAAQAGenWpF/wBJV6alVl3bK3ZH8VuLGTJSuivfi+9U\n",
              "mM6JM/oY1ZuZgATHzdWWWRLlmi4ApVsxGaV+EMlnmtX86AQAAADJQZqASeEPJlMFPCf//fEAANxl\n",
              "L7AmRm7/cIAGjZVOehtNqC3YZCHmnv38KWgtpEwxoHQ6ADMd6x5HPjCHc7r0Dte3LVAo3l3N9yy1\n",
              "xnU4MyHU0qJnBXIApZxRcHXlSeMR6GMdi+zLaHYM8I0KIF4m3BPsQxdBXYd+3HcE4yM+u6Fh3RQY\n",
              "sRiVgwUSKE3IwJhGSWeCer5bDqW1eHVgv+rxH0DnSYvWMh/KbC2uv9BQML7tIUEr6jOXqV2Mlw8W\n",
              "QOA7tHtUhsMzImywAAAAOgGev2pF/wAkq9MrESYEu9jacMgoAPxH9DfzPf5mcMZVXXyKN9yf10Ux\n",
              "aphuLVIpH36GSdBwIS/z0aEAAACwQZqkSeEPJlMCEf/94QABYbTG6agAOzCi+JAs6wHqppKepZlj\n",
              "umrFq7x9PXJNYIJLZP/Ck34bxTAxUaGOw6mB89Ar5zEjyG5VKZzIsJP9UwecLAud062HcPgL3HNj\n",
              "DOQyEk3k7GP10z6d9MTGU9xfdmoO/ye+HT8OQRaYbokCmWkF3kLSSpdZUu9uDoE5XKDnTd8YmQGF\n",
              "uT2AQwitbHOJ7rs8/oQXLniJjgWaGF953LAAAACAQZ7CRRE8bwAc+cDYUMM/LJ1MAAGxDlVsy/0k\n",
              "gxBbvGTVBnl0YnTzOYUh8KxaxJhMygChLibkOaPHtMTmQaT1nZzF0+v6A3HBBWvckoPVPE4G1zCQ\n",
              "7oDV7Tl6znau4VVv+Nt0Su0paCtK0YDS1cMLpEIlDlhp+T0bFEQzNlyNJsEAAAA/AZ7hdEX/ABLH\n",
              "d6QXZwLgxWAsMHyhurgt/xS4DforDFFwB4o9cACUJcLR1b1eLKBh9JwhPurQNyTZWFWL6kXOAAAA\n",
              "OAGe42pF/wASyCglBk0AHnVzsNsXqaHczKwfnLg1bsw9Qsu0K5dcMs7WBu+XoCba88RCNKDkjbBB\n",
              "AAAA7UGa5kmoQWiZTBTwj/3hAAFh6cujzeflslHvc7IOo4cMzc3IHyhoJ4hjtCwUZI1///AV3+tb\n",
              "4fwWPIk+Ehr+LcGFxR+blfFDpNdBuEIFjGXIjPRNUfxZQvA7HqWw45P9U6lcM5/wL/nxdpjhpTm/\n",
              "aC0AvmBctROmdIIym8yTE2VvuMGMUKbQ2DrG471RjykCJWKu/yBjDkFgZkGyebog9n7YrFATHBpl\n",
              "IerOwZalGC29nlEEg7Ducv4KBSvYy/MrWqMl8gmOFDI/npizxFgVDGPivnHX5xneENzXYZx/aPMp\n",
              "t0UJN16b0fHCQPZ9GQAAAEQBnwVqRf8AEqJsqIoXdU4/vEvZg7ZW9q9AsHn4Tyw5bXrwY9zOyWUA\n",
              "yPTe+Ro7l1HLHOPWFROWS0A0BPrNAVybXEnkgQAAAMRBmwhJ4QpSZTBSwj/94QABRuFwVqnQ7AQB\n",
              "W8GuJTEL8YgeJP758KBbVfcIHuLPj1Bmg1GFkg1U88z6IZSyCsn54wuLOWH4lJAGrHYIlMeU2NRt\n",
              "nA+gpQA0j1a4s/06CO5SXaBwN4/hW7KIShnuOKO83IzrQEdwMmb0KJX4wrN3o5Sky21S4otTCtga\n",
              "f/9nBN6UOQtRxMB56QgQHA5IBSV8jmU9fc2sCEPzCqfOyxkzFS//XSN9s60DgxFtCfFxNxZwPkwh\n",
              "AAAAPgGfJ2pF/wAS1jFWvMlITU/SF0jo6EINI0t/i/avnucU0jooc1NcCciNAZM462Nb6DoQhzSp\n",
              "W0AuTU1rObEsAAAAqkGbKknhDomUwUTCP/3hAAE+U1erSADoDDb/EJOECxBCfw0QVHngI4QvsgFm\n",
              "iwmQCdKcW4lbMMUfnEd0jPar0yqHmixXGC5WPV8pQ1f9wuPEwgTHGpMuv/tehed5kS7hSct5TzO7\n",
              "tvXUSxK9mVnuT5rmbs6KCgAtKY8o0IM69Z+Z48m49I9heiaWjmfoICvC2rN1Z0pi6LAHe/hwRpw0\n",
              "THRGJKMH795d38EkAAAAOgGfSWpF/wAR5W7nTNYSgwQZmO037bXujtK38YqYKjH+Q2nid4TohWjf\n",
              "wdMcQXM6IXRFSWEfKOKPEnkAAADKQZtMSeEPJlMFPCP//eEAAVrk+GCJrl62dpANolI2ugT6DUOW\n",
              "mQEsnf8BQYi37X83x7v3rnVRhnoJfqTQT/hZ+/nwe0th8UngCOw71H79zWvwaioZCKEMJ9VyQdDK\n",
              "pjxtjVmCezWyZczNn2E5hSBI4/r9QlHrKgYrm/II/+iF5A8vHOgzojd9spsjmIDsY31T4Rj8+Rc9\n",
              "b68gNvy2TrKm2avDqOu/PUwAaZCQcuFl0JRGY1+cQoHfHhh6p7DLsPb4cI70UUQVjpNRpQAAAEAB\n",
              "n2tqRf8AEdXqvUFhdLY8eEWZtEa4mCxRKxddh7CyrAJZlD7DZEsZGCJIcOwwASi3VOLjklFWb0lj\n",
              "3K0b1WXTAAAAxEGbbknhDyZTBTwn//3xAADO+mqP67ggDapaqrtETUb7aosMIGYyFAsuh/uKRbV4\n",
              "90fMjikC2YPoyr4Pr2uphCeZVUrYR3NejmJiS4kYeI7UqUdAqWHIUGmLWcLrc7UsSnJQWKjMG5Rf\n",
              "tAx0lr5rGqwp0rp6GNl4QK/vWUbyhXP+glWa1hjU+t9dHi8O1V4iRnu6oHh0e0HP9aPoYPD3aSkv\n",
              "mk5CIkp/SHRlUY2YMo4oRseEjofq0y92pPk5Er7AGSIMnCMAAABBAZ+NakX/ABLWMqg0oZ2OwyFs\n",
              "xbiKJkCEWTWig+/Xs7lifOVkRxEKtV392WhqgA3Vy8MFiCW2XFAZnr7l5VBVZgsAAAFBQZuSSeEP\n",
              "JlMCEf/94QABPZA5AFGeVjrWMzwVGDJMF7tqghJKO/7wk1HVNCoGKRryK+JtcvwYzdi2ge9d1mHG\n",
              "uehdoWtxMzeVCPLgo2Kvjm3cxbjzsYL/c3z00IOqkS27d9UpJMUZOSFRm/ie0bxKnL3ma2Sfxep8\n",
              "G1reWX4iDW44opIHxy6NrWFt+4mbrKIkSKYcow/DEV+dKTBaiZAteNP/X3e+r/BS9afu5XnGHcjD\n",
              "WXnW+Ao0XvC4lPhIN4KwRsoYfgp3zO55IL9xtmgweLrJ7pgIWHuSQjpKXUsQp18eB95W+qdHovEI\n",
              "vUhCZziFpUXp2Xd2NQTx8V1QpEgq/XS8RGmGdLvJ80L/G2TMufPjTNHVY8uoKkHt1+KKkDneCJ6L\n",
              "M6Sd+DLLyWzYlEkpuSMGKf6xW5dQJ/ELKqHnxJFhAAAAZUGfsEURPG8AB2pOLS1RGsUm+3NlRL0b\n",
              "O2cuDvAArZp4MXr28TjmLzkUxDulqwTUzaACNv5nUIN87HT39QfX16aZ2/BW9AP2FNADAWg5y8UD\n",
              "Ams1yomW5+iBSIqLjeEriBy0AgRAAAAAMgGfz3RF/wARYf+15qrE0sKqgHWAb1VVmRS/uvuU742h\n",
              "Ir6ednb6hnxk9wINMUZMhU9gAAAAQwGf0WpF/wARVjyePOPJPyNdjvLEJSdlwAK1MEhXZkldUU/F\n",
              "RdlqfyjhMujPkozDZpEFHsQOVaLlLwKiW7chtlZCGNEAAADOQZvUSahBaJlMFPCP/eEAAT2NwAEs\n",
              "/3Q+6KKU7KZAowyXtQkjdaNbqcYU+atw/rvFgizIPVlt+9LW3Gtom0v5MmNpZm9XLrQyBV8u466N\n",
              "CbFJnrBWK6RPa23PssU+1meA8XQ/O/9j0EyNThwBTeBZB8CNTdAbcfhA6xNuBlmNl3w6hkilHV5Q\n",
              "7zPrFvkIv9k0k9ylkrWyh3i7DIKEKh+tWaarC8lrKhALI9y1gjHyTrj/oXNjqJ2Ufw+miIDx1bgV\n",
              "sBUY+yliNQushF9p+2EAAABDAZ/zakX/ABAgjyumrOsjd2cHy5enFDYLY3RJQvsgUjTtAVbLhy4A\n",
              "SjrWGCa19Zi1Rp3XvoyeZIwFgX4GaY/W2ZBaQQAAAMNBm/ZJ4QpSZTBSwj/94QABPU90YCgN25+H\n",
              "zfZyYiPKUTop8HB6+u9Y5kQPxS9a/StAZK7COweRK3M5u6lL12hRcE0I2UWc+e8qClweLOOPmreb\n",
              "ZUZscwlcKryT3bwluD6e2koewuI4WpX/otKB4dmBz1jEgw2CZGudP07pKphQFAf6T445EKN1kjfl\n",
              "HfPgnQqFSnzS5gfzc1g57uMGtiRu+xudbu1QYWmWkBPpW7wfIPGpVlqqeAiLFPaKH3I9bGhxUOEA\n",
              "AABCAZ4VakX/AAjqrC6rRhIeQ+N+OiyTsRp1TgA7psYXlld07FcD1Vi9TiqcC8JizBuq08rIRB/K\n",
              "fg7ACigB08gaKUcgAAAAwkGaGEnhDomUwUTCP/3hAAE9jy8B+gvfhnye6J/fWFhmOevfsg/KabL0\n",
              "wPt6aGSNCAxA5EKBLkIgidEqXh8MZ/fmyBDqxHsW1dEHh03cnl1Bf50RnpkD5H4gqbL+cV1u/uja\n",
              "4xqmXaBu4DpMFXfDYX51Ol3HPr74mLzi3PKHEP4OCBRflZ52E3F2+ZagCRRDRkt0yHwujO4H5NgT\n",
              "SvFWIf+yRY0AWmPwIfqZz8j/gXUFvi4Rqxj8I7NMpN4FK1tYLO+BAAAARQGeN2pF/wAQII8qzEC0\n",
              "ARcAZaxF7x2RHoVeSyc0bOmTfyKAsDud88nmYAEosfqgPufen3cqRv3P8CO+RidU7DYpyqc6SwAA\n",
              "ANVBmjpJ4Q8mUwU8I//94QABPYu8BU3qB/FS/mU7cFBJ5D8GVjjWeSHuEmMgN1nBIa4jmuA9LVtN\n",
              "OgVGOgiXtOpE2D6UaKHTELpWSoTnwRQ5Q1navPTA0XK0rw/tMJxTUNW63r1xBRQNv7w6X3P6rYz/\n",
              "VCP0xB8K5bfOuBwnkOmaNVZgOVZSkrQ7wXR2dxIdNG5GHbaxarJkHKaIP1XF+2FLm0TeKsV+kh89\n",
              "GFn3bE5NLtr9UzuKH0ogTBY/9GCPHBPFp7DJEnXKnxQEcCtd+kb+rz8rmSwAAAA/AZ5ZakX/AAjq\n",
              "rDLkw3s3tAx0B085XN45xKQO0xsIdRWx25aJrtpRWhml6az+P2ipql/3eOB7N1VI5vEy0zqBAAAA\n",
              "/EGaXEnhDyZTBTwj//3hAAE9rr5AHzapm7gDslYgsw+SaoIoh9pIrngQ3yo0MItJ2YukGRpVMC7a\n",
              "EfhmgG3Wf1oGsMz2DXnmCTNTZiQNeeFIwIsVfHyTwdNtV+q0TIRqq4cYK0ywRZsKRz6foVUxz+b3\n",
              "xpgXALgPJXhLpJpHRCPvv8nTaYzZKnW/3nr8nZKP7Lqf7eNdK0qdoo4uOsNl1b2xP/ymNwnzjPKq\n",
              "FhWspmnIE6/0Ry9rNySHBi9xFb9lhaScM2wJcsC8Zeb9/1lHTftpvymyk5HrlXgTntFWCL8mIEYz\n",
              "pTXGasodHruETMW4oSkSCwDXVYDvwtEu0AAAAD0BnntqRf8AENXplPNFIkO/Ek3/lswsm7JqsN/0\n",
              "m+zTwxKQE2jO9+ynRopJkspYrq9u4Ksd9b8ZghrepwcZAAABPUGaf0nhDyZTAhH//eEAAT1MlzvS\n",
              "BZiDSa/zabABdLj74I+YiGzKg78/QPDsF76BQrnzDFS/PgOPoLwxImigJwtkRxuHGD2lviYOK9d4\n",
              "77EB585S6Bit757h/1lQDOkfM14QWR94TDAVaBu570gG73n8jF/JBQsVW09Xejp1sAGjLW7JvToo\n",
              "pGbFa1dl50uj+RjIGAj79wPtraBRO1nfmcj8pIUZiykNJS1SNmHXMNmLR8I5VzUo4pt+wqqs2h4n\n",
              "aiSPjo98VEOJ6Gi6f1HLZTVA05jySyZJVDtnuT4K82Eq3NI++DkK6zj+35jf5fsuaU/GqbzmQNO8\n",
              "HWLh+XOhziM1/LDdMm8mOm8d/L72ea0yMwwMyzfaXoc3WRIOqTkR19n3ywG6u7ki07clZBjB7nlC\n",
              "UHJU/wJTGmkGSbe5AAAASUGenUURPF8ACKaDUB9qUs7vUFrZd8s9imRd0wgULI7ArNMUsu1VhBRe\n",
              "+FGBWd29cVkekLsnG9BmWxvM2GL+jIdXyR4vbqeqLsAAAAA+AZ6+akX/AAiwwd+zBFftHGqz8wwv\n",
              "g1otiJ9Xi4ZvKeZU0SDovLtwACZA3gv8RabVJ/+Ii5waCX6m9tUNEuMAAADaQZqhSahBaJlMFPCP\n",
              "/eEAAT2PLwE9oWs8Jv5GkfCGmojwdRx5PT21EZFSyh7EfT0BL+jQ59ncvROblhC6EcLx41Hf5UKS\n",
              "YCbw8Ju+3ZV2HV5KI/1LZTIU7a9jUeJ5l5zP32JUNJFhGAskszMLaww94DT+4ajcE8PfybeATe0d\n",
              "ezSKVITEyNuuMbUO+MLZ/jQKdKxQ5jayQkdW3djRV99RLXDT/eAX8VN6Ot9SKHRL68xhRXHTRHVw\n",
              "0i4PC92h2vQozbNnBzo7ISOvkl92pHl6doXwNfkRRGymOuEAAAA7AZ7AakX/AAivBPm7998jMieL\n",
              "jD+PJnOZ1o+q81TsFAKmtd7hqFJ3IPOIzRAmG6BsBieA+fXY8k+FCKgAAAC9QZrDSeEKUmUwUsI/\n",
              "/eEAAKR+QAkVYT8Pd65XxoAUCd8WHEbNPflcRQ/KsX6p5Rl7zaLGZHkhb5ZaXWqWrYvn5iVGGoua\n",
              "o7Mkkmcyz5YxCNYxg7l4z1pVlf9krJzWnryCnvA0NmQf+9sVmF3HvDbQzPcyyPEkRDfmSNQXWH/Z\n",
              "bAyC6iDpsD6qhozEBaya16bKJEFU7kpCmuY2vDmiz6BA9FwAFzt7XcF1LUxIwJTuXQ94yHkyjuLr\n",
              "jG5XhB6BAAAAQQGe4mpF/wAIql3VPPRDteC3QK8KNArL0tGM2onLSTGTcMGVmyB7EpAARlU5Fq5U\n",
              "J1iZcwsua1BS+55MXI1nhmQwAAABJEGa5knhDomUwIR//eEAAT1PFICFWQLJ6+t3/jU/JlWUZXL9\n",
              "3W81AWKjl8uWMUBOiTuuKRljtxxDNl+s1H6msX4ChdfgMv4wfo6sY0x5q798nJG4cIGhRg/6SYWU\n",
              "rcLh7iopK8SlNIWQMVMn2Xpg2K/t6h4Ps3KuZnpMwXx0+diVMy2cCf9Pv95NdtxUy8QjLmFKqJhV\n",
              "yemvjYFD3QkIPjfXzX8oA4SLBu24d+bQpGBWfCWEC8q/Pl9mbDY60lKfN96JcU+juSG2biSCckGX\n",
              "FyImjog6zomaRCS+rz8T5yCX47zoHm9if1e+u49bT/R70Hwu5v8bsj8Se1rVr6iy7vRUVkzvhiR5\n",
              "Qg9DUR6wg312gKBYhNBzZSRe+LaaZxzCv58uR4EAAABZQZ8ERRU8XwAQXKHD04LGwaPGpYA1RWyy\n",
              "td5EyT55wUI7PJ4Wv+tFG4SD0wGd4xzZ2HQ6ey9gBVmzdyukYPd8oDWXguyVnJsiymnPRqXOB9Hk\n",
              "DngVtyfqv0EAAABHAZ8lakX/ABBfSw7WXM/cLU8+P0HUACUASzlmh9+Ay3lOWXWAP2EhttK6AIli\n",
              "19vCIgFZch5UZLi3RTkrwVcQY4LiVicC6YEAAAEfQZsoSahBaJlMFPCP/eEAATVF4dN/x19juMVs\n",
              "PgAXvQ9muYz205lFwKQygi0wu2r0Rkom6pw7jUWnDb3ZWMARGNYPiJBsWbNfaD462aypgjKyuv0i\n",
              "u36XNGRsEZmWv8eiAapTEq4E3lVM5721wWIc6RGg2AU2Cj3vewA308XjAcufYdzFjNXO6pC1NtnX\n",
              "FLOoQNjmNs/6/VziBvBCOfm8LMJMzXWpQ3Z6WtiwHX8qbmunGhKDV/8mc1EgaDzhRWUsqaNTenC+\n",
              "Mr+NW548stSJfdBQNCSW761QXech8pMaU4Op/7QDHoZ0G+KWxTrmBzfVRZr6aeq6To5YTrzyPq0s\n",
              "gAK9z46DioKBbCt+TSshncK9RgIcJgtf8BXbosjADWEAAAA+AZ9HakX/AAirHSSgsR6cAxgZQjPo\n",
              "lBzJoLbu4DD9VPd1eYgQzhC1tLjCOlAL1/Gcw5Wsb5rhnHKvoMTLyyAAAADoQZtKSeEKUmUwUsI/\n",
              "/eEAAT2QOQBSS3wm+P02JYpFwItsB25Pwm1A+wA+CmRvLkPlFe3uzfemQZ/rRqGhyzRsljVidXyt\n",
              "STWziBUX9UTsLKtZDpqjZQ89vQFhEDRWsaJIUgwJ1AJ7sYF/6TcMFAn+zv0MjtffutWUs97Axt4i\n",
              "kX7qAMYb9NokhjcoKHzBSnx3w+RsBo4gPK3VbCwPHunFkpyY7rkfWkM3sC6v3m1Hx1okS6WkS0KL\n",
              "pLcJXRohghHv6rTQkkK/6uO2QpwvlJdsIMOqLso572YJpEPGoS664JS8hz38CDAqoAAAAEgBn2lq\n",
              "Rf8ACEzXaWNidXFvvsi0IupHIqRVNHCbATCaSFQNn8iufg26Kqn4HVXQ2zeBDIzRwptwWoWSAJ0q\n",
              "ACeND6JNiv9OjlEAAACFQZtrSeEOiZTAhH/94QABNTAnXVm6kwOACSLAzfkPDhxL8ulpTsSK4Wjn\n",
              "lBKPI1nTN0IZXUE/mh3w68y0On6PL42in0snGaNpjypoDT3EZy2OwAueLpavuJNFz9nT1NZpdrJw\n",
              "yelqBTjvc8M4ndNs5eRaptHSkrXGKis0sXQ2g7tJlxHpxAAAANNBm41J4Q8mUwUVPCf//fEAAMip\n",
              "nUAtTSa+XwzNULf0ysJsvZRaw8QXYkUYMGQrFRcM0E+wlTv7zijH69vyNQB6hu7TfC8wsRbOdFlo\n",
              "4rOPqFG5eDIyCNEnhurZ66n3rVbAVoP101XoNf3QVQd2lztZKF71ETpWODS3IOWgRLZfU7EGvmcK\n",
              "JHiC7FYklGNeI105prH4EvLj9WHCVe0prBSmXUtHhVUlNxsyGBmpn6MchkO4yq88nSiEQ1ayJ7Hh\n",
              "Yd5Mhd+pvg0C2l+ptATeWvXkf0cXAAAAPQGfrGpF/wAITNAoTlElhqo+GoxSH8PCCOomIbFSxshi\n",
              "BEaTFUmOi4FddW/uJ9E9G8DPkE0kVThAIRiEETUAAAEPQZuwSeEPJlMCEf/94QABPcV14Chdt5bZ\n",
              "96LNNNHyn7gs/D1WSPeLGkCCSyfJGZCsU/LNdmqG2bNmJag+nEPwg7Zjd17/VP1ZmaQurEcCDs4H\n",
              "OlrZFXO8Gvlj0f9pmUO5+GM2Spol/q6wZ7rpgZC3dKbkqF4rsWE9qo25rGiUBBffSNC0QdJPjD7m\n",
              "RSAQ7OIJCgoz1nqp8Z6b0+1L2LqdCHWeA9G6OyzwGx9fE5Le+VeGnw7BCaXYDBJX/GYd/3RyDpq+\n",
              "Xf9374Lr9+e0izH30VJKOnz61TR/FNd3ujCSPNWKLwIbOfLZEi8yyfC9W7uE048Rh4DMUxvRqdrj\n",
              "1KDXg1+9GV1+aUJovRNOBAOSSQAAAEhBn85FETxfABDWPCd5QfS0FHk0prW+pidah/Ll+0GS3hLV\n",
              "JCdqWhsjeCU1WaROVXuN6fFDUAEi8EjI9OTx5NARx48NLplxGLEAAABAAZ/vakX/AA/jf0goDgwr\n",
              "uoS8A3qQaZz/pREPFavL/dLdZ/tGxW0AA7tolEG28aexLHsljpr9KFvyK1lbfCWulwAAAKBBm/JJ\n",
              "qEFomUwU8I/94QABNNjxQgAJYZjCWcK3TsTrwk4mM67O4QzvpsfT04tTeS9FyFEAMYMXulnFtbCd\n",
              "jDeVs6E51137PCk4dyIMLsfPiX3ChJLYh95GOc2fl3qjBOt+F5SXm98tHzz8CbwOZult4tvD0NNS\n",
              "4M05xs36zXP3l1QXD0plrYxzt4sN+wIL3FRbYKTPBYvLQPMPQY5UE6XwAAAASgGeEWpF/wAP6H/n\n",
              "k3U9GwTvJXt3bfZeiC/AgBKuBQGd5ozDci57YIfSIP2lftF/zbyCQFPWwuljRVBsABbhIUBZwZcs\n",
              "zsipUYIVAAAAyEGaFknhClJlMCEf/eEAAT2l3kANu7n5mz7n2PwMcPahDbFq7AN/190z+COcXlUs\n",
              "ZFnRmuXRdf56qUFIutaG2aCZsm58Txk5C/7IwUQ36mdXm+3oNEi9o2DtbyY2PD+3J22Wkqk/G35/\n",
              "Zdw52oxE7h1WsUYhRWhaPK7ySUgh4M5MbysWTkW4mMFnPtRT0PJPcp/5ECd9K4GCtKDy/oPwsz6v\n",
              "jTwWjvE9WdNb5WKaoZp7fhHbMjb2K4/KZ/MTRHOidQthJFhIh86sAAAATUGeNEU0TG8ADSld/rhV\n",
              "4qinBSLQ8QK3gdHxsZuD+y5exPWJ+nv5aB65mlC62XPbW/s65CsbEmrRISChoYn8u69dd+7mlJmZ\n",
              "fRU+bomAAAAARgGeU3RF/wAPtShJR1K9zh9d1wniSvTUdni0Cw4hImssXP5q1QNLj7/ACUJcIoZz\n",
              "rcN5fn84pOl6gOqc6/a5LYMquqU9jBkAAAA1AZ5VakX/AA/RVutPbqfT6pa/9GrrGmOX1aW1F2F2\n",
              "NPK+MuF/KZPpufZr+Ymwf6oOv2wDEnAAAADSQZpYSahBaJlMFPH//IQABNSYogHyqZR983sWBnfN\n",
              "xq7lURtn5l4t3OuHaElMrukZ6NtheFzbdlEcvO2v3Ox3c+IerFPVpaDlka6BUWSu8UUjLBqucpDQ\n",
              "sQc9EVDRbF8sAw9+l2MFjimUfPrHcvuh9SdMynMVHAFcnXcJ7aCLcDDgiQzW+K3xWPPbiqOTFqEn\n",
              "KZbKDOQWi2lI979+wyiK/9OkxFe2BvjXqgzKJAtX92rjeH7CrVcVWQc8QHbx3zb6T/Zs+wsO/QPL\n",
              "+RPgkdZL0d2/AAAARwGed2pF/wAPsDttpR/USLXtwjmvi5rNGJbeTgEr/Kbh4qkCicVjLaQk4eSa\n",
              "WSBMcm/+I6uYtpXHkWp/BxBfOk3oY1PCQ8P5AAAAi0GaeUnhClJlMCP//IQABLYj3ihwAC/aaFw3\n",
              "JYNsRN7FC3Blxrlcr8xTxV/0lzTQwHbK1T7Q4l2UUaSctTFp0AAiK42xBPEZYouSs9h9urmiT0RI\n",
              "gHg1O9M0P1wccS9CTtC6qbR5O6xnNSlw2adaJZnfclu47Cv1wi0yQTzSUtMUpYEWS1GTX7lG38AA\n",
              "AACAQZqaSeEOiZTAj//8hAAEtiGmbFAAI39YRNLKGte7HVq/YNiFYKYdX+v99lIkDw9TkNvsTRpF\n",
              "yUcfXDklAMxYKd4dLsx9FX0txljeC2gu/PM/5AmQk0viWZOUysq/7rYsyzez9ogCcrBf32KTK6pU\n",
              "f8CEb/7kq4rVJRxMMTtSqEEAAAB7QZq7SeEPJlMCP//8hAAEtjXTiD57KDBEVYAKlxIUIrUR6Opa\n",
              "V+BLSvBD40gxAbqQG/ax9uxksAN706/ycvuUhtxXX6r1S4e20EveLc27GbwAqRHwVKoqY+O3Ds91\n",
              "G295eaorLUoLRhBHK494XusYin63sq4cZAZf72wYAAAAg0Ga3EnhDyZTAj///IQACLf1ZAN3PyjX\n",
              "wWhBcDjDPOyR0fZMuEjGgdlXoTp1qyDUqxKT60Bre5wloLRbKeQzcbU0zGUB8kTVM2rNguOBH/QX\n",
              "FCcW5ZaBjrwid8VFogkT199CNh27heKc7QkZ08x48H30z0GRYFwIcM0p0O7kHb6aelMrAAAAfkGa\n",
              "/UnhDyZTAj///IQACKX4T0pBQbDgICZXwg6kANBw6uLcgKhoUEEmkLMLsg0BdhYmf0u74Kuuujcr\n",
              "JP5VCn77k4UiwjFZcEzLp24mLR4lyJ/gU9xyKnVkwtSAvur0/9+nDDi8lg5aPLqlckzJqpfF76RO\n",
              "u+L8T5RMrmyFwQAAAHFBmx5J4Q8mUwI///yEAAj39WQdi/h/Uy+A6X1g8Bay3Eql6r03SLIwKu/Z\n",
              "OHX7+6A3mq3QH+oVKfdRVWlVjjJRTWaU0lgeVWXP0uRyUR1oLy8Lbf4F1lOXnridFVEG/fR/Bbdb\n",
              "06dsBtE5DZBQEGsI7gAAAI5Bmz9J4Q8mUwI///yEAAj3AEBe3pPl8GE+9HovnVQFZci55d5UkhtD\n",
              "Pw5j56KfyLKWK7TeLq5lGT9IMS5jAsCfoY9xi2AvVnmc++6Tg8oWc8r+3/OjHWgkT0bdcTTNNFjp\n",
              "NOrCGpI13yqFKR96uChyF38yn6d87vAdaDZWH0fUn+CcKzfO8tFOlDmpU5DGAAAAgUGbQEnhDyZT\n",
              "AhH//eEAAktI0GPIWnkYQA29Z1LC7QfV4zQuhkUj5BGknWJZpOp52DIUsHpjTFouO/2oL+jaXnQU\n",
              "qF8VZByE9eCcZKJXB2Y4QyyN+cRf/F/PMfe3ETFmgx6ZXq0HK8rVIvcLL9n8CUX5zHV7uxuZQ8UJ\n",
              "MsDdzycQoQAAAG5Bm2FJ4Q8mUwIR//3hAAJJpfM4o8/OVcQALZq6lAEso+Ssavvv7i7du2jmr35+\n",
              "MIN2ane4ed8aeREokMgjbst9WpYbGRhT++q0+hJGAkcUlz3bmVq6okHTnU9TAZHL65GDlbkskSxI\n",
              "q5xMVvLtfgAAAP5Bm4NJ4Q8mUwURPCP//eEAAln9cgULeNri8guPIyUKKSd+aA73PUAdO/kirAbW\n",
              "UU2O8KfZuAnwayuaQKblgEfpIbYpapewqIUfkHucdk6c6mEwpm+8pQJDaPMcwk4UgoX9mfUX9+Pa\n",
              "hB5KlxFa9YdnnvI/cM9euQOexEHz6pEGYUymO8r8S0JE0cB/PByAvdRIo9O+IYjNSJMJXT0/wgqB\n",
              "yWQvakseYuQgC/IZF+FFOimBtquB274up1TsdYivJFVOKDyfFtXhGt+W/SyBln8PHNA9rH5/NKAq\n",
              "B/eluZ7JpWegbaOI9vpIbe2tmv84+pnhBBGbjrSMaN/fTqxVgQAAAEABn6JqRf8AH9DqbMAuiqyU\n",
              "vK//Swt2fmjRnwJqOnTPXbSS/Y4kOTegpAS73PCbcxm/mOEz2OcjgQGR317SHAVAAAAAy0GbpUnh\n",
              "DyZTBTwj//3hAAR2jnPPfwBWpVfARze5or+eWTcpMi1T85Yp12ejk7hczbuZ2vGgdyC95h8TTwQ4\n",
              "+3APZBeZ7E9xpgxWYcnqW2Kv3Xo8IbLbNHfD+Zcl1iCn5OCrH3RYFL9jp2ikAkkGJA3ySLP0D9ax\n",
              "vvYW4onUfGyMuXJ+jeiFNQn1sXB0qEKFwjKJ+kCfcwADYu40C6KV2+0z6buatvV2rJp8goef63IT\n",
              "lTQAj4T15mMWOaDZZOeFnuzJg31m/3yDYw0hAAAASgGfxGpF/wA8ou0wcVD/DbFWrTPpRN3oPLDh\n",
              "aPS9aKRc/MMoPl9cdHQxxWQDgbVUdu0AKrhUEeqYm59hmtSoYqaJ0T4KPs/xBskhAAAAfUGbxknh\n",
              "DyZTAhH//eEABHZoraaQR7mgUIeaY9NVgAuSsMk8d3CXtuuKe/mkAvrHOnH/LZnWDfe885DZ2kml\n",
              "rD5n6XXQau0GhtkVzNHgEDdNndjkpvBjAEwmclXDD+fF3UHAO+aV/Dyn/epl/sPIJ+XgMOXIpedz\n",
              "aXm+/TfBAAAAgUGb50nhDyZTAhH//eEABHZoraaRwQAzExJVwUfhN4916Fyib82FehQO9cTj24Bj\n",
              "y6Xe/Ko5VOePCcfRwEQEGYEBzi3Dkc1FmWnOtFdZ+4D6WkrvgmPY+6I7R9wdopbSIAiqqEfACsR4\n",
              "PjHAOxaA4XNRd7+DN2PYudKYsR6kae8DwQAAANRBmglJ4Q8mUwURPCf//fEAAubscsjJci107QhA\n",
              "BcxXxqxA5BvfqPa192Qo5Q83KhG0h9BvyUiy7r5DrwTFkYUjdJNmQXcqY2KnA6KOBkwvi4qspmhv\n",
              "CYTUyrE07r4rZ/HQB0iCtrx6+8JYpTQ4fjCdv04/0GsL+pHkRicigZS4xnghLh/WARZGrDu9cU0N\n",
              "MgquYW6X02CPDktWELycOOFp0phXgvPubZAVq+zwh2nhvKVb0wXNtkMVsyxvKtJVsfQ8HMBSFQz8\n",
              "fS42lVTILnfTzgRHsAAAADgBnihqRf8APiecjykvoTrcKP1n36DHQdDD6QkUnhJFiwJABr7GW0GA\n",
              "DqP2RXAh76HtMhcgpKl0oAAAARhBmixJ4Q8mUwIR//3hAAjpyl33ebrImbvFkROvbwUK/SCuZEL6\n",
              "gLHJz7L5m/WnEr8j40jMs+B4yMKd7HXMEQJIcOzpOjpfxzEOb1kF3ZSCi8EFIe5zAfGAun6yhliy\n",
              "4POtbhES/O9Ct4Bv+F0dsbZpNT+4Cpgw+YF+7f3Z3iMuR44bxDvOn+nHhmhxH2+w/5XfEDYvxw2w\n",
              "UiXDIXNHolJtDfiOmnqDMcEXQCOfyHoiWznXcbjr6TUc4lQmSLaKONWvIri+lAhIpASYm7DERZLy\n",
              "N6DWQIi8GLTAd/F73ya+EuUrtBGZ3oj+MtFb1UfIXjItM2ZGcl3djcPCPvXYeuS5xonapvSkPLOs\n",
              "3/OAO8GCZtOnjwM15jiBAAAAW0GeSkURPF8AeZv5F/WJnbgBT5csIurA+p/kByu4ivfHP54VE9QY\n",
              "uV3D/p90PkN8NRIhBbIC4hksWlTU+/7imkfyENidWL7Fs4POBWV5Bj+yng0jt21QyUluK8AAAAA/\n",
              "AZ5rakX/AHnEOaFuFmJtVSwpK0ANsnFbV4dALuTI0w3YV1FJWhxxuPg+nz2IrOnItupHEsEOhYgA\n",
              "SkC8hua/AAAA4UGabkmoQWiZTBTwj/3hAAkmgMuq5knM4HueYCazDjeWqwAmcvFpkOm+Ta/zqlwt\n",
              "+52PB33GGANlESwFeEaAY3NZXMhFHhVFetutR3T0uQ3R4GbGMOBO5Ike22iZHTEESxdwt0eMJcYu\n",
              "p7I1s0Komwq2/VmatxyLrFgWy7wzMTckZ3RtFO5kD616JGyETkgFkXx0LxC4CWPRYuqKy2r/XWlV\n",
              "eSK+Yx3MCkdfpc8h53aWOnRq7c7QK3foubumGDplIsiB1Kiz8hLvMeZBg21Z2eWhiWZYQlL6v2cF\n",
              "F1CwtSp5gQAAAEcBno1qRf8AfFr+3OphveWXIg6ogAShASPCVYQlMuK5S1SG/ein+PKI0zFg3cB+\n",
              "fnyNuJi8agBOKQWU0js1KGqAotUMR1wCgQAAAT1BmpFJ4QpSZTAhH/3hAAkmlgxz7oABDR1dmROe\n",
              "XThdGy3L+N3ah0MXpvt3Q/aaPOTKEnrFsd7TgtSFTdiQT363oezzJi+q/HFleVn6OFXL1hGEMugb\n",
              "icS+1C6PzGxsjItICQkLhql46ftgTYJiCug3ouKrrUF1Z8HTF5p4yp4BRCInOFl63WWxkk7FD+XJ\n",
              "Zp3K2cMFRXS71mDeegi29rYYLe0huynhpfNadzgiCwNFTCBa5GUs4BzOot+X199z9E1yRCafpbjR\n",
              "ANl5hRDYeuzbxZ3IMtvYBiN5oChVmft5tKhNhheqXAsdZuWF+WRutLEmtSlH/3jAq+l3Drholqz1\n",
              "XtONBpNa7KcyhK+WI52EbBlzU8ACsNtC1E3IjwRa+t5dag4HZ1ZPmFZTubSY4wsuichvL5juOiWX\n",
              "0b8fgQAAAFFBnq9FNExfAHxRev+mjgvACoB9Zp3P+0Uottf5Y8vGm8McrqBpTRGM5DqoVaXdNemC\n",
              "9tgFHrY0Q5DvIVlPKaGVNSx9+GHCfbOPNr7e8kmvmyAAAABTAZ7QakX/AH8aO9jNkqAFUxwxPGUg\n",
              "w7rDydvzLVoxPNiy5yzTFR3YwQDyKjn5z36LwS8HdOTzSfrQONcZzQiz5FIfedKFEDhB0elbcBX1\n",
              "8eixyU4AAADSQZrTSahBaJlMFPCP/eEACTIp/+PnURFgBbO+QWChh0460ldZ0P5DLNGJAvU9lkWa\n",
              "/Ks8iQe7G2f+jkCz+izJBAm4rO1mAV/1EyIiOGKzdaAgzYtMKSEP2dtQQMD/igvjcZZQQgUNxwdP\n",
              "FzVKkiKowYsXnQMc0AWqLzV8QxHS85NwIUq9TWifgunFXUGuwW346qAqNdTz3aLuoFgEpt0z1sPV\n",
              "1cqGBIvLfVvGovsROHvNrqe4DBrEcxHE7xlBe8W1JdrbHiDRv7xOokgdf9+Y/dphAAAAOgGe8mpF\n",
              "/wB/Q5nJIemGowY5BNVNjd8HS/9iqp0Bb5EQ22rGKJUM/DH0vX/Zp5Rj8X5zv/cYFoEKroAAAADO\n",
              "QZr1SeEKUmUwUsI//eEACWalJGbq4C9ESAFEwLIASOUXW15cMVPDZH6xZO8piV9IFJEax2Msplmj\n",
              "hV2tCIiwSSaZHLPBSWojwE1WzmMQjujp6mxSadHx0KRzTKxyG4zv/6XhJcHgFen1LIJCBSNA8NiX\n",
              "O944YbPNnwRdGKH3nyVvpVMpHx1tgCYrMbAuUZd4B0RyiaEYWBG5yxqskwZBo7kVHL8meRkw1tPc\n",
              "8j/qT5jIKsFzfBsPGzLn+46iFaM853JNUzLtNxpaTySnhO0AAAA7AZ8UakX/APkIc3OClJjnoIFr\n",
              "tT+DODNhzBaujlrwymbjx8LBau39bw0Wqi4MXMwe1R/sfVFc0eI2Hl0AAADiQZsXSeEOiZTBRMI/\n",
              "/eEAElSHLgontTmWoZuB+xFY0WLovDbStbPGEnIYqsN+8r9qUVC1/8Nt5cjN9wBMafG+GRY1KGUZ\n",
              "GeqUQub1XZYzyUmoqbFH/lA8WZG8ODFGNL/OlDovm+6YUd7AgqvcXrWhI3dgivzVzEHt9V20OI0y\n",
              "RccNi4t6cEkt1zwIcQimguSHtIH8IiBWHE9NWXKtaqbbCV5ofXXkdXv7/BpQ9hU5Caz7aWBVzPs9\n",
              "sanJe7FCokokrHpQQqqcZZ2UPw+49TomCCUYJIGt3MD9ilc5et2f2b9d2gAAAEYBnzZqRf8A+Qhz\n",
              "CIpZQoiXlain5tdcBcFnaIzc/2X7KheSMV+AYRHg99kngBGGRfACxJ3bGwmaMeMfHEi811SOAhDJ\n",
              "IryBAAAA/0GbOUnhDyZTBTx//IQASTk1wAv9aAqTsfDYv647fpzE/OfaRdvT5GpkxtNWO4bFhEJL\n",
              "s/KWyrKpsfZhCAS3UyTHQ0c8O6j75erfp9dbanJc94+I/Kq/vUO/rqR02lRgfulR0ReaNsDwkErj\n",
              "4kt8vOSrXRpNpUrRqyq4Qa1pqOh5bfXONqfqPE4cqrobIAzYS2ZOAfITR6EWc4xMROZlDPM6zh+9\n",
              "3owdFpkjYUBGFOpeg/B+Szj5uiwb+t6q3SmQ2WfCCvPxZEDn+ZIx1DK9wLap4uceeV012Suv4LXQ\n",
              "K53HzBBv9rKXC2BKUE8xv5CWlOAhkBAc2brAL27ioOo24QAAADoBn1hqRf8A/ZONG09XWYOpMnBo\n",
              "MJDHVFuT91kCDFKAcz2jsk0W9dT/DoHSZRjbA6/ObJhssIeDmVKAAAAApUGbWknhDyZTAhH//eEA\n",
              "Eto54pQ57BtnMjYAJ28Z9kN8WwcXRdM6hQWXEHQIWDRQBewauFjDtQfdAwRHiKxXx4G8ET59dZAK\n",
              "AIEHQKAu0GxT5pttU7hbnhovZ2GuvHypUn1koidIbrAuyYSVRjoSyf7acLK7Bdz+3vxbqtd0cXXI\n",
              "0idYqgSCDlr5qJqJgr8o8T+X7Xb3JUeS/s2gx9n1rBHLIgs7gQAAANtBm3xJ4Q8mUwURPH/8hABJ\n",
              "YputxOPOIARbA5cT+9pL/ZfmWC9f4Hwu3z5rcDETMUFiPSSA/FUyXHWvpCDgkY5kefG9x++4hgmK\n",
              "yU/VGKpufp0HBOCRLJ7cRWIdBeRHYwAycc8uDjAh4HNGKWywjca1k2PMH5zZAwYf0N5LKx5YuqXE\n",
              "H7RKiUkqFSCeUYwwdfWfcRQ6G8rBZ3sBpH6r2hEPcY3XmG09JB9QQy5L2wBbKE6eZPz5rp0xj9IM\n",
              "GnGFSSAD88Ry2xhmsgK/oX3/VOVlF0GQ/WuoRuQqPuYAAAA+AZ+bakX/AQXxXDK4jX8hTAaWIzR9\n",
              "WGSzq1bO6F7BYQd78pf9f5enYtDaHCbPHuCh6UhRQ3RR4IHzt8oXJ7EAAAB6QZudSeEPJlMCP//8\n",
              "hABJLrimQADeFq8pdpfwnEqO98zxTSpk+oQafHq05O5ZZHzl2zRKDm766Shj7URrB4xMnDjWcdJw\n",
              "z28DYfAmRrnCJH8+8Sz2VdJzN7CIjeuHO5xvw0LKzHA8hRBZ+jz1KTX3LXdJUB0m3UegLDEAAAB/\n",
              "QZu+SeEPJlMCP//8hABJkisDiqgBFHSTzmbWnZy4x5HbF26bdPXw0QH3cocdfq1/wDBP/8S4S3zr\n",
              "tnZTWSUWdrYAQ/e0rIqiwtvygUreuHrXit9ITaw5FE2o2+As7he7zD3y8+l+eobkcJBynJ3+52Mx\n",
              "TxT4pIRGUMYB5s81QAAAAGdBm99J4Q8mUwI///yEAEuSL3n6cc1HDqQAf+Hk0JGcS3I+nOQCKj2h\n",
              "ms1x//B0e6thYxfCRPexyu/2MLjBP6nhsDuovtlEV19Vgb0Ow5r9qEM5q9MYsJLYQdUMZgzt5pzj\n",
              "u55zq1mwAAAAb0Gb4EnhDyZTAj///IQAS5IrAMSGuuQAHEY4K23Zm6qkwV+LFX0jsYcShw/G1c3n\n",
              "BXXOX/0KIQ7BIbyA10/YX1Cm76NiAnXTLfp3CSGSxlCNT+d5zac/CO/5agOUtJLY53hbNlrovZOM\n",
              "pkBlpp84QQAAAI5BmgFJ4Q8mUwI///yEAEsuuWuP0oeNiAACrnJWb/4IZ/GSo9l6NZ/MfgB04f1T\n",
              "tDAPDJjY9BoVEogjyN7TupZmSTTNEmO5KUbK61Z/isUVa5UwIL0QWrCMVhJCEgOq3mwyzYHyt34F\n",
              "y8TxaWhUetaCMesWczd0oKKjR5nqfBboCAIfbt9kus+BhrBJmfhOAAAAckGaIknhDyZTAj///IQA\n",
              "Sw14KfnaeqADYHEYEkzFwt3wNMHo9LEzG0wa+rAwWFW3/WYDub90teL+GBdeNrI+10Lx+es0btd2\n",
              "KFMH0WnqmlrL3S7ayndfexcszEulRTAC1I2iNmFlFFjt5Q/Y7x58euUWJQAAAGVBmkNJ4Q8mUwIR\n",
              "//3hABNZHqUiM9d609UdIZDpH78m5MUm+FteBhlpZAAhvGXE+G1l6G1/pTxwmjqdMhb0IviFWtuF\n",
              "xcYKN9A1P7BhuVTeDp/rSdi0wIWR9ApmT3LNBai29CifcAAAALhBmmdJ4Q8mUwIv//pYAJfBj56U\n",
              "4ALp1QYrVUnilFVf6z7pCTHblkZHHEcwbubvKCGBI/zxHtIfe/6Mbh0FZmH1dgH2DNBcpWqwUQrV\n",
              "F9bz6BsQBci667I+VyqFmi1ow9s0oVKEJnCJNuwRpWwX5pMg6GRB/j44tt6nseSFGk01iR+PIY4t\n",
              "j3tSQwHaMgyBxEDRrIuyE+RJMvGdERv/oGcx95aWySFJ5N0+YyGcAZuxaTUZnHssBzlhAAAAcEGe\n",
              "hUURPG8A2EeNR4H6A2m3yLaoA0fPYAJVCS/V+fAPmXJfdHqQFVAJSOtZX4w08Hq7P+OtJSkdXny1\n",
              "DVVUwGflGjSlO4qO1OC2LYMeHzxLsxeeh+8ZzXv7AKyxIZRHlUPzf8zEuEc0RIp6KL/mxokAAAA6\n",
              "AZ6kdEX/AQRZqhjmpJXZm5Hv/TQ5EnFhntuqQPj1dSmJiUwiTq2Ows7TWxnGspRs0OO0Vb5UoZRW\n",
              "wQAAAE4BnqZqRf8BDe/R8gPd3y1XnDV8ggaMfs4Dmea/UwEGuhuABKIaisk/q5jpKrjucB5HqCkR\n",
              "2edSuvtCHuGgvWHRIe21jEtKtN0ygmHEyCEAAAsdbW9vdgAAAGxtdmhkAAAAAAAAAAAAAAAAAAAD\n",
              "6AAAA+gAAQAAAQAAAAAAAAAAAAAAAAEAAAAAAAAAAAAAAAAAAAABAAAAAAAAAAAAAAAAAABAAAAA\n",
              "AAAAAAAAAAAAAAAAAAAAAAAAAAAAAAAAAAAAAgAACkd0cmFrAAAAXHRraGQAAAADAAAAAAAAAAAA\n",
              "AAABAAAAAAAAA+gAAAAAAAAAAAAAAAAAAAAAAAEAAAAAAAAAAAAAAAAAAAABAAAAAAAAAAAAAAAA\n",
              "AABAAAAAAbAAAAEgAAAAAAAkZWR0cwAAABxlbHN0AAAAAAAAAAEAAAPoAAAAgAABAAAAAAm/bWRp\n",
              "YQAAACBtZGhkAAAAAAAAAAAAAAAAAAAyAAAAMgBVxAAAAAAALWhkbHIAAAAAAAAAAHZpZGUAAAAA\n",
              "AAAAAAAAAABWaWRlb0hhbmRsZXIAAAAJam1pbmYAAAAUdm1oZAAAAAEAAAAAAAAAAAAAACRkaW5m\n",
              "AAAAHGRyZWYAAAAAAAAAAQAAAAx1cmwgAAAAAQAACSpzdGJsAAAAsnN0c2QAAAAAAAAAAQAAAKJh\n",
              "dmMxAAAAAAAAAAEAAAAAAAAAAAAAAAAAAAAAAbABIABIAAAASAAAAAAAAAABAAAAAAAAAAAAAAAA\n",
              "AAAAAAAAAAAAAAAAAAAAAAAAAAAAGP//AAAAMGF2Y0MBZAAf/+EAF2dkAB+s2UGwloQAAAMABAAA\n",
              "BkA8YMZYAQAGaOvjyyLAAAAAHHV1aWRraEDyXyRPxbo5pRvPAyPzAAAAAAAAABhzdHRzAAAAAAAA\n",
              "AAEAAADIAAAAQAAAABRzdHNzAAAAAAAAAAEAAAABAAAE4GN0dHMAAAAAAAAAmgAAAAMAAACAAAAA\n",
              "AQAAAMAAAAABAAAAQAAAAAEAAADAAAAAAQAAAEAAAAAGAAAAgAAAAAEAAAEAAAAAAgAAAEAAAAAC\n",
              "AAAAgAAAAAEAAAEAAAAAAgAAAEAAAAABAAAAwAAAAAEAAABAAAAAAQAAAIAAAAABAAAAwAAAAAEA\n",
              "AABAAAAAAQAAAIAAAAABAAABQAAAAAEAAACAAAAAAQAAAAAAAAABAAAAQAAAAAIAAACAAAAAAQAA\n",
              "AMAAAAABAAAAQAAAAAQAAACAAAAAAQAAAMAAAAABAAAAQAAAAAEAAACAAAAAAQAAAMAAAAABAAAA\n",
              "QAAAAAEAAAFAAAAAAQAAAIAAAAABAAAAAAAAAAEAAABAAAAAAQAAAMAAAAABAAAAQAAAAAEAAACA\n",
              "AAAAAQAAAQAAAAACAAAAQAAAAAQAAACAAAAAAQAAAMAAAAABAAAAQAAAAAEAAADAAAAAAQAAAEAA\n",
              "AAABAAAAwAAAAAEAAABAAAAAAQAAAMAAAAABAAAAQAAAAAYAAACAAAAAAQAAAMAAAAABAAAAQAAA\n",
              "AAEAAADAAAAAAQAAAEAAAAABAAAAwAAAAAEAAABAAAAAAQAAAIAAAAABAAAAwAAAAAEAAABAAAAA\n",
              "AQAAAMAAAAABAAAAQAAAAAMAAACAAAAAAQAAAMAAAAABAAAAQAAAAAIAAACAAAAAAQAAAMAAAAAB\n",
              "AAAAQAAAAAEAAACAAAAAAQAAAMAAAAABAAAAQAAAAAEAAADAAAAAAQAAAEAAAAABAAABQAAAAAEA\n",
              "AACAAAAAAQAAAAAAAAABAAAAQAAAAAEAAADAAAAAAQAAAEAAAAABAAAAwAAAAAEAAABAAAAAAQAA\n",
              "AMAAAAABAAAAQAAAAAEAAADAAAAAAQAAAEAAAAABAAAAwAAAAAEAAABAAAAAAQAAAUAAAAABAAAA\n",
              "gAAAAAEAAAAAAAAAAQAAAEAAAAABAAAAwAAAAAEAAABAAAAAAQAAAMAAAAABAAAAQAAAAAEAAADA\n",
              "AAAAAQAAAEAAAAABAAAAwAAAAAEAAABAAAAAAQAAAMAAAAABAAAAQAAAAAEAAAEAAAAAAgAAAEAA\n",
              "AAABAAAAwAAAAAEAAABAAAAAAQAAAMAAAAABAAAAQAAAAAEAAAEAAAAAAgAAAEAAAAABAAAAwAAA\n",
              "AAEAAABAAAAAAQAAAMAAAAABAAAAQAAAAAEAAACAAAAAAQAAAMAAAAABAAAAQAAAAAEAAAEAAAAA\n",
              "AgAAAEAAAAABAAAAwAAAAAEAAABAAAAAAQAAAUAAAAABAAAAgAAAAAEAAAAAAAAAAQAAAEAAAAAB\n",
              "AAAAwAAAAAEAAABAAAAACQAAAIAAAAABAAAAwAAAAAEAAABAAAAAAQAAAMAAAAABAAAAQAAAAAIA\n",
              "AACAAAAAAQAAAMAAAAABAAAAQAAAAAEAAAEAAAAAAgAAAEAAAAABAAAAwAAAAAEAAABAAAAAAQAA\n",
              "AQAAAAACAAAAQAAAAAEAAADAAAAAAQAAAEAAAAABAAAAwAAAAAEAAABAAAAAAQAAAMAAAAABAAAA\n",
              "QAAAAAEAAADAAAAAAQAAAEAAAAABAAAAgAAAAAEAAADAAAAAAQAAAEAAAAAHAAAAgAAAAAEAAAFA\n",
              "AAAAAQAAAIAAAAABAAAAAAAAAAEAAABAAAAAHHN0c2MAAAAAAAAAAQAAAAEAAADIAAAAAQAAAzRz\n",
              "dHN6AAAAAAAAAAAAAADIAAAL1wAAAbUAAADJAAAAsgAAAE8AAAC0AAAATgAAAKwAAACYAAAAoAAA\n",
              "AIEAAACQAAAAqQAAAU8AAABbAAAATQAAAJsAAADCAAABFgAAAEwAAAA7AAAA+AAAAEEAAADMAAAA\n",
              "8QAAAEkAAADIAAABVwAAAGgAAABOAAAAOwAAAJkAAACfAAAA+QAAAFcAAADXAAAAxgAAAJUAAACJ\n",
              "AAAArQAAAE8AAACbAAAA0gAAAEYAAAEjAAAAZgAAAEwAAABMAAAA1AAAAEUAAADAAAABDwAAAE8A\n",
              "AABNAAAAegAAAJIAAACuAAAAlQAAANUAAAA9AAAAqAAAAEIAAADFAAAARQAAAPYAAABHAAAAogAA\n",
              "AHkAAACFAAAAkQAAAHAAAACWAAABBgAAAEUAAADzAAAATgAAANYAAABDAAAAwQAAAMwAAABKAAAA\n",
              "pAAAADoAAAC2AAAAiwAAAMcAAADkAAAAQgAAAIYAAABxAAAAvgAAADsAAAB9AAAA2AAAAEQAAADN\n",
              "AAAAPgAAALQAAACEAAAAQwAAADwAAADxAAAASAAAAMgAAABCAAAArgAAAD4AAADOAAAARAAAAMgA\n",
              "AABFAAABRQAAAGkAAAA2AAAARwAAANIAAABHAAAAxwAAAEYAAADGAAAASQAAANkAAABDAAABAAAA\n",
              "AEEAAAFBAAAATQAAAEIAAADeAAAAPwAAAMEAAABFAAABKAAAAF0AAABLAAABIwAAAEIAAADsAAAA\n",
              "TAAAAIkAAADXAAAAQQAAARMAAABMAAAARAAAAKQAAABOAAAAzAAAAFEAAABKAAAAOQAAANYAAABL\n",
              "AAAAjwAAAIQAAAB/AAAAhwAAAIIAAAB1AAAAkgAAAIUAAAByAAABAgAAAEQAAADPAAAATgAAAIEA\n",
              "AACFAAAA2AAAADwAAAEcAAAAXwAAAEMAAADlAAAASwAAAUEAAABVAAAAVwAAANYAAAA+AAAA0gAA\n",
              "AD8AAADmAAAASgAAAQMAAAA+AAAAqQAAAN8AAABCAAAAfgAAAIMAAABrAAAAcwAAAJIAAAB2AAAA\n",
              "aQAAALwAAAB0AAAAPgAAAFIAAAAUc3RjbwAAAAAAAAABAAAALAAAAGJ1ZHRhAAAAWm1ldGEAAAAA\n",
              "AAAAIWhkbHIAAAAAAAAAAG1kaXJhcHBsAAAAAAAAAAAAAAAALWlsc3QAAAAlqXRvbwAAAB1kYXRh\n",
              "AAAAAQAAAABMYXZmNTcuODMuMTAw\n",
              "\">\n",
              "  Your browser does not support the video tag.\n",
              "</video>"
            ],
            "text/plain": [
              "<IPython.core.display.HTML object>"
            ]
          },
          "metadata": {
            "tags": []
          },
          "execution_count": 45
        }
      ]
    }
  ]
}