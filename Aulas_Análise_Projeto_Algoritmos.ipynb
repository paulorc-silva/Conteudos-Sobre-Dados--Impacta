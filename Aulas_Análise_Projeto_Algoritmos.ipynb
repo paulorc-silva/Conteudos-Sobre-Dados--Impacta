{
  "nbformat": 4,
  "nbformat_minor": 0,
  "metadata": {
    "colab": {
      "provenance": [],
      "collapsed_sections": [
        "ij1gU0pZDMFy",
        "ErttLya6H90p",
        "mc3eLzKHIyw1",
        "jhvnYZe3dBFB",
        "HlEIjlsgdG4o",
        "_XpfXcI1IzMV",
        "UUf0KHNkdSfE",
        "-FrY9NXzUfld",
        "6R6nXTHMV9ZB",
        "luCDriVPWcq6",
        "ryfFC2wuUrdc",
        "B00dtasfVwdx",
        "-1M4eYmCVwJR",
        "QM467I-qVv0U",
        "svRsEJpYWXkr",
        "2i6ApYRdWXkw",
        "iPjKPtyVWXk2",
        "kFfF1X5AWXk4",
        "grv_urIJgDOs",
        "k5as9h6LZpqG",
        "bZjDa-ixWGNF",
        "M-GewPS2dQ65",
        "iWNpA0s5dhu6",
        "vxisX4kvsSUn",
        "bja5vS1alPLg",
        "HKj_eNKLvaZW",
        "mekoPMafwrTe",
        "BpTN0f6mNmhQ",
        "ezaVJfHqNyHI",
        "liv8x8j0N2ni",
        "NGtL7feXN3Sh",
        "gVGSqh7PFNnk",
        "MUcxoQFjFbiL",
        "30T5DplY5n_y",
        "D1MzAzTSFi_E",
        "MUiR4atKCMQP",
        "3E-KgKfGCTvv",
        "1CaZhxu6CqMu",
        "Aj8UZXzghlre"
      ],
      "include_colab_link": true
    },
    "kernelspec": {
      "name": "python3",
      "display_name": "Python 3"
    },
    "language_info": {
      "name": "python"
    }
  },
  "cells": [
    {
      "cell_type": "markdown",
      "metadata": {
        "id": "view-in-github",
        "colab_type": "text"
      },
      "source": [
        "<a href=\"https://colab.research.google.com/github/paulorc-silva/Conteudos-Sobre-Dados--Impacta/blob/master/Aulas_An%C3%A1lise_Projeto_Algoritmos.ipynb\" target=\"_parent\"><img src=\"https://colab.research.google.com/assets/colab-badge.svg\" alt=\"Open In Colab\"/></a>"
      ]
    },
    {
      "cell_type": "markdown",
      "metadata": {
        "id": "ij1gU0pZDMFy"
      },
      "source": [
        "# Aula 01 - Introdução à análise e projeto de algoritmos"
      ]
    },
    {
      "cell_type": "markdown",
      "metadata": {
        "id": "zfuWVrEtMq1A"
      },
      "source": [
        "###### Nessa aula não foi apresentado nenhum conceito que pudesse ser aplicado ao Google Colab. Foi dado apenas a teoria."
      ]
    },
    {
      "cell_type": "markdown",
      "metadata": {
        "id": "ErttLya6H90p"
      },
      "source": [
        "# Aula 02 - Tipos de algoritmos"
      ]
    },
    {
      "cell_type": "markdown",
      "metadata": {
        "id": "mc3eLzKHIyw1"
      },
      "source": [
        "##1. Algoritmos Iterativos"
      ]
    },
    {
      "cell_type": "markdown",
      "metadata": {
        "id": "HDM1aLzScDAY"
      },
      "source": [
        "### _Quando nosso algoritmo manipula um conjunto de valores, ou variáveis, podemos acessar cada um desses valores com laços, dando origem a algoritmos iterativos._\n",
        "\n",
        "### _Em geral, os algoritmos iterativos são mais simples de implementar e utilizam menos memória para executar._"
      ]
    },
    {
      "cell_type": "markdown",
      "metadata": {
        "id": "jhvnYZe3dBFB"
      },
      "source": [
        "###1.1 - Fatorial"
      ]
    },
    {
      "cell_type": "code",
      "metadata": {
        "colab": {
          "base_uri": "https://localhost:8080/"
        },
        "id": "2xeXmfGtdNK4",
        "outputId": "62bc6473-8b6b-427a-c0cd-be18e9bf33c4"
      },
      "source": [
        "def fatorial_iterativo(n):\n",
        "    resultado = 1\n",
        "\n",
        "    if(n == 0):\n",
        "        return 1\n",
        "\n",
        "    for i in range(1, (n + 1), 1):\n",
        "        resultado *= i\n",
        "\n",
        "    return resultado\n",
        "\n",
        "\n",
        "print(fatorial_iterativo(0))\n",
        "print(fatorial_iterativo(1))\n",
        "print(fatorial_iterativo(2))\n",
        "print(fatorial_iterativo(3))\n",
        "print(fatorial_iterativo(4))\n",
        "print(fatorial_iterativo(5))"
      ],
      "execution_count": null,
      "outputs": [
        {
          "output_type": "stream",
          "name": "stdout",
          "text": [
            "1\n",
            "1\n",
            "2\n",
            "6\n",
            "24\n",
            "120\n"
          ]
        }
      ]
    },
    {
      "cell_type": "markdown",
      "metadata": {
        "id": "HlEIjlsgdG4o"
      },
      "source": [
        "###1.2 - Fibonacci"
      ]
    },
    {
      "cell_type": "code",
      "metadata": {
        "colab": {
          "base_uri": "https://localhost:8080/"
        },
        "id": "t5k5e2rGdNv3",
        "outputId": "15f6a2dd-d45d-4c0c-ccbd-021404033d1e"
      },
      "source": [
        "def fibonacci_iterativo(n):\n",
        "    pv = 0\n",
        "    uv = 1\n",
        "    atual = pv + uv\n",
        "\n",
        "    if(n == 0):\n",
        "        return 0\n",
        "\n",
        "    for i in range(1, n, 1):\n",
        "        atual = pv + uv\n",
        "        pv = uv\n",
        "        uv = atual\n",
        "\n",
        "    return atual\n",
        "\n",
        "\n",
        "print(fibonacci_iterativo(0))\n",
        "print(fibonacci_iterativo(1))\n",
        "print(fibonacci_iterativo(2))\n",
        "print(fibonacci_iterativo(3))\n",
        "print(fibonacci_iterativo(4))\n",
        "print(fibonacci_iterativo(5))"
      ],
      "execution_count": null,
      "outputs": [
        {
          "output_type": "stream",
          "name": "stdout",
          "text": [
            "0\n",
            "1\n",
            "1\n",
            "2\n",
            "3\n",
            "5\n"
          ]
        }
      ]
    },
    {
      "cell_type": "markdown",
      "metadata": {
        "id": "_XpfXcI1IzMV"
      },
      "source": [
        "##2. Algoritmos Recursivos"
      ]
    },
    {
      "cell_type": "markdown",
      "metadata": {
        "id": "jrDjm7r9dP9v"
      },
      "source": [
        "### _Em programação, a recursividade é um mecanismo útil e poderoso que permite a uma função chamar a si mesma direta ou indiretamente, ou seja, uma função é dita recursiva se ela contém pelo menos uma chamada explícita ou implícita a si própria._\n",
        "\n",
        "### _A idéia básica de um algoritmo recursivo consiste em diminuir sucessivamente o problema em um problema menor ou mais simples, até que o tamanho ou a simplicidade do problema reduzido permita resolvê-lo de forma direta, sem recorrer a si mesmo. Quando isso ocorre, diz-se que o algoritmo atingiu uma condição de parada, a qual deve estar presente em pelo menos um local dentro algoritmo. Sem esta condição o algoritmo não para de chamar a si mesmo, até estourar a capacidade da pilha, o que geralmente causa efeitos colaterais e até mesmo o término indesejável do programa._\n"
      ]
    },
    {
      "cell_type": "markdown",
      "metadata": {
        "id": "UUf0KHNkdSfE"
      },
      "source": [
        "###2.1 - Fatorial"
      ]
    },
    {
      "cell_type": "code",
      "metadata": {
        "colab": {
          "base_uri": "https://localhost:8080/"
        },
        "id": "7LR6Gy1Bdh3v",
        "outputId": "e4e016d7-52e0-41b1-e1bd-561e26a0f27f"
      },
      "source": [
        "def fatorial_recursivo(n):\n",
        "    if((n == 0) or (n == 1)):\n",
        "        return 1\n",
        "\n",
        "    else:\n",
        "        return n * fatorial_recursivo(n - 1)\n",
        "\n",
        "\n",
        "print(fatorial_recursivo(0))\n",
        "print(fatorial_recursivo(1))\n",
        "print(fatorial_recursivo(2))\n",
        "print(fatorial_recursivo(3))\n",
        "print(fatorial_recursivo(4))\n",
        "print(fatorial_recursivo(5))"
      ],
      "execution_count": null,
      "outputs": [
        {
          "output_type": "stream",
          "name": "stdout",
          "text": [
            "1\n",
            "1\n",
            "2\n",
            "6\n",
            "24\n",
            "120\n"
          ]
        }
      ]
    },
    {
      "cell_type": "markdown",
      "metadata": {
        "id": "WtdSWuLIdfaH"
      },
      "source": [
        "###2.2 - Fibonacci"
      ]
    },
    {
      "cell_type": "code",
      "metadata": {
        "colab": {
          "base_uri": "https://localhost:8080/"
        },
        "id": "cpNpTzTYdijY",
        "outputId": "13d22049-b477-4159-ea82-60699e5224b9"
      },
      "source": [
        "def fibonacci_recursivo(n):\n",
        "    if(n == 0):\n",
        "        return 0\n",
        "\n",
        "    elif(n == 1):\n",
        "        return 1\n",
        "\n",
        "    else:\n",
        "        return fibonacci_recursivo(n - 1) + fibonacci_recursivo(n - 2)\n",
        "\n",
        "\n",
        "print(fibonacci_recursivo(0))\n",
        "print(fibonacci_recursivo(1))\n",
        "print(fibonacci_recursivo(2))\n",
        "print(fibonacci_recursivo(3))\n",
        "print(fibonacci_recursivo(4))\n",
        "print(fibonacci_recursivo(5))"
      ],
      "execution_count": null,
      "outputs": [
        {
          "output_type": "stream",
          "name": "stdout",
          "text": [
            "0\n",
            "1\n",
            "1\n",
            "2\n",
            "3\n",
            "5\n"
          ]
        }
      ]
    },
    {
      "cell_type": "markdown",
      "metadata": {
        "id": "-FrY9NXzUfld"
      },
      "source": [
        "# Aula 03 - Algoritmos de busca"
      ]
    },
    {
      "cell_type": "markdown",
      "metadata": {
        "id": "6R6nXTHMV9ZB"
      },
      "source": [
        "##1. Busca Linear"
      ]
    },
    {
      "cell_type": "markdown",
      "metadata": {
        "id": "7IjoAZOXeOpb"
      },
      "source": [
        "### _O algoritmo de busca linear, ou busca sequencial, assume que os elementos estão organizados em uma sequência, como uma lista, sem um padrão prévio._\n",
        "\n",
        "### _A ideia da busca linear é procurar pelo elemento desejado em cada posição da lista de elementos e retornar sua posição caso encontre o elemento desejado._"
      ]
    },
    {
      "cell_type": "code",
      "metadata": {
        "colab": {
          "base_uri": "https://localhost:8080/"
        },
        "id": "W-zcHXNQkOSt",
        "outputId": "22dc29c0-d756-4ada-b41c-899f995e0aa2"
      },
      "source": [
        "def linear_search(input_list, number):\n",
        "    for i in range(0, len(input_list), 1):\n",
        "        if(input_list[i] == number):\n",
        "            return i\n",
        "\n",
        "    else:\n",
        "        return 'O número pesquisado não está presente na lista'\n",
        "\n",
        "\n",
        "input_list = [3, 12, 4, 1, 15, 7, 5, 2, 6, 9, 10, 8, 13, 11, 16, 14]\n",
        "print(linear_search(input_list, 2))\n",
        "print(linear_search(input_list, 4))\n",
        "print(linear_search(input_list, 8))\n",
        "print(linear_search(input_list, 20))"
      ],
      "execution_count": null,
      "outputs": [
        {
          "output_type": "stream",
          "name": "stdout",
          "text": [
            "7\n",
            "2\n",
            "11\n",
            "O número pesquisado não está presente na lista\n"
          ]
        }
      ]
    },
    {
      "cell_type": "markdown",
      "metadata": {
        "id": "luCDriVPWcq6"
      },
      "source": [
        "##2. Busca Binária"
      ]
    },
    {
      "cell_type": "markdown",
      "metadata": {
        "id": "AmRQFLR7exap"
      },
      "source": [
        "### _O algoritmo de busca binária assume que os elementos estão organizados em uma sequência, como uma lista, previamente ordenados._\n",
        "\n",
        "### _A ideia da busca binária é procurar pelo elemento desejado explorando a ordenação para reduzir a quantidade de comparações._\n"
      ]
    },
    {
      "cell_type": "code",
      "metadata": {
        "colab": {
          "base_uri": "https://localhost:8080/"
        },
        "id": "_3jBSGNI7mXx",
        "outputId": "39422afb-2764-4aa0-eb6e-056474bce25d"
      },
      "source": [
        "def binary_search(input_list, number):\n",
        "    left = 0\n",
        "    right = len(input_list) - 1\n",
        "\n",
        "    while (left <= right):\n",
        "        middle = (left + right) // 2\n",
        "\n",
        "        if(input_list[middle] == number):\n",
        "            return middle\n",
        "\n",
        "        elif(input_list[middle] > number):\n",
        "                right = middle - 1\n",
        "\n",
        "        else:\n",
        "            left = middle + 1\n",
        "\n",
        "    else:\n",
        "        return 'O número pesquisado não está presente na lista'\n",
        "\n",
        "\n",
        "input_list = [3, 12, 4, 1, 15, 7, 5, 2, 6, 9, 10, 8, 13, 11, 16, 14]\n",
        "print(binary_search(sorted(input_list), 8))\n",
        "print(binary_search(sorted(input_list), 4))\n",
        "print(binary_search(sorted(input_list), 14))\n",
        "print(binary_search(sorted(input_list), 20))"
      ],
      "execution_count": null,
      "outputs": [
        {
          "output_type": "stream",
          "name": "stdout",
          "text": [
            "7\n",
            "3\n",
            "13\n",
            "O número pesquisado não está presente na lista\n"
          ]
        }
      ]
    },
    {
      "cell_type": "markdown",
      "metadata": {
        "id": "ryfFC2wuUrdc"
      },
      "source": [
        "# Aula 04 - Algoritmos de ordenação - Parte 1"
      ]
    },
    {
      "cell_type": "markdown",
      "metadata": {
        "id": "B00dtasfVwdx"
      },
      "source": [
        "##1. Insertion Sort"
      ]
    },
    {
      "cell_type": "markdown",
      "metadata": {
        "id": "EYepIuozWO0R"
      },
      "source": [
        "### <h3 align=\"center\">**_Complexidade do Algoritmo_**</h3>\n",
        "\n",
        "#### <h4 align=\"center\">_Melhor caso: ${\\Omega}(n)$_</h4>\n",
        "\n",
        "#### <h4 align=\"center\">_Caso médio: ${\\theta}(n^2)$_</h4>\n",
        "\n",
        "#### <h4 align=\"center\">_Pior caso: $O(n^2)$_</h4>"
      ]
    },
    {
      "cell_type": "code",
      "metadata": {
        "id": "kbkqKGrAWOiS",
        "colab": {
          "base_uri": "https://localhost:8080/"
        },
        "outputId": "7f32eac2-c4b8-49a0-dc09-7ba64b11953d"
      },
      "source": [
        "def insertion_sort(input_list):\n",
        "    for i in range(0, len(input_list), 1):\n",
        "        number = input_list[i]\n",
        "        j = i - 1\n",
        "\n",
        "        while((j >= 0) and (number < input_list[j])):\n",
        "            input_list[j+1] = input_list[j]\n",
        "            j = j - 1\n",
        "\n",
        "        input_list[j+1] = number\n",
        "\n",
        "    return input_list\n",
        "\n",
        "\n",
        "input_list_1 = [3, 12, 4, 1, 15, 7, 5, 2, 6, 9, 10, 8, 13, 11, 16, 14]\n",
        "input_list_2 = [25, -10, 2, -7, 16, -4, 0, -2, -1, 7, 9, 17, 12, 13, 20, -8]\n",
        "input_list_3 = [29, 21, 18, 25, 16, 23, 30, 26, 19, 24, 17, 31, 22, 20, 28, 27]\n",
        "print('Lista 1 não ordenada:', input_list_1)\n",
        "print('Lista 2 não ordenada:', input_list_2)\n",
        "print('Lista 3 não ordenada:', input_list_3)\n",
        "print('')\n",
        "print('Lista 1 ordenada:', insertion_sort(input_list_1))\n",
        "print('Lista 2 ordenada:', insertion_sort(input_list_2))\n",
        "print('Lista 3 ordenada:', insertion_sort(input_list_3))"
      ],
      "execution_count": null,
      "outputs": [
        {
          "output_type": "stream",
          "name": "stdout",
          "text": [
            "Lista 1 não ordenada: [3, 12, 4, 1, 15, 7, 5, 2, 6, 9, 10, 8, 13, 11, 16, 14]\n",
            "Lista 2 não ordenada: [25, -10, 2, -7, 16, -4, 0, -2, -1, 7, 9, 17, 12, 13, 20, -8]\n",
            "Lista 3 não ordenada: [29, 21, 18, 25, 16, 23, 30, 26, 19, 24, 17, 31, 22, 20, 28, 27]\n",
            "\n",
            "Lista 1 ordenada: [1, 2, 3, 4, 5, 6, 7, 8, 9, 10, 11, 12, 13, 14, 15, 16]\n",
            "Lista 2 ordenada: [-10, -8, -7, -4, -2, -1, 0, 2, 7, 9, 12, 13, 16, 17, 20, 25]\n",
            "Lista 3 ordenada: [16, 17, 18, 19, 20, 21, 22, 23, 24, 25, 26, 27, 28, 29, 30, 31]\n"
          ]
        }
      ]
    },
    {
      "cell_type": "markdown",
      "metadata": {
        "id": "-1M4eYmCVwJR"
      },
      "source": [
        "##2. Selection Sort"
      ]
    },
    {
      "cell_type": "markdown",
      "metadata": {
        "id": "ES_8L12WWRTp"
      },
      "source": [
        "### <h3 align=\"center\">**_Complexidade do Algoritmo_**</h3>\n",
        "\n",
        "#### <h4 align=\"center\">_Melhor caso: ${\\Omega}(n^2)$_</h4>\n",
        "\n",
        "#### <h4 align=\"center\">_Caso médio: ${\\theta}(n^2)$_</h4>\n",
        "\n",
        "#### <h4 align=\"center\">_Pior caso: $O(n^2)$_</h4>"
      ]
    },
    {
      "cell_type": "code",
      "metadata": {
        "id": "EbB45swGWPta",
        "colab": {
          "base_uri": "https://localhost:8080/"
        },
        "outputId": "fb720c6d-1891-437f-d85e-643cc38fd7b3"
      },
      "source": [
        "def selection_sort(input_list):\n",
        "    for i in range(0, len(input_list), 1):\n",
        "        smaller = i\n",
        "\n",
        "        for j in range((i+1), len(input_list), 1):\n",
        "            if(input_list[j] < input_list[smaller]):\n",
        "                smaller = j\n",
        "\n",
        "        if(i != smaller):\n",
        "            input_list[i], input_list[smaller] = input_list[smaller], input_list[i]\n",
        "\n",
        "    return input_list\n",
        "\n",
        "\n",
        "input_list_1 = [3, 12, 4, 1, 15, 7, 5, 2, 6, 9, 10, 8, 13, 11, 16, 14]\n",
        "input_list_2 = [25, -10, 2, -7, 16, -4, 0, -2, -1, 7, 9, 17, 12, 13, 20, -8]\n",
        "input_list_3 = [29, 21, 18, 25, 16, 23, 30, 26, 19, 24, 17, 31, 22, 20, 28, 27]\n",
        "print('Lista 1 não ordenada:', input_list_1)\n",
        "print('Lista 2 não ordenada:', input_list_2)\n",
        "print('Lista 3 não ordenada:', input_list_3)\n",
        "print('')\n",
        "print('Lista 1 ordenada:', selection_sort(input_list_1))\n",
        "print('Lista 2 ordenada:', selection_sort(input_list_2))\n",
        "print('Lista 3 ordenada:', selection_sort(input_list_3))"
      ],
      "execution_count": null,
      "outputs": [
        {
          "output_type": "stream",
          "name": "stdout",
          "text": [
            "Lista 1 não ordenada: [3, 12, 4, 1, 15, 7, 5, 2, 6, 9, 10, 8, 13, 11, 16, 14]\n",
            "Lista 2 não ordenada: [25, -10, 2, -7, 16, -4, 0, -2, -1, 7, 9, 17, 12, 13, 20, -8]\n",
            "Lista 3 não ordenada: [29, 21, 18, 25, 16, 23, 30, 26, 19, 24, 17, 31, 22, 20, 28, 27]\n",
            "\n",
            "Lista 1 ordenada: [1, 2, 3, 4, 5, 6, 7, 8, 9, 10, 11, 12, 13, 14, 15, 16]\n",
            "Lista 2 ordenada: [-10, -8, -7, -4, -2, -1, 0, 2, 7, 9, 12, 13, 16, 17, 20, 25]\n",
            "Lista 3 ordenada: [16, 17, 18, 19, 20, 21, 22, 23, 24, 25, 26, 27, 28, 29, 30, 31]\n"
          ]
        }
      ]
    },
    {
      "cell_type": "markdown",
      "metadata": {
        "id": "QM467I-qVv0U"
      },
      "source": [
        "##3. Bubble Sort"
      ]
    },
    {
      "cell_type": "markdown",
      "metadata": {
        "id": "PtNeQTE0WSk8"
      },
      "source": [
        "### <h3 align=\"center\">**_Complexidade do Algoritmo_**</h3>\n",
        "\n",
        "#### <h4 align=\"center\">_Melhor caso: ${\\Omega}(n)$_</h4>\n",
        "\n",
        "#### <h4 align=\"center\">_Caso médio: ${\\theta}(n^2)$_</h4>\n",
        "\n",
        "#### <h4 align=\"center\">_Pior caso: $O(n^2)$_</h4>\n"
      ]
    },
    {
      "cell_type": "code",
      "metadata": {
        "id": "l9XbEdyPWSui",
        "colab": {
          "base_uri": "https://localhost:8080/"
        },
        "outputId": "bb8a32a6-c801-4cb8-f49b-d2aa5c3cafd8"
      },
      "source": [
        "def bubble_sort(input_list):\n",
        "    for i in range(len(input_list), 1, -1):\n",
        "        for j in range(1, i, 1):\n",
        "            if(input_list[j-1] > input_list[j]):\n",
        "                input_list[j], input_list[j-1] = input_list[j-1], input_list[j]\n",
        "\n",
        "    return input_list\n",
        "\n",
        "\n",
        "input_list_1 = [3, 12, 4, 1, 15, 7, 5, 2, 6, 9, 10, 8, 13, 11, 16, 14]\n",
        "input_list_2 = [25, -10, 2, -7, 16, -4, 0, -2, -1, 7, 9, 17, 12, 13, 20, -8]\n",
        "input_list_3 = [29, 21, 18, 25, 16, 23, 30, 26, 19, 24, 17, 31, 22, 20, 28, 27]\n",
        "print('Lista 1 não ordenada:', input_list_1)\n",
        "print('Lista 2 não ordenada:', input_list_2)\n",
        "print('Lista 3 não ordenada:', input_list_3)\n",
        "print('')\n",
        "print('Lista 1 ordenada:', bubble_sort(input_list_1))\n",
        "print('Lista 2 ordenada:', bubble_sort(input_list_2))\n",
        "print('Lista 3 ordenada:', bubble_sort(input_list_3))"
      ],
      "execution_count": null,
      "outputs": [
        {
          "output_type": "stream",
          "name": "stdout",
          "text": [
            "Lista 1 não ordenada: [3, 12, 4, 1, 15, 7, 5, 2, 6, 9, 10, 8, 13, 11, 16, 14]\n",
            "Lista 2 não ordenada: [25, -10, 2, -7, 16, -4, 0, -2, -1, 7, 9, 17, 12, 13, 20, -8]\n",
            "Lista 3 não ordenada: [29, 21, 18, 25, 16, 23, 30, 26, 19, 24, 17, 31, 22, 20, 28, 27]\n",
            "\n",
            "Lista 1 ordenada: [1, 2, 3, 4, 5, 6, 7, 8, 9, 10, 11, 12, 13, 14, 15, 16]\n",
            "Lista 2 ordenada: [-10, -8, -7, -4, -2, -1, 0, 2, 7, 9, 12, 13, 16, 17, 20, 25]\n",
            "Lista 3 ordenada: [16, 17, 18, 19, 20, 21, 22, 23, 24, 25, 26, 27, 28, 29, 30, 31]\n"
          ]
        }
      ]
    },
    {
      "cell_type": "markdown",
      "metadata": {
        "id": "svRsEJpYWXkr"
      },
      "source": [
        "# Aula 05 - Algoritmos de ordenação - Parte 2"
      ]
    },
    {
      "cell_type": "markdown",
      "metadata": {
        "id": "2i6ApYRdWXkw"
      },
      "source": [
        "##1. Merge Sort"
      ]
    },
    {
      "cell_type": "markdown",
      "metadata": {
        "id": "VlNjPnTvWXkx"
      },
      "source": [
        "### <h3 align=\"center\">**_Complexidade do Algoritmo_**</h3>\n",
        "\n",
        "#### <h4 align=\"center\">_Melhor caso: ${\\Omega}(n$ $log(n))$_</h4>\n",
        "\n",
        "#### <h4 align=\"center\">_Caso médio: ${\\theta}(n$ $log(n))$_</h4>\n",
        "\n",
        "#### <h4 align=\"center\">_Pior caso: $O(n$ $log(n))$_</h4>"
      ]
    },
    {
      "cell_type": "code",
      "metadata": {
        "colab": {
          "base_uri": "https://localhost:8080/"
        },
        "id": "gYOnTZFwWXkz",
        "outputId": "bc806268-7e23-4bf2-edee-41b7cb494f96"
      },
      "source": [
        "def merge_sort(input_list):\n",
        "    if(len(input_list) < 2):\n",
        "        return input_list\n",
        "\n",
        "    left_half = merge_sort(input_list[:len(input_list)//2])\n",
        "    right_half = merge_sort(input_list[len(input_list)//2:])\n",
        "\n",
        "    return merge(left_half, right_half)\n",
        "\n",
        "\n",
        "def merge(left, right):\n",
        "    output_list = []\n",
        "\n",
        "    # Enquanto as listas possuirem elementos, o código será executado\n",
        "    while((left) or (right)):\n",
        "\n",
        "        # Verifica se as duas listas possuem elementos\n",
        "        if(len(left) and len(right)):\n",
        "            if(left[0] < right[0]):\n",
        "                output_list.append(left.pop(0))\n",
        "\n",
        "            else:\n",
        "                output_list.append(right.pop(0))\n",
        "\n",
        "        # Verifica se a lista da esquerda (menores valores) está vazia\n",
        "        if(not len(left)):\n",
        "            if(len(right)):\n",
        "                output_list.append(right.pop(0))\n",
        "\n",
        "        # Verifica se a lista da direita (maiores valores) está vazia\n",
        "        if(not len(right)):\n",
        "            if(len(left)):\n",
        "                output_list.append(left.pop(0))\n",
        "\n",
        "    return output_list\n",
        "\n",
        "\n",
        "input_list_1 = [3, 12, 4, 1, 15, 7, 5, 2, 6, 9, 10, 8, 13, 11, 16, 14]\n",
        "input_list_2 = [25, -10, 2, -7, 16, -4, 0, -2, -1, 7, 9, 17, 12, 13, 20, -8]\n",
        "input_list_3 = [29, 21, 18, 25, 16, 23, 30, 26, 19, 24, 17, 31, 22, 20, 28, 27]\n",
        "print('Lista 1 não ordenada:', input_list_1)\n",
        "print('Lista 2 não ordenada:', input_list_2)\n",
        "print('Lista 3 não ordenada:', input_list_3)\n",
        "print('')\n",
        "print('Lista 1 ordenada:', merge_sort(input_list_1))\n",
        "print('Lista 2 ordenada:', merge_sort(input_list_2))\n",
        "print('Lista 3 ordenada:', merge_sort(input_list_3))"
      ],
      "execution_count": null,
      "outputs": [
        {
          "output_type": "stream",
          "name": "stdout",
          "text": [
            "Lista 1 não ordenada: [3, 12, 4, 1, 15, 7, 5, 2, 6, 9, 10, 8, 13, 11, 16, 14]\n",
            "Lista 2 não ordenada: [25, -10, 2, -7, 16, -4, 0, -2, -1, 7, 9, 17, 12, 13, 20, -8]\n",
            "Lista 3 não ordenada: [29, 21, 18, 25, 16, 23, 30, 26, 19, 24, 17, 31, 22, 20, 28, 27]\n",
            "\n",
            "Lista 1 ordenada: [1, 2, 3, 4, 5, 6, 7, 8, 9, 10, 11, 12, 13, 14, 15, 16]\n",
            "Lista 2 ordenada: [-10, -8, -7, -4, -2, -1, 0, 2, 7, 9, 12, 13, 16, 17, 20, 25]\n",
            "Lista 3 ordenada: [16, 17, 18, 19, 20, 21, 22, 23, 24, 25, 26, 27, 28, 29, 30, 31]\n"
          ]
        }
      ]
    },
    {
      "cell_type": "markdown",
      "metadata": {
        "id": "iPjKPtyVWXk2"
      },
      "source": [
        "##2. Quick Sort"
      ]
    },
    {
      "cell_type": "markdown",
      "metadata": {
        "id": "UbPVJfeFWXk2"
      },
      "source": [
        "### <h3 align=\"center\">**_Complexidade do Algoritmo_**</h3>\n",
        "\n",
        "#### <h4 align=\"center\">_Melhor caso: ${\\Omega}(n$ $log(n))$_</h4>\n",
        "\n",
        "#### <h4 align=\"center\">_Caso médio: ${\\theta}(n$ $log(n))$_</h4>\n",
        "\n",
        "#### <h4 align=\"center\">_Pior caso: $O(n^2)$_</h4>"
      ]
    },
    {
      "cell_type": "code",
      "metadata": {
        "colab": {
          "base_uri": "https://localhost:8080/"
        },
        "id": "fyPZ_A0hWXk3",
        "outputId": "4b6d85fa-e0e1-4a28-b4a0-6716ee88572d"
      },
      "source": [
        "def quick_sort(input_list, left, right):\n",
        "    if(right > left):\n",
        "        split = partition(input_list, left, right)\n",
        "        quick_sort(input_list, left, split)\n",
        "        quick_sort(input_list, (split + 1), right)\n",
        "\n",
        "    return input_list\n",
        "\n",
        "\n",
        "def partition(input_list, left, right):\n",
        "    i = left - 1\n",
        "    j = right + 1\n",
        "\n",
        "    while(i < j):\n",
        "        i += 1\n",
        "\n",
        "        while(input_list[i] < input_list[left]):\n",
        "            i += 1\n",
        "\n",
        "        j -= 1\n",
        "\n",
        "        while(input_list[j] > input_list[left]):\n",
        "            j -= 1\n",
        "\n",
        "        if(i < j):\n",
        "            input_list[i], input_list[j] = input_list[j], input_list[i]\n",
        "\n",
        "    return j\n",
        "\n",
        "\n",
        "input_list_1 = [3, 12, 4, 1, 15, 7, 5, 2, 6, 9, 10, 8, 13, 11, 16, 14]\n",
        "input_list_2 = [25, -10, 2, -7, 16, -4, 0, -2, -1, 7, 9, 17, 12, 13, 20, -8]\n",
        "input_list_3 = [29, 21, 18, 25, 16, 23, 30, 26, 19, 24, 17, 31, 22, 20, 28, 27]\n",
        "print('Lista 1 não ordenada:', input_list_1)\n",
        "print('Lista 2 não ordenada:', input_list_2)\n",
        "print('Lista 3 não ordenada:', input_list_3)\n",
        "print('')\n",
        "print('Lista 1 ordenada:', quick_sort(input_list_1, 0, len(input_list_1)-1))\n",
        "print('Lista 2 ordenada:', quick_sort(input_list_2, 0, len(input_list_2)-1))\n",
        "print('Lista 3 ordenada:', quick_sort(input_list_3, 0, len(input_list_3)-1))"
      ],
      "execution_count": null,
      "outputs": [
        {
          "output_type": "stream",
          "name": "stdout",
          "text": [
            "Lista 1 não ordenada: [3, 12, 4, 1, 15, 7, 5, 2, 6, 9, 10, 8, 13, 11, 16, 14]\n",
            "Lista 2 não ordenada: [25, -10, 2, -7, 16, -4, 0, -2, -1, 7, 9, 17, 12, 13, 20, -8]\n",
            "Lista 3 não ordenada: [29, 21, 18, 25, 16, 23, 30, 26, 19, 24, 17, 31, 22, 20, 28, 27]\n",
            "\n",
            "Lista 1 ordenada: [1, 2, 3, 4, 5, 6, 7, 8, 9, 10, 11, 12, 13, 14, 15, 16]\n",
            "Lista 2 ordenada: [-10, -8, -7, -4, -2, -1, 0, 2, 7, 9, 12, 13, 16, 17, 20, 25]\n",
            "Lista 3 ordenada: [16, 17, 18, 19, 20, 21, 22, 23, 24, 25, 26, 27, 28, 29, 30, 31]\n"
          ]
        }
      ]
    },
    {
      "cell_type": "markdown",
      "metadata": {
        "id": "kFfF1X5AWXk4"
      },
      "source": [
        "##3. Bucket Sort"
      ]
    },
    {
      "cell_type": "markdown",
      "metadata": {
        "id": "gTEUQKXyWXk4"
      },
      "source": [
        "### <h3 align=\"center\">**_Complexidade do Algoritmo_**</h3>\n",
        "\n",
        "#### <h4 align=\"center\">_Melhor caso: ${\\Omega}(n + k)$_</h4>\n",
        "\n",
        "#### <h4 align=\"center\">_Caso médio: ${\\theta}(n + k)$_</h4>\n",
        "\n",
        "#### <h4 align=\"center\">_Pior caso: $O(n^2)$_</h4>\n"
      ]
    },
    {
      "cell_type": "code",
      "metadata": {
        "colab": {
          "base_uri": "https://localhost:8080/"
        },
        "id": "Dx2dRyatWXk4",
        "outputId": "bef62472-50a9-42a0-9530-3b7bd9572870"
      },
      "source": [
        "def bucket_sort(input_list):\n",
        "    max_value = max(input_list)\n",
        "    size = max_value / len(input_list)\n",
        "    buckets_list= []\n",
        "    final_output = []\n",
        "\n",
        "    for x in range(0, len(input_list), 1):\n",
        "        buckets_list.append([])\n",
        "\n",
        "    for i in range(0, len(input_list), 1):\n",
        "        j = int(input_list[i] / size)\n",
        "\n",
        "        if(j != len(input_list)):\n",
        "            buckets_list[j].append(input_list[i])\n",
        "\n",
        "        else:\n",
        "            buckets_list[len(input_list) - 1].append(input_list[i])\n",
        "\n",
        "    for z in range(0, len(input_list), 1):\n",
        "        insertion_sort(buckets_list[z])\n",
        "\n",
        "    for x in range(0, len (input_list), 1):\n",
        "        final_output = final_output + buckets_list[x]\n",
        "\n",
        "    return final_output\n",
        "\n",
        "\n",
        "def insertion_sort(input_list):\n",
        "    for i in range(0, len(input_list), 1):\n",
        "        number = input_list[i]\n",
        "        j = i - 1\n",
        "\n",
        "        while((j >= 0) and (number < input_list[j])):\n",
        "            input_list[j+1] = input_list[j]\n",
        "            j = j - 1\n",
        "\n",
        "        input_list[j+1] = number\n",
        "\n",
        "    return input_list\n",
        "\n",
        "\n",
        "input_list_1 = [3, 12, 4, 1, 15, 7, 5, 2, 6, 9, 10, 8, 13, 11, 16, 14]\n",
        "input_list_2 = [25, -10, 2, -7, 16, -4, 0, -2, -1, 7, 9, 17, 12, 13, 20, -8]\n",
        "input_list_3 = [29, 21, 18, 25, 16, 23, 30, 26, 19, 24, 17, 31, 22, 20, 28, 27]\n",
        "print('Lista 1 não ordenada:', input_list_1)\n",
        "print('Lista 2 não ordenada:', input_list_2)\n",
        "print('Lista 3 não ordenada:', input_list_3)\n",
        "print('')\n",
        "print('Lista 1 ordenada:', bucket_sort(input_list_1))\n",
        "print('Lista 2 ordenada:', bucket_sort(input_list_2))\n",
        "print('Lista 3 ordenada:', bucket_sort(input_list_3))"
      ],
      "execution_count": null,
      "outputs": [
        {
          "output_type": "stream",
          "name": "stdout",
          "text": [
            "Lista 1 não ordenada: [3, 12, 4, 1, 15, 7, 5, 2, 6, 9, 10, 8, 13, 11, 16, 14]\n",
            "Lista 2 não ordenada: [25, -10, 2, -7, 16, -4, 0, -2, -1, 7, 9, 17, 12, 13, 20, -8]\n",
            "Lista 3 não ordenada: [29, 21, 18, 25, 16, 23, 30, 26, 19, 24, 17, 31, 22, 20, 28, 27]\n",
            "\n",
            "Lista 1 ordenada: [1, 2, 3, 4, 5, 6, 7, 8, 9, 10, 11, 12, 13, 14, 15, 16]\n",
            "Lista 2 ordenada: [-1, 0, 2, 7, 9, 12, 13, -10, 16, 17, -8, -7, 20, -4, -2, 25]\n",
            "Lista 3 ordenada: [16, 17, 18, 19, 20, 21, 22, 23, 24, 25, 26, 27, 28, 29, 30, 31]\n"
          ]
        }
      ]
    },
    {
      "cell_type": "markdown",
      "metadata": {
        "id": "grv_urIJgDOs"
      },
      "source": [
        "##4. Heap Sort"
      ]
    },
    {
      "cell_type": "markdown",
      "metadata": {
        "id": "mVJPhBzZqGKB"
      },
      "source": [
        "### <h3 align=\"center\">**_Complexidade do Algoritmo_**</h3>\n",
        "\n",
        "#### <h4 align=\"center\">_Melhor caso: ${\\Omega}(n$ $log(n))$_</h4>\n",
        "\n",
        "#### <h4 align=\"center\">_Caso médio: ${\\theta}(n$ $log(n))$_</h4>\n",
        "\n",
        "#### <h4 align=\"center\">_Pior caso: $O(n$ $log(n))$_</h4>\n"
      ]
    },
    {
      "cell_type": "code",
      "metadata": {
        "id": "QyGdfGkSqS0J",
        "colab": {
          "base_uri": "https://localhost:8080/"
        },
        "outputId": "bc59c402-5c58-41a1-b88a-9fcaaa9ae82d"
      },
      "source": [
        "def heap_sort(input_list):\n",
        "    for i in range(len(input_list)//2, -1, -1):\n",
        "        heapify(input_list, len(input_list), i)\n",
        "\n",
        "    for i in range(len(input_list)-1, 0, -1):\n",
        "        input_list[i], input_list[0] = input_list[0], input_list[i]\n",
        "\n",
        "        heapify(input_list, i, 0)\n",
        "\n",
        "\n",
        "def heapify(input_list, n, i):\n",
        "    largest = i\n",
        "    left = 2 * i + 1\n",
        "    right = 2 * i + 2\n",
        "\n",
        "    if((left < n) and (input_list[i] < input_list[left])):\n",
        "        largest = left\n",
        "\n",
        "    if((right < n) and (input_list[largest] < input_list[right])):\n",
        "        largest = right\n",
        "\n",
        "    if(largest != i):\n",
        "        input_list[i], input_list[largest] = input_list[largest], input_list[i]\n",
        "        heapify(input_list, n, largest)\n",
        "\n",
        "\n",
        "input_list_1 = [3, 12, 4, 1, 15, 7, 5, 2, 6, 9, 10, 8, 13, 11, 16, 14]\n",
        "input_list_2 = [25, -10, 2, -7, 16, -4, 0, -2, -1, 7, 9, 17, 12, 13, 20, -8]\n",
        "input_list_3 = [29, 21, 18, 25, 16, 23, 30, 26, 19, 24, 17, 31, 22, 20, 28, 27]\n",
        "print('Lista 1 não ordenada:', input_list_1)\n",
        "print('Lista 2 não ordenada:', input_list_2)\n",
        "print('Lista 3 não ordenada:', input_list_3)\n",
        "print('')\n",
        "\n",
        "heap_sort(input_list_1)\n",
        "heap_sort(input_list_2)\n",
        "heap_sort(input_list_3)\n",
        "\n",
        "print('Lista 1 ordenada:', input_list_1)\n",
        "print('Lista 2 ordenada:', input_list_2)\n",
        "print('Lista 3 ordenada:', input_list_3)"
      ],
      "execution_count": null,
      "outputs": [
        {
          "output_type": "stream",
          "name": "stdout",
          "text": [
            "Lista 1 não ordenada: [3, 12, 4, 1, 15, 7, 5, 2, 6, 9, 10, 8, 13, 11, 16, 14]\n",
            "Lista 2 não ordenada: [25, -10, 2, -7, 16, -4, 0, -2, -1, 7, 9, 17, 12, 13, 20, -8]\n",
            "Lista 3 não ordenada: [29, 21, 18, 25, 16, 23, 30, 26, 19, 24, 17, 31, 22, 20, 28, 27]\n",
            "\n",
            "Lista 1 ordenada: [1, 2, 3, 4, 5, 6, 7, 8, 9, 10, 11, 12, 13, 14, 15, 16]\n",
            "Lista 2 ordenada: [-10, -8, -7, -4, -2, -1, 0, 2, 7, 9, 12, 13, 16, 17, 20, 25]\n",
            "Lista 3 ordenada: [16, 17, 18, 19, 20, 21, 22, 23, 24, 25, 26, 27, 28, 29, 30, 31]\n"
          ]
        }
      ]
    },
    {
      "cell_type": "markdown",
      "metadata": {
        "id": "k5as9h6LZpqG"
      },
      "source": [
        "# Aula 06 - Estratégias para projeto de algoritmos"
      ]
    },
    {
      "cell_type": "markdown",
      "metadata": {
        "id": "BTRMaobkcb7e"
      },
      "source": [
        "###### Nessa aula não foi apresentado nenhum conceito que pudesse ser aplicado ao Google Colab. Foi dado apenas a teoria."
      ]
    },
    {
      "cell_type": "markdown",
      "metadata": {
        "id": "bZjDa-ixWGNF"
      },
      "source": [
        "# Aula 07 - Métricas para análise de algoritmos (parte 1)\n"
      ]
    },
    {
      "cell_type": "markdown",
      "metadata": {
        "id": "JJXf6WlvWMl5"
      },
      "source": [
        "###### Nessa aula não foi apresentado nenhum conceito que pudesse ser aplicado ao Google Colab. Foi dado apenas a teoria."
      ]
    },
    {
      "cell_type": "markdown",
      "metadata": {
        "id": "M-GewPS2dQ65"
      },
      "source": [
        "# Aula 08 - Métricas para análise de algoritmos (parte 2)\n"
      ]
    },
    {
      "cell_type": "markdown",
      "metadata": {
        "id": "iWNpA0s5dhu6"
      },
      "source": [
        "##Exemplo 01. Maior Elemento de uma Lista"
      ]
    },
    {
      "cell_type": "markdown",
      "metadata": {
        "id": "AeWWdpZys0fl"
      },
      "source": [
        "### <h3 align=\"center\">**_Complexidade Temporal do Algoritmo_**</h3>\n",
        "\n",
        "#### <h4 align=\"center\">$O(n)$</h4>"
      ]
    },
    {
      "cell_type": "code",
      "metadata": {
        "colab": {
          "base_uri": "https://localhost:8080/"
        },
        "id": "U712BgjtlolZ",
        "outputId": "2419db49-5241-4616-f34f-477a7e42d237"
      },
      "source": [
        "def maior(lista):\n",
        "    maior = lista[0]\n",
        "\n",
        "    for num in lista:\n",
        "        if (num > maior):\n",
        "            maior = num\n",
        "\n",
        "    return maior\n",
        "\n",
        "\n",
        "maior([1, 5, 13, 20, 80, -5, -4, 0])"
      ],
      "execution_count": null,
      "outputs": [
        {
          "output_type": "execute_result",
          "data": {
            "text/plain": [
              "80"
            ]
          },
          "metadata": {},
          "execution_count": 21
        }
      ]
    },
    {
      "cell_type": "markdown",
      "metadata": {
        "id": "vxisX4kvsSUn"
      },
      "source": [
        "##Exemplo 02. Maior Soma de Dois Elementos"
      ]
    },
    {
      "cell_type": "markdown",
      "metadata": {
        "id": "6VLz_q0StDqY"
      },
      "source": [
        "### <h3 align=\"center\">**_Complexidade Temporal do Algoritmo_**</h3>\n",
        "\n",
        "#### <h4 align=\"center\">$O(n)$</h4>"
      ]
    },
    {
      "cell_type": "code",
      "metadata": {
        "colab": {
          "base_uri": "https://localhost:8080/"
        },
        "id": "gGEx7pb5oVJG",
        "outputId": "0a8f74d5-eb50-4ec8-dd59-a7d922389850"
      },
      "source": [
        "def soma_2_maiores_elementos(lista):\n",
        "    m1 = maior(lista)\n",
        "    posicao_m1 = get_posicao(lista, m1)\n",
        "    lista2 = remover_maior_elemento(lista, posicao_m1)\n",
        "    m2 = maior(lista2)\n",
        "\n",
        "    return m1 + m2\n",
        "\n",
        "\n",
        "def maior(lista):\n",
        "    maior = lista[0]\n",
        "\n",
        "    for num in lista:\n",
        "        if (num > maior):\n",
        "            maior = num\n",
        "\n",
        "    return maior\n",
        "\n",
        "\n",
        "def get_posicao(lista, elemento):\n",
        "    for posicao in range(0, len(lista), 1):\n",
        "       if (lista[posicao] == elemento):\n",
        "           return posicao\n",
        "\n",
        "\n",
        "def remover_maior_elemento(lista, posicao):\n",
        "    return lista[:posicao] + lista[(posicao + 1):]\n",
        "\n",
        "\n",
        "soma_2_maiores_elementos([1, 5, 13, 20, 80, -5, -4, 0])"
      ],
      "execution_count": null,
      "outputs": [
        {
          "output_type": "execute_result",
          "data": {
            "text/plain": [
              "100"
            ]
          },
          "metadata": {},
          "execution_count": 22
        }
      ]
    },
    {
      "cell_type": "markdown",
      "metadata": {
        "id": "bja5vS1alPLg"
      },
      "source": [
        "##Exemplo 03. Maior Soma de P Elementos"
      ]
    },
    {
      "cell_type": "markdown",
      "metadata": {
        "id": "JAYMvNrltFQF"
      },
      "source": [
        "### <h3 align=\"center\">**_Complexidade Temporal do Algoritmo_**</h3>\n",
        "\n",
        "#### <h4 align=\"center\">$O(n * p)$</h4>"
      ]
    },
    {
      "cell_type": "code",
      "metadata": {
        "colab": {
          "base_uri": "https://localhost:8080/"
        },
        "id": "IDfiSylzswz3",
        "outputId": "d72816dc-b3ea-4751-ceea-bc29193ba899"
      },
      "source": [
        "def soma_p_maiores_elementos(lista, p):\n",
        "    if (p > len(lista)):\n",
        "        soma = 0\n",
        "\n",
        "        for i in range(0, len(lista), 1):\n",
        "            soma += lista[i]\n",
        "\n",
        "        return soma\n",
        "\n",
        "    aux = lista.copy()\n",
        "    soma = 0\n",
        "\n",
        "    for i in range(0, p, 1):\n",
        "        m = maior(aux)\n",
        "        posicao = get_posicao(aux, m)\n",
        "        aux = remover_maior_elemento(aux, posicao)\n",
        "        soma += m\n",
        "\n",
        "    return soma\n",
        "\n",
        "\n",
        "soma_p_maiores_elementos([1, 5, 13, 20, 80, -5, -4, 0], 4)"
      ],
      "execution_count": null,
      "outputs": [
        {
          "output_type": "execute_result",
          "data": {
            "text/plain": [
              "118"
            ]
          },
          "metadata": {},
          "execution_count": 23
        }
      ]
    },
    {
      "cell_type": "markdown",
      "metadata": {
        "id": "HKj_eNKLvaZW"
      },
      "source": [
        "##Exercício 01"
      ]
    },
    {
      "cell_type": "markdown",
      "metadata": {
        "id": "Y5feuLCJwBCF"
      },
      "source": [
        "###### Escreva um código em Python que verifique se há um subconjunto dentro de uma sequência tal que a soma seja 0 (zero).\n",
        "\n",
        "###### **_Exemplos:_**\n",
        "* soma_zero([1,6,3,8,2] -> retorna False\n",
        "* soma_zero([7,11,0,9,4] -> retorna True\n",
        "* soma_zero([-1,-4,2,8,9] -> retorna False\n",
        "* soma_zero([2,6,-4,1,1] -> retorna True"
      ]
    },
    {
      "cell_type": "code",
      "metadata": {
        "id": "5sup_aHOvlPF",
        "colab": {
          "base_uri": "https://localhost:8080/"
        },
        "outputId": "f7b297e9-7862-4580-e301-3c0c490351ab"
      },
      "source": [
        "def soma_subconjunto(lista, i, soma, memo):\n",
        "    if (i >= len(lista)):\n",
        "        if (soma == 0):\n",
        "            return 1\n",
        "\n",
        "        else:\n",
        "            return 0\n",
        "\n",
        "    if ((i, soma) not in memo):\n",
        "        count = soma_subconjunto(lista, i + 1, soma, memo)\n",
        "        count += soma_subconjunto(lista, i + 1, soma - lista[i], memo)\n",
        "        memo[(i, soma)] = count\n",
        "\n",
        "    return memo[(i, soma)]\n",
        "\n",
        "\n",
        "def verifica_soma_subconjunto(lista, soma, memo):\n",
        "    subset = []\n",
        "    memo = dict()\n",
        "\n",
        "    for i, x in enumerate(lista):\n",
        "        if (soma_subconjunto(lista, i + 1, soma - x, memo) > 0):\n",
        "            subset.append(x)\n",
        "            soma -= x\n",
        "\n",
        "    if (subset != []):\n",
        "        return True\n",
        "\n",
        "    else:\n",
        "        return False\n",
        "\n",
        "sum = 0\n",
        "memo = dict()\n",
        "\n",
        "print(verifica_soma_subconjunto([1, 6, 3, 8, 2], sum, memo))\n",
        "print(verifica_soma_subconjunto([7, 11, 0, 9, 4], sum, memo))\n",
        "print(verifica_soma_subconjunto([-1, -4, 2, 8, 9], sum, memo))\n",
        "print(verifica_soma_subconjunto([2, 6, -4, 1, 1], sum, memo))"
      ],
      "execution_count": null,
      "outputs": [
        {
          "output_type": "stream",
          "name": "stdout",
          "text": [
            "False\n",
            "True\n",
            "False\n",
            "True\n"
          ]
        }
      ]
    },
    {
      "cell_type": "markdown",
      "metadata": {
        "id": "mekoPMafwrTe"
      },
      "source": [
        "##Exercício 02"
      ]
    },
    {
      "cell_type": "markdown",
      "metadata": {
        "id": "RLbjC5oiwvIT"
      },
      "source": [
        "###### Escreva um código em Python, **sem usar dicionários**, para fornecer a moda estatística para os elementos de uma lista.\n",
        "\n",
        "###### **_Exemplos:_**\n",
        "* moda([1,2,3,5,5,6]) -> retorna 5\n",
        "* moda([5,2,2,5,3,2]) -> retorna 2\n",
        "* moda([1,2,3,5,8,9]) -> retorna 1\n",
        "* moda([0,0,0,0,0,0]) -> retorna 0"
      ]
    },
    {
      "cell_type": "code",
      "metadata": {
        "colab": {
          "base_uri": "https://localhost:8080/"
        },
        "id": "dK_CU_kYxBhr",
        "outputId": "59865cf2-a9b1-4af9-bb78-c1d13ab76dcf"
      },
      "source": [
        "def moda(lista):\n",
        "    aux = lista.copy()\n",
        "    max_cont = 0\n",
        "\n",
        "    while (len(aux) > 0):\n",
        "        elem = aux[0]\n",
        "        cont, aux = contar_remover_valor(aux, elem)\n",
        "\n",
        "        if (cont > max_cont):\n",
        "            moda = elem\n",
        "            max_cont = cont\n",
        "\n",
        "    return moda\n",
        "\n",
        "\n",
        "def contar_remover_valor(lista, valor):\n",
        "    aux = []\n",
        "    contador = 0\n",
        "\n",
        "    for i in range(0, len(lista), 1):\n",
        "        if (lista[i] == valor):\n",
        "            contador += 1\n",
        "\n",
        "        else:\n",
        "            aux.append(lista[i])\n",
        "\n",
        "    return contador, aux\n",
        "\n",
        "\n",
        "print(moda([1, 2, 3, 5, 5, 6]))\n",
        "print(moda([5, 2, 2, 5, 3, 2]))\n",
        "print(moda([1, 1, 3, 3, 8, 8]))\n",
        "print(moda([1, 2, 3, 5, 8, 9]))\n",
        "print(moda([0, 0, 0, 0, 0, 0]))"
      ],
      "execution_count": null,
      "outputs": [
        {
          "output_type": "stream",
          "name": "stdout",
          "text": [
            "5\n",
            "2\n",
            "1\n",
            "1\n",
            "0\n"
          ]
        }
      ]
    },
    {
      "cell_type": "markdown",
      "metadata": {
        "id": "BpTN0f6mNmhQ"
      },
      "source": [
        "# Aula 09 - Exercícios\n"
      ]
    },
    {
      "cell_type": "markdown",
      "metadata": {
        "id": "ezaVJfHqNyHI"
      },
      "source": [
        "##Exercício 01. Decomposição em fatores primos"
      ]
    },
    {
      "cell_type": "markdown",
      "metadata": {
        "id": "xuBemBhfYg0J"
      },
      "source": [
        "### _Todo número natural pode ser decomposto em fatores primos, i.e., escrito como um produto de números primos._\n",
        "\n",
        "### _Escreva um algoritmo que recebe um número $n$ e retorna uma lista de números que corresponde aos fatores primos de $n$._"
      ]
    },
    {
      "cell_type": "code",
      "metadata": {
        "colab": {
          "base_uri": "https://localhost:8080/"
        },
        "id": "VncH9LN5QKKA",
        "outputId": "c69d7ba4-8c3c-4d9e-b21d-8cf2d3c17ba4"
      },
      "source": [
        "def verifica_numero_primo(x):\n",
        "    for i in range(2, x, 1):\n",
        "        if (x % i == 0):\n",
        "            return False\n",
        "\n",
        "    return True\n",
        "\n",
        "\n",
        "def fatores_primos(n):\n",
        "    fatores = [1]\n",
        "\n",
        "    while (True):\n",
        "        if (n == 1):\n",
        "            return fatores\n",
        "\n",
        "        for i in range(2, n + 1, 1):\n",
        "            if (not verifica_numero_primo(i)):\n",
        "                continue\n",
        "\n",
        "            if ((n % i) == 0):\n",
        "                fatores.append(i)\n",
        "                n //= i\n",
        "                break\n",
        "\n",
        "\n",
        "print(fatores_primos(5))\n",
        "print(fatores_primos(25))\n",
        "print(fatores_primos(81))\n",
        "print(fatores_primos(9))\n",
        "print(fatores_primos(4))"
      ],
      "execution_count": null,
      "outputs": [
        {
          "output_type": "stream",
          "name": "stdout",
          "text": [
            "[1, 5]\n",
            "[1, 5, 5]\n",
            "[1, 3, 3, 3, 3]\n",
            "[1, 3, 3]\n",
            "[1, 2, 2]\n"
          ]
        }
      ]
    },
    {
      "cell_type": "markdown",
      "metadata": {
        "id": "liv8x8j0N2ni"
      },
      "source": [
        "##Exercício 02. Multiplicação de matrizes"
      ]
    },
    {
      "cell_type": "markdown",
      "metadata": {
        "id": "7CAfMhwmZJrL"
      },
      "source": [
        "### _A multiplicação entre matrizes é derivada do produto interno entre vetores. Podemos fazer a multiplicação entre quaisquer duas matrizes desde que suas dimensões sejam compatíveis._\n",
        "\n",
        "### _Escreva um algoritmo que multiplica duas matrizes quadradas de dimensões (n,n) e retorna a matriz resultante da multiplicação. (Use listas de listas para representar as matrizes.)_"
      ]
    },
    {
      "cell_type": "code",
      "metadata": {
        "id": "xrb4EQNj9gsU",
        "colab": {
          "base_uri": "https://localhost:8080/"
        },
        "outputId": "3ac027e3-3636-45a5-ebc9-50e6bc10b639"
      },
      "source": [
        "# import numpy as np\n",
        "\n",
        "# def multiplica_matriz(m, n):\n",
        "#     m = np.array([[3, 1, 6], [2, -1, 3], [1, 0, -2]]) # Cria a matriz M\n",
        "#     n = np.array([[5, -4, 1], [-2, -5, 0], [-1, 8, 7]]) # Cria a matriz N\n",
        "\n",
        "# # Calcula a matriz resultante R\n",
        "# r = m @ n # O \"@\" é um operador exclusivo do NumPy que realiza a multiplicação de matrizes\n",
        "\n",
        "# print(\"%s\\n\\n * \\n\\n%s\\n\\n = \\n\\n%s\" % (m, n, r)) # printa o calculo e o resultado da matriz R\n",
        "\n",
        "\n",
        "import numpy as np\n",
        "\n",
        "\n",
        "def multiplica_matriz(m, n):\n",
        "    r = m @ n\n",
        "\n",
        "    print(\"%s\\n\\n * \\n\\n%s\\n\\n = \\n\\n%s\" % (m, n, r))\n",
        "\n",
        "\n",
        "m1 = np.array([[7, 5, 8], [6, 8, 2], [1, 2, 4]])\n",
        "n1 = np.array([[1, 2, 3], [5, 9, 1], [5, -5, 0]])\n",
        "multiplica_matriz(m1, n1)\n",
        "print('------------------------------------------------')\n",
        "\n",
        "m2 = np.array([[3, 1, 6], [2, -1, 3], [1, 0, -2]])\n",
        "n2 = np.array([[5, -4, 1], [-2, -5, 0], [-1, 8, 7]])\n",
        "multiplica_matriz(m2, n2)"
      ],
      "execution_count": null,
      "outputs": [
        {
          "output_type": "stream",
          "name": "stdout",
          "text": [
            "[[7 5 8]\n",
            " [6 8 2]\n",
            " [1 2 4]]\n",
            "\n",
            " * \n",
            "\n",
            "[[ 1  2  3]\n",
            " [ 5  9  1]\n",
            " [ 5 -5  0]]\n",
            "\n",
            " = \n",
            "\n",
            "[[72 19 26]\n",
            " [56 74 26]\n",
            " [31  0  5]]\n",
            "------------------------------------------------\n",
            "[[ 3  1  6]\n",
            " [ 2 -1  3]\n",
            " [ 1  0 -2]]\n",
            "\n",
            " * \n",
            "\n",
            "[[ 5 -4  1]\n",
            " [-2 -5  0]\n",
            " [-1  8  7]]\n",
            "\n",
            " = \n",
            "\n",
            "[[  7  31  45]\n",
            " [  9  21  23]\n",
            " [  7 -20 -13]]\n"
          ]
        }
      ]
    },
    {
      "cell_type": "markdown",
      "metadata": {
        "id": "NGtL7feXN3Sh"
      },
      "source": [
        "##Exercício 03. Caixeiro viajante"
      ]
    },
    {
      "cell_type": "markdown",
      "metadata": {
        "id": "dDrhn058bBFq"
      },
      "source": [
        "### _O problema do caixeiro viajante consiste em tomar $n$ cidades que devem ser visitadas e determinar a ordem de visitação das cidades de modo que a distância percorrida seja mínima._\n",
        "\n",
        "### _Escreva um algoritmo que recebe uma lista de $n$ coordenadas que representam as cidades e retorna a menor distância necessária para percorrer todas as cidades. (Retornar a lista com a ordem das cidades é opcional.)_\n",
        "\n",
        "### _A primeira das soluções abaixo é a desenvolvida por mim e a segunda foi desenvolvida pelo professor_"
      ]
    },
    {
      "cell_type": "code",
      "metadata": {
        "colab": {
          "base_uri": "https://localhost:8080/"
        },
        "id": "19jT6oHtK7cW",
        "outputId": "669eddee-c2f0-4e34-daa2-31e9c0ac1a71"
      },
      "source": [
        "# Importando bibliotecas do python\n",
        "import math as m\n",
        "import numpy as np\n",
        "import matplotlib.pyplot as plt\n",
        "\n",
        "\n",
        "def calcula_menor_distancia(x, y, n):\n",
        "    # Reservando memória para a distancia de um ponto a todos os outros\n",
        "    distOriginal = np.zeros((n,n))\n",
        "\n",
        "    # Criando uma matrix identidade com valor alto, para que o vizinho mais\n",
        "    # próximo não seja o proprio ponto\n",
        "    a = 1000 * np.identity(n, int)\n",
        "\n",
        "    for i in range(0, n, 1):\n",
        "        for j in range(0, n, 1):\n",
        "            # Calculo da distância euclidiana de um ponto a todos os\n",
        "            # outros pontos\n",
        "            distOriginal[i,j] = \\\n",
        "                a[i,j] + (m.sqrt((x[i]-x[j]) ** 2) + (y[i] - y[j]) ** 2)\n",
        "\n",
        "    # Reservando memória para a rota que será utilizada\n",
        "    rota = np.zeros((n,n))\n",
        "\n",
        "    # Reservando memória para a distância percorrida\n",
        "    distTotal = np.zeros((1,n))\n",
        "\n",
        "    for i in range(0, n, 1):\n",
        "        dist = distOriginal\n",
        "        distAtual = dist[i,0:n] # Distâncias do ponto x\n",
        "        rota[i,0] = i # Ponto x da rota\n",
        "        minDist = min(distAtual) # Ponto mais próximo do ponto\n",
        "        pos = distAtual.tolist().index(minDist) # Numero do ponto mais próximo\n",
        "        rota[i,1] = pos # Segundo ponto da rota\n",
        "        distTotal[0,i] = distTotal[0,i] + minDist # Distancia percorrida\n",
        "        dist[0:n,i] = 1000\n",
        "\n",
        "        # Processo para seleção dos próximos pontos seguinte a\n",
        "        # lógica anterior\n",
        "        count = 2\n",
        "\n",
        "        while (count < n):\n",
        "            aux = pos\n",
        "            distAtual = dist[aux,0:n]\n",
        "            minDist = min(distAtual)\n",
        "            pos = distAtual.tolist().index(minDist)\n",
        "            rota[i,count] = pos\n",
        "            distTotal[0,i] = distTotal[0,i] + minDist\n",
        "            dist[0:n,aux] = 1000\n",
        "            count += 1\n",
        "\n",
        "        else:\n",
        "            distTotal[0,i] = distTotal[0,i] + distOriginal[i,int(rota[i,-1])]\n",
        "\n",
        "    # Seleção do melhor ponto de partida\n",
        "    minDistTotal = min(distTotal[0,0:n])\n",
        "    posInicialTotal = distTotal[0,0:n].tolist().index(minDistTotal)\n",
        "\n",
        "    # Plot para melhor rota\n",
        "    melhorRota = rota[posInicialTotal,0:n]\n",
        "    xMelhor = np.zeros((1,n+1), dtype=int)\n",
        "    yMelhor = np.zeros((1,n+1), dtype=int)\n",
        "\n",
        "    for i in range(0, n, 1):\n",
        "        xMelhor[0,i] = x[int(melhorRota[i])]\n",
        "        yMelhor[0,i] = y[int(melhorRota[i])]\n",
        "\n",
        "    xMelhor[0,n] = xMelhor[0,0]\n",
        "    yMelhor[0,n] = yMelhor[0,0]\n",
        "    x2 = xMelhor[0,0:n+1]\n",
        "    y2 = yMelhor[0,0:n+1]\n",
        "\n",
        "    plt.plot(x, y, 'ro')\n",
        "    plt.axis([-1, 11, 0, 11])\n",
        "    plt.plot(x2, y2, 'midnightblue')\n",
        "    plt.grid()\n",
        "    plt.show()\n",
        "\n",
        "    # Exibindo a melhor rota\n",
        "    x = []\n",
        "    y = []\n",
        "\n",
        "    for px in np.nditer(xMelhor):\n",
        "        x.append(int(px))\n",
        "\n",
        "    for py in np.nditer(yMelhor):\n",
        "        y.append(int(py))\n",
        "\n",
        "    print('Coordenadas da melhor rota:')\n",
        "    for px, py in zip(x, y):\n",
        "        print([px, py], end=' -> ')\n",
        "\n",
        "    print('FIM\\n')\n",
        "\n",
        "\n",
        "# Gerando as coordenadas da cidades\n",
        "quatro_cidades = {'x': [8, 0, 3, 2], 'y': [1, 7, 7, 2]}\n",
        "n4 = len(quatro_cidades['x'])\n",
        "\n",
        "cinco_cidades = {'x': [1, 9, 7, 4, 10], 'y': [3, 5, 10, 4, 6]}\n",
        "n5 = len(cinco_cidades['x'])\n",
        "\n",
        "seis_cidades = {'x': [2, 5, 4, 8, 8, 2], 'y': [8, 8, 3, 6, 7, 9]}\n",
        "n6 = len(seis_cidades['x'])\n",
        "\n",
        "sete_cidades = {'x': [1, 9, 7, 4, 8, 8, 2], 'y': [3, 5, 10, 3, 6, 7, 9]}\n",
        "n7 = len(sete_cidades['x'])\n",
        "\n",
        "oito_cidades = {'x': [8, 0, 3, 2, 9, 7, 4, 8], 'y': [1, 7, 7, 2, 5, 10, 3, 6]}\n",
        "n8 = len(oito_cidades['x'])\n",
        "\n",
        "# Exibindo o tempo de processamento\n",
        "%time calcula_menor_distancia(quatro_cidades['x'], quatro_cidades['y'], n4)\n",
        "print('')\n",
        "\n",
        "%time calcula_menor_distancia(cinco_cidades['x'], cinco_cidades['y'], n5)\n",
        "print('')\n",
        "\n",
        "%time calcula_menor_distancia(seis_cidades['x'], seis_cidades['y'], n6)\n",
        "print('')\n",
        "\n",
        "%time calcula_menor_distancia(sete_cidades['x'], sete_cidades['y'], n7)\n",
        "print('')\n",
        "\n",
        "%time calcula_menor_distancia(oito_cidades['x'], oito_cidades['y'], n8)\n",
        "print('')"
      ],
      "execution_count": null,
      "outputs": [
        {
          "output_type": "display_data",
          "data": {
            "text/plain": [
              "<Figure size 432x288 with 1 Axes>"
            ],
            "image/png": "[encoded data removed]"
          },
          "metadata": {
            "needs_background": "light"
          }
        },
        {
          "output_type": "stream",
          "name": "stdout",
          "text": [
            "Coordenadas da melhor rota:\n",
            "[8, 1] -> [2, 2] -> [3, 7] -> [0, 7] -> [8, 1] -> FIM\n",
            "\n",
            "CPU times: user 180 ms, sys: 7.38 ms, total: 187 ms\n",
            "Wall time: 213 ms\n",
            "\n"
          ]
        },
        {
          "output_type": "display_data",
          "data": {
            "text/plain": [
              "<Figure size 432x288 with 1 Axes>"
            ],
            "image/png": "[encoded data removed]"
          },
          "metadata": {
            "needs_background": "light"
          }
        },
        {
          "output_type": "stream",
          "name": "stdout",
          "text": [
            "Coordenadas da melhor rota:\n",
            "[1, 3] -> [4, 4] -> [9, 5] -> [10, 6] -> [7, 10] -> [1, 3] -> FIM\n",
            "\n",
            "CPU times: user 208 ms, sys: 13.5 ms, total: 221 ms\n",
            "Wall time: 232 ms\n",
            "\n"
          ]
        },
        {
          "output_type": "display_data",
          "data": {
            "text/plain": [
              "<Figure size 432x288 with 1 Axes>"
            ],
            "image/png": "[encoded data removed]"
          },
          "metadata": {
            "needs_background": "light"
          }
        },
        {
          "output_type": "stream",
          "name": "stdout",
          "text": [
            "Coordenadas da melhor rota:\n",
            "[2, 8] -> [2, 9] -> [5, 8] -> [8, 7] -> [8, 6] -> [4, 3] -> [2, 8] -> FIM\n",
            "\n",
            "CPU times: user 195 ms, sys: 4.48 ms, total: 200 ms\n",
            "Wall time: 198 ms\n",
            "\n"
          ]
        },
        {
          "output_type": "display_data",
          "data": {
            "text/plain": [
              "<Figure size 432x288 with 1 Axes>"
            ],
            "image/png": "[encoded data removed]"
          },
          "metadata": {
            "needs_background": "light"
          }
        },
        {
          "output_type": "stream",
          "name": "stdout",
          "text": [
            "Coordenadas da melhor rota:\n",
            "[1, 3] -> [4, 3] -> [9, 5] -> [8, 6] -> [8, 7] -> [7, 10] -> [2, 9] -> [1, 3] -> FIM\n",
            "\n",
            "CPU times: user 242 ms, sys: 7.94 ms, total: 249 ms\n",
            "Wall time: 267 ms\n",
            "\n"
          ]
        },
        {
          "output_type": "display_data",
          "data": {
            "text/plain": [
              "<Figure size 432x288 with 1 Axes>"
            ],
            "image/png": "[encoded data removed]"
          },
          "metadata": {
            "needs_background": "light"
          }
        },
        {
          "output_type": "stream",
          "name": "stdout",
          "text": [
            "Coordenadas da melhor rota:\n",
            "[8, 1] -> [2, 2] -> [4, 3] -> [9, 5] -> [8, 6] -> [3, 7] -> [0, 7] -> [7, 10] -> [8, 1] -> FIM\n",
            "\n",
            "CPU times: user 195 ms, sys: 8.83 ms, total: 204 ms\n",
            "Wall time: 200 ms\n",
            "\n"
          ]
        }
      ]
    },
    {
      "cell_type": "markdown",
      "metadata": {
        "id": "gVGSqh7PFNnk"
      },
      "source": [
        "# Aula 10 - Correção da AC03"
      ]
    },
    {
      "cell_type": "markdown",
      "metadata": {
        "id": "ZY7-pKlIFXum"
      },
      "source": [
        "###### Nessa aula não foi apresentado nenhum conceito que pudesse ser aplicado ao Google Colab. Foi dado apenas a teoria."
      ]
    },
    {
      "cell_type": "markdown",
      "metadata": {
        "id": "MUcxoQFjFbiL"
      },
      "source": [
        "# Aula 11 - Estruturas de dados não-lineares"
      ]
    },
    {
      "cell_type": "markdown",
      "metadata": {
        "id": "30T5DplY5n_y"
      },
      "source": [
        "## Exemplo. Estruturando uma Árvore Binária"
      ]
    },
    {
      "cell_type": "markdown",
      "metadata": {
        "id": "ZjVfEY0c_pxN"
      },
      "source": [
        "###### Todo item \"raiz\" é a média dos dois filhos\n",
        "![image.png](data:image/png;base64,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)"
      ]
    },
    {
      "cell_type": "code",
      "metadata": {
        "id": "tm8AwLGS5rd-"
      },
      "source": [
        "class ArvoreBinaria:\n",
        "    def __init__(self, conteudo=None):\n",
        "        self.conteudo = conteudo\n",
        "        self.esquerda = None\n",
        "        self.direita = None\n",
        "\n",
        "\n",
        "    def inserir_esquerda(self, conexao):\n",
        "        self.esquerda = conexao\n",
        "\n",
        "\n",
        "    def inserir_direita(self, conexao):\n",
        "        self.direita = conexao\n",
        "\n",
        "\n",
        "    def exibe(self, prefixo='>'):\n",
        "        print(prefixo, self.conteudo)\n",
        "\n",
        "        if(self.esquerda is not None):\n",
        "            self.esquerda.exibe('-' + prefixo)\n",
        "\n",
        "        if(self.direita is not None):\n",
        "            self.direita.exibe('-' + prefixo)"
      ],
      "execution_count": null,
      "outputs": []
    },
    {
      "cell_type": "code",
      "metadata": {
        "colab": {
          "base_uri": "https://localhost:8080/"
        },
        "id": "bMcXPSqqBXNA",
        "outputId": "7497e0cb-0071-48fe-aaf7-c4f5c19a69c7"
      },
      "source": [
        "s1 = ArvoreBinaria(1)\n",
        "s3 = ArvoreBinaria(3)\n",
        "s2 = ArvoreBinaria(2)\n",
        "s2.inserir_esquerda(s1)\n",
        "s2.inserir_direita(s3)\n",
        "\n",
        "s5 = ArvoreBinaria(5)\n",
        "s7 = ArvoreBinaria(7)\n",
        "s6 = ArvoreBinaria(6)\n",
        "s6.inserir_esquerda(s5)\n",
        "s6.inserir_direita(s7)\n",
        "\n",
        "arvore_binaria = ArvoreBinaria(4)\n",
        "arvore_binaria.inserir_esquerda(s2)\n",
        "arvore_binaria.inserir_direita(s6)\n",
        "\n",
        "arvore_binaria.exibe()"
      ],
      "execution_count": null,
      "outputs": [
        {
          "output_type": "stream",
          "name": "stdout",
          "text": [
            "> 4\n",
            "-> 2\n",
            "--> 1\n",
            "--> 3\n",
            "-> 6\n",
            "--> 5\n",
            "--> 7\n"
          ]
        }
      ]
    },
    {
      "cell_type": "markdown",
      "metadata": {
        "id": "D1MzAzTSFi_E"
      },
      "source": [
        "##Exercício de Presença. Árvore Binária do Alfabeto"
      ]
    },
    {
      "cell_type": "markdown",
      "metadata": {
        "id": "UAcu3XJIHZel"
      },
      "source": [
        "###### Todo item \"raiz\" é a média dos dois filhos\n",
        "![image.png](data:image/png;base64,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)"
      ]
    },
    {
      "cell_type": "code",
      "metadata": {
        "id": "NuEnr5RBHZ9c"
      },
      "source": [
        "class ArvoreBinaria:\n",
        "    def __init__(self, conteudo=None):\n",
        "        self.conteudo = conteudo\n",
        "        self.esquerda = None\n",
        "        self.direita = None\n",
        "\n",
        "\n",
        "    def inserir_esquerda(self, conexao):\n",
        "        self.esquerda = conexao\n",
        "\n",
        "\n",
        "    def inserir_direita(self, conexao):\n",
        "        self.direita = conexao\n",
        "\n",
        "\n",
        "    def exibe(self, prefixo='>'):\n",
        "        print(prefixo, self.conteudo)\n",
        "\n",
        "        if(self.esquerda is not None):\n",
        "            self.esquerda.exibe('-' + prefixo)\n",
        "\n",
        "        if(self.direita is not None):\n",
        "            self.direita.exibe('-' + prefixo)"
      ],
      "execution_count": null,
      "outputs": []
    },
    {
      "cell_type": "code",
      "metadata": {
        "colab": {
          "base_uri": "https://localhost:8080/"
        },
        "id": "y8vJLeasFqYk",
        "outputId": "7f31e04a-b3c0-419c-e69b-70be9677fbf3"
      },
      "source": [
        "# Grupo 1\n",
        "a = ArvoreBinaria('1:A')\n",
        "c = ArvoreBinaria('3:C')\n",
        "b = ArvoreBinaria('2:B')\n",
        "b.inserir_esquerda(a)\n",
        "b.inserir_direita(c)\n",
        "\n",
        "# Grupo 2\n",
        "e = ArvoreBinaria('5:E')\n",
        "g = ArvoreBinaria('7:G')\n",
        "f = ArvoreBinaria('6:F')\n",
        "f.inserir_esquerda(e)\n",
        "f.inserir_direita(g)\n",
        "\n",
        "# Grupo 3\n",
        "d = ArvoreBinaria('4:D')\n",
        "d.inserir_esquerda(b)\n",
        "d.inserir_direita(f)\n",
        "\n",
        "# Grupo 4\n",
        "i = ArvoreBinaria('9:I')\n",
        "k = ArvoreBinaria('11:K')\n",
        "j = ArvoreBinaria('10:J')\n",
        "j.inserir_esquerda(i)\n",
        "j.inserir_direita(k)\n",
        "\n",
        "# Grupo 5\n",
        "m = ArvoreBinaria('13:M')\n",
        "o = ArvoreBinaria('15:O')\n",
        "n = ArvoreBinaria('14:N')\n",
        "n.inserir_esquerda(m)\n",
        "n.inserir_direita(o)\n",
        "\n",
        "# Grupo 6\n",
        "l = ArvoreBinaria('12:L')\n",
        "l.inserir_esquerda(j)\n",
        "l.inserir_direita(n)\n",
        "\n",
        "# Grupo 7\n",
        "h = ArvoreBinaria('8:H')\n",
        "h.inserir_esquerda(d)\n",
        "h.inserir_direita(l)\n",
        "\n",
        "# Grupo 8\n",
        "q = ArvoreBinaria('17:Q')\n",
        "s = ArvoreBinaria('19:S')\n",
        "r = ArvoreBinaria('18:R')\n",
        "r.inserir_esquerda(q)\n",
        "r.inserir_direita(s)\n",
        "\n",
        "# Grupo 9\n",
        "u = ArvoreBinaria('21:U')\n",
        "w = ArvoreBinaria('23:W')\n",
        "v = ArvoreBinaria('22:V')\n",
        "v.inserir_esquerda(u)\n",
        "v.inserir_direita(w)\n",
        "\n",
        "# Grupo 10\n",
        "y = ArvoreBinaria('25:Y')\n",
        "z = ArvoreBinaria('26:Z')\n",
        "z.inserir_esquerda(y)\n",
        "\n",
        "# Grupo 11\n",
        "x = ArvoreBinaria('24:X')\n",
        "x.inserir_esquerda(v)\n",
        "x.inserir_direita(z)\n",
        "\n",
        "# Grupo 12\n",
        "t = ArvoreBinaria('20:T')\n",
        "t.inserir_esquerda(r)\n",
        "t.inserir_direita(x)\n",
        "\n",
        "# Grupo 13\n",
        "p = ArvoreBinaria('16:P')\n",
        "p.inserir_esquerda(h)\n",
        "p.inserir_direita(t)\n",
        "\n",
        "p.exibe()"
      ],
      "execution_count": null,
      "outputs": [
        {
          "output_type": "stream",
          "name": "stdout",
          "text": [
            "> 16:P\n",
            "-> 8:H\n",
            "--> 4:D\n",
            "---> 2:B\n",
            "----> 1:A\n",
            "----> 3:C\n",
            "---> 6:F\n",
            "----> 5:E\n",
            "----> 7:G\n",
            "--> 12:L\n",
            "---> 10:J\n",
            "----> 9:I\n",
            "----> 11:K\n",
            "---> 14:N\n",
            "----> 13:M\n",
            "----> 15:O\n",
            "-> 20:T\n",
            "--> 18:R\n",
            "---> 17:Q\n",
            "---> 19:S\n",
            "--> 24:X\n",
            "---> 22:V\n",
            "----> 21:U\n",
            "----> 23:W\n",
            "---> 26:Z\n",
            "----> 25:Y\n"
          ]
        }
      ]
    },
    {
      "cell_type": "markdown",
      "metadata": {
        "id": "MUiR4atKCMQP"
      },
      "source": [
        "# Aula 12 - Algoritmos para estruturas de dados não-lineares"
      ]
    },
    {
      "cell_type": "markdown",
      "metadata": {
        "id": "3E-KgKfGCTvv"
      },
      "source": [
        "## Algoritmo 01. Busca em Largura Aplicada a um Grafo Utilizando Filas"
      ]
    },
    {
      "cell_type": "code",
      "metadata": {
        "colab": {
          "base_uri": "https://localhost:8080/"
        },
        "id": "AAixkqYyDGFy",
        "outputId": "d328b024-15c4-41eb-bec7-037686cc0cda"
      },
      "source": [
        "def busca_largura_grafo(grafo, primeiro_elemento):\n",
        "    \"\"\"\n",
        "    Estrutura do grafo é formada por um dicionário, sendo:\n",
        "    Key: elemento;\n",
        "    Value: [conexões]\n",
        "\n",
        "    grafo = {elem: [con]}\n",
        "    \"\"\"\n",
        "    arvore = dict()\n",
        "    fila = [primeiro_elemento]\n",
        "    visitados = set()\n",
        "\n",
        "    while(len(fila) > 0):\n",
        "        v = fila.pop(0)\n",
        "        visitados.add(v)\n",
        "\n",
        "        if(v not in arvore.keys()):\n",
        "            arvore[v] = []\n",
        "\n",
        "        for w in grafo[v]:\n",
        "            if(w not in visitados):\n",
        "                visitados.add(w)\n",
        "                fila.append(w)\n",
        "                arvore[v].append(w)\n",
        "\n",
        "    return arvore\n",
        "\n",
        "\n",
        "grafo = {\n",
        "    0: [1, 2, 3],\n",
        "    1: [0, 4],\n",
        "    2: [0, 4, 5],\n",
        "    3: [0, 5],\n",
        "    4: [1, 3, 6],\n",
        "    5: [2, 3, 6, 7],\n",
        "    6: [4, 5, 7],\n",
        "    7: [5, 6]\n",
        "}\n",
        "\n",
        "busca_largura_grafo(grafo, 0)"
      ],
      "execution_count": null,
      "outputs": [
        {
          "output_type": "execute_result",
          "data": {
            "text/plain": [
              "{0: [1, 2, 3], 1: [4], 2: [5], 3: [], 4: [6], 5: [7], 6: [], 7: []}"
            ]
          },
          "metadata": {},
          "execution_count": 33
        }
      ]
    },
    {
      "cell_type": "markdown",
      "metadata": {
        "id": "1CaZhxu6CqMu"
      },
      "source": [
        "## Algoritmo 02. Busca em Profundidade Aplicada a um Grafo Utilizando Pilhas\n",
        "\n"
      ]
    },
    {
      "cell_type": "code",
      "metadata": {
        "colab": {
          "base_uri": "https://localhost:8080/"
        },
        "id": "I7B0D9-iDG_J",
        "outputId": "e9fb3483-53a0-48e5-aea6-cdc6ca637033"
      },
      "source": [
        "def busca_profundidade_grafo(grafo, primeiro_elemento):\n",
        "    \"\"\"\n",
        "    Estrutura do grafo é formada por um dicionário, sendo:\n",
        "    Key: elemento;\n",
        "    Value: [conexões]\n",
        "\n",
        "    grafo = {elem: [con]}\n",
        "    \"\"\"\n",
        "    arvore = dict()\n",
        "    pilha = [primeiro_elemento]\n",
        "    visitados = set()\n",
        "\n",
        "    while(len(pilha) > 0):\n",
        "        v = pilha[-1]\n",
        "        visitados.add(v)\n",
        "\n",
        "        if(v not in arvore.keys()):\n",
        "            arvore[v] = []\n",
        "\n",
        "        remover = True\n",
        "\n",
        "        for w in grafo[v]:\n",
        "            if(w not in visitados):\n",
        "                visitados.add(w)\n",
        "                pilha.append(w)\n",
        "                arvore[v].append(w)\n",
        "                remover = False\n",
        "                break\n",
        "\n",
        "        if(remover):\n",
        "            pilha.pop(-1)\n",
        "\n",
        "    return arvore\n",
        "\n",
        "\n",
        "grafo = {\n",
        "    0: [1, 2, 3],\n",
        "    1: [0, 4],\n",
        "    2: [0, 4, 5],\n",
        "    3: [0, 5],\n",
        "    4: [1, 3, 6],\n",
        "    5: [2, 3, 6, 7],\n",
        "    6: [4, 5, 7],\n",
        "    7: [5, 6]\n",
        "}\n",
        "\n",
        "busca_profundidade_grafo(grafo, 0)"
      ],
      "execution_count": null,
      "outputs": [
        {
          "output_type": "execute_result",
          "data": {
            "text/plain": [
              "{0: [1], 1: [4], 4: [3], 3: [5], 5: [2, 6], 2: [], 6: [7], 7: []}"
            ]
          },
          "metadata": {},
          "execution_count": 34
        }
      ]
    },
    {
      "cell_type": "markdown",
      "metadata": {
        "id": "Aj8UZXzghlre"
      },
      "source": [
        "## Exercício de Presença\n"
      ]
    },
    {
      "cell_type": "code",
      "metadata": {
        "colab": {
          "base_uri": "https://localhost:8080/"
        },
        "id": "pDgd9godhwUH",
        "outputId": "85bc2a85-1afd-4179-88d8-86e6a1546a30"
      },
      "source": [
        "def busca_largura_grafo(grafo, primeiro_elemento):\n",
        "    \"\"\"\n",
        "    Estrutura do grafo é formada por um dicionário, sendo:\n",
        "    Key: elemento;\n",
        "    Value: [conexões]\n",
        "\n",
        "    grafo = {elem: [con]}\n",
        "    \"\"\"\n",
        "    arvore = dict()\n",
        "    fila = [primeiro_elemento]\n",
        "    visitados = set()\n",
        "\n",
        "    while(len(fila) > 0):\n",
        "        v = fila.pop(0)\n",
        "        visitados.add(v)\n",
        "\n",
        "        if(v not in arvore.keys()):\n",
        "            arvore[v] = []\n",
        "\n",
        "        for w in grafo[v]:\n",
        "            if(w not in visitados):\n",
        "                visitados.add(w)\n",
        "                fila.append(w)\n",
        "                arvore[v].append(w)\n",
        "\n",
        "    return arvore\n",
        "\n",
        "\n",
        "def busca_profundidade_grafo(grafo, primeiro_elemento):\n",
        "    \"\"\"\n",
        "    Estrutura do grafo é formada por um dicionário, sendo:\n",
        "    Key: elemento;\n",
        "    Value: [conexões]\n",
        "\n",
        "    grafo = {elem: [con]}\n",
        "    \"\"\"\n",
        "    arvore = dict()\n",
        "    pilha = [primeiro_elemento]\n",
        "    visitados = set()\n",
        "\n",
        "    while(len(pilha) > 0):\n",
        "        v = pilha[-1]\n",
        "        visitados.add(v)\n",
        "\n",
        "        if(v not in arvore.keys()):\n",
        "            arvore[v] = []\n",
        "\n",
        "        remover = True\n",
        "\n",
        "        for w in grafo[v]:\n",
        "            if(w not in visitados):\n",
        "                visitados.add(w)\n",
        "                pilha.append(w)\n",
        "                arvore[v].append(w)\n",
        "                remover = False\n",
        "                break\n",
        "\n",
        "        if(remover):\n",
        "            pilha.pop(-1)\n",
        "\n",
        "    return arvore\n",
        "\n",
        "\n",
        "grafo = {\n",
        "    0: [1],\n",
        "    1: [0, 2],\n",
        "    2: [3, 4, 5, 6],\n",
        "    3: [2, 4, 5, 6],\n",
        "    4: [2, 3, 5, 6],\n",
        "    5: [2, 3, 4, 6],\n",
        "    6: [2, 3, 4, 5, 8],\n",
        "    7: [9, 10],\n",
        "    8: [6, 9],\n",
        "    9: [7, 8, 10],\n",
        "    10: [7, 9],\n",
        "}\n",
        "\n",
        "print('Largura:', busca_largura_grafo(grafo, 1))\n",
        "print('Profundidade:', busca_profundidade_grafo(grafo, 1))"
      ],
      "execution_count": null,
      "outputs": [
        {
          "output_type": "stream",
          "name": "stdout",
          "text": [
            "Largura: {1: [0, 2], 0: [], 2: [3, 4, 5, 6], 3: [], 4: [], 5: [], 6: [8], 8: [9], 9: [7, 10], 7: [], 10: []}\n",
            "Profundidade: {1: [0, 2], 0: [], 2: [3], 3: [4], 4: [5], 5: [6], 6: [8], 8: [9], 9: [7], 7: [10], 10: []}\n"
          ]
        }
      ]
    }
  ]
}